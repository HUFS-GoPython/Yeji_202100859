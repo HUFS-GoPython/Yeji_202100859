{
 "cells": [
  {
   "cell_type": "markdown",
   "id": "e5fd132c-df38-4d5a-9b7c-87ec7e98a6a6",
   "metadata": {},
   "source": [
    "# 5주차 | 고급파이썬프로그래밍 | 2022.04.01(금)"
   ]
  },
  {
   "cell_type": "markdown",
   "id": "7e17f4d8-1e61-4f80-94fa-22aec29da49d",
   "metadata": {
    "tags": []
   },
   "source": [
    "## Intro."
   ]
  },
  {
   "cell_type": "markdown",
   "id": "8fd1f4dd-e9ac-4709-a72c-3c33cbb048f2",
   "metadata": {},
   "source": [
    "#### Quiz 1. 저번 주 로그에 코드가 포함되어 있으니 생략."
   ]
  },
  {
   "cell_type": "markdown",
   "id": "d13b8229-0a95-4ff6-ba20-2448a44150d5",
   "metadata": {},
   "source": [
    "#### Quiz 2. text2에서 ch로 끝나는 단어를 조건에 맞춰 출력하기.\n",
    "    - 중복 없애기\n",
    "    - 첫 글자와 ch남기고 가운데는 모두 -로 가려라.\n",
    "        예: much -> m-ch\n",
    "        - ch로 시작하면 바꾸면 안됨\n",
    "    - 정렬:\n",
    "        - 문자 길이로 정렬하기"
   ]
  },
  {
   "cell_type": "code",
   "execution_count": 1,
   "id": "4708da4f-c03c-45e7-96a4-97bdd01d1126",
   "metadata": {},
   "outputs": [
    {
     "name": "stdout",
     "output_type": "stream",
     "text": [
      "*** Introductory Examples for the NLTK Book ***\n",
      "Loading text1, ..., text9 and sent1, ..., sent9\n",
      "Type the name of the text or sentence to view it.\n",
      "Type: 'texts()' or 'sents()' to list the materials.\n",
      "text1: Moby Dick by Herman Melville 1851\n",
      "text2: Sense and Sensibility by Jane Austen 1811\n",
      "text3: The Book of Genesis\n",
      "text4: Inaugural Address Corpus\n",
      "text5: Chat Corpus\n",
      "text6: Monty Python and the Holy Grail\n",
      "text7: Wall Street Journal\n",
      "text8: Personals Corpus\n",
      "text9: The Man Who Was Thursday by G . K . Chesterton 1908\n"
     ]
    }
   ],
   "source": [
    "from nltk import book"
   ]
  },
  {
   "cell_type": "code",
   "execution_count": 14,
   "id": "92348151-6747-4fe1-968e-e3cf910ee94c",
   "metadata": {},
   "outputs": [
    {
     "name": "stdout",
     "output_type": "stream",
     "text": [
      "['E-ch', 'm-ch', 'e-ch', 'M-ch', 's-ch', 'S-ch', 'r-ch', 'i-ch', 'p--ch', 'm--ch', 'f--ch', 'r--ch', 'M--ch', 'w--ch', 'w--ch', 'W--ch', 't--ch', 't--ch', 'b--ch', 'c--ch', 'c--ch', 's---ch', 's---ch', 's---ch', 'b---ch', 'a---ch', 'ch--ch', 'e---ch', 'b---ch', 's----ch', 's----ch', 's----ch', 'r-----ch', 'd-----ch', 'd-----ch', 'a-----ch']\n"
     ]
    }
   ],
   "source": [
    "text2 = book.text2\n",
    "\n",
    "ch_lst = sorted(set([w for w in text2 if w.endswith(\"ch\")]), key=len)\n",
    "print(bar_lst := [w[0] + \"-\" * (len(w)-3) + \"ch\" if w[:2] != \"ch\" else w[:2] + \"-\" * (len(w)-4) + \"ch\" for w in ch_lst])\n",
    "\n",
    "# 리스트 컴프리헨션 내에서 단어 중 \"ch\"로 시작하지 않는 것과 그렇지 않은 것을 구분해줘야 한다. \n",
    "# 'ch--ch'의 경우도 잘 출력될 수 있도록."
   ]
  },
  {
   "cell_type": "markdown",
   "id": "4ee65913-e1a9-4edd-966d-f731a89cca1d",
   "metadata": {},
   "source": [
    "<hr>"
   ]
  },
  {
   "cell_type": "markdown",
   "id": "38502bfb-5605-453e-bca9-be14e2b67131",
   "metadata": {},
   "source": [
    "## Class"
   ]
  },
  {
   "cell_type": "markdown",
   "id": "208ae846-9924-4753-bb33-d72e0dbbf033",
   "metadata": {},
   "source": [
    "## 1. 반복문 (for, while)\n",
    "\n",
    "### while\n",
    "- 어떤 조건을 만족할 때까지 블록을 수행한다.\n",
    "        - 언제 빠져나오는지 정확히 알아야 한다.\n",
    "- for + if\n",
    "\n",
    "#### for vs. while\n",
    "- for loop : 반복 횟수를 정확히 알고 있고, 반복 횟수가 변하지 않을 때 사용한다.\n",
    "    - 예: 전체 학생 성적 산출\n",
    "- while loop : 반복 횟수가 정확하지 않고, 어떤 조건을 만족시킬 때 프로그램을 종료하고 싶다면 사용한다.\n",
    "    - 예: 가위바위보로 이기면 종료"
   ]
  },
  {
   "cell_type": "code",
   "execution_count": 15,
   "id": "87ca8657-805d-404f-b097-e722578ad418",
   "metadata": {},
   "outputs": [
    {
     "name": "stdout",
     "output_type": "stream",
     "text": [
      "a\n",
      "b\n",
      "c\n"
     ]
    }
   ],
   "source": [
    "# characters리스트의 원소들을 각각 for문과 while문으로 출력해보자.\n",
    "\n",
    "characters = ['a', 'b', 'c']\n",
    "\n",
    "for ch in characters:\n",
    "    print(ch)"
   ]
  },
  {
   "cell_type": "code",
   "execution_count": 16,
   "id": "17c56a0a-8883-40c7-a282-9b3ea8d7cdd2",
   "metadata": {},
   "outputs": [
    {
     "name": "stdout",
     "output_type": "stream",
     "text": [
      "a\n",
      "b\n",
      "c\n"
     ]
    }
   ],
   "source": [
    "ch = 0\n",
    "while ch < len(characters):\n",
    "    print(characters[ch])\n",
    "    ch+=1"
   ]
  },
  {
   "cell_type": "markdown",
   "id": "2a57b2ee-6e04-45bf-95cd-e39719870dd4",
   "metadata": {},
   "source": [
    "## 2. 반복문의 제어 (break, else, continue)\n",
    "\n",
    "- 의도치 않게 코드를 종료시킬 수 있기 때문에 되도록 사용하지 않는다.\n",
    "### break : 논리적으로 반복문을 종료시키는 방법.\n",
    "### else : 어떤 조건이 \"완전히\" 끝났을 때 한 번 더 실행하는 블록. break로 끝난 것과 구분할 수 있다.\n",
    "### continue: 특정 조건을 건너뛰고 다음 조건을 수행함."
   ]
  },
  {
   "cell_type": "code",
   "execution_count": 23,
   "id": "8d201993-cab7-4672-8c23-fad85fe9bf85",
   "metadata": {},
   "outputs": [
    {
     "name": "stdout",
     "output_type": "stream",
     "text": [
      "0\n",
      "1\n",
      "2\n",
      "4\n",
      "ended\n"
     ]
    }
   ],
   "source": [
    "for i in range(5):\n",
    "    if i == 3: \n",
    "        continue #만약 여기가 break이면 맨 끝에 \"ended\"는 출력되지 않는다.\n",
    "    print(i)\n",
    "else:\n",
    "    print(\"ended\")"
   ]
  },
  {
   "cell_type": "markdown",
   "id": "95c67af1-0480-499c-8c30-e0745eda5d94",
   "metadata": {},
   "source": [
    "### Quiz 반복문의 단골문제 : 구구단\n",
    "#### step1. for, while 선택한 뒤, n단을 입력받아서 n단을 출력한다.\n",
    "    - 출력 : === 3단 ===\n",
    "            3 x 1 = 3\n",
    "            3 x 2 = 6\n",
    "            ...\n",
    "            3 x 9 = 27\n",
    "            \n",
    "#### step2. 1 ~ n단까지 출력한다.\n",
    "#### step3. 시작단, 끝단 둘 다 입력받아 범위 내에서 출력한다.  \n",
    "    - 예: 4 - 7단\n",
    "#### step4. 프로그램으로 만든다."
   ]
  },
  {
   "cell_type": "code",
   "execution_count": 25,
   "id": "6ef17d0a-1128-42a7-a545-90ee6f803de7",
   "metadata": {},
   "outputs": [
    {
     "name": "stdin",
     "output_type": "stream",
     "text": [
      " 3\n"
     ]
    },
    {
     "name": "stdout",
     "output_type": "stream",
     "text": [
      "===3단===\n",
      "3x1=3\n",
      "3x2=6\n",
      "3x3=9\n",
      "3x4=12\n",
      "3x5=15\n",
      "3x6=18\n",
      "3x7=21\n",
      "3x8=24\n",
      "3x9=27\n"
     ]
    }
   ],
   "source": [
    "# step1\n",
    "n = int(input())\n",
    "\n",
    "print(\"===\" + str(n) + \"단===\")\n",
    "for i in range(1, 10):\n",
    "    print(f\"{n}x{i}={n*i}\")"
   ]
  },
  {
   "cell_type": "code",
   "execution_count": 26,
   "id": "ec7df002-ef60-463c-a502-f9a36a6b90bc",
   "metadata": {},
   "outputs": [
    {
     "name": "stdin",
     "output_type": "stream",
     "text": [
      "몇 단까지 출력하시겠습니까? 2\n"
     ]
    },
    {
     "name": "stdout",
     "output_type": "stream",
     "text": [
      "===1단===\n",
      "1x1=1\n",
      "1x2=2\n",
      "1x3=3\n",
      "1x4=4\n",
      "1x5=5\n",
      "1x6=6\n",
      "1x7=7\n",
      "1x8=8\n",
      "1x9=9\n",
      "\n",
      "\n",
      "===2단===\n",
      "2x1=2\n",
      "2x2=4\n",
      "2x3=6\n",
      "2x4=8\n",
      "2x5=10\n",
      "2x6=12\n",
      "2x7=14\n",
      "2x8=16\n",
      "2x9=18\n",
      "\n",
      "\n"
     ]
    }
   ],
   "source": [
    "# step2\n",
    "n = int(input(\"몇 단까지 출력하시겠습니까?\"))\n",
    "\n",
    "for j in range(1, n+1):\n",
    "    print(\"===\" + str(j) + \"단===\")\n",
    "    for i in range(1, 10):\n",
    "        print(f\"{j}x{i}={j*i}\")\n",
    "    print(\"\\n\")"
   ]
  },
  {
   "cell_type": "code",
   "execution_count": 28,
   "id": "16702dce-4248-46f2-80b4-6eb177634dc7",
   "metadata": {},
   "outputs": [
    {
     "name": "stdin",
     "output_type": "stream",
     "text": [
      "시작 단을 입력하세요:  3\n",
      "끝 단을 입력하세요:  4\n"
     ]
    },
    {
     "name": "stdout",
     "output_type": "stream",
     "text": [
      "===3단===\n",
      "3x1=3\n",
      "3x2=6\n",
      "3x3=9\n",
      "3x4=12\n",
      "3x5=15\n",
      "3x6=18\n",
      "3x7=21\n",
      "3x8=24\n",
      "3x9=27\n",
      "\n",
      "\n",
      "===4단===\n",
      "4x1=4\n",
      "4x2=8\n",
      "4x3=12\n",
      "4x4=16\n",
      "4x5=20\n",
      "4x6=24\n",
      "4x7=28\n",
      "4x8=32\n",
      "4x9=36\n",
      "\n",
      "\n"
     ]
    }
   ],
   "source": [
    "# step3\n",
    "n = int(input(\"시작 단을 입력하세요: \"))\n",
    "m = int(input(\"끝 단을 입력하세요: \"))\n",
    "\n",
    "if n>m:\n",
    "    print(\"끝 단이 시작 단보다 작을 수 없습니다.\")\n",
    "    n = int(input(\"시작 단을 입력하세요: \"))\n",
    "    m = int(input(\"끝 단을 입력하세요: \"))\n",
    "\n",
    "for j in range(n, m+1):\n",
    "    print(\"===\" + str(j) + \"단===\")\n",
    "    for i in range(1, 10):\n",
    "        print(f\"{j}x{i}={j*i}\")\n",
    "    print(\"\\n\")"
   ]
  },
  {
   "cell_type": "code",
   "execution_count": 34,
   "id": "9c9846f5-11d9-4e83-b3eb-b5cb4cc23688",
   "metadata": {
    "tags": []
   },
   "outputs": [
    {
     "name": "stdout",
     "output_type": "stream",
     "text": [
      "1) n단 출력하기\t2) 1 ~ n단 출력하기\t3) n ~ m단 출력하기\n"
     ]
    },
    {
     "name": "stdin",
     "output_type": "stream",
     "text": [
      "원하시는 작업을 선택해주세요:  1\n",
      "\n",
      "몇 단을 출력할까요?:  2\n"
     ]
    },
    {
     "name": "stdout",
     "output_type": "stream",
     "text": [
      "===2단===\n",
      "2x1=2\n",
      "2x2=4\n",
      "2x3=6\n",
      "2x4=8\n",
      "2x5=10\n",
      "2x6=12\n",
      "2x7=14\n",
      "2x8=16\n",
      "2x9=18\n"
     ]
    }
   ],
   "source": [
    "# step4\n",
    "# 작업 선택 번호가 3을 넘어가거나, 3번 작업 중 끝 단이 시작 단보다 작을 경우 다시 입력할 수 있도록 하는 코드이다.\n",
    "\n",
    "while True:\n",
    "    print(\"1) n단 출력하기\\t2) 1 ~ n단 출력하기\\t3) n ~ m단 출력하기\")\n",
    "    choice = int(input(\"원하시는 작업을 선택해주세요: \"))\n",
    "    \n",
    "    if choice == 1:\n",
    "        n = int(input(\"\\n몇 단을 출력할까요?: \"))\n",
    "\n",
    "        print(\"===\" + str(n) + \"단===\")\n",
    "        for i in range(1, 10):\n",
    "            print(f\"{n}x{i}={n*i}\")\n",
    "        break\n",
    "\n",
    "    elif choice == 2:\n",
    "        n = int(input(\"\\n몇 단까지 출력하시겠습니까?\"))\n",
    "\n",
    "        for j in range(1, n+1):\n",
    "            print(\"===\" + str(j) + \"단===\")\n",
    "            for i in range(1, 10):\n",
    "                print(f\"{j}x{i}={j*i}\")\n",
    "            print(\"\\n\")\n",
    "        break\n",
    "\n",
    "    elif choice == 3:\n",
    "        n = int(input(\"\\n시작 단을 입력하세요: \"))\n",
    "        m = int(input(\"끝 단을 입력하세요: \"))\n",
    "\n",
    "        if n>m:\n",
    "            print(\"끝 단이 시작 단보다 작을 수 없습니다.\")\n",
    "            n = int(input(\"시작 단을 입력하세요: \"))\n",
    "            m = int(input(\"끝 단을 입력하세요: \"))\n",
    "\n",
    "        for j in range(n, m+1):\n",
    "            print(\"===\" + str(j) + \"단===\")\n",
    "            for i in range(1, 10):\n",
    "                print(f\"{j}x{i}={j*i}\")\n",
    "            print(\"\\n\")\n",
    "        break\n",
    "\n",
    "    else: \n",
    "        print(\"\\n없는 번호입니다. 다시 선택해주세요: \")\n",
    "        continue"
   ]
  },
  {
   "cell_type": "markdown",
   "id": "102d6786-9d92-4553-b146-09866608bf16",
   "metadata": {},
   "source": [
    "## 3. print formating\n",
    "#### 방법 1. f string  \n",
    "    - f, F 둘 다 사용 가능  \n",
    "    - f '{var}' \n",
    "    \n",
    "#### 방법 2. format  \n",
    "    - '{}'.format(var)\n",
    "    \n",
    "#### 방법 3. %  \n",
    "    - ' %type' % var\n",
    "\n",
    "- print('', a, '', b) #이런 것은 이제 오답이나 다름 없다.\n",
    "- 방법1, 2를 추천함."
   ]
  },
  {
   "cell_type": "code",
   "execution_count": 36,
   "id": "83c897e8-6f0b-4adc-927b-39df8251f170",
   "metadata": {},
   "outputs": [
    {
     "name": "stdout",
     "output_type": "stream",
     "text": [
      "나의 이름은 lee!!!!\n"
     ]
    }
   ],
   "source": [
    "# 방법 1\n",
    "name = 'lee'\n",
    "print(f'나의 이름은 {name}!!!!')"
   ]
  },
  {
   "cell_type": "code",
   "execution_count": 43,
   "id": "c4a3d697-887a-42cd-bb64-655e322441bd",
   "metadata": {},
   "outputs": [
    {
     "name": "stdout",
     "output_type": "stream",
     "text": [
      "너의 이름은 lee ???\n",
      "너의 이름은 le ???\n"
     ]
    }
   ],
   "source": [
    "# 방법 2\n",
    "print('너의 이름은 {} ???'.format(name))\n",
    "print('너의 이름은 {:.2s} ???'.format(name)) # 소수점 출력 시 활용"
   ]
  },
  {
   "cell_type": "code",
   "execution_count": 45,
   "id": "43b900d5-4d30-47de-93ab-7b8bf2f4e9ef",
   "metadata": {},
   "outputs": [
    {
     "name": "stdout",
     "output_type": "stream",
     "text": [
      "나의 이름은 lee입니다.\n"
     ]
    }
   ],
   "source": [
    "# 방법 3\n",
    "print('나의 이름은 %s입니다.' %name)"
   ]
  },
  {
   "cell_type": "markdown",
   "id": "6fa11bcc-c999-47e3-9ac4-94dcb222ac1d",
   "metadata": {},
   "source": [
    "## 4. NLTK: Corpus\n",
    "- 다양한 종류의 코퍼스가 있다.\n",
    "- 더 다양한 언어 분석이 가능  <br>\n",
    "### 종류\n",
    "- gutenberg\n",
    "- brown\n",
    "- inaugural"
   ]
  },
  {
   "cell_type": "markdown",
   "id": "3c26ad2a-85a2-490a-9823-61efb6c53764",
   "metadata": {},
   "source": [
    "### 4-1 함수\n",
    "- words() : 단어를 다룬다.\n",
    "- sents() : 문장을 다룬다. 문장의 요소들이 각각 리스트의 원소들로 저장되어 있다. \n",
    "- fileids() : 해당 말뭉치의 파일 이름을 보고 싶을 때 쓴다.\n",
    "- raw() : 글자 자체를 다룬다."
   ]
  },
  {
   "cell_type": "code",
   "execution_count": 46,
   "id": "02d93978-2a38-4afd-94b1-7550ee2af3f7",
   "metadata": {
    "tags": []
   },
   "outputs": [
    {
     "data": {
      "text/plain": [
       "True"
      ]
     },
     "execution_count": 46,
     "metadata": {},
     "output_type": "execute_result"
    }
   ],
   "source": [
    "import nltk\n",
    "from nltk.corpus import gutenberg\n",
    "nltk.download('gutenberg', quiet=True)"
   ]
  },
  {
   "cell_type": "code",
   "execution_count": 66,
   "id": "880a8782-e686-42d4-9605-b4910cd334f4",
   "metadata": {},
   "outputs": [
    {
     "data": {
      "text/plain": [
       "['austen-emma.txt',\n",
       " 'austen-persuasion.txt',\n",
       " 'austen-sense.txt',\n",
       " 'bible-kjv.txt',\n",
       " 'blake-poems.txt',\n",
       " 'bryant-stories.txt',\n",
       " 'burgess-busterbrown.txt',\n",
       " 'carroll-alice.txt',\n",
       " 'chesterton-ball.txt',\n",
       " 'chesterton-brown.txt',\n",
       " 'chesterton-thursday.txt',\n",
       " 'edgeworth-parents.txt',\n",
       " 'melville-moby_dick.txt',\n",
       " 'milton-paradise.txt',\n",
       " 'shakespeare-caesar.txt',\n",
       " 'shakespeare-hamlet.txt',\n",
       " 'shakespeare-macbeth.txt',\n",
       " 'whitman-leaves.txt']"
      ]
     },
     "execution_count": 66,
     "metadata": {},
     "output_type": "execute_result"
    }
   ],
   "source": [
    "gutenberg.fileids()"
   ]
  },
  {
   "cell_type": "code",
   "execution_count": 71,
   "id": "13cb637b-2de4-4952-b2ce-3e8fa366752c",
   "metadata": {},
   "outputs": [
    {
     "name": "stdout",
     "output_type": "stream",
     "text": [
      "austen_emma.txt의 \n",
      "첫 10글자 : [Emma by J\n",
      "첫 열 단어 : ['[', 'Emma', 'by', 'Jane', 'Austen', '1816', ']', 'VOLUME', 'I', 'CHAPTER']\n",
      "첫 두 문장 : [['[', 'Emma', 'by', 'Jane', 'Austen', '1816', ']'], ['VOLUME', 'I'], ['CHAPTER', 'I']]\n"
     ]
    }
   ],
   "source": [
    "austen_raw = gutenberg.raw('austen-emma.txt')[:10]\n",
    "austen_words = gutenberg.words('austen-emma.txt')[:10]\n",
    "austen_sents = gutenberg.sents('austen-emma.txt')[:3]\n",
    "\n",
    "print(f'austen_emma.txt의 \\n첫 10글자 : {austen_raw}')\n",
    "print(f'첫 열 단어 : {austen_words}')\n",
    "print(f'첫 두 문장 : {austen_sents}')"
   ]
  },
  {
   "cell_type": "code",
   "execution_count": 61,
   "id": "cababec6-2bd2-45ac-bf68-632c53bf19ae",
   "metadata": {},
   "outputs": [
    {
     "name": "stdout",
     "output_type": "stream",
     "text": [
      "austen-emma | 글자 수 = 887071개, 단어 수 = 192427개, 문장 수 = 7717개\n",
      "austen-persuasion | 글자 수 = 466292개, 단어 수 = 98171개, 문장 수 = 3747개\n",
      "austen-sense | 글자 수 = 673022개, 단어 수 = 141576개, 문장 수 = 4999개\n",
      "bible-kjv | 글자 수 = 4332554개, 단어 수 = 1010654개, 문장 수 = 30103개\n",
      "blake-poems | 글자 수 = 38153개, 단어 수 = 8354개, 문장 수 = 438개\n",
      "bryant-stories | 글자 수 = 249439개, 단어 수 = 55563개, 문장 수 = 2863개\n",
      "burgess-busterbrown | 글자 수 = 84663개, 단어 수 = 18963개, 문장 수 = 1054개\n",
      "carroll-alice | 글자 수 = 144395개, 단어 수 = 34110개, 문장 수 = 1703개\n",
      "chesterton-ball | 글자 수 = 457450개, 단어 수 = 96996개, 문장 수 = 4779개\n",
      "chesterton-brown | 글자 수 = 406629개, 단어 수 = 86063개, 문장 수 = 3806개\n",
      "chesterton-thursday | 글자 수 = 320525개, 단어 수 = 69213개, 문장 수 = 3728개\n",
      "edgeworth-parents | 글자 수 = 935158개, 단어 수 = 210663개, 문장 수 = 10230개\n",
      "melville-moby_dick | 글자 수 = 1242990개, 단어 수 = 260819개, 문장 수 = 10059개\n",
      "milton-paradise | 글자 수 = 468220개, 단어 수 = 96825개, 문장 수 = 1851개\n",
      "shakespeare-caesar | 글자 수 = 112310개, 단어 수 = 25833개, 문장 수 = 2163개\n",
      "shakespeare-hamlet | 글자 수 = 162881개, 단어 수 = 37360개, 문장 수 = 3106개\n",
      "shakespeare-macbeth | 글자 수 = 100351개, 단어 수 = 23140개, 문장 수 = 1907개\n",
      "whitman-leaves | 글자 수 = 711215개, 단어 수 = 154883개, 문장 수 = 4250개\n"
     ]
    }
   ],
   "source": [
    "# 구텐버그의 각 파일을 돌아가면서 글자 수, 단어 수, 문장 수를 출력한다.\n",
    "\n",
    "for fileid in gutenberg.fileids():\n",
    "    raw = len(gutenberg.raw(fileid))\n",
    "    word = len(gutenberg.words(fileid))\n",
    "    sent = len(gutenberg.sents(fileid))\n",
    "\n",
    "    print(f'{fileid[:-4]} | 글자 수 = {raw}개, 단어 수 = {word}개, 문장 수 = {sent}개')"
   ]
  },
  {
   "cell_type": "code",
   "execution_count": null,
   "id": "f7758eb6-e6f3-4e59-9966-7352fb36eca5",
   "metadata": {},
   "outputs": [
    {
     "data": {
      "text/plain": [
       "True"
      ]
     },
     "execution_count": 72,
     "metadata": {},
     "output_type": "execute_result"
    }
   ],
   "source": [
    "# nltk.book text 1 - 9 가져오기.\n",
    "from nltk.book import *\n",
    "nltk.download('book', quiet = True)"
   ]
  },
  {
   "cell_type": "markdown",
   "id": "165a14be-7c8a-4ecc-b8b4-db46ae3b7f6c",
   "metadata": {},
   "source": [
    "### 4-2 getattr(library, name)"
   ]
  },
  {
   "cell_type": "code",
   "execution_count": 82,
   "id": "ccafaa23-fd4e-44b7-940b-cb2e910c48d3",
   "metadata": {},
   "outputs": [
    {
     "name": "stdout",
     "output_type": "stream",
     "text": [
      "[<Text: Moby Dick by Herman Melville 1851>, <Text: Sense and Sensibility by Jane Austen 1811>, <Text: The Book of Genesis>, <Text: Inaugural Address Corpus>, <Text: Chat Corpus>, <Text: Monty Python and the Holy Grail>, <Text: Wall Street Journal>, <Text: Personals Corpus>, <Text: The Man Who Was Thursday by G . K . Chesterton 1908>]\n",
      "<Text: Moby Dick by Herman Melville 1851>\n"
     ]
    }
   ],
   "source": [
    "# library 내부의 name이라는 멤버를 반환한다.\n",
    "# 스트링을 Attribut화 시킬 수 있는 좋은 장점을 가지고 있다.\n",
    "\n",
    "print(texts := [getattr(nltk.book, f'text{i}') for i in range(1, 10)])\n",
    "print(texts[0])"
   ]
  },
  {
   "cell_type": "code",
   "execution_count": 81,
   "id": "ef69a925-6785-4747-895f-c6fb2d5d2540",
   "metadata": {},
   "outputs": [
    {
     "data": {
      "text/plain": [
       "28"
      ]
     },
     "execution_count": 81,
     "metadata": {},
     "output_type": "execute_result"
    }
   ],
   "source": [
    "corpus1 = gutenberg.words(fileids = 'whitman-leaves.txt')\n",
    "fdist = nltk.FreqDist([w.lower() for w in corpus1])\n",
    "fdist['tree']"
   ]
  },
  {
   "cell_type": "markdown",
   "id": "b686abb8-5ecc-4555-9358-77dc85b318b1",
   "metadata": {},
   "source": [
    "### 4-3 Categories (with Brown)"
   ]
  },
  {
   "cell_type": "code",
   "execution_count": 84,
   "id": "524c189f-4362-4e64-b32e-febdd0f716eb",
   "metadata": {},
   "outputs": [
    {
     "name": "stderr",
     "output_type": "stream",
     "text": [
      "[nltk_data] Downloading package brown to\n",
      "[nltk_data]     C:\\Users\\82109\\AppData\\Roaming\\nltk_data...\n",
      "[nltk_data]   Package brown is already up-to-date!\n"
     ]
    }
   ],
   "source": [
    "# from nltk.corpus import brown\n",
    "nltk.download('brown')\n",
    "brown_corpus = nltk.corpus.brown"
   ]
  },
  {
   "cell_type": "code",
   "execution_count": 85,
   "id": "49f3ecd0-4434-464f-8926-c18cb834c600",
   "metadata": {},
   "outputs": [
    {
     "data": {
      "text/plain": [
       "['adventure',\n",
       " 'belles_lettres',\n",
       " 'editorial',\n",
       " 'fiction',\n",
       " 'government',\n",
       " 'hobbies',\n",
       " 'humor',\n",
       " 'learned',\n",
       " 'lore',\n",
       " 'mystery',\n",
       " 'news',\n",
       " 'religion',\n",
       " 'reviews',\n",
       " 'romance',\n",
       " 'science_fiction']"
      ]
     },
     "execution_count": 85,
     "metadata": {},
     "output_type": "execute_result"
    }
   ],
   "source": [
    "brown_corpus.categories()"
   ]
  },
  {
   "cell_type": "code",
   "execution_count": 87,
   "id": "1738b6e2-3974-4e18-b9fb-875900783957",
   "metadata": {},
   "outputs": [],
   "source": [
    "humor = brown_corpus.words(categories=\"humor\")\n",
    "# 'brown_corpus라는 변수'에 담겨 있는 내용 중 'humor 카테고리'의 단어들을 'humor 변수'에 담음."
   ]
  },
  {
   "cell_type": "code",
   "execution_count": 88,
   "id": "fc76d503-22a1-43c9-9ed4-4ffe6bf7a859",
   "metadata": {},
   "outputs": [
    {
     "name": "stdout",
     "output_type": "stream",
     "text": [
      "can 17\n",
      "could 33\n",
      "may 8\n",
      "might 8\n",
      "will 13\n",
      "would 56\n"
     ]
    }
   ],
   "source": [
    "# 지금부터는 humor 변수에서 조동사/도와주는 동사(modal verbs)가 얼마나 많이 쓰였는지 알아볼 것이다.\n",
    "modals = ['can', 'could', 'may', 'might', 'will', 'would']\n",
    "fdist_brown = nltk.FreqDist([w.lower() for w in humor])\n",
    "\n",
    "for verb in modals:\n",
    "    print(verb, fdist_brown[verb])"
   ]
  },
  {
   "cell_type": "markdown",
   "id": "ff670a93-9e61-4c2f-ae1b-0f07a351a955",
   "metadata": {},
   "source": [
    "### 4-4 CFD (Conditional Frequency Distribution)\n",
    "- 조건이 붙은 fdist"
   ]
  },
  {
   "cell_type": "code",
   "execution_count": 90,
   "id": "ceb2d65f-3919-4057-8c42-fa7044fa4505",
   "metadata": {},
   "outputs": [
    {
     "data": {
      "text/plain": [
       "[('.', 4057),\n",
       " (',', 3488),\n",
       " ('the', 3370),\n",
       " ('and', 1622),\n",
       " ('a', 1354),\n",
       " ('of', 1322),\n",
       " ('to', 1309),\n",
       " ('``', 998),\n",
       " (\"''\", 995),\n",
       " ('was', 914)]"
      ]
     },
     "execution_count": 90,
     "metadata": {},
     "output_type": "execute_result"
    }
   ],
   "source": [
    "cfd = nltk.ConditionalFreqDist(\n",
    "    # genre에 따른 fdist\n",
    "    (genre, word)\n",
    "    for genre in brown_corpus.categories()\n",
    "    for word in brown_corpus.words(categories=genre)\n",
    ")\n",
    "\n",
    "cfd['adventure'].most_common(10)"
   ]
  },
  {
   "cell_type": "code",
   "execution_count": 91,
   "id": "01833eb1-089c-4737-856d-2aefbfde5a06",
   "metadata": {},
   "outputs": [
    {
     "name": "stdout",
     "output_type": "stream",
     "text": [
      "                 can could   may might  will would \n",
      "     adventure    46   151     5    58    50   191 \n",
      "belles_lettres   246   213   207   113   236   392 \n",
      "     editorial   121    56    74    39   233   180 \n"
     ]
    }
   ],
   "source": [
    "cfd.tabulate(conditions=brown_corpus.categories()[:3], samples=modals)"
   ]
  },
  {
   "cell_type": "markdown",
   "id": "7eacf32e-257f-4354-8e09-673edc8fab4f",
   "metadata": {},
   "source": [
    "<hr>"
   ]
  },
  {
   "cell_type": "markdown",
   "id": "9c8914c8-8c44-4a9e-8ac4-d8cc753b88ab",
   "metadata": {},
   "source": [
    "## TextBook"
   ]
  },
  {
   "cell_type": "markdown",
   "id": "6403011d-53cf-436d-a064-dca300d8a0ce",
   "metadata": {},
   "source": [
    "## Chapter 06 | 반복문: while과 for문 (p.143~p.144 / 6.5 연습문제)"
   ]
  },
  {
   "cell_type": "markdown",
   "id": "e0c0c8e4-7982-47aa-95cd-6121e2fa82ee",
   "metadata": {},
   "source": [
    "- 6.1 반복하기: while & 6.2 순회하기: for와 in : 내용이 간단하고 오늘 수업에서 배운 것과 거의 같아서 pass.  \n",
    "- 6.3 기타 이터레이터 & 6.4 다음 장에서는 : 중요하지 않은 내용이라서 pass.\n",
    "### 6.5 연습문제"
   ]
  },
  {
   "cell_type": "code",
   "execution_count": 95,
   "id": "7ae954b6-ebf4-4dc4-97d2-b163884694d1",
   "metadata": {},
   "outputs": [
    {
     "name": "stdout",
     "output_type": "stream",
     "text": [
      "3\n",
      "2\n",
      "1\n",
      "0\n"
     ]
    }
   ],
   "source": [
    "# 01. for문으로 리스트 [3, 2, 1, 0]를 출력해보자.\n",
    "\n",
    "for i in range(0, 4):\n",
    "    print(3-i)"
   ]
  },
  {
   "cell_type": "code",
   "execution_count": 1,
   "id": "131716f9-0bfd-4d10-b823-01f6584d0346",
   "metadata": {},
   "outputs": [
    {
     "name": "stdout",
     "output_type": "stream",
     "text": [
      "too low\n",
      "too low\n",
      "too low\n",
      "too low\n",
      "too low\n",
      "too low\n",
      "found it!\n"
     ]
    }
   ],
   "source": [
    "\"\"\" 02. guess_me 변수에 7을 할당하고, number 변수에 1을 할당한다. number과 guess_me를 비교하는 while문을 작성해보자. \n",
    "number가 guess_me보다 작으면 'too low'를 출력한다. \n",
    "number와 guess_me가 같으면 'found it!'을 출력하고 반복문을 종료한다. \n",
    "number가 guess_me보다 크면 'oops'를 출력하고 반복문을 종료한다. \n",
    "그리고 반복문의 마지막에 number를 1씩 증가시킨다.\n",
    "\"\"\"\n",
    "\n",
    "guess_me = 7; number = 1\n",
    "\n",
    "while True:\n",
    "    if guess_me > number:\n",
    "        print(\"too low\")\n",
    "    elif guess_me == number:\n",
    "        print(\"found it!\")\n",
    "        break\n",
    "    else:\n",
    "        print(\"oops\")\n",
    "        break\n",
    "    number += 1"
   ]
  },
  {
   "cell_type": "code",
   "execution_count": 2,
   "id": "89faf984-854c-453c-88ab-8789a1fa29f3",
   "metadata": {},
   "outputs": [
    {
     "name": "stdout",
     "output_type": "stream",
     "text": [
      "too low\n",
      "too low\n",
      "too low\n",
      "too low\n",
      "too low\n",
      "found it!\n"
     ]
    }
   ],
   "source": [
    "\"\"\" 03. guess_me 변수에 5를 할당하고, for문을 사용하여 range(10)에서 number 변수를 사용한다. \n",
    "number가 guess_me보다 작으면 'too low'를 출력한다. \n",
    "number와 guess_me가 같으면 'found it!'을 출력하고 반복문을 종료한다.\n",
    "number가 guess_me보다 크면 'oops'를 출력하고 반복문을 종료한다.\n",
    "\"\"\"\n",
    "\n",
    "guess_me = 5\n",
    "\n",
    "for number in range(10):\n",
    "    if guess_me > number:\n",
    "        print(\"too low\")\n",
    "    elif guess_me == number:\n",
    "        print(\"found it!\")\n",
    "        break\n",
    "    else:\n",
    "        print(\"oops\")\n",
    "        break"
   ]
  },
  {
   "cell_type": "markdown",
   "id": "ee0b33a5-cd77-4737-8043-eb286f3a48fc",
   "metadata": {},
   "source": [
    "<hr>"
   ]
  },
  {
   "cell_type": "markdown",
   "id": "65180a2b-44d8-4963-a8de-3c542e5bd62f",
   "metadata": {},
   "source": [
    "## Outro."
   ]
  },
  {
   "cell_type": "markdown",
   "id": "3f6e9c1b-2563-496e-8562-63ee6f58fea6",
   "metadata": {},
   "source": [
    "### notice\n",
    "- 드랍한 인원 고려하여 두 조가 없어지고 조가 리뉴얼될 예정.\n",
    "- 이번 주에는 corpus를 다루는 법을 열심히 공부하면 좋을 것. 다음 주 시험은 코퍼스 관련."
   ]
  },
  {
   "cell_type": "markdown",
   "id": "1cadb13c-fcae-4c16-b185-c3656f5140c3",
   "metadata": {},
   "source": [
    "### add+\n",
    "#### 코퍼스란? :\n",
    "- 말뭉치 또는 코퍼스(영어: corpus, 복수형: corpora)는 자연언어 연구를 위해 특정한 목적을 가지고 언어의 표본을 추출한 집합이다. 컴퓨터의 발달로 말뭉치 분석이 용이해졌으며 분석의 정확성을 위해 해당 자연언어를 형태소 분석하는 경우가 많다."
   ]
  }
 ],
 "metadata": {
  "kernelspec": {
   "display_name": "Python 3 (ipykernel)",
   "language": "python",
   "name": "python3"
  },
  "language_info": {
   "codemirror_mode": {
    "name": "ipython",
    "version": 3
   },
   "file_extension": ".py",
   "mimetype": "text/x-python",
   "name": "python",
   "nbconvert_exporter": "python",
   "pygments_lexer": "ipython3",
   "version": "3.8.12"
  }
 },
 "nbformat": 4,
 "nbformat_minor": 5
}
