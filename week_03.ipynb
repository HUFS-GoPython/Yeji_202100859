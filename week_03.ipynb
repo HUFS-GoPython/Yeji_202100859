{
 "cells": [
  {
   "cell_type": "markdown",
   "id": "ec0cdfa3-0804-4173-a512-dd7377e75e2c",
   "metadata": {},
   "source": [
    "# 3주차 | 고급파이썬프로그래밍 | 2022.03.18(금)"
   ]
  },
  {
   "cell_type": "markdown",
   "id": "292fd827-9322-4720-98be-11b699499077",
   "metadata": {},
   "source": [
    "## Intro.\n",
    "### notice\n",
    "- 수업 초반 30분 동안 이루어지는 퀴즈는 pass or fail이다.\n",
    "- 다음주에는 팀이 구성될 것."
   ]
  },
  {
   "cell_type": "markdown",
   "id": "49e9cca2-fc88-4aa9-b1a1-c90e9772442f",
   "metadata": {},
   "source": [
    "<hr>"
   ]
  },
  {
   "cell_type": "markdown",
   "id": "c84f2b1b-ca93-475e-9335-2a2499c6675d",
   "metadata": {},
   "source": [
    "## Class\n",
    "### Chapter 04 - 중첩조건문"
   ]
  },
  {
   "cell_type": "markdown",
   "id": "24dc9052-cf20-47b6-a48a-b70baa428e77",
   "metadata": {},
   "source": [
    "- nested conditional  \n",
    "- if 블록 안에 또 다른 if 블록이 있는 경우  \n",
    "- 들여쓰기로 논리를 구분한다.  "
   ]
  },
  {
   "cell_type": "code",
   "execution_count": 300,
   "id": "efbcb475-055a-4635-9e13-b7ed2e54c86f",
   "metadata": {},
   "outputs": [
    {
     "name": "stdout",
     "output_type": "stream",
     "text": [
      "y win\n"
     ]
    }
   ],
   "source": [
    "# 변수 x와 y를 비교하여 같으면 \"same\", x가 크면 \"x win\", y가 크면 \"y win\"을 출력하려고 한다.\n",
    "\n",
    "# ▼ 안 좋은 예 : 답은 출력되나 깔끔하지 않다. \n",
    "\n",
    "x = 0\n",
    "y = 1\n",
    "\n",
    "if x == y:\n",
    "    print(\"same\")\n",
    "else:\n",
    "    if x < y:\n",
    "        print(\"y win\")\n",
    "    else:\n",
    "        print(\"x win\")"
   ]
  },
  {
   "cell_type": "code",
   "execution_count": 196,
   "id": "95599f8a-84d8-4af7-92a4-10505cf80c22",
   "metadata": {},
   "outputs": [
    {
     "name": "stdout",
     "output_type": "stream",
     "text": [
      "y win\n"
     ]
    }
   ],
   "source": [
    "# ▼ if~elif~else문을 써서 코드를 깔끔하게 만들기.\n",
    "\n",
    "if x == y:\n",
    "    print(\"same\")\n",
    "elif x > y:\n",
    "    print(\"x win\")\n",
    "else:\n",
    "    print(\"y win\")"
   ]
  },
  {
   "cell_type": "code",
   "execution_count": 195,
   "id": "05e8555d-e18c-4f54-8de6-b11c25ad0027",
   "metadata": {},
   "outputs": [
    {
     "name": "stdout",
     "output_type": "stream",
     "text": [
      "x가 너무 작습니다\n"
     ]
    }
   ],
   "source": [
    "# 변수 x의 값이 0보다 크고 10보다 작으면 \"x는 적당합니다\", 0보다 작으면 \"x가 너무 작습니다\", 10보다 크면 \"x가 너무 큽니다\"를 출력하려고 한다.\n",
    "\n",
    "# 방법 1) 중첩 조건문을 사용하기. 현재 x는 위에서 정의한대로 0이다.\n",
    "if x > 0:\n",
    "    if x < 10:\n",
    "        print(\"x는 적당합니다\")\n",
    "    else:\n",
    "        print(\"x가 너무 큽니다\")\n",
    "else:\n",
    "    print(\"x가 너무 작습니다\")"
   ]
  },
  {
   "cell_type": "code",
   "execution_count": 193,
   "id": "c59e8e6c-0cd4-471e-80ab-79429aaa44f1",
   "metadata": {},
   "outputs": [
    {
     "name": "stdout",
     "output_type": "stream",
     "text": [
      "x가 너무 작습니다.\n"
     ]
    }
   ],
   "source": [
    "# 방법 2) 논리 연산자를 사용하기.\n",
    "if (x > 0) and (x < 10):\n",
    "    print(\"x는 적당합니다.\")\n",
    "elif x <= 0:\n",
    "    print(\"x가 너무 작습니다.\")\n",
    "else:\n",
    "    print(\"x가 너무 큽니다.\")"
   ]
  },
  {
   "cell_type": "code",
   "execution_count": 194,
   "id": "29d702f0-ba6f-4be3-af96-1def26fea9df",
   "metadata": {},
   "outputs": [
    {
     "name": "stdout",
     "output_type": "stream",
     "text": [
      "x가 너무 작습니다.\n"
     ]
    }
   ],
   "source": [
    "# 방법 3) 파이썬에서만 가능한 변수 여러 번 비교하기.\n",
    "if 0 < x < 10:\n",
    "    print(\"x는 적당합니다.\")\n",
    "elif x <= 0:\n",
    "    print(\"x가 너무 작습니다.\")\n",
    "else:\n",
    "    print(\"x가 너무 큽니다.\")"
   ]
  },
  {
   "cell_type": "markdown",
   "id": "89933826-7de1-4f8b-a4a8-f5ec0b50532f",
   "metadata": {
    "tags": []
   },
   "source": [
    "### Chapter 04 - 논리연산자\n",
    "- 비교연산자가 여러 번 사용될 때 사용하는 것\n",
    "- and, or, not\n",
    "    - A and B / A & B : A도 참이고, B도 참일 때 True\n",
    "    - A or B / A | B : A혹은 B, 둘 중 하나만 참이면 True\n",
    "    - not A : A가 False면 True, True면 False로 바꿔줌\n",
    "- 비교연산자의 괄호는 가독성을 위해 (optional)\n",
    "- 파이썬에서만 가능한 표현: 0 < x < 10"
   ]
  },
  {
   "cell_type": "markdown",
   "id": "90fb7ddb-00f4-4268-81bd-efbb312ebb92",
   "metadata": {},
   "source": [
    "#### 논리 연산자를 이용한 Quiz \n",
    "- 윤년을 구하는 코드를 짜보자\n",
    "    - 연도가 4로 나눠떨어지면 윤년\n",
    "    - 100으로 나눠떨어지면 윤년이 아님\n",
    "    - 400으로 나눠떨어지면 윤년\n",
    "    \n",
    "- year를 입력받는다.\n",
    "- 출력 = '{}년은 윤년입니다' / '{}년은 윤년이 아닙니다.\""
   ]
  },
  {
   "cell_type": "code",
   "execution_count": 200,
   "id": "2a564738-6160-4425-961b-01b68ca184ef",
   "metadata": {},
   "outputs": [
    {
     "name": "stdin",
     "output_type": "stream",
     "text": [
      " 2022\n"
     ]
    },
    {
     "name": "stdout",
     "output_type": "stream",
     "text": [
      "2022년은 윤년이 아닙니다.\n"
     ]
    }
   ],
   "source": [
    "year = int(input())\n",
    "\n",
    "if (year % 4 ==0 & year % 100 != 0) | year % 400 == 0:\n",
    "    print(f\"{year}년은 윤년입니다.\")\n",
    "else:\n",
    "    print(f\"{year}년은 윤년이 아닙니다.\")"
   ]
  },
  {
   "cell_type": "markdown",
   "id": "ffc583e0-7189-4e11-b47f-4253147d939e",
   "metadata": {},
   "source": [
    "### Chapter 04 - in\n",
    "- membership operator\n",
    "- 어떤 요소가 그 안에 있는지 확인하고 싶다\n",
    "- 비슷한 조건이 여러번 반복될 때 사용 가능"
   ]
  },
  {
   "cell_type": "code",
   "execution_count": 209,
   "id": "ea963970-2d1f-4d6a-9fea-e10deb932ee0",
   "metadata": {},
   "outputs": [
    {
     "name": "stdout",
     "output_type": "stream",
     "text": [
      "No\n"
     ]
    }
   ],
   "source": [
    "letter = 'k'\n",
    "\n",
    "# letter가 모음인지 확인하고 싶을 때\n",
    "# ▼ if를 사용한다면 이렇게 쓸 수 있다.\n",
    "# if letter == 'a' or letter == 'e' ...\n",
    "\n",
    "\n",
    "# ▼ in을 사용하는 경우\n",
    "if letter in ['a', 'e', 'i', 'o', 'u']: #리스트 요소에 letter와 일치하는 것이 있는가\n",
    "    print(\"Yes\")\n",
    "else:\n",
    "    print(\"No\")\n",
    "    \n",
    "# 리스트 요소에 letter와 일치하는 것이 없는가, 가 궁금하면 not in을 사용해주면 된다."
   ]
  },
  {
   "cell_type": "markdown",
   "id": "10eb74a2-7b06-4352-aa3f-a32f029c7a9c",
   "metadata": {},
   "source": [
    "### Chapter 04 - 바다코끼리 연산자 (plus 요소)\n",
    "- walrus operator\n",
    "- 할당과 테스트를 동시에 하는 기능\n",
    "- :=\n",
    "\n",
    "(지난주 복습페이지인 week_02에서 다뤘기 때문에 예시는 따로 적지 않음.)"
   ]
  },
  {
   "cell_type": "markdown",
   "id": "e46c68bd-4430-4cda-a59f-f7355f0219bf",
   "metadata": {
    "tags": []
   },
   "source": [
    "### 코드 작성 시 주의해야 할 점"
   ]
  },
  {
   "cell_type": "code",
   "execution_count": 208,
   "id": "69455be3-0952-4fe3-8a9c-3af36b422a18",
   "metadata": {},
   "outputs": [
    {
     "name": "stdout",
     "output_type": "stream",
     "text": [
      "True\n",
      "True\n"
     ]
    }
   ],
   "source": [
    "a = True\n",
    "\n",
    "if a == True: # 논리적으로 틀린 코드는 아니지만, 퀴즈에서 이렇게 작성하면 감점 예정.\n",
    "    print(\"True\") \n",
    "    \n",
    "if a: # 이렇게 간결하게 쓴다.\n",
    "    print(\"True\")"
   ]
  },
  {
   "cell_type": "markdown",
   "id": "598c23bb-70d3-4740-8f84-38dc7ea5d7d1",
   "metadata": {},
   "source": [
    "### Chapter 05 - 문자열"
   ]
  },
  {
   "cell_type": "markdown",
   "id": "35c8b348-94c4-453a-8a41-8cba75fc077a",
   "metadata": {},
   "source": [
    "#### String | 문자열\n",
    "- str type\n",
    "- 시스템에서 가장 작은 단위\n",
    "- 불변적인 성격을 가짐 (immutable)\n",
    "    - 'abcd'를 b로, 다시 a로 바꿀 수 없다\n",
    "- 문법: '', \"\" 감싸면 모두 문자열\n",
    "    - 예: '24'\n",
    "- ''' or \"\"\" => 주석\n",
    "- 형 변환은 str()\n",
    "\n",
    "#### Escape character | 이스케이프문자\n",
    "- 눈에 보이는 대로 인식되지 않는 문자열\n",
    "- 문법: \\ + `<character>`\n",
    "- \\n, \\t, \\b, \\\\'\n",
    "- print()함수 쓰지 않을 때 형태가 출력은 된다.\n",
    "- '\\n' 출력은 어떻게?\n",
    "    - \\\\\\n\n",
    "    - r'' (raw string) # 원시 문자열을 반환하는 역할\n",
    "- 문자열을 바꾸는 것이 아니라 표면상의 형태를 말하는 것"
   ]
  },
  {
   "cell_type": "code",
   "execution_count": 213,
   "id": "d0054d04-36bd-4749-bd1b-a8a389c935bb",
   "metadata": {},
   "outputs": [
    {
     "name": "stdout",
     "output_type": "stream",
     "text": [
      "hello\tworld I'm a boy\n"
     ]
    }
   ],
   "source": [
    "sent = 'hello\\tworld I\\'m a boy'\n",
    "print(sent)"
   ]
  },
  {
   "cell_type": "code",
   "execution_count": 212,
   "id": "2c5c94f9-5b27-4a0c-8f96-deac765070b8",
   "metadata": {},
   "outputs": [
    {
     "data": {
      "text/plain": [
       "\"hello\\tworld I'm a boy\""
      ]
     },
     "execution_count": 212,
     "metadata": {},
     "output_type": "execute_result"
    }
   ],
   "source": [
    "sent # print()함수를 사용하지 않은 경우"
   ]
  },
  {
   "cell_type": "markdown",
   "id": "0003823c-1765-40c9-a207-dc94f9577668",
   "metadata": {},
   "source": [
    "#### 연산\n",
    "- concatenation(+)\n",
    "    - \"+\" => 붙이기\n",
    "- 복제(*)\n",
    "    - \"*4 => 4번 반복"
   ]
  },
  {
   "cell_type": "code",
   "execution_count": 66,
   "id": "9e0dbe9c-af4e-4064-9b04-ad0160423eae",
   "metadata": {},
   "outputs": [
    {
     "data": {
      "text/plain": [
       "'brainbrain'"
      ]
     },
     "execution_count": 66,
     "metadata": {},
     "output_type": "execute_result"
    }
   ],
   "source": [
    "word = 'brain' \n",
    "word + word # 공백 없이 붙는다"
   ]
  },
  {
   "cell_type": "code",
   "execution_count": 214,
   "id": "52dcd28f-2c14-4ed6-9438-409d559a8fa4",
   "metadata": {},
   "outputs": [
    {
     "data": {
      "text/plain": [
       "'brainbrainbrainbrain'"
      ]
     },
     "execution_count": 214,
     "metadata": {},
     "output_type": "execute_result"
    }
   ],
   "source": [
    "word * 4"
   ]
  },
  {
   "cell_type": "markdown",
   "id": "f318b3d2-cf31-440f-aa75-011898515268",
   "metadata": {},
   "source": [
    "#### Slicing\n",
    "- 지정 범위의 문자열을 추출하는 것\n",
    "- 문법: 대괄호 + 오프셋 이용 [offset]\n",
    "    - [start : end : step]\n",
    "- 오프셋은 0부터 시작\n",
    "- start 포함, end 불포함 (크거나 같고, 작다)\n",
    "- 0일 경우 생략한다.\n",
    "    - 예: ~4까지 출력하라 => [ : 5]\n",
    "    - 처음부터 끝까지 2스텝씩 => [ : : 2]\n",
    "    - 처음부터 끝까지 역순으로 찍기 => [ : : -1]\n",
    "- 오프셋은 음수로도 가능하다.  \n",
    "0 1 2 ...  \n",
    "h e l l o  (h는 [-5], o는 [-1]이 됨.)"
   ]
  },
  {
   "cell_type": "code",
   "execution_count": 218,
   "id": "dc2b871c-aa41-4c81-8d36-ee472b3ba7e2",
   "metadata": {},
   "outputs": [
    {
     "data": {
      "text/plain": [
       "'e'"
      ]
     },
     "execution_count": 218,
     "metadata": {},
     "output_type": "execute_result"
    }
   ],
   "source": [
    "hello = \"hello, this is me\"\n",
    "hello[1] # 2번째 글자"
   ]
  },
  {
   "cell_type": "code",
   "execution_count": 221,
   "id": "84c6ca33-2f83-4bb4-b02b-7456529f44d2",
   "metadata": {},
   "outputs": [
    {
     "data": {
      "text/plain": [
       "'hello'"
      ]
     },
     "execution_count": 221,
     "metadata": {},
     "output_type": "execute_result"
    }
   ],
   "source": [
    "sent[:5] # 처음부터 4까지 슬라이싱"
   ]
  },
  {
   "cell_type": "code",
   "execution_count": 223,
   "id": "29a590c8-7742-4774-906c-c6dc254d5814",
   "metadata": {},
   "outputs": [
    {
     "data": {
      "text/plain": [
       "17"
      ]
     },
     "execution_count": 223,
     "metadata": {},
     "output_type": "execute_result"
    }
   ],
   "source": [
    "len(hello) # len() 함수는 문자열의 길이를 알려준다. 이때 띄어쓰기는 포함이다."
   ]
  },
  {
   "cell_type": "code",
   "execution_count": 225,
   "id": "486c6ca6-52f1-40b9-ac9a-38d0292154e0",
   "metadata": {},
   "outputs": [
    {
     "data": {
      "text/plain": [
       "'hlo hsi e'"
      ]
     },
     "execution_count": 225,
     "metadata": {},
     "output_type": "execute_result"
    }
   ],
   "source": [
    "hello[::2] # 처음부터 끝까지 2스텝씩 출력하기"
   ]
  },
  {
   "cell_type": "code",
   "execution_count": 226,
   "id": "f94737aa-ff6f-4755-8d1b-000efd892014",
   "metadata": {},
   "outputs": [
    {
     "data": {
      "text/plain": [
       "'em si siht ,olleh'"
      ]
     },
     "execution_count": 226,
     "metadata": {},
     "output_type": "execute_result"
    }
   ],
   "source": [
    "hello[::-1] # 거꾸로 출력하기"
   ]
  },
  {
   "cell_type": "code",
   "execution_count": 227,
   "id": "0ecb1951-1a46-4465-b86a-6c0c032a36fd",
   "metadata": {},
   "outputs": [
    {
     "ename": "TypeError",
     "evalue": "'str' object does not support item assignment",
     "output_type": "error",
     "traceback": [
      "\u001b[1;31m---------------------------------------------------------------------------\u001b[0m",
      "\u001b[1;31mTypeError\u001b[0m                                 Traceback (most recent call last)",
      "\u001b[1;32m~\\AppData\\Local\\Temp/ipykernel_21544/3401907504.py\u001b[0m in \u001b[0;36m<module>\u001b[1;34m\u001b[0m\n\u001b[1;32m----> 1\u001b[1;33m \u001b[0mhello\u001b[0m\u001b[1;33m[\u001b[0m\u001b[1;36m2\u001b[0m\u001b[1;33m]\u001b[0m \u001b[1;33m=\u001b[0m \u001b[1;34m'L'\u001b[0m \u001b[1;31m# 에러난다. 문자열은 불변이기 때문에 이미 정해진 변수라면 다른 값으로 변경이 불가능하다.\u001b[0m\u001b[1;33m\u001b[0m\u001b[1;33m\u001b[0m\u001b[0m\n\u001b[0m\u001b[0;32m      2\u001b[0m \u001b[0mhello\u001b[0m\u001b[1;33m\u001b[0m\u001b[1;33m\u001b[0m\u001b[0m\n",
      "\u001b[1;31mTypeError\u001b[0m: 'str' object does not support item assignment"
     ]
    }
   ],
   "source": [
    "hello[2] = 'L' # 에러난다. 문자열은 불변이기 때문에 이미 정해진 변수라면 다른 값으로 변경이 불가능하다.\n",
    "hello"
   ]
  },
  {
   "cell_type": "markdown",
   "id": "402625e7-db33-4d8f-894d-c9c1c0bab626",
   "metadata": {},
   "source": [
    "### NLTK\n",
    "- Natural Language Tool Kit\n",
    "- 교육용으로 개발된 자연어처리 피키지\n",
    "- 코퍼스 제공하는데 어떤 처리가 되어 있다.\n",
    "    -토크나이즈, 파싱, 태깅, .."
   ]
  },
  {
   "cell_type": "code",
   "execution_count": null,
   "id": "b84e6a87-574c-4b6a-998e-7ceaca2e0093",
   "metadata": {},
   "outputs": [],
   "source": [
    "# !pip install nltk => 터미널로 패키지 설치하는 코드"
   ]
  },
  {
   "cell_type": "code",
   "execution_count": 84,
   "id": "4349812c-160c-4adb-8e1a-5c410cfc7022",
   "metadata": {},
   "outputs": [
    {
     "data": {
      "text/plain": [
       "True"
      ]
     },
     "execution_count": 84,
     "metadata": {},
     "output_type": "execute_result"
    }
   ],
   "source": [
    "import nltk \n",
    "nltk.download('book', quiet=True) # dot으로 접근"
   ]
  },
  {
   "cell_type": "code",
   "execution_count": 85,
   "id": "549d2f6b-f6dc-4c1b-8225-8256727b6909",
   "metadata": {},
   "outputs": [
    {
     "name": "stdout",
     "output_type": "stream",
     "text": [
      "*** Introductory Examples for the NLTK Book ***\n",
      "Loading text1, ..., text9 and sent1, ..., sent9\n",
      "Type the name of the text or sentence to view it.\n",
      "Type: 'texts()' or 'sents()' to list the materials.\n",
      "text1: Moby Dick by Herman Melville 1851\n",
      "text2: Sense and Sensibility by Jane Austen 1811\n",
      "text3: The Book of Genesis\n",
      "text4: Inaugural Address Corpus\n",
      "text5: Chat Corpus\n",
      "text6: Monty Python and the Holy Grail\n",
      "text7: Wall Street Journal\n",
      "text8: Personals Corpus\n",
      "text9: The Man Who Was Thursday by G . K . Chesterton 1908\n"
     ]
    }
   ],
   "source": [
    "from nltk import book"
   ]
  },
  {
   "cell_type": "code",
   "execution_count": 91,
   "id": "1a105fcf-6340-4a65-b6a5-7d161f3be020",
   "metadata": {},
   "outputs": [],
   "source": [
    "moby = book.text1"
   ]
  },
  {
   "cell_type": "code",
   "execution_count": 231,
   "id": "b00f9fc0-1bb3-4d38-8615-ec63fd53fbbf",
   "metadata": {
    "tags": []
   },
   "outputs": [
    {
     "data": {
      "text/plain": [
       "['[',\n",
       " 'Moby',\n",
       " 'Dick',\n",
       " 'by',\n",
       " 'Herman',\n",
       " 'Melville',\n",
       " '1851',\n",
       " ']',\n",
       " 'ETYMOLOGY',\n",
       " '.']"
      ]
     },
     "execution_count": 231,
     "metadata": {},
     "output_type": "execute_result"
    }
   ],
   "source": [
    "moby.tokens[:10] # 단어에 접근 (단어가 너무 많으므로 처음 10개 단어만 슬라이싱)\n",
    "# 토큰이란? 프로그래밍에서 정의하는 단어"
   ]
  },
  {
   "cell_type": "code",
   "execution_count": 93,
   "id": "4c9d503d-29d1-41d2-9a82-141b9d4fcf2f",
   "metadata": {},
   "outputs": [
    {
     "data": {
      "text/plain": [
       "260819"
      ]
     },
     "execution_count": 93,
     "metadata": {},
     "output_type": "execute_result"
    }
   ],
   "source": [
    "# 총 길이 (단어)\n",
    "len(moby.tokens)"
   ]
  },
  {
   "cell_type": "code",
   "execution_count": 233,
   "id": "6e063471-cce2-4789-8293-a38bb1073ee6",
   "metadata": {
    "tags": []
   },
   "outputs": [
    {
     "data": {
      "text/plain": [
       "{'.',\n",
       " '1851',\n",
       " 'Dick',\n",
       " 'ETYMOLOGY',\n",
       " 'Herman',\n",
       " 'Melville',\n",
       " 'Moby',\n",
       " '[',\n",
       " ']',\n",
       " 'by'}"
      ]
     },
     "execution_count": 233,
     "metadata": {},
     "output_type": "execute_result"
    }
   ],
   "source": [
    "# 중복되는 단어들을 걸러내자\n",
    "set(moby.tokens[:10])"
   ]
  },
  {
   "cell_type": "markdown",
   "id": "3d865f86-bf7b-4240-9e10-7a48c49e1cae",
   "metadata": {},
   "source": [
    "- set\n",
    "    - {a, b, c, ...}\n",
    "    - 중복 불가능\n",
    "    - 수학의 집합과 동일한 개념\n",
    "    - 순서 없음\n",
    "- list\n",
    "    - [a, b, c, ...]\n",
    "    - 중복 가능\n",
    "    - 순서 있음"
   ]
  },
  {
   "cell_type": "code",
   "execution_count": 95,
   "id": "f900c881-0357-4346-a9d9-7e01987a1930",
   "metadata": {},
   "outputs": [
    {
     "data": {
      "text/plain": [
       "{'benz', 'kia', 'porsche'}"
      ]
     },
     "execution_count": 95,
     "metadata": {},
     "output_type": "execute_result"
    }
   ],
   "source": [
    "cars = ['kia', 'benz', 'porsche', 'kia']\n",
    "set(cars)"
   ]
  },
  {
   "cell_type": "code",
   "execution_count": 96,
   "id": "fa739052-7353-4e72-b4d1-5e4611ae23d2",
   "metadata": {},
   "outputs": [
    {
     "data": {
      "text/plain": [
       "19317"
      ]
     },
     "execution_count": 96,
     "metadata": {},
     "output_type": "execute_result"
    }
   ],
   "source": [
    "# 중복 없는 단어 수\n",
    "len(set(moby.tokens))"
   ]
  },
  {
   "cell_type": "code",
   "execution_count": 234,
   "id": "7042caac-e61a-49e5-aeee-e515aedeb7dd",
   "metadata": {},
   "outputs": [
    {
     "data": {
      "text/plain": [
       "0.07406285585022564"
      ]
     },
     "execution_count": 234,
     "metadata": {},
     "output_type": "execute_result"
    }
   ],
   "source": [
    "#lexical diversity 어휘가 얼마나 다양한지 그 비율을 구한다.\n",
    "len(set(moby.tokens)) / len(moby.tokens)"
   ]
  },
  {
   "cell_type": "code",
   "execution_count": 235,
   "id": "4ef8a295-8923-4513-a1a5-ca967ef66e95",
   "metadata": {},
   "outputs": [
    {
     "data": {
      "text/plain": [
       "['porsche', 'kia', 'kia', 'benz']"
      ]
     },
     "execution_count": 235,
     "metadata": {},
     "output_type": "execute_result"
    }
   ],
   "source": [
    "# sorted(cars) #오름차순\n",
    "sorted(cars, reverse = True) #내림차순"
   ]
  },
  {
   "cell_type": "code",
   "execution_count": 236,
   "id": "8f259fed-c7fc-4ac2-ae2e-9e20b90d657f",
   "metadata": {
    "tags": []
   },
   "outputs": [
    {
     "data": {
      "text/plain": [
       "['zoology',\n",
       " 'zones',\n",
       " 'zoned',\n",
       " 'zone',\n",
       " 'zodiac',\n",
       " 'zig',\n",
       " 'zephyr',\n",
       " 'zeal',\n",
       " 'zay',\n",
       " 'zag']"
      ]
     },
     "execution_count": 236,
     "metadata": {},
     "output_type": "execute_result"
    }
   ],
   "source": [
    "#mobydick 내림차순으로 정렬하기\n",
    "sorted(set(moby.tokens), reverse=True)[:10]"
   ]
  },
  {
   "cell_type": "markdown",
   "id": "24d33be1-eea8-4fb1-80d2-64c1bf0e9709",
   "metadata": {},
   "source": [
    "<hr>"
   ]
  },
  {
   "cell_type": "markdown",
   "id": "c5703875-453f-480f-a453-337a9c99f9c7",
   "metadata": {
    "tags": []
   },
   "source": [
    "## TextBook\n",
    "## Chapter 05 | 텍스트 문자열"
   ]
  },
  {
   "cell_type": "markdown",
   "id": "f60eba1f-620a-4150-bcaf-feb64dcebcac",
   "metadata": {},
   "source": [
    "### 5.1 따옴표로 문자열 생성"
   ]
  },
  {
   "cell_type": "markdown",
   "id": "724102ce-6db2-4e80-9128-70ae7b955d36",
   "metadata": {},
   "source": [
    "세 개의 작은 따옴표(''')는 여러 줄의 문자열 (multiline string)에서 아주 유용하게 쓰임.\n",
    "특히 이를 사용하면,\n",
    "1) 문자열 끝에 들어 있는 라인 끝 문자가 보존되고\n",
    "2) 양쪽 끝에 공백이 있는 경우에도 보존됨.\n",
    "\n",
    "▼ 빈 문자열도 만들 수 있음."
   ]
  },
  {
   "cell_type": "code",
   "execution_count": 239,
   "id": "fb51090f-e1ff-4d2c-92c2-8864d4b3d591",
   "metadata": {},
   "outputs": [
    {
     "data": {
      "text/plain": [
       "''"
      ]
     },
     "execution_count": 239,
     "metadata": {},
     "output_type": "execute_result"
    }
   ],
   "source": [
    "''"
   ]
  },
  {
   "cell_type": "code",
   "execution_count": 240,
   "id": "70591631-8303-45f8-98ee-ef6ee444c212",
   "metadata": {
    "tags": []
   },
   "outputs": [
    {
     "data": {
      "text/plain": [
       "''"
      ]
     },
     "execution_count": 240,
     "metadata": {},
     "output_type": "execute_result"
    }
   ],
   "source": [
    "\"\""
   ]
  },
  {
   "cell_type": "code",
   "execution_count": 242,
   "id": "2593ebc9-ce9e-4fb9-8478-ad792208079e",
   "metadata": {},
   "outputs": [
    {
     "data": {
      "text/plain": [
       "''"
      ]
     },
     "execution_count": 242,
     "metadata": {},
     "output_type": "execute_result"
    }
   ],
   "source": [
    "''''''"
   ]
  },
  {
   "cell_type": "code",
   "execution_count": 243,
   "id": "789328cd-1173-44ff-9994-9f30228c6386",
   "metadata": {},
   "outputs": [
    {
     "data": {
      "text/plain": [
       "''"
      ]
     },
     "execution_count": 243,
     "metadata": {},
     "output_type": "execute_result"
    }
   ],
   "source": [
    "\"\"\"\"\"\""
   ]
  },
  {
   "cell_type": "markdown",
   "id": "7d899715-cb64-45df-9dc1-3d665af2bfdc",
   "metadata": {},
   "source": [
    "### 5.2 문자열 타입으로 변환 : str()"
   ]
  },
  {
   "cell_type": "code",
   "execution_count": 244,
   "id": "0466498f-9551-40c2-b5a8-cb81cdd7eb75",
   "metadata": {},
   "outputs": [
    {
     "name": "stdout",
     "output_type": "stream",
     "text": [
      "<class 'float'>\n",
      "<class 'str'>\n"
     ]
    }
   ],
   "source": [
    "print(type(98.6))\n",
    "print(type(str(98.6)))"
   ]
  },
  {
   "cell_type": "code",
   "execution_count": 245,
   "id": "ea5dea83-05a9-4fe0-9176-d699099dc76f",
   "metadata": {},
   "outputs": [
    {
     "name": "stdout",
     "output_type": "stream",
     "text": [
      "<class 'bool'>\n",
      "<class 'str'>\n"
     ]
    }
   ],
   "source": [
    "print(type(True))\n",
    "print(type(str(True)))"
   ]
  },
  {
   "cell_type": "markdown",
   "id": "ba3d31e7-f6a5-4288-99e9-be078090ceec",
   "metadata": {},
   "source": [
    "### 5.3 이스케이프 문자 : \\"
   ]
  },
  {
   "cell_type": "code",
   "execution_count": 249,
   "id": "28d22fc1-1b7b-4a22-af5f-eebd9c75efdd",
   "metadata": {
    "tags": []
   },
   "outputs": [
    {
     "name": "stdout",
     "output_type": "stream",
     "text": [
      "탭을 해볼게▶\t이번에는 줄바꿈을 해볼게 ▼\n",
      "\n",
      "작은따옴표는 이렇게 표시하고▶ ', 큰따옴표는 이렇게 표시해볼게▶ \"\n"
     ]
    }
   ],
   "source": [
    "print(\"탭을 해볼게▶\\t이번에는 줄바꿈을 해볼게 ▼ㅁ\\n\\n작은따옴표는 이렇게 표시하고▶ \\', 큰따옴표는 이렇게 표시해볼게▶ \\\"\")"
   ]
  },
  {
   "cell_type": "code",
   "execution_count": 251,
   "id": "72fc4439-6208-4e7c-97ab-51563a26c2a2",
   "metadata": {},
   "outputs": [
    {
     "name": "stdout",
     "output_type": "stream",
     "text": [
      "탭을 해볼게▶\\t이번에는 줄바꿈을 해볼게 ▼ㅁ\\n\\n작은따옴표는 이렇게 표시하고▶ \\', 큰따옴표는 이렇게 표시해볼게▶ \\\"\n"
     ]
    }
   ],
   "source": [
    "print(r\"탭을 해볼게▶\\t이번에는 줄바꿈을 해볼게 ▼ㅁ\\n\\n작은따옴표는 이렇게 표시하고▶ \\', 큰따옴표는 이렇게 표시해볼게▶ \\\"\")\n",
    "# 원시 문자열 r은 이스케이프 문자를 무효화한다."
   ]
  },
  {
   "cell_type": "markdown",
   "id": "5a62bec8-20d9-4234-8756-f23896bbfda7",
   "metadata": {},
   "source": [
    "### 5.4 결합하기 : + "
   ]
  },
  {
   "cell_type": "code",
   "execution_count": 252,
   "id": "89718ab3-9bb2-4fbf-84e5-8d18be718237",
   "metadata": {},
   "outputs": [
    {
     "data": {
      "text/plain": [
       "'결합'"
      ]
     },
     "execution_count": 252,
     "metadata": {},
     "output_type": "execute_result"
    }
   ],
   "source": [
    "\"결\" \"합\""
   ]
  },
  {
   "cell_type": "code",
   "execution_count": 253,
   "id": "b283707b-915d-4efd-b85d-665a8b095e0c",
   "metadata": {},
   "outputs": [
    {
     "data": {
      "text/plain": [
       "'결합'"
      ]
     },
     "execution_count": 253,
     "metadata": {},
     "output_type": "execute_result"
    }
   ],
   "source": [
    "\"결\" + \"합\""
   ]
  },
  {
   "cell_type": "code",
   "execution_count": 259,
   "id": "3596e7b4-f672-4819-a25f-ef963cdfc3fb",
   "metadata": {},
   "outputs": [
    {
     "name": "stdout",
     "output_type": "stream",
     "text": [
      "You are the best.\n",
      "Youarethe best.\n"
     ]
    }
   ],
   "source": [
    "a = \"You\"\n",
    "b = \"are\"\n",
    "c = \"the best.\"\n",
    "\n",
    "\n",
    "print(a, b, c) # 띄어쓰기 됨.\n",
    "print(a + b + c) # 띄어쓰기 안 됨."
   ]
  },
  {
   "cell_type": "markdown",
   "id": "dfd8add5-c40c-45ce-af47-9b62e5b1bbb6",
   "metadata": {},
   "source": [
    "### 5.5 복제하기 : *"
   ]
  },
  {
   "cell_type": "code",
   "execution_count": 265,
   "id": "53199f51-999f-4596-9033-df69951b3a0b",
   "metadata": {},
   "outputs": [
    {
     "name": "stdout",
     "output_type": "stream",
     "text": [
      "Na Na Na Na \n",
      "Na Na Na Na \n",
      "Hey Hey Hey \n",
      "Good bye\n"
     ]
    }
   ],
   "source": [
    "start = 'Na ' * 4 + '\\n'\n",
    "middle = 'Hey ' * 3 + '\\n'\n",
    "end = 'Good bye'\n",
    "\n",
    "print(start + start + middle + end)\n",
    "# * 연산자는 + 연산자보다 우선순위가 높으므로 줄바꿈 전에 문자열이 결합한다."
   ]
  },
  {
   "cell_type": "markdown",
   "id": "75cd6e9d-43b4-430a-b048-89f3a74bdedf",
   "metadata": {},
   "source": [
    "### 5.6 문자 추출 : [ ]"
   ]
  },
  {
   "cell_type": "code",
   "execution_count": 269,
   "id": "ab1f31cd-695d-42dc-82bb-9f29e0047b4d",
   "metadata": {
    "tags": []
   },
   "outputs": [
    {
     "name": "stdout",
     "output_type": "stream",
     "text": [
      "2\n",
      "9\n"
     ]
    }
   ],
   "source": [
    "str = \"123456789\"\n",
    "print(str[1]) # 오프셋을 이용해 1을 추출하려면 0을 넣어야 함을 알 수 있다.\n",
    "print(str[-1]) # 맨 뒷 숫자를 추출하려면 -0이 아니라 -1을 사용한다."
   ]
  },
  {
   "cell_type": "markdown",
   "id": "ac42f1a7-d0da-4887-8fab-8155b957a345",
   "metadata": {},
   "source": [
    "### 5.7 슬라이스로 부분 문자열 추출"
   ]
  },
  {
   "cell_type": "code",
   "execution_count": 297,
   "id": "dc392475-2dd9-4d58-aa23-cc72fd607193",
   "metadata": {},
   "outputs": [
    {
     "name": "stdout",
     "output_type": "stream",
     "text": [
      "baby you are already glow.\n",
      "can i b u\n",
      "you are the only one who saw my yesterday.\n"
     ]
    }
   ],
   "source": [
    "str = \"alskjbabyadjyoualjdarealkdsfalreadyadkglow.\"\n",
    "print(str[5:9], str[12:15], str[19:22], str[28:35], str[38:])\n",
    "\n",
    "str2 = \"ceaene eie ebe eue\"\n",
    "print(str2[::2])\n",
    "\n",
    "str3 = \".yadretsey ym was ohw eno ylno eht era uoy\"\n",
    "print(str3[::-1])\n",
    "\n",
    "# [시작문자 : 끝문자(추출안됨) : 스텝]"
   ]
  },
  {
   "cell_type": "markdown",
   "id": "6819551b-1ad3-4837-a0b2-58f38e6f62c1",
   "metadata": {},
   "source": [
    "### 5.8 문자열 길이 : len()"
   ]
  },
  {
   "cell_type": "code",
   "execution_count": 299,
   "id": "f1b57d7a-dc3b-4001-909b-c56724d479ee",
   "metadata": {},
   "outputs": [
    {
     "name": "stdout",
     "output_type": "stream",
     "text": [
      "30\n",
      "3\n"
     ]
    }
   ],
   "source": [
    "str = \"이 문자열의 길이는 몇일까요?~~~~?~?~?~???~\"\n",
    "print(len(str)) \n",
    "\n",
    "str2 = \"   \"\n",
    "print(len(str2)) # len() 함수는 띄어쓰기까지 센다."
   ]
  },
  {
   "cell_type": "markdown",
   "id": "166e4806-3a08-421b-ac88-0d580adcefa9",
   "metadata": {},
   "source": [
    "<hr>"
   ]
  },
  {
   "cell_type": "markdown",
   "id": "582f759e-444b-4948-9c47-daac06e65611",
   "metadata": {
    "tags": []
   },
   "source": [
    "## Outro.\n",
    "### 1. 다음 수업 시작 때 확인할 퀴즈 2개"
   ]
  },
  {
   "cell_type": "markdown",
   "id": "1681fe5c-239f-49a6-a14d-fff7514d2ac8",
   "metadata": {
    "tags": []
   },
   "source": [
    "#### Quiz 1.\n",
    "- text9에서 lexical diversity 계산하기.\n",
    "- text6에서 중복없는 셋 내림차순 정렬하기\n",
    "    - a. 앞에서 단어 10개 추출하기\n",
    "    - b. 조건문 연습: 'z'가 있으면 대문자로 바꾸기, 'z'가 없는데 4자 이상이면 끝 글자 대문자로 바꾸기"
   ]
  },
  {
   "cell_type": "markdown",
   "id": "e086cd60-75ed-48b9-b7ea-cf35f7f06b65",
   "metadata": {},
   "source": [
    "- text9 lexical diversity 답 : 0.0983485761345412 \n",
    "- text6 중복없는 셋 내림차순 정렬 답 :   \n",
    "Zoosh  \n",
    "Zoop  \n",
    "Zoo  \n",
    "Zone  \n",
    "Zhiv  \n",
    "yourselF  \n",
    "yourS  \n",
    "youR  \n",
    "younG  \n",
    "you  \n",
    "\n",
    "(코드는 다음주 복습 페이지에 추가함.)"
   ]
  },
  {
   "cell_type": "markdown",
   "id": "5ee9419c-4216-4cc8-b446-c2a15282f505",
   "metadata": {},
   "source": [
    "#### Quiz 2.\n",
    "- 주민등록번호, 휴대폰 번호, 이메일 입력받는다.\n",
    "    - 주민번호, 휴대폰은 숫자만 입력 (-없다)\n",
    "    - 이메일은 아이디만 입력 (@뒷부분 없음)\n",
    "    \n",
    "- 출력:\n",
    "    - \"당신은 {}년 {}월 {}일 출생의 {남성/여성}입니다.\"\n",
    "    - 휴대폰번호 : {} # 하이픈으로 연결하기\n",
    "    - 이메일주소 : {아이디}@gmail.com\n",
    "    \n",
    "<i>(주민번호는 앞의 7자리만 입력하도록 임의로 문제를 수정함.)</i>"
   ]
  },
  {
   "cell_type": "markdown",
   "id": "fab57bef-c381-4035-8459-7ae304e8dc46",
   "metadata": {},
   "source": [
    "답 (입력 및 출력) : \n",
    "\n",
    "주민번호 앞 7자리를 입력해주세요 :  0202024  \n",
    "휴대폰 번호를 입력해주세요 :  01000000000  \n",
    "이메일 아이디를 입력해주세요 :  idid  \n",
    "\n",
    "\n",
    "당신은 2002년 02월 02일 출생의 여성입니다.  \n",
    "휴대폰번호 : 010-0000-0000  \n",
    "이메일주소 : idid@gmail.com\n",
    "\n",
    "(코드는 다음주 복습 페이지에 추가함.)"
   ]
  },
  {
   "cell_type": "markdown",
   "id": "645bc156-0db8-4ce2-b843-6548d4abe094",
   "metadata": {},
   "source": [
    "### 2. 개인질문(수업에서 다루는 범위 아님) : 교재 88p. 하단 설명\n",
    "<br>\n",
    "<i>추가로 지수를 취해서 10진수가 아닌 수를 10진수로 표현할 수 있다.</i>"
   ]
  },
  {
   "cell_type": "code",
   "execution_count": 104,
   "id": "8340f486-038b-4a04-82c1-5a2ef85a210b",
   "metadata": {},
   "outputs": [
    {
     "data": {
      "text/plain": [
       "22"
      ]
     },
     "execution_count": 104,
     "metadata": {},
     "output_type": "execute_result"
    }
   ],
   "source": [
    "int('10', 2) # 2진수(binary)"
   ]
  },
  {
   "cell_type": "code",
   "execution_count": 105,
   "id": "b1eccaf9-8640-4d7e-bc1b-2044b48f9519",
   "metadata": {},
   "outputs": [
    {
     "data": {
      "text/plain": [
       "8"
      ]
     },
     "execution_count": 105,
     "metadata": {},
     "output_type": "execute_result"
    }
   ],
   "source": [
    "int('10', 8) # 8진수(octal)"
   ]
  },
  {
   "cell_type": "code",
   "execution_count": 106,
   "id": "5ded25d6-46c4-40be-82a0-59a9b800c936",
   "metadata": {},
   "outputs": [
    {
     "data": {
      "text/plain": [
       "16"
      ]
     },
     "execution_count": 106,
     "metadata": {},
     "output_type": "execute_result"
    }
   ],
   "source": [
    "int('10', 16) # 16진수(hexadecimal)"
   ]
  },
  {
   "cell_type": "code",
   "execution_count": 107,
   "id": "49bb4fa4-6ac0-4ed0-917b-0e50438896de",
   "metadata": {},
   "outputs": [
    {
     "data": {
      "text/plain": [
       "22"
      ]
     },
     "execution_count": 107,
     "metadata": {},
     "output_type": "execute_result"
    }
   ],
   "source": [
    "int('10', 22) # 22진수"
   ]
  },
  {
   "cell_type": "markdown",
   "id": "a0042e03-c4ab-426d-95e7-0539b4349e48",
   "metadata": {},
   "source": [
    "해결 : '10'을 10진수 10으로 이해하여 이 설명이 뭘 표현하고자 하는지 몰랐는데, 숫자 10이 아니라 컴퓨터 언어 1과 0을 각각의 진수로 표현한 것이었음.  \n",
    "예를 들어 2진수 1100을 대입해보면 값이 12로 잘 나옴."
   ]
  },
  {
   "cell_type": "code",
   "execution_count": 112,
   "id": "8bf9645d-e0ef-4b12-bb9b-a1c0a6e9df6e",
   "metadata": {},
   "outputs": [
    {
     "data": {
      "text/plain": [
       "12"
      ]
     },
     "execution_count": 112,
     "metadata": {},
     "output_type": "execute_result"
    }
   ],
   "source": [
    "# ex1)\n",
    "int('1100', 2)"
   ]
  },
  {
   "cell_type": "code",
   "execution_count": 113,
   "id": "23f205e9-bfe5-4db1-bb79-48ec1cde71a4",
   "metadata": {},
   "outputs": [
    {
     "data": {
      "text/plain": [
       "371018"
      ]
     },
     "execution_count": 113,
     "metadata": {},
     "output_type": "execute_result"
    }
   ],
   "source": [
    "# ex2)\n",
    "int('1011010100101001010', 2)"
   ]
  },
  {
   "cell_type": "code",
   "execution_count": 301,
   "id": "0a406807-e04b-4f26-8a4d-54d79013b80a",
   "metadata": {},
   "outputs": [
    {
     "data": {
      "text/plain": [
       "9367769258269904897"
      ]
     },
     "execution_count": 301,
     "metadata": {},
     "output_type": "execute_result"
    }
   ],
   "source": [
    "# ex3) \n",
    "int('1010010010100100110001', 8)"
   ]
  }
 ],
 "metadata": {
  "kernelspec": {
   "display_name": "Python 3 (ipykernel)",
   "language": "python",
   "name": "python3"
  },
  "language_info": {
   "codemirror_mode": {
    "name": "ipython",
    "version": 3
   },
   "file_extension": ".py",
   "mimetype": "text/x-python",
   "name": "python",
   "nbconvert_exporter": "python",
   "pygments_lexer": "ipython3",
   "version": "3.8.12"
  }
 },
 "nbformat": 4,
 "nbformat_minor": 5
}
