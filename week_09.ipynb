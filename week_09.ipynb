{
 "cells": [
  {
   "cell_type": "markdown",
   "id": "7f6a5744-cb11-4551-9406-affb381497f4",
   "metadata": {},
   "source": [
    "# 9주차 | 고급파이썬프로그래밍 | 2022.05.06(금)"
   ]
  },
  {
   "cell_type": "markdown",
   "id": "5a62362a-dae0-419e-9370-1acbb7f805ae",
   "metadata": {},
   "source": [
    "## Intro.\n",
    "### About Quiz\n",
    "- Quiz-Review 하는 사람들은 프로젝트는 참여는 하되 발표는 안 시킬 예정. \n",
    "- 코드 리뷰 잘 못하면 개인 점수만 깎인다.\n",
    "- Task 2(회문 찾기) : 보통 %, !를 제거하고 남은 단어들에 대해 같은 코드를 적용하는 게 나았다.\n",
    "- 조건들을 잘 확인해서 코드를 짜기\n",
    "- 전역변수를 만들 때만 대문자로 씀. pylint 점수에 너무 기대지 않아도 되니까 줏대있게 코드 짜기.\n",
    "- 프로그램을 만드는 게 과제이면 함수를 만들어야 함."
   ]
  },
  {
   "cell_type": "code",
   "execution_count": 1,
   "id": "8a90b4d9-6fa3-4d88-9384-7c43a20fcfee",
   "metadata": {},
   "outputs": [],
   "source": [
    "from collections import defaultdict"
   ]
  },
  {
   "cell_type": "markdown",
   "id": "5b720438-a0d3-4b90-9199-e32f2642d5e6",
   "metadata": {},
   "source": [
    "### defaultdict\n",
    "- 값이 없으면 0으로 설정될 수 있게 해주는 딕셔너리\n",
    "- defaultdict(list) # default값 = []"
   ]
  },
  {
   "cell_type": "code",
   "execution_count": 2,
   "id": "92883534-37de-4974-a3d4-f60eb3afa54e",
   "metadata": {},
   "outputs": [],
   "source": [
    "letter = 'defaultdict'\n",
    "empty = {} # a : [a, a]\n",
    "for ch in letter:\n",
    "    # if empty[ch] = 0\n",
    "    # else 값을 넣어라\n",
    "    empty.setdefault(ch, 0) # a가 없으면 기본값으로 0을 넣어라\n",
    "    empty[ch] += 1"
   ]
  },
  {
   "cell_type": "code",
   "execution_count": 3,
   "id": "7cb420b3-ee7c-465c-95ba-cb1f606b012e",
   "metadata": {},
   "outputs": [
    {
     "data": {
      "text/plain": [
       "{'d': 2, 'e': 1, 'f': 1, 'a': 1, 'u': 1, 'l': 1, 't': 2, 'i': 1, 'c': 1}"
      ]
     },
     "execution_count": 3,
     "metadata": {},
     "output_type": "execute_result"
    }
   ],
   "source": [
    "empty"
   ]
  },
  {
   "cell_type": "code",
   "execution_count": 4,
   "id": "c1a8adea-5a9b-4b66-91c4-b9edfac057ae",
   "metadata": {},
   "outputs": [],
   "source": [
    "empty2 = defaultdict(int)\n",
    "for ch in letter:\n",
    "    empty2[ch] += 1"
   ]
  },
  {
   "cell_type": "code",
   "execution_count": 5,
   "id": "b7eb0552-2931-4ec1-b169-82711d7b0783",
   "metadata": {},
   "outputs": [
    {
     "data": {
      "text/plain": [
       "defaultdict(int,\n",
       "            {'d': 2,\n",
       "             'e': 1,\n",
       "             'f': 1,\n",
       "             'a': 1,\n",
       "             'u': 1,\n",
       "             'l': 1,\n",
       "             't': 2,\n",
       "             'i': 1,\n",
       "             'c': 1})"
      ]
     },
     "execution_count": 5,
     "metadata": {},
     "output_type": "execute_result"
    }
   ],
   "source": [
    "empty2"
   ]
  },
  {
   "cell_type": "markdown",
   "id": "3130d448-5f7e-4831-9f8f-fa27b6eee734",
   "metadata": {},
   "source": [
    "<hr>"
   ]
  },
  {
   "cell_type": "markdown",
   "id": "28ade18b-a103-455f-b9d3-1ee61d24cc71",
   "metadata": {},
   "source": [
    "## 수업"
   ]
  },
  {
   "cell_type": "markdown",
   "id": "da34b12a-8ea2-4d6d-a4c7-60cbe054c261",
   "metadata": {},
   "source": [
    "### Object & Class\n",
    "- 객체? 실제적인 물건, 개념\n",
    "- 속성, 행동을 가지는 개념\n",
    "- 자동차\n",
    "    - 속성: 엔진, 브랜드, 가격, 색상, 이름, .. => 변수\n",
    "    - 행동: 나가다, 정지하다, 좌회전, 우회전   => 메서드 (함수)\n",
    "- 고양이\n",
    "    - 속성: 종, 이름, 컬러, 몸무게, 성별, ..\n",
    "    - 행동: 짖다, 뛰다, 걷다, 째려보다, ...\n",
    "- 사전\n",
    "    - 글자 수, 시작 글자, 출현 빈도수, ..\n",
    "    - 행동: 추가하다, 제외하다, ..\n",
    "- 관련 짓는 방법        회원등록, 팔다, 수익계산\n",
    "    - 사람 / 이름, 돈 / 사다\n",
    "    - 상점 / 재고, 이익, 고객명단 / 회원등록, 팔다, 수익계산\n",
    "    - 물건 / 브랜드, 이름, 가격\n",
    "- 객체 사용하는 이유: 코드 재사용 수월"
   ]
  },
  {
   "cell_type": "markdown",
   "id": "27d60f73-b9a8-406b-89e4-25d4ad2ffe8e",
   "metadata": {},
   "source": [
    "### Class\n",
    "- 객체가 가져야 할 기본 정보를 담은 코드\n",
    "- 설계도, 틀, 프레임워크\n",
    "- 붕어빵의 틀\n",
    "- 붕어빵 == 인스턴스\n",
    "- class Car: \n",
    "    - 클래스명은 카멜표기법을 쓴다. (ex. NiceCar)"
   ]
  },
  {
   "cell_type": "code",
   "execution_count": 9,
   "id": "e5b2143d-d8e7-449d-bf70-dbb0d81b7d76",
   "metadata": {},
   "outputs": [
    {
     "data": {
      "text/plain": [
       "<__main__.Car at 0x2308ab1d430>"
      ]
     },
     "execution_count": 9,
     "metadata": {},
     "output_type": "execute_result"
    }
   ],
   "source": [
    "# 정의\n",
    "class Car:\n",
    "    pass\n",
    "\n",
    "# 선언 (괄호 꼭 쓸 것)\n",
    "car1 = Car()\n",
    "car1"
   ]
  },
  {
   "cell_type": "code",
   "execution_count": 10,
   "id": "aae3dbd7-beab-453e-a38e-5240ea841cfa",
   "metadata": {},
   "outputs": [
    {
     "data": {
      "text/plain": [
       "<__main__.Car at 0x2308ab1d670>"
      ]
     },
     "execution_count": 10,
     "metadata": {},
     "output_type": "execute_result"
    }
   ],
   "source": [
    "car2 = Car()\n",
    "car2"
   ]
  },
  {
   "cell_type": "code",
   "execution_count": 11,
   "id": "0a811b12-38ea-493b-9324-f2b6a0f41b73",
   "metadata": {},
   "outputs": [
    {
     "data": {
      "text/plain": [
       "__main__.Car"
      ]
     },
     "execution_count": 11,
     "metadata": {},
     "output_type": "execute_result"
    }
   ],
   "source": [
    "type(car2) # nltk.book type == Text"
   ]
  },
  {
   "cell_type": "code",
   "execution_count": 12,
   "id": "244abd54-b800-4d43-bf62-399d366fbcde",
   "metadata": {},
   "outputs": [],
   "source": [
    "car1.brand = 'mercedes'\n",
    "car2.brand = 'kia'"
   ]
  },
  {
   "cell_type": "code",
   "execution_count": 13,
   "id": "36f15689-d44a-4ecf-b19a-9a6c3eb2be3e",
   "metadata": {},
   "outputs": [
    {
     "name": "stdout",
     "output_type": "stream",
     "text": [
      "mercedes\n",
      "kia\n"
     ]
    }
   ],
   "source": [
    "for car in [car1, car2]:\n",
    "    print(car.brand)"
   ]
  },
  {
   "cell_type": "code",
   "execution_count": 14,
   "id": "b5add601-1603-4911-83f6-c7c57e71d78d",
   "metadata": {},
   "outputs": [],
   "source": [
    "class Car:\n",
    "    brand = 'mercedes'\n",
    "    \n",
    "car3 = Car()"
   ]
  },
  {
   "cell_type": "code",
   "execution_count": 15,
   "id": "c049b5bc-1ab7-428f-a8ad-c1db26404eb8",
   "metadata": {},
   "outputs": [
    {
     "data": {
      "text/plain": [
       "'mercedes'"
      ]
     },
     "execution_count": 15,
     "metadata": {},
     "output_type": "execute_result"
    }
   ],
   "source": [
    "car3.brand"
   ]
  },
  {
   "cell_type": "code",
   "execution_count": 18,
   "id": "cf2a7896-de07-44fc-b26e-a9f2ddfb392d",
   "metadata": {},
   "outputs": [],
   "source": [
    "# 다양한 속성을 원한다.\n",
    "class Car:\n",
    "    def __init__(self, brand): # 속성을 초기화하는 함수 (self == my_car)\n",
    "        self.brand = brand # self == instance"
   ]
  },
  {
   "cell_type": "code",
   "execution_count": 20,
   "id": "2edd1b84-8a56-43c3-a0af-f1ba085486fa",
   "metadata": {},
   "outputs": [
    {
     "data": {
      "text/plain": [
       "'toyota'"
      ]
     },
     "execution_count": 20,
     "metadata": {},
     "output_type": "execute_result"
    }
   ],
   "source": [
    "my_car = Car(brand = \"toyota\")\n",
    "my_car.brand"
   ]
  },
  {
   "cell_type": "code",
   "execution_count": 13,
   "id": "2ab78b60-55cd-42c5-9edc-4914919b55ef",
   "metadata": {},
   "outputs": [
    {
     "name": "stdout",
     "output_type": "stream",
     "text": [
      "내 차 kia이 움직인다.\n",
      "None\n",
      "orange\n"
     ]
    }
   ],
   "source": [
    "# color, model 속성 초기화하기\n",
    "class Car:\n",
    "    def __init__(self, brand, model=None, color=\"orange\"):\n",
    "        self.brand = brand\n",
    "        # self.brand = 어떤 객체가 만들어지더라도 가져갈 브랜드명\n",
    "        # brand = 객체 생성 시 설정되는 브랜드명 (처음에 들어오는 값)\n",
    "        self.model = model\n",
    "        self.color = color\n",
    "        \n",
    "        \n",
    "    # action 정의하기\n",
    "    def drive(self):\n",
    "        # 내 차 (브랜드 = {})이 움직인다.\n",
    "        print(f'내 차 {self.brand}이 움직인다.')\n",
    "    \n",
    "    def stop(self):\n",
    "        print('차가 멈춘다.')\n",
    "        \n",
    "    def change_color(self, color):\n",
    "        # self.color -> 'pink'로 바꾼다.\n",
    "        # self.color = 'pink'\n",
    "        # 내가 원하는 컬러로 바꾸기\n",
    "        self.color = color\n",
    "        \n",
    "my_morning = Car('kia', 'morning')\n",
    "print(my_morning.drive())\n",
    "# my_morning.change_color('yellow')\n",
    "print(my_morning.color)"
   ]
  },
  {
   "cell_type": "code",
   "execution_count": 12,
   "id": "17bde571-4e8a-43c9-8254-d6e73169959c",
   "metadata": {},
   "outputs": [
    {
     "data": {
      "text/plain": [
       "'white'"
      ]
     },
     "execution_count": 12,
     "metadata": {},
     "output_type": "execute_result"
    }
   ],
   "source": [
    "my_morning.color = 'white' # 이 객체에 대해서만 속성 바꾸기\n",
    "my_morning.color"
   ]
  },
  {
   "cell_type": "code",
   "execution_count": 7,
   "id": "2924d406-88c3-4322-806f-834aa796954d",
   "metadata": {},
   "outputs": [
    {
     "data": {
      "text/plain": [
       "'yellow'"
      ]
     },
     "execution_count": 7,
     "metadata": {},
     "output_type": "execute_result"
    }
   ],
   "source": [
    "my_sorento = Car('kia', 'yellow', 'sorento')\n",
    "my_sorento.color"
   ]
  },
  {
   "cell_type": "code",
   "execution_count": 16,
   "id": "1e8bd57d-f4e9-47e6-939c-22c8c579a0f4",
   "metadata": {},
   "outputs": [
    {
     "name": "stdout",
     "output_type": "stream",
     "text": [
      "내 차 morning이 움직인다.\n"
     ]
    }
   ],
   "source": [
    "my_morning.drive()"
   ]
  },
  {
   "cell_type": "code",
   "execution_count": 11,
   "id": "52f439f0-2ce1-45a3-a66a-604f08264504",
   "metadata": {},
   "outputs": [
    {
     "name": "stdout",
     "output_type": "stream",
     "text": [
      "차가 멈춘다.\n"
     ]
    }
   ],
   "source": [
    "my_morning.stop()"
   ]
  },
  {
   "cell_type": "code",
   "execution_count": 4,
   "id": "14a266e0-5d2a-4334-8b2c-625a5430c30d",
   "metadata": {},
   "outputs": [
    {
     "data": {
      "text/plain": [
       "'pink'"
      ]
     },
     "execution_count": 4,
     "metadata": {},
     "output_type": "execute_result"
    }
   ],
   "source": [
    "my_morning.change_color()\n",
    "my_morning.color"
   ]
  },
  {
   "cell_type": "markdown",
   "id": "28eacb6f-d7af-492e-9842-aed654367cfc",
   "metadata": {},
   "source": [
    "### getter, setter1\n",
    "- 캡슐화, 정보 은닉\n",
    "- 클래스 외부에서 변수 접근을 용이하지 못하게 하는 것\n",
    "- public -> private (JAVA의 경우)"
   ]
  },
  {
   "cell_type": "code",
   "execution_count": 14,
   "id": "3d62ec2d-b7e4-43fa-9eb5-58fd7ed2c5f8",
   "metadata": {},
   "outputs": [],
   "source": [
    "# 1. 틀에서 변수를 바꾸는 것\n",
    "# 2. 인스턴스에서 변수를 바꾸는 것"
   ]
  },
  {
   "cell_type": "code",
   "execution_count": 15,
   "id": "2d541811-3271-4499-8e4a-0dd542423be0",
   "metadata": {},
   "outputs": [],
   "source": [
    "class Fruit:\n",
    "    color = 'red'"
   ]
  },
  {
   "cell_type": "code",
   "execution_count": 16,
   "id": "f63cd9d5-42ae-41c9-b40f-12890fa4a517",
   "metadata": {},
   "outputs": [
    {
     "data": {
      "text/plain": [
       "'red'"
      ]
     },
     "execution_count": 16,
     "metadata": {},
     "output_type": "execute_result"
    }
   ],
   "source": [
    "apple = Fruit()\n",
    "apple.color"
   ]
  },
  {
   "cell_type": "code",
   "execution_count": 17,
   "id": "4c8fd6ec-e5cc-420f-8728-de1a257b1570",
   "metadata": {},
   "outputs": [],
   "source": [
    "Fruit.color = 'purple' # 그 다음 객체들의 컬러는 다 보라색이 된다. > 코드 작성 시 오류 가능성 있음."
   ]
  },
  {
   "cell_type": "code",
   "execution_count": 18,
   "id": "81892395-7957-419f-bc59-194e139ab426",
   "metadata": {},
   "outputs": [
    {
     "data": {
      "text/plain": [
       "'purple'"
      ]
     },
     "execution_count": 18,
     "metadata": {},
     "output_type": "execute_result"
    }
   ],
   "source": [
    "orange = Fruit()\n",
    "orange.color"
   ]
  },
  {
   "cell_type": "code",
   "execution_count": 23,
   "id": "f3fed02b-e88a-4812-bffa-2692708a8745",
   "metadata": {},
   "outputs": [],
   "source": [
    "class Car:\n",
    "    def __init__(self, input_brand):\n",
    "        self.brand = input_brand\n",
    "        \n",
    "    def get_brand(self):\n",
    "        # 원래 변수명에 접근하도록\n",
    "        print(\"from the getter\")\n",
    "        return self.brand\n",
    "    \n",
    "    def set_brand(self, input_brand):\n",
    "        # 변수명을 바꾸는 작업\n",
    "        print(\"from the setter\")\n",
    "        self.brand = input_brand"
   ]
  },
  {
   "cell_type": "code",
   "execution_count": 24,
   "id": "32e17db4-0f1b-414c-a5d3-37146f0f1907",
   "metadata": {},
   "outputs": [
    {
     "data": {
      "text/plain": [
       "'toyota'"
      ]
     },
     "execution_count": 24,
     "metadata": {},
     "output_type": "execute_result"
    }
   ],
   "source": [
    "ex = Car('toyota')\n",
    "ex.brand"
   ]
  },
  {
   "cell_type": "code",
   "execution_count": 25,
   "id": "2ce4dfc7-bd98-4c42-a403-7b1c9c556fb4",
   "metadata": {},
   "outputs": [
    {
     "name": "stdout",
     "output_type": "stream",
     "text": [
      "from the getter\n"
     ]
    },
    {
     "data": {
      "text/plain": [
       "'toyota'"
      ]
     },
     "execution_count": 25,
     "metadata": {},
     "output_type": "execute_result"
    }
   ],
   "source": [
    "ex.get_brand()"
   ]
  },
  {
   "cell_type": "code",
   "execution_count": 26,
   "id": "87f481ed-2cbb-4f15-97af-e90ca665ccd1",
   "metadata": {},
   "outputs": [
    {
     "name": "stdout",
     "output_type": "stream",
     "text": [
      "from the setter\n"
     ]
    }
   ],
   "source": [
    "ex.set_brand('mazuda')"
   ]
  },
  {
   "cell_type": "code",
   "execution_count": 27,
   "id": "8bd9d729-f5b5-4e2c-a22c-7ede6248dd1f",
   "metadata": {},
   "outputs": [
    {
     "data": {
      "text/plain": [
       "'mazuda'"
      ]
     },
     "execution_count": 27,
     "metadata": {},
     "output_type": "execute_result"
    }
   ],
   "source": [
    "ex.brand"
   ]
  },
  {
   "cell_type": "code",
   "execution_count": 29,
   "id": "13836814-8f7b-4501-9f64-d3d989021181",
   "metadata": {},
   "outputs": [],
   "source": [
    "Car.brand = 'bmw'"
   ]
  },
  {
   "cell_type": "code",
   "execution_count": 30,
   "id": "4442a104-6e9b-42f4-9bf3-220c283eb154",
   "metadata": {},
   "outputs": [
    {
     "data": {
      "text/plain": [
       "'toyota'"
      ]
     },
     "execution_count": 30,
     "metadata": {},
     "output_type": "execute_result"
    }
   ],
   "source": [
    "a = Car('toyota')\n",
    "a.brand"
   ]
  },
  {
   "cell_type": "code",
   "execution_count": 32,
   "id": "9253fc86-d041-4248-b5bd-4d26a3625d8f",
   "metadata": {},
   "outputs": [
    {
     "name": "stdout",
     "output_type": "stream",
     "text": [
      "from the getter\n"
     ]
    },
    {
     "data": {
      "text/plain": [
       "'toyota'"
      ]
     },
     "execution_count": 32,
     "metadata": {},
     "output_type": "execute_result"
    }
   ],
   "source": [
    "a.get_brand()"
   ]
  },
  {
   "cell_type": "code",
   "execution_count": 33,
   "id": "ae62c67a-8fc7-487c-955c-04d71f048754",
   "metadata": {},
   "outputs": [],
   "source": [
    "# 변수명을 알고 있으면 변경이 가능하기는 하지만 외부에서 바꾸기 어렵게 교묘하게 바꾸는 것임."
   ]
  },
  {
   "cell_type": "markdown",
   "id": "e7cad936-107b-4236-921d-a7d8923a39f0",
   "metadata": {},
   "source": [
    "## 2."
   ]
  },
  {
   "cell_type": "code",
   "execution_count": 35,
   "id": "7f459a0b-d943-4253-9596-165027bd764f",
   "metadata": {},
   "outputs": [
    {
     "data": {
      "text/plain": [
       "'kia'"
      ]
     },
     "execution_count": 35,
     "metadata": {},
     "output_type": "execute_result"
    }
   ],
   "source": [
    "class Car:\n",
    "    def __init__(self, input_brand):\n",
    "        self.hidden_brand = input_brand\n",
    "        \n",
    "    def get_brand(self):\n",
    "        return self.hidden_brand\n",
    "    \n",
    "    def set_brand(self, input_brand):\n",
    "        self.hidden_brand = input_brand\n",
    "    \n",
    "    # 내가 사용할 변수명\n",
    "    brand = property(get_brand, set_brand)\n",
    "    \n",
    "c = Car('kia')\n",
    "c.brand"
   ]
  },
  {
   "cell_type": "code",
   "execution_count": 36,
   "id": "d7df65ef-5612-47db-98a5-e8a844c4b3f3",
   "metadata": {},
   "outputs": [],
   "source": [
    "c.brand = 'hyundai'"
   ]
  },
  {
   "cell_type": "code",
   "execution_count": 37,
   "id": "9b31cffc-3bf8-4b67-bdd3-8fa7b8f180fd",
   "metadata": {},
   "outputs": [],
   "source": [
    "Car.hidden_brand = 'toyota' # hidden_brand로 접근해야먄 접근이 된다고 하고 싶었는데, 그냥 brand도 접근이 되기는 한다;;\n",
    "# 하지만 은닉 방법 중 하나다. 이 부분 그냥 잊어버리기. 표출화 어떻게 하는지만 가져가자."
   ]
  },
  {
   "cell_type": "code",
   "execution_count": 38,
   "id": "0d4977bf-86b9-453b-94c1-7f0ef097c977",
   "metadata": {},
   "outputs": [],
   "source": [
    "d = Car('')"
   ]
  },
  {
   "cell_type": "markdown",
   "id": "0d5dbfad-b0ab-4088-aea7-085f445c35dd",
   "metadata": {},
   "source": [
    "## 3."
   ]
  },
  {
   "cell_type": "code",
   "execution_count": 40,
   "id": "eac50151-766e-47dd-9256-3eb7f026b808",
   "metadata": {},
   "outputs": [
    {
     "data": {
      "text/plain": [
       "'aa'"
      ]
     },
     "execution_count": 40,
     "metadata": {},
     "output_type": "execute_result"
    }
   ],
   "source": [
    "# decorator : @... / 가장 파이써닉한 모습\n",
    "class Car:\n",
    "    def __init__(self, input_brand):\n",
    "        self.hidden_brand = input_brand\n",
    "        \n",
    "    @property    \n",
    "    def brand(self):\n",
    "        return self.hidden_brand\n",
    "    \n",
    "    @brand.setter\n",
    "    def brand(self, input_brand):\n",
    "        self.hidden_brand = input_brand\n",
    "        \n",
    "c = Car('aa')\n",
    "c.brand"
   ]
  },
  {
   "cell_type": "markdown",
   "id": "c008ecd7-e5ec-4b9b-a705-3351e1251f8e",
   "metadata": {},
   "source": [
    "## 4. "
   ]
  },
  {
   "cell_type": "code",
   "execution_count": 41,
   "id": "5c1bdf45-33ab-477e-8480-d02a014815eb",
   "metadata": {},
   "outputs": [
    {
     "ename": "AttributeError",
     "evalue": "'Car' object has no attribute '__brand'",
     "output_type": "error",
     "traceback": [
      "\u001b[1;31m---------------------------------------------------------------------------\u001b[0m",
      "\u001b[1;31mAttributeError\u001b[0m                            Traceback (most recent call last)",
      "\u001b[1;32m~\\AppData\\Local\\Temp/ipykernel_29068/862153140.py\u001b[0m in \u001b[0;36m<module>\u001b[1;34m\u001b[0m\n\u001b[0;32m     12\u001b[0m \u001b[1;33m\u001b[0m\u001b[0m\n\u001b[0;32m     13\u001b[0m \u001b[0mc\u001b[0m \u001b[1;33m=\u001b[0m \u001b[0mCar\u001b[0m\u001b[1;33m(\u001b[0m\u001b[1;34m'bb'\u001b[0m\u001b[1;33m)\u001b[0m\u001b[1;33m\u001b[0m\u001b[1;33m\u001b[0m\u001b[0m\n\u001b[1;32m---> 14\u001b[1;33m \u001b[0mc\u001b[0m\u001b[1;33m.\u001b[0m\u001b[0m__brand\u001b[0m\u001b[1;33m\u001b[0m\u001b[1;33m\u001b[0m\u001b[0m\n\u001b[0m",
      "\u001b[1;31mAttributeError\u001b[0m: 'Car' object has no attribute '__brand'"
     ]
    }
   ],
   "source": [
    "class Car:\n",
    "    def __init__(self, input_brand):\n",
    "        self.__brand = input_brand\n",
    "        \n",
    "    @property    \n",
    "    def brand(self):\n",
    "        return self.__brand\n",
    "    \n",
    "    @brand.setter\n",
    "    def brand(self, input_brand):\n",
    "        self.__brand = input_brand\n",
    "        \n",
    "c = Car('bb')\n",
    "c.__brand # 아까는 계속 떴었는데 얘는 안 뜸.\n",
    "#마지막 것만 잘 가져가시면 되겠죠?"
   ]
  },
  {
   "cell_type": "code",
   "execution_count": 42,
   "id": "44caac9d-623d-4c23-a193-892b995cc6ed",
   "metadata": {},
   "outputs": [
    {
     "data": {
      "text/plain": [
       "'bb'"
      ]
     },
     "execution_count": 42,
     "metadata": {},
     "output_type": "execute_result"
    }
   ],
   "source": [
    "c.brand # 이렇게 해야 나온다."
   ]
  },
  {
   "cell_type": "code",
   "execution_count": 46,
   "id": "27b62364-0bb7-474d-9624-68c37a138dbc",
   "metadata": {},
   "outputs": [
    {
     "data": {
      "text/plain": [
       "14"
      ]
     },
     "execution_count": 46,
     "metadata": {},
     "output_type": "execute_result"
    }
   ],
   "source": [
    "class Circle:\n",
    "    def __init__(self, radius):\n",
    "        self.radius = radius\n",
    "    \n",
    "    @property\n",
    "    def diameter(self):\n",
    "        return self.radius * 2\n",
    "\n",
    "c = Circle(7)\n",
    "c.diameter"
   ]
  },
  {
   "cell_type": "markdown",
   "id": "b84e2cc5-b56d-48af-a4e1-ea5c71b0279e",
   "metadata": {},
   "source": [
    "### 실습\n",
    "- 객체: \n",
    "1) 메모장 (노트) / 변수: 제목, 페이지번호, 메모 / 추가, 삭제, 페이지 번호\n",
    "2) 메모 / 변수: 글귀 / 쓰기 지우기\n",
    "\n",
    "- getter, setter 메모장 제목에 설정하기\n",
    "- '메모' 객체에 글귀를 추가한다.\n",
    "- '메모장' 객체에 메모 추가\n",
    "- 페이지 번호가 늘어난다.\n",
    "- 메모를 삭제하면 페이지 번호가 줄어들고\n",
    "- 페이지가 300을 넘으면 메모 추가 못하게 막기.\n",
    "- 페이지 번호로 메모 찾기"
   ]
  },
  {
   "cell_type": "code",
   "execution_count": 64,
   "id": "0426a352-29fc-40b1-ae77-67a707071080",
   "metadata": {},
   "outputs": [],
   "source": [
    "class NoteBook():\n",
    "    def __init__(self, title, page, memo):\n",
    "        self.title = title\n",
    "        self.page = page\n",
    "        self.memo = Notebook(memo)\n",
    "        # 힌트는 memo를 잘 가져와야 한다. 메모 *** == Note(예)\n",
    "        \n",
    "    def add_note():\n",
    "        pass\n",
    "    \n",
    "    def remove_note():\n",
    "        pass\n",
    "    \n",
    "    def get_page_num():\n",
    "        pass\n",
    "        \n",
    "class Note():\n",
    "    def __init__(self, phrase):\n",
    "        self.phrase = phrase\n",
    "        \n",
    "    def write():\n",
    "        pass\n",
    "        \n",
    "    def erase():\n",
    "        pass"
   ]
  },
  {
   "cell_type": "code",
   "execution_count": null,
   "id": "3b6df974-cf3f-4ef4-b1e9-64a79639979f",
   "metadata": {},
   "outputs": [],
   "source": [
    "#\n",
    "memo1 = '꿈을 이루고자 하는 용기만 있다면 모든 꿈을 이룰 수 있다.'\n",
    "memo2 = '웃음이 없는 하루는 버린 하루다.'\n",
    "memo3 = '승리는 가장 끈기 있는 사람에게 돌아간다.'\n",
    "\n",
    "note = Note()\n",
    "\n",
    "# 메모 쓰기\n",
    "note.write(memo1)\n",
    "note.write(memo2)\n",
    "note.write(memo3)\n",
    "\n",
    "# 메모장 만들기\n",
    "my_book= Notebook()\n",
    "\n",
    "# 메모장에 메모 추가하기\n",
    "my_book.add_note(note1)\n",
    "my_book.add_note(note2)\n",
    "my_book.add_note(note3)\n",
    "\n",
    "# 페이지 번호 확인하기\n",
    "my_book.get_page_num()"
   ]
  },
  {
   "cell_type": "markdown",
   "id": "9b733ba5-39ae-4e7c-a0a0-5368917a7ba3",
   "metadata": {},
   "source": [
    "<hr>"
   ]
  },
  {
   "cell_type": "markdown",
   "id": "8f795c4c-f9d4-4807-b3a5-fa5e9a6d66a4",
   "metadata": {},
   "source": [
    "## TextBook (Page 244~259 - Getter/Setter 메서드까지)"
   ]
  },
  {
   "cell_type": "code",
   "execution_count": 6,
   "id": "83d37d7e-8b13-4c3c-b4b3-9ba2952beb2a",
   "metadata": {},
   "outputs": [],
   "source": [
    "# 10.2.1 클래스 선언하기: class\n",
    "class Cat():\n",
    "    pass"
   ]
  },
  {
   "cell_type": "code",
   "execution_count": 8,
   "id": "4f589a52-90f2-4284-af6a-d63c30e871f9",
   "metadata": {},
   "outputs": [
    {
     "name": "stdout",
     "output_type": "stream",
     "text": [
      "<__main__.Cat object at 0x0000021FA8773730>\n",
      "<__main__.Cat object at 0x0000021FA8773580>\n"
     ]
    }
   ],
   "source": [
    "# 10.2.2 속성\n",
    "class Cat:\n",
    "    pass\n",
    "\n",
    "a_cat = Cat()\n",
    "another_cat = Cat()\n",
    "print(a_cat)\n",
    "print(another_cat)"
   ]
  },
  {
   "cell_type": "code",
   "execution_count": 9,
   "id": "eb31cb85-a00a-44ee-b2c8-1deea6a25a35",
   "metadata": {},
   "outputs": [
    {
     "name": "stdout",
     "output_type": "stream",
     "text": [
      "3\n",
      "Mr. Fuzzybuttons\n",
      "<__main__.Cat object at 0x0000021FA8773580>\n"
     ]
    }
   ],
   "source": [
    "a_cat.age = 3\n",
    "a_cat.name = \"Mr. Fuzzybuttons\"\n",
    "a_cat.nemesis = another_cat\n",
    "\n",
    "print(a_cat.age)\n",
    "print(a_cat.name)\n",
    "print(a_cat.nemesis)"
   ]
  },
  {
   "cell_type": "code",
   "execution_count": 10,
   "id": "31250fc2-2cd3-4ad7-9244-60a467a19132",
   "metadata": {},
   "outputs": [
    {
     "data": {
      "text/plain": [
       "'Mr. Bigglesworth'"
      ]
     },
     "execution_count": 10,
     "metadata": {},
     "output_type": "execute_result"
    }
   ],
   "source": [
    "a_cat.nemesis.name = \"Mr. Bigglesworth\"\n",
    "a_cat.nemesis.name"
   ]
  },
  {
   "cell_type": "code",
   "execution_count": 14,
   "id": "83355d1c-8c59-4884-88c8-62c149d2f774",
   "metadata": {},
   "outputs": [
    {
     "name": "stdout",
     "output_type": "stream",
     "text": [
      "Our latest addition:  Grumpy\n"
     ]
    }
   ],
   "source": [
    "# 10.2.4 초기화\n",
    "class Cat:\n",
    "    def __init__(self, name):\n",
    "        self.name = name\n",
    "\n",
    "furball = Cat('Grumpy')\n",
    "print('Our latest addition: ', furball.name)"
   ]
  },
  {
   "cell_type": "code",
   "execution_count": 23,
   "id": "24d4102c-48ac-48b9-b5ab-8b28fa311455",
   "metadata": {},
   "outputs": [
    {
     "data": {
      "text/plain": [
       "True"
      ]
     },
     "execution_count": 23,
     "metadata": {},
     "output_type": "execute_result"
    }
   ],
   "source": [
    "# 10.3.1 부모 클래스 상속받기\n",
    "class Car():\n",
    "    pass\n",
    "\n",
    "class Yugo(Car):\n",
    "    pass\n",
    "\n",
    "issubclass(Yugo, Car)"
   ]
  },
  {
   "cell_type": "code",
   "execution_count": 24,
   "id": "4ecdd409-e57d-4afa-9de9-d1143f97f5dc",
   "metadata": {},
   "outputs": [],
   "source": [
    "class Car():\n",
    "    def exclaim(self):\n",
    "        print(\"I'm a Car!\")\n",
    "        \n",
    "class Yugo(Car):\n",
    "    pass"
   ]
  },
  {
   "cell_type": "code",
   "execution_count": 26,
   "id": "0cae6e22-9d2c-493a-9044-4f8113e66e92",
   "metadata": {},
   "outputs": [
    {
     "name": "stdout",
     "output_type": "stream",
     "text": [
      "I'm a Car!\n",
      "I'm a Car!\n"
     ]
    }
   ],
   "source": [
    "give_me_a_car = Car()\n",
    "give_me_a_yugo = Yugo()\n",
    "give_me_a_car.exclaim()\n",
    "give_me_a_yugo.exclaim()"
   ]
  },
  {
   "cell_type": "code",
   "execution_count": 27,
   "id": "876a727c-392c-4f36-988a-8ec950230aa9",
   "metadata": {},
   "outputs": [
    {
     "name": "stdout",
     "output_type": "stream",
     "text": [
      "I'm a Car!\n",
      "I'm a Yugo! Much like a Car, but more Yugo-ish.\n"
     ]
    }
   ],
   "source": [
    "# 10.3.2 메서드 오버라이드\n",
    "class Car():\n",
    "    def exclaim(self):\n",
    "        print(\"I'm a Car!\")\n",
    "        \n",
    "class Yugo(Car):\n",
    "    def exclaim(self):\n",
    "        print(\"I'm a Yugo! Much like a Car, but more Yugo-ish.\")\n",
    "        \n",
    "give_me_a_car = Car()\n",
    "give_me_a_yugo = Yugo()\n",
    "\n",
    "give_me_a_car.exclaim()\n",
    "give_me_a_yugo.exclaim()"
   ]
  },
  {
   "cell_type": "code",
   "execution_count": 29,
   "id": "fcf3ef80-2ab2-4490-8a65-bafcf28896e6",
   "metadata": {},
   "outputs": [
    {
     "name": "stdout",
     "output_type": "stream",
     "text": [
      "Fudd\n",
      "Doctor Fudd\n",
      "Fudd, Esquire\n"
     ]
    }
   ],
   "source": [
    "class Person():\n",
    "    def __init__(self, name):\n",
    "        self.name = name\n",
    "        \n",
    "class MDPerson(Person):\n",
    "    def __init__(self, name):\n",
    "        self.name = \"Doctor \" + name\n",
    "        \n",
    "class JDPerson(Person):\n",
    "    def __init__(self, name):\n",
    "        self.name = name + \", Esquire\"\n",
    "        \n",
    "person = Person('Fudd')\n",
    "doctor = MDPerson('Fudd')\n",
    "lawyer = JDPerson('Fudd')\n",
    "print(person.name)\n",
    "print(doctor.name)\n",
    "print(lawyer.name)"
   ]
  },
  {
   "cell_type": "code",
   "execution_count": 30,
   "id": "1590951c-151c-482d-b6f5-e8861758624a",
   "metadata": {},
   "outputs": [
    {
     "name": "stdout",
     "output_type": "stream",
     "text": [
      "A little help here?\n"
     ]
    }
   ],
   "source": [
    "# 10.3.3 메서드 추가하기\n",
    "class Car():\n",
    "    def exclaim(self):\n",
    "        print(\"I'm a Car!\")\n",
    "        \n",
    "class Yugo(Car):\n",
    "    def exclaim(self):\n",
    "        print(\"I'm a Yugo! Much like a Car, but more Yugo-ish.\")\n",
    "    def need_a_push(self):\n",
    "        print(\"A little help here?\")\n",
    "        \n",
    "give_me_a_car = Car()\n",
    "give_me_a_yugo = Yugo()\n",
    "give_me_a_yugo.need_a_push()"
   ]
  },
  {
   "cell_type": "code",
   "execution_count": 32,
   "id": "a6b2edb8-658c-4fbe-bc82-a1f260facc7f",
   "metadata": {},
   "outputs": [
    {
     "name": "stdout",
     "output_type": "stream",
     "text": [
      "Bob Frapples\n",
      "bob@frapples.com\n"
     ]
    }
   ],
   "source": [
    "# 10.3.4 부모에게 도움받기: super()\n",
    "class Person():\n",
    "    def __init__(self, name):\n",
    "        self.name = name\n",
    "        \n",
    "class EmailPerson(Person):\n",
    "    def __init__(self, name, email):\n",
    "        super().__init__(name)\n",
    "        self.email = email\n",
    "        \n",
    "bob = EmailPerson('Bob Frapples', 'bob@frapples.com')\n",
    "print(bob.name)\n",
    "print(bob.email)"
   ]
  },
  {
   "cell_type": "code",
   "execution_count": 35,
   "id": "3b636c0f-39d2-4311-8dbb-497f6befa6dd",
   "metadata": {},
   "outputs": [
    {
     "name": "stdout",
     "output_type": "stream",
     "text": [
      "[<class '__main__.Mule'>, <class '__main__.Donkey'>, <class '__main__.Horse'>, <class '__main__.Animal'>, <class 'object'>]\n",
      "[<class '__main__.Hinny'>, <class '__main__.Horse'>, <class '__main__.Donkey'>, <class '__main__.Animal'>, <class 'object'>]\n"
     ]
    }
   ],
   "source": [
    "# 10.3.5 다중 상속\n",
    "class Animal:\n",
    "    def says(self):\n",
    "        return 'I speak!'\n",
    "    \n",
    "class Horse(Animal):\n",
    "    def says(self):\n",
    "        return 'Neigh!'\n",
    "    \n",
    "class Donkey(Animal):\n",
    "    def says(self):\n",
    "        return 'Hee-haw!'\n",
    "    \n",
    "class Mule(Donkey, Horse):\n",
    "    pass\n",
    "\n",
    "class Hinny(Horse, Donkey):\n",
    "    pass\n",
    "\n",
    "print(Mule.mro())\n",
    "print(Hinny.mro())"
   ]
  },
  {
   "cell_type": "code",
   "execution_count": 39,
   "id": "0551f128-52f4-4a3e-927b-689bfe1c8a2c",
   "metadata": {},
   "outputs": [
    {
     "name": "stdout",
     "output_type": "stream",
     "text": [
      "Hee-haw!\n",
      "Neigh!\n"
     ]
    }
   ],
   "source": [
    "mule = Mule()\n",
    "hinny = Hinny()\n",
    "print(mule.says())\n",
    "print(hinny.says())"
   ]
  },
  {
   "cell_type": "code",
   "execution_count": 42,
   "id": "2ccb10b8-6088-4068-91d1-6d644b2e5071",
   "metadata": {},
   "outputs": [
    {
     "name": "stdout",
     "output_type": "stream",
     "text": [
      "{'age': 'eldritch', 'feature': 'ichor', 'name': 'Nyarlathotep'}\n"
     ]
    }
   ],
   "source": [
    "# 10.3.6 믹스인\n",
    "class PrettyMixin():\n",
    "    def dump(self):\n",
    "        import pprint\n",
    "        pprint.pprint(vars(self))\n",
    "class Thing(PrettyMixin):\n",
    "    pass\n",
    "\n",
    "t = Thing()\n",
    "t.name = \"Nyarlathotep\"\n",
    "t.feature = \"ichor\"\n",
    "t.age = \"eldritch\"\n",
    "t.dump()"
   ]
  },
  {
   "cell_type": "code",
   "execution_count": 43,
   "id": "208bfd24-f6ab-49e0-af03-a6ac75734c3b",
   "metadata": {},
   "outputs": [
    {
     "name": "stdout",
     "output_type": "stream",
     "text": [
      "I'm a Car!\n"
     ]
    }
   ],
   "source": [
    "# 10.4 자신: self\n",
    "a_car = Car()\n",
    "a_car.exclaim()"
   ]
  },
  {
   "cell_type": "code",
   "execution_count": 44,
   "id": "3e2eb86c-d0cf-41b0-b665-78c0fe3a326d",
   "metadata": {},
   "outputs": [
    {
     "name": "stdout",
     "output_type": "stream",
     "text": [
      "I'm a Car!\n"
     ]
    }
   ],
   "source": [
    "Car.exclaim(a_car)"
   ]
  },
  {
   "cell_type": "code",
   "execution_count": 47,
   "id": "74793383-17f4-4d27-b836-9d5addc3387d",
   "metadata": {},
   "outputs": [
    {
     "name": "stdout",
     "output_type": "stream",
     "text": [
      "Daffy\n",
      "Daphne\n"
     ]
    }
   ],
   "source": [
    "# 10.5.1 직접 접근\n",
    "class Duck:\n",
    "    def __init__(self, input_name):\n",
    "        self.name = input_name\n",
    "        \n",
    "fowl = Duck('Daffy')\n",
    "print(fowl.name)\n",
    "fowl.name = \"Daphne\"\n",
    "print(fowl.name)"
   ]
  },
  {
   "cell_type": "code",
   "execution_count": 7,
   "id": "14f278fc-dbc6-4ab2-9c24-a363f7b7c782",
   "metadata": {},
   "outputs": [
    {
     "name": "stdout",
     "output_type": "stream",
     "text": [
      "inside the getter\n",
      "Donald\n",
      "inside the setter\n",
      "inside the getter\n",
      "Donna\n"
     ]
    }
   ],
   "source": [
    "# 10.5.2 Getter/Setter 메서드\n",
    "class Duck():\n",
    "    def __init__(self, input_name):\n",
    "        self.hidden_name = input_name\n",
    "    def get_name(self):\n",
    "        print('inside the getter')\n",
    "        return self.hidden_name\n",
    "    def set_name(self, input_name):\n",
    "        print('inside the setter')\n",
    "        self.hidden_name = input_name"
   ]
  },
  {
   "cell_type": "code",
   "execution_count": 8,
   "id": "8bac5cba-2d55-4f8d-a5bd-0fc602101e41",
   "metadata": {},
   "outputs": [
    {
     "name": "stdout",
     "output_type": "stream",
     "text": [
      "inside the getter\n"
     ]
    },
    {
     "data": {
      "text/plain": [
       "'Donald'"
      ]
     },
     "execution_count": 8,
     "metadata": {},
     "output_type": "execute_result"
    }
   ],
   "source": [
    "don = Duck('Donald')\n",
    "don.get_name()"
   ]
  },
  {
   "cell_type": "code",
   "execution_count": 9,
   "id": "abef2df9-831b-4036-8d99-b92444d1c243",
   "metadata": {},
   "outputs": [
    {
     "name": "stdout",
     "output_type": "stream",
     "text": [
      "inside the setter\n"
     ]
    }
   ],
   "source": [
    "don.set_name('Donna')"
   ]
  },
  {
   "cell_type": "code",
   "execution_count": 10,
   "id": "d4071822-3bfc-4d7a-9897-6a252fa8f9d4",
   "metadata": {},
   "outputs": [
    {
     "name": "stdout",
     "output_type": "stream",
     "text": [
      "inside the getter\n"
     ]
    },
    {
     "data": {
      "text/plain": [
       "'Donna'"
      ]
     },
     "execution_count": 10,
     "metadata": {},
     "output_type": "execute_result"
    }
   ],
   "source": [
    "don.get_name()"
   ]
  },
  {
   "cell_type": "markdown",
   "id": "173da5f5-4994-4a8a-93b9-a658fcf3dc96",
   "metadata": {},
   "source": [
    "<hr>"
   ]
  },
  {
   "cell_type": "markdown",
   "id": "b75e9fa5-950d-4a5f-902e-39cdc31931a5",
   "metadata": {},
   "source": [
    "## Outro."
   ]
  },
  {
   "cell_type": "markdown",
   "id": "aba208f8-6452-48ef-86ef-12de2cac0627",
   "metadata": {},
   "source": [
    "- 목요일 자정까지 teamproject2 완성하기\n",
    "- 실습 과제 풀어오기"
   ]
  }
 ],
 "metadata": {
  "kernelspec": {
   "display_name": "Python 3 (ipykernel)",
   "language": "python",
   "name": "python3"
  },
  "language_info": {
   "codemirror_mode": {
    "name": "ipython",
    "version": 3
   },
   "file_extension": ".py",
   "mimetype": "text/x-python",
   "name": "python",
   "nbconvert_exporter": "python",
   "pygments_lexer": "ipython3",
   "version": "3.8.12"
  }
 },
 "nbformat": 4,
 "nbformat_minor": 5
}
