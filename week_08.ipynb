{
 "cells": [
  {
   "cell_type": "markdown",
   "id": "5657e62a-e2bb-4875-b5a1-b29a4a4c6f3f",
   "metadata": {},
   "source": [
    "# 8주차 | 고급파이썬프로그래밍 | 2022.04.29(금)"
   ]
  },
  {
   "cell_type": "markdown",
   "id": "47f2ad8e-4139-49be-8d09-e8499f0ff2d4",
   "metadata": {},
   "source": [
    "<hr>"
   ]
  },
  {
   "cell_type": "markdown",
   "id": "8c692752-9974-4c37-b5e2-edfcd36605d2",
   "metadata": {},
   "source": [
    "## Intro.\n",
    "- 5/27 휴강 > 6/10 보강 예정\n",
    "- 다음 주부터는 퀴즈 및 로그 진행 x. 팀프로젝트 진행 예정."
   ]
  },
  {
   "cell_type": "markdown",
   "id": "947a66ab-fcd7-4b61-89d5-c09af5ca9eaa",
   "metadata": {},
   "source": [
    "<hr>"
   ]
  },
  {
   "cell_type": "markdown",
   "id": "2ec368ab-0ac1-4b2f-92fc-eb837094e5a9",
   "metadata": {},
   "source": [
    "### Dictionary\n",
    "- 영어사전이라고 생각하면, 단어: 뜻\n",
    "- 키: 값\n",
    "    - 키 값은 고유해야 한다.\n",
    "- 순서가 없음 => 오프셋 없음\n",
    "- 가변 객체 (수정, 추가, 삭제 가능)\n",
    "- 타입: dict, 딕셔너리로 바꿔주려면 dict()\n",
    "- 생성: {k1 : v1, k2 : v2, ...} 중괄호 사용\n",
    "- value에는 리스트, 튜플, 딕셔너리도 들어갈 수 있음."
   ]
  },
  {
   "cell_type": "code",
   "execution_count": null,
   "id": "78e86bb7-9262-4932-af18-949f2715e57a",
   "metadata": {},
   "outputs": [],
   "source": [
    "# 출석부 딕셔너리를 만들기\n",
    "이름, 학번, 학과\n",
    "제임스 202201 경영학과\n",
    "줄리엣 202202 아랍어과\n",
    "로버트 202203 ELLT과"
   ]
  },
  {
   "cell_type": "code",
   "execution_count": 29,
   "id": "59936f2d-b571-4288-9c41-2ef2f3c00521",
   "metadata": {},
   "outputs": [],
   "source": [
    "student_dic = {202201:['제임스', '경영학과'], 202202:['줄리엣', '아랍어과'], 202203:['로버트', 'ELLT과']}"
   ]
  },
  {
   "cell_type": "code",
   "execution_count": 31,
   "id": "232301d4-d2a5-4692-994a-23a679bff072",
   "metadata": {},
   "outputs": [
    {
     "data": {
      "text/plain": [
       "['줄리엣', '아랍어과']"
      ]
     },
     "execution_count": 31,
     "metadata": {},
     "output_type": "execute_result"
    }
   ],
   "source": [
    "student_dic[202202]"
   ]
  },
  {
   "cell_type": "markdown",
   "id": "10913461-caa2-409a-aa8c-83af04c088e0",
   "metadata": {},
   "source": [
    "#### 형 변환"
   ]
  },
  {
   "cell_type": "code",
   "execution_count": 45,
   "id": "3c370908-f65d-416d-81a2-fc307361b835",
   "metadata": {},
   "outputs": [
    {
     "data": {
      "text/plain": [
       "{20221: [], 3: 4, 5: 6}"
      ]
     },
     "execution_count": 45,
     "metadata": {},
     "output_type": "execute_result"
    }
   ],
   "source": [
    "# dict()\n",
    "ex1 = [[20221, []], [3, 4], [5, 6]]\n",
    "dict(ex1)"
   ]
  },
  {
   "cell_type": "code",
   "execution_count": 43,
   "id": "51f6c78a-9f4e-4535-a405-83587a6f1c9c",
   "metadata": {},
   "outputs": [
    {
     "data": {
      "text/plain": [
       "{1: 2, 3: 4, 5: 6}"
      ]
     },
     "execution_count": 43,
     "metadata": {},
     "output_type": "execute_result"
    }
   ],
   "source": [
    "ex2 = [(1, 2), (3, 4), (5, 6)]\n",
    "dict(ex2)"
   ]
  },
  {
   "cell_type": "code",
   "execution_count": 51,
   "id": "e87e59e5-3da2-44da-8eca-386cdbacfc6d",
   "metadata": {},
   "outputs": [
    {
     "data": {
      "text/plain": [
       "{'a': 'b', 'b': 'c', 'c': 'd'}"
      ]
     },
     "execution_count": 51,
     "metadata": {},
     "output_type": "execute_result"
    }
   ],
   "source": [
    "ex3 = ['ab', 'bc', 'cd']\n",
    "dict(ex3)"
   ]
  },
  {
   "cell_type": "markdown",
   "id": "a1eccf04-b720-4653-bb4d-0b36b7e0be45",
   "metadata": {},
   "source": [
    "#### 항목 변경"
   ]
  },
  {
   "cell_type": "code",
   "execution_count": 59,
   "id": "9389de9e-e4f8-4ee0-b4a7-20b972b177f6",
   "metadata": {},
   "outputs": [],
   "source": [
    "pythons = {\n",
    "    'Chapman':'Graham',\n",
    "    'Cleese':'John',\n",
    "    'Idle':'Eric',\n",
    "    'Jones': 'Terry',\n",
    "    'Palin': 'Michael'\n",
    "}"
   ]
  },
  {
   "cell_type": "code",
   "execution_count": 26,
   "id": "c959a309-8e02-43e6-80b7-2b0ed45e11be",
   "metadata": {},
   "outputs": [
    {
     "data": {
      "text/plain": [
       "'Eric'"
      ]
     },
     "execution_count": 26,
     "metadata": {},
     "output_type": "execute_result"
    }
   ],
   "source": [
    "pythons['Idle']"
   ]
  },
  {
   "cell_type": "code",
   "execution_count": 27,
   "id": "d8bd5586-1674-49fa-af65-127d9ef2fa4d",
   "metadata": {},
   "outputs": [
    {
     "ename": "KeyError",
     "evalue": "0",
     "output_type": "error",
     "traceback": [
      "\u001b[1;31m---------------------------------------------------------------------------\u001b[0m",
      "\u001b[1;31mKeyError\u001b[0m                                  Traceback (most recent call last)",
      "\u001b[1;32m~\\AppData\\Local\\Temp/ipykernel_24232/3791130232.py\u001b[0m in \u001b[0;36m<module>\u001b[1;34m\u001b[0m\n\u001b[1;32m----> 1\u001b[1;33m \u001b[0mpythons\u001b[0m\u001b[1;33m[\u001b[0m\u001b[1;36m0\u001b[0m\u001b[1;33m]\u001b[0m \u001b[1;31m# index 안 됨\u001b[0m\u001b[1;33m\u001b[0m\u001b[1;33m\u001b[0m\u001b[0m\n\u001b[0m",
      "\u001b[1;31mKeyError\u001b[0m: 0"
     ]
    }
   ],
   "source": [
    "pythons[0] # index 안 됨"
   ]
  },
  {
   "cell_type": "code",
   "execution_count": 28,
   "id": "67c8b54e-0c2d-4412-99ad-d8a2c9c7c57d",
   "metadata": {},
   "outputs": [
    {
     "data": {
      "text/plain": [
       "{'Chapman': 'Graham',\n",
       " 'Cleese': 'John',\n",
       " 'Idle': 'Erica',\n",
       " 'Jones': 'Terry',\n",
       " 'Palin': 'Michael'}"
      ]
     },
     "execution_count": 28,
     "metadata": {},
     "output_type": "execute_result"
    }
   ],
   "source": [
    "pythons['Idle'] = 'Erica'\n",
    "pythons"
   ]
  },
  {
   "cell_type": "code",
   "execution_count": 32,
   "id": "a2574c34-cfb5-4639-8277-801f94ff9945",
   "metadata": {},
   "outputs": [
    {
     "data": {
      "text/plain": [
       "{'Chapman': 'Graham',\n",
       " 'Cleese': 'John',\n",
       " 'Idle': 'Erica',\n",
       " 'Jones': 'Terry',\n",
       " 'Palin': 'Michael',\n",
       " 'Kim': 'Laura'}"
      ]
     },
     "execution_count": 32,
     "metadata": {},
     "output_type": "execute_result"
    }
   ],
   "source": [
    "pythons['Kim'] = 'Laura' # 마지막에 추가가 됨.\n",
    "pythons "
   ]
  },
  {
   "cell_type": "code",
   "execution_count": 33,
   "id": "4bd0c532-7360-4b22-99ef-2a2f34c89062",
   "metadata": {},
   "outputs": [
    {
     "ename": "KeyError",
     "evalue": "'Lee'",
     "output_type": "error",
     "traceback": [
      "\u001b[1;31m---------------------------------------------------------------------------\u001b[0m",
      "\u001b[1;31mKeyError\u001b[0m                                  Traceback (most recent call last)",
      "\u001b[1;32m~\\AppData\\Local\\Temp/ipykernel_24232/1556216000.py\u001b[0m in \u001b[0;36m<module>\u001b[1;34m\u001b[0m\n\u001b[1;32m----> 1\u001b[1;33m \u001b[0mpythons\u001b[0m\u001b[1;33m[\u001b[0m\u001b[1;34m'Lee'\u001b[0m\u001b[1;33m]\u001b[0m \u001b[1;31m# 없는 걸 찾으면 에러를 발생시킴\u001b[0m\u001b[1;33m\u001b[0m\u001b[1;33m\u001b[0m\u001b[0m\n\u001b[0m",
      "\u001b[1;31mKeyError\u001b[0m: 'Lee'"
     ]
    }
   ],
   "source": [
    "pythons['Lee'] # 없는 걸 찾으면 에러를 발생시킴"
   ]
  },
  {
   "cell_type": "code",
   "execution_count": 34,
   "id": "358d6b2a-0bdf-4a44-92d4-db8bdf6aac21",
   "metadata": {},
   "outputs": [
    {
     "data": {
      "text/plain": [
       "False"
      ]
     },
     "execution_count": 34,
     "metadata": {},
     "output_type": "execute_result"
    }
   ],
   "source": [
    "'Lee' in pythons # 그래서 보통 있는지 확인을 먼저 함."
   ]
  },
  {
   "cell_type": "code",
   "execution_count": 37,
   "id": "250215a6-d40f-4833-bba6-a50d0f081df1",
   "metadata": {},
   "outputs": [],
   "source": [
    "pythons.get('Lee') # None"
   ]
  },
  {
   "cell_type": "code",
   "execution_count": 36,
   "id": "ad44a791-7795-4960-a70c-4545d307b6c8",
   "metadata": {},
   "outputs": [
    {
     "data": {
      "text/plain": [
       "'Laura'"
      ]
     },
     "execution_count": 36,
     "metadata": {},
     "output_type": "execute_result"
    }
   ],
   "source": [
    "pythons.get('Kim')"
   ]
  },
  {
   "cell_type": "code",
   "execution_count": 38,
   "id": "bc3212f5-039e-4f98-bfdd-615b882607e3",
   "metadata": {},
   "outputs": [
    {
     "data": {
      "text/plain": [
       "0"
      ]
     },
     "execution_count": 38,
     "metadata": {},
     "output_type": "execute_result"
    }
   ],
   "source": [
    "pythons.get('Choi', 0)"
   ]
  },
  {
   "cell_type": "markdown",
   "id": "3de8c90b-0754-444d-befb-1c85e18d334d",
   "metadata": {},
   "source": [
    "#### keys(), values(), items()\n",
    "- keys\n",
    "- values\n",
    "- items"
   ]
  },
  {
   "cell_type": "code",
   "execution_count": 43,
   "id": "e0664183-e6af-44f4-ab24-dd10ea849d71",
   "metadata": {},
   "outputs": [
    {
     "data": {
      "text/plain": [
       "['Chapman', 'Cleese', 'Idle', 'Jones', 'Palin', 'Kim']"
      ]
     },
     "execution_count": 43,
     "metadata": {},
     "output_type": "execute_result"
    }
   ],
   "source": [
    "list(pythons.keys())"
   ]
  },
  {
   "cell_type": "code",
   "execution_count": 41,
   "id": "61f0b4d9-9d69-4e78-921f-c226823f8f00",
   "metadata": {},
   "outputs": [
    {
     "data": {
      "text/plain": [
       "dict_values(['Graham', 'John', 'Erica', 'Terry', 'Michael', 'Laura'])"
      ]
     },
     "execution_count": 41,
     "metadata": {},
     "output_type": "execute_result"
    }
   ],
   "source": [
    "pythons.values()"
   ]
  },
  {
   "cell_type": "code",
   "execution_count": 46,
   "id": "948dc270-a9bb-4a50-be25-b17c6b1543c6",
   "metadata": {},
   "outputs": [
    {
     "data": {
      "text/plain": [
       "dict_items([('Chapman', 'Graham'), ('Cleese', 'John'), ('Idle', 'Erica'), ('Jones', 'Terry'), ('Palin', 'Michael'), ('Kim', 'Laura')])"
      ]
     },
     "execution_count": 46,
     "metadata": {},
     "output_type": "execute_result"
    }
   ],
   "source": [
    "pythons.items() # 순회 시 사용"
   ]
  },
  {
   "cell_type": "code",
   "execution_count": 49,
   "id": "572db407-b266-44a5-84b8-fabc8a7403d9",
   "metadata": {},
   "outputs": [
    {
     "data": {
      "text/plain": [
       "['Chapman', 'Cleese', 'Idle', 'Jones', 'Palin', 'Kim']"
      ]
     },
     "execution_count": 49,
     "metadata": {},
     "output_type": "execute_result"
    }
   ],
   "source": [
    "[x[0] for x in pythons.items()]"
   ]
  },
  {
   "cell_type": "code",
   "execution_count": 90,
   "id": "2f307b2b-4f07-46b7-b0e1-fa68d1b03476",
   "metadata": {},
   "outputs": [],
   "source": [
    "animal = 'cat snake monkey ant spider'.split()\n",
    "legs = 4, 0, 2, 4, 8\n",
    "\n",
    "# for loop 이용해서 animal:legs로 이루어진 딕셔너리 만들기\n",
    "\n",
    "animal_dict = {}\n",
    "\n",
    "for i in range(len(animal)):\n",
    "    animal_dict[animal[i]] = legs[i]"
   ]
  },
  {
   "cell_type": "code",
   "execution_count": 91,
   "id": "d9b92c48-9a60-4bc8-825f-8f30fc7c1992",
   "metadata": {},
   "outputs": [
    {
     "data": {
      "text/plain": [
       "{'cat': 4, 'snake': 0, 'monkey': 2, 'ant': 4, 'spider': 8}"
      ]
     },
     "execution_count": 91,
     "metadata": {},
     "output_type": "execute_result"
    }
   ],
   "source": [
    "animal_dict"
   ]
  },
  {
   "cell_type": "code",
   "execution_count": 54,
   "id": "c9ac929c-0d61-4380-be45-049be4f54436",
   "metadata": {},
   "outputs": [
    {
     "data": {
      "text/plain": [
       "['Chapman', 'Cleese', 'Gilliam', 'Jones', 'Palin']"
      ]
     },
     "execution_count": 54,
     "metadata": {},
     "output_type": "execute_result"
    }
   ],
   "source": [
    "# pythons에서 성:이름 => 리스트컴프리핸션 이용해서 [(성 앞글자, 이름의 글자 수)]\n",
    "pythons"
   ]
  },
  {
   "cell_type": "code",
   "execution_count": 63,
   "id": "e13ce5d3-8df7-408f-b3c5-ec166d34fe35",
   "metadata": {},
   "outputs": [
    {
     "data": {
      "text/plain": [
       "['C', 'C', 'I', 'J', 'P']"
      ]
     },
     "execution_count": 63,
     "metadata": {},
     "output_type": "execute_result"
    }
   ],
   "source": [
    "[w[0] for w in pythons.keys()]"
   ]
  },
  {
   "cell_type": "code",
   "execution_count": 60,
   "id": "7dca4933-0e5a-4fd2-a656-0dfc8f07e274",
   "metadata": {},
   "outputs": [
    {
     "data": {
      "text/plain": [
       "[6, 4, 4, 5, 7]"
      ]
     },
     "execution_count": 60,
     "metadata": {},
     "output_type": "execute_result"
    }
   ],
   "source": [
    "[len(w) for w in pythons.values()]"
   ]
  },
  {
   "cell_type": "code",
   "execution_count": 129,
   "id": "bc38590f-7b2c-403f-9a11-693360e49dee",
   "metadata": {},
   "outputs": [
    {
     "data": {
      "text/plain": [
       "{'C': 4, 'I': 5, 'J': 5, 'P': 7, 'K': 5}"
      ]
     },
     "execution_count": 129,
     "metadata": {},
     "output_type": "execute_result"
    }
   ],
   "source": [
    "{key[0]: len(value) for key, value in pythons.items()}"
   ]
  },
  {
   "cell_type": "markdown",
   "id": "353ba450-0eb7-4860-8664-2cdcc1c439ee",
   "metadata": {},
   "source": [
    "#### 값 수정, 삭제, 복제"
   ]
  },
  {
   "cell_type": "code",
   "execution_count": 130,
   "id": "e564610c-4912-4a2c-a44e-db2fde002bf5",
   "metadata": {},
   "outputs": [
    {
     "data": {
      "text/plain": [
       "{'Chapman': 'Graham',\n",
       " 'Cleese': 'John',\n",
       " 'Idle': 'Erica',\n",
       " 'Jones': 'Terry',\n",
       " 'Palin': 'Michael',\n",
       " 'Kim': 'Laura'}"
      ]
     },
     "execution_count": 130,
     "metadata": {},
     "output_type": "execute_result"
    }
   ],
   "source": [
    "pythons"
   ]
  },
  {
   "cell_type": "code",
   "execution_count": 131,
   "id": "7b41f70b-9bc5-4605-8cdf-37733ab6ca99",
   "metadata": {},
   "outputs": [],
   "source": [
    "others = {\n",
    "    'Marx':'Groucho',\n",
    "    'Howard': 'Moe'\n",
    "}"
   ]
  },
  {
   "cell_type": "code",
   "execution_count": 132,
   "id": "b706fba9-9a8e-4638-9fd2-c5ee155c1b95",
   "metadata": {},
   "outputs": [],
   "source": [
    "pythons.update(others)"
   ]
  },
  {
   "cell_type": "code",
   "execution_count": 133,
   "id": "a27e7c9b-7463-4136-ba8e-ee1c427809a3",
   "metadata": {},
   "outputs": [
    {
     "data": {
      "text/plain": [
       "{'Chapman': 'Graham',\n",
       " 'Cleese': 'John',\n",
       " 'Idle': 'Erica',\n",
       " 'Jones': 'Terry',\n",
       " 'Palin': 'Michael',\n",
       " 'Kim': 'Laura',\n",
       " 'Marx': 'Groucho',\n",
       " 'Howard': 'Moe'}"
      ]
     },
     "execution_count": 133,
     "metadata": {},
     "output_type": "execute_result"
    }
   ],
   "source": [
    "pythons"
   ]
  },
  {
   "cell_type": "code",
   "execution_count": 137,
   "id": "0e17ddc4-b11f-454b-a9e1-aca58b8a568e",
   "metadata": {},
   "outputs": [],
   "source": [
    "# 삭제\n",
    "del pythons['Kim']"
   ]
  },
  {
   "cell_type": "code",
   "execution_count": 138,
   "id": "3735ebc1-925c-4854-bad4-3f59469b81b6",
   "metadata": {},
   "outputs": [
    {
     "data": {
      "text/plain": [
       "{'Chapman': 'Graham',\n",
       " 'Cleese': 'John',\n",
       " 'Idle': 'Erica',\n",
       " 'Jones': 'Terry',\n",
       " 'Palin': 'Michael',\n",
       " 'Marx': 'Groucho',\n",
       " 'Howard': 'Moe'}"
      ]
     },
     "execution_count": 138,
     "metadata": {},
     "output_type": "execute_result"
    }
   ],
   "source": [
    "pythons"
   ]
  },
  {
   "cell_type": "code",
   "execution_count": 139,
   "id": "2978659b-8d2a-46c5-8250-9db4e34288b9",
   "metadata": {},
   "outputs": [
    {
     "data": {
      "text/plain": [
       "'Groucho'"
      ]
     },
     "execution_count": 139,
     "metadata": {},
     "output_type": "execute_result"
    }
   ],
   "source": [
    "pythons.pop('Marx', 0) #get과 비슷한 성질"
   ]
  },
  {
   "cell_type": "code",
   "execution_count": 140,
   "id": "1aba6e36-7ed4-4ba6-aac6-97e058429cbb",
   "metadata": {},
   "outputs": [
    {
     "data": {
      "text/plain": [
       "0"
      ]
     },
     "execution_count": 140,
     "metadata": {},
     "output_type": "execute_result"
    }
   ],
   "source": [
    "pythons.pop('Marx', 0)"
   ]
  },
  {
   "cell_type": "code",
   "execution_count": 141,
   "id": "e59f74d0-6596-4c5d-8e5f-f3192e0aab1e",
   "metadata": {},
   "outputs": [],
   "source": [
    "pythons.clear()\n",
    "pythons"
   ]
  },
  {
   "cell_type": "code",
   "execution_count": 143,
   "id": "c425d823-4da7-471f-a76a-48205e3eaf62",
   "metadata": {},
   "outputs": [],
   "source": [
    "pythons = {} #empty\n",
    "pythons"
   ]
  },
  {
   "cell_type": "code",
   "execution_count": 145,
   "id": "72448260-399a-4503-b526-f974efdd5875",
   "metadata": {},
   "outputs": [],
   "source": [
    "# copy\n",
    "# 1. 할당\n",
    "# 2. 얕은 복사\n",
    "# 3. 깊은 복사"
   ]
  },
  {
   "cell_type": "code",
   "execution_count": 152,
   "id": "1d2ce50c-38f4-4793-93c0-0397de241af8",
   "metadata": {},
   "outputs": [
    {
     "data": {
      "text/plain": [
       "({1: 10, 2: 3, 3: 4}, {1: 10, 2: 3, 3: 4})"
      ]
     },
     "execution_count": 152,
     "metadata": {},
     "output_type": "execute_result"
    }
   ],
   "source": [
    "# 할당\n",
    "a = {1:2, 2:3, 3:4}\n",
    "b = a\n",
    "a[1] = 10\n",
    "a, b"
   ]
  },
  {
   "cell_type": "code",
   "execution_count": 153,
   "id": "f741da3a-8919-4491-b573-58385d10e7b0",
   "metadata": {},
   "outputs": [
    {
     "data": {
      "text/plain": [
       "({1: 100, 2: 3, 3: 4}, {1: 10, 2: 3, 3: 4})"
      ]
     },
     "execution_count": 153,
     "metadata": {},
     "output_type": "execute_result"
    }
   ],
   "source": [
    "# 얕은 복사\n",
    "b = a.copy()\n",
    "a[1] = 100\n",
    "a, b"
   ]
  },
  {
   "cell_type": "code",
   "execution_count": 154,
   "id": "296eb272-26ff-4122-92e9-4687c28c3f4e",
   "metadata": {},
   "outputs": [
    {
     "data": {
      "text/plain": [
       "({1: [100, 2, 2], 2: [1, 1, 1]}, {1: [100, 2, 2], 2: [1, 1, 1]})"
      ]
     },
     "execution_count": 154,
     "metadata": {},
     "output_type": "execute_result"
    }
   ],
   "source": [
    "a = {1:[2, 2, 2], 2:[1, 1, 1]}\n",
    "b = a.copy()\n",
    "a[1][0] = 100\n",
    "a, b"
   ]
  },
  {
   "cell_type": "code",
   "execution_count": 155,
   "id": "00779463-9ba0-4e5b-985a-0894a4d7a232",
   "metadata": {},
   "outputs": [
    {
     "data": {
      "text/plain": [
       "({1: [9, 2, 2], 2: [1, 1, 1]}, {1: [100, 2, 2], 2: [1, 1, 1]})"
      ]
     },
     "execution_count": 155,
     "metadata": {},
     "output_type": "execute_result"
    }
   ],
   "source": [
    "# 깊은 복사\n",
    "import copy\n",
    "b = copy.deepcopy(a)\n",
    "a[1][0] = 9\n",
    "a, b"
   ]
  },
  {
   "cell_type": "code",
   "execution_count": 156,
   "id": "76cdcd1c-3828-4350-a3a1-61fffb1481f8",
   "metadata": {},
   "outputs": [
    {
     "data": {
      "text/plain": [
       "True"
      ]
     },
     "execution_count": 156,
     "metadata": {},
     "output_type": "execute_result"
    }
   ],
   "source": [
    "# 값 비교: 같고 다르고만 됨\n",
    "a != b"
   ]
  },
  {
   "cell_type": "markdown",
   "id": "b22d0605-5e83-4632-ba14-c9ac5ac4e66c",
   "metadata": {},
   "source": [
    "### ex\n",
    "- 두 개 리스트를 딕셔너리로 만든다: {한국어:영어}\n",
    "- 명왕성: pluto 추가하기\n",
    "- '성'으로 끝나지 않는 단어 삭제하기\n",
    "    del sdict['태양'] => 하드코딩 안 됨\n",
    "- sorted i) kor ii) eng"
   ]
  },
  {
   "cell_type": "code",
   "execution_count": 3,
   "id": "2eb20472-80d3-41e9-bf30-7f29b3de7dbf",
   "metadata": {},
   "outputs": [],
   "source": [
    "solar = {}\n",
    "solar_kor = '태양 수성 금성 지구 화성 목성 토성 천왕성 해왕성'.split()\n",
    "solar_eng = 'sun mercy venus earth mars jupiter saturn uranus neptune'.split()\n",
    "\n",
    "sdict = {}\n",
    "for i in range(len(solar_kor)):\n",
    "    sdict[[w for s in solar_kor for w in s.split()][i]]=[w for s in solar_eng for w in s.split()][i]\n",
    "    \n",
    "other = {'명왕성':'pluto'} # 하나일 때는 굳이 안 써도 됨. 연습용으로는 ok\n",
    "sdict.update(other)\n",
    "\n",
    "# for i in range(len(sdict.keys())):\n",
    "#     if [w for w in sdict.keys()][i][-1] != \"성\":\n",
    "#         sdict.pop(str([w for w in sdict.keys()][i]))\n",
    "solar = {k:solar[k] for k in solar if k.endsiwth('성')}"
   ]
  },
  {
   "cell_type": "code",
   "execution_count": 4,
   "id": "bafa5181-7438-4fdc-a87b-99e14ed1c009",
   "metadata": {},
   "outputs": [
    {
     "data": {
      "text/plain": [
       "{}"
      ]
     },
     "execution_count": 4,
     "metadata": {},
     "output_type": "execute_result"
    }
   ],
   "source": [
    "solar"
   ]
  },
  {
   "cell_type": "code",
   "execution_count": 6,
   "id": "860cfeb9-8fa9-4220-81b3-afa2032bbafc",
   "metadata": {},
   "outputs": [
    {
     "data": {
      "text/plain": [
       "{'p': 2, 'l': 1, 'a': 1, 'e': 1}"
      ]
     },
     "execution_count": 6,
     "metadata": {},
     "output_type": "execute_result"
    }
   ],
   "source": [
    "letter = 'apple'\n",
    "# {a:1, p:2, ...}\n",
    "{ch: letter.count(ch) for ch in set(letter)}"
   ]
  },
  {
   "cell_type": "code",
   "execution_count": 8,
   "id": "db4657c6-c73c-4cae-bd2d-adf56fe4b28b",
   "metadata": {},
   "outputs": [],
   "source": [
    "vowels = 'aeiou'\n",
    "word = 'onomatopoeia'\n",
    "\n",
    "# 주어진 단어의 모음 세기\n",
    "# a:1, e:3, ...\n",
    "# vowels, word 각각 기준 잡아서 dic compre 이용해서 만들기"
   ]
  },
  {
   "cell_type": "code",
   "execution_count": 13,
   "id": "fa82b202-7bda-4500-be2b-57642c638f67",
   "metadata": {},
   "outputs": [
    {
     "data": {
      "text/plain": [
       "{'o': 4, 'a': 2, 'e': 1, 'i': 1}"
      ]
     },
     "execution_count": 13,
     "metadata": {},
     "output_type": "execute_result"
    }
   ],
   "source": [
    "{ch:word.count(ch) for ch in word if ch in vowels}"
   ]
  },
  {
   "cell_type": "code",
   "execution_count": 15,
   "id": "7e333362-bdff-4e73-9318-efe403f76285",
   "metadata": {},
   "outputs": [
    {
     "data": {
      "text/plain": [
       "{'a': 2, 'e': 1, 'i': 1, 'o': 4}"
      ]
     },
     "execution_count": 15,
     "metadata": {},
     "output_type": "execute_result"
    }
   ],
   "source": [
    "{v:word.count(v) for v in vowels if v in word}"
   ]
  },
  {
   "cell_type": "code",
   "execution_count": 17,
   "id": "704a92d1-3e14-430a-824a-d119c37ce000",
   "metadata": {},
   "outputs": [
    {
     "name": "stdout",
     "output_type": "stream",
     "text": [
      "{'a': 2, 'e': 1, 'i': 1, 'o': 4, 'u': 0}\n"
     ]
    },
    {
     "data": {
      "text/plain": [
       "{'i': 1, 'e': 1, 'o': 4, 'a': 2}"
      ]
     },
     "execution_count": 17,
     "metadata": {},
     "output_type": "execute_result"
    }
   ],
   "source": [
    "# 1. vowels 순회\n",
    "op1 = {v:word.count(v) for v in vowels}\n",
    "# print(op1)\n",
    "\n",
    "# 2. word 순회 # 자음 빼야\n",
    "{ch: word.count(ch) for ch in set(word) if ch in vowels}\n",
    "\n",
    "# 2번을 1번과 똑같이 하려면 어떻게 하면 좋을지. 한 사람은 복습 파일에 공유 바람."
   ]
  },
  {
   "cell_type": "code",
   "execution_count": 18,
   "id": "e116b61a-e80f-4cf1-be55-831927514b8d",
   "metadata": {},
   "outputs": [
    {
     "data": {
      "text/plain": [
       "{'태양': 'sun',\n",
       " '수성': 'mercy',\n",
       " '금성': 'venus',\n",
       " '지구': 'earth',\n",
       " '화성': 'mars',\n",
       " '목성': 'jupiter',\n",
       " '토성': 'saturn',\n",
       " '천왕성': 'uranus',\n",
       " '해왕성': 'neptune'}"
      ]
     },
     "execution_count": 18,
     "metadata": {},
     "output_type": "execute_result"
    }
   ],
   "source": [
    "# solar\n",
    "solar_system = {}\n",
    "for ko, en in zip(solar_kor, solar_eng):\n",
    "    solar_system[ko] = en\n",
    "solar_system"
   ]
  },
  {
   "cell_type": "code",
   "execution_count": 20,
   "id": "2551e4eb-9660-4a29-9030-826553a2fed6",
   "metadata": {},
   "outputs": [
    {
     "data": {
      "text/plain": [
       "{'태양': 'sun',\n",
       " '수성': 'mercy',\n",
       " '금성': 'venus',\n",
       " '지구': 'earth',\n",
       " '화성': 'mars',\n",
       " '목성': 'jupiter',\n",
       " '토성': 'saturn',\n",
       " '천왕성': 'uranus',\n",
       " '해왕성': 'neptune',\n",
       " '명왕성': 'pluto'}"
      ]
     },
     "execution_count": 20,
     "metadata": {},
     "output_type": "execute_result"
    }
   ],
   "source": [
    "# 2\n",
    "solar_system['명왕성'] = 'pluto'\n",
    "solar_system"
   ]
  },
  {
   "cell_type": "code",
   "execution_count": 29,
   "id": "942652b5-beca-49f7-bc9a-1286b65eaaf8",
   "metadata": {},
   "outputs": [
    {
     "ename": "KeyError",
     "evalue": "'수성'",
     "output_type": "error",
     "traceback": [
      "\u001b[1;31m---------------------------------------------------------------------------\u001b[0m",
      "\u001b[1;31mKeyError\u001b[0m                                  Traceback (most recent call last)",
      "\u001b[1;32m~\\AppData\\Local\\Temp/ipykernel_15396/909961819.py\u001b[0m in \u001b[0;36m<module>\u001b[1;34m\u001b[0m\n\u001b[1;32m----> 1\u001b[1;33m \u001b[1;33m{\u001b[0m\u001b[0mk\u001b[0m\u001b[1;33m:\u001b[0m\u001b[0msolar\u001b[0m\u001b[1;33m[\u001b[0m\u001b[0mk\u001b[0m\u001b[1;33m]\u001b[0m \u001b[1;32mfor\u001b[0m \u001b[0mk\u001b[0m \u001b[1;32min\u001b[0m \u001b[0msolar_system\u001b[0m \u001b[1;32mif\u001b[0m \u001b[0mk\u001b[0m\u001b[1;33m.\u001b[0m\u001b[0mendswith\u001b[0m\u001b[1;33m(\u001b[0m\u001b[1;34m'성'\u001b[0m\u001b[1;33m)\u001b[0m\u001b[1;33m}\u001b[0m\u001b[1;33m\u001b[0m\u001b[1;33m\u001b[0m\u001b[0m\n\u001b[0m",
      "\u001b[1;32m~\\AppData\\Local\\Temp/ipykernel_15396/909961819.py\u001b[0m in \u001b[0;36m<dictcomp>\u001b[1;34m(.0)\u001b[0m\n\u001b[1;32m----> 1\u001b[1;33m \u001b[1;33m{\u001b[0m\u001b[0mk\u001b[0m\u001b[1;33m:\u001b[0m\u001b[0msolar\u001b[0m\u001b[1;33m[\u001b[0m\u001b[0mk\u001b[0m\u001b[1;33m]\u001b[0m \u001b[1;32mfor\u001b[0m \u001b[0mk\u001b[0m \u001b[1;32min\u001b[0m \u001b[0msolar_system\u001b[0m \u001b[1;32mif\u001b[0m \u001b[0mk\u001b[0m\u001b[1;33m.\u001b[0m\u001b[0mendswith\u001b[0m\u001b[1;33m(\u001b[0m\u001b[1;34m'성'\u001b[0m\u001b[1;33m)\u001b[0m\u001b[1;33m}\u001b[0m\u001b[1;33m\u001b[0m\u001b[1;33m\u001b[0m\u001b[0m\n\u001b[0m",
      "\u001b[1;31mKeyError\u001b[0m: '수성'"
     ]
    }
   ],
   "source": [
    "{k:solar[k] for k in solar_system if k.endswith('성')}"
   ]
  },
  {
   "cell_type": "code",
   "execution_count": 25,
   "id": "dcf6ec8a-87ba-4407-b5ed-80d3dba83447",
   "metadata": {},
   "outputs": [
    {
     "data": {
      "text/plain": [
       "{'수성': 'mercy',\n",
       " '금성': 'venus',\n",
       " '화성': 'mars',\n",
       " '목성': 'jupiter',\n",
       " '토성': 'saturn',\n",
       " '천왕성': 'uranus',\n",
       " '해왕성': 'neptune',\n",
       " '명왕성': 'pluto'}"
      ]
     },
     "execution_count": 25,
     "metadata": {},
     "output_type": "execute_result"
    }
   ],
   "source": [
    "{k:v for k, v in solar_system.items() if k.endswith('성')}"
   ]
  },
  {
   "cell_type": "code",
   "execution_count": 35,
   "id": "3235b570-a10b-4960-9a43-53eb912d48d6",
   "metadata": {},
   "outputs": [
    {
     "data": {
      "text/plain": [
       "[('금성', 'venus'),\n",
       " ('명왕성', 'pluto'),\n",
       " ('목성', 'jupiter'),\n",
       " ('수성', 'mercy'),\n",
       " ('지구', 'earth'),\n",
       " ('천왕성', 'uranus'),\n",
       " ('태양', 'sun'),\n",
       " ('토성', 'saturn'),\n",
       " ('해왕성', 'neptune'),\n",
       " ('화성', 'mars')]"
      ]
     },
     "execution_count": 35,
     "metadata": {},
     "output_type": "execute_result"
    }
   ],
   "source": [
    "sorted(solar_system.items(), key=lambda x: x[0])"
   ]
  },
  {
   "cell_type": "markdown",
   "id": "44c1972d-6c4a-4397-85e7-d3d0da68142d",
   "metadata": {},
   "source": [
    "## Set\n",
    "- 딕셔너리의 키만 모아놓음 -> 중복 없음!\n",
    "- 수학의 집합 개념 => 교집합, 합집합, 차집합, ...\n",
    "- 데이터 자루, 순서 없고, 인덱싱 없고"
   ]
  },
  {
   "cell_type": "code",
   "execution_count": 37,
   "id": "9d11f24f-f711-483c-b3c7-55a590ff6b17",
   "metadata": {},
   "outputs": [
    {
     "data": {
      "text/plain": [
       "(set(), {})"
      ]
     },
     "execution_count": 37,
     "metadata": {},
     "output_type": "execute_result"
    }
   ],
   "source": [
    "empty = set()\n",
    "empty1 = {} # dict\n",
    "empty, empty1"
   ]
  },
  {
   "cell_type": "code",
   "execution_count": 38,
   "id": "8746f806-d425-430f-aa87-8dbd54c912cf",
   "metadata": {},
   "outputs": [
    {
     "data": {
      "text/plain": [
       "set"
      ]
     },
     "execution_count": 38,
     "metadata": {},
     "output_type": "execute_result"
    }
   ],
   "source": [
    "a = {1, 2, 3}\n",
    "type(a)"
   ]
  },
  {
   "cell_type": "code",
   "execution_count": 39,
   "id": "a4a828df-8481-42a4-a0b4-5f67d84f5c1f",
   "metadata": {},
   "outputs": [],
   "source": [
    "b = set([1, 2, 3, 3, 3, 3])"
   ]
  },
  {
   "cell_type": "code",
   "execution_count": 40,
   "id": "8e4b2d1d-60be-40c0-b1fc-b7b035fec5b0",
   "metadata": {},
   "outputs": [
    {
     "data": {
      "text/plain": [
       "{1, 2, 3}"
      ]
     },
     "execution_count": 40,
     "metadata": {},
     "output_type": "execute_result"
    }
   ],
   "source": [
    "b"
   ]
  },
  {
   "cell_type": "code",
   "execution_count": 41,
   "id": "4e450d6e-7043-4d7f-bff3-2e177942b6d3",
   "metadata": {},
   "outputs": [
    {
     "data": {
      "text/plain": [
       "{1, 2, 3, 4}"
      ]
     },
     "execution_count": 41,
     "metadata": {},
     "output_type": "execute_result"
    }
   ],
   "source": [
    "# 추가하기\n",
    "a.add(4)\n",
    "a"
   ]
  },
  {
   "cell_type": "code",
   "execution_count": 42,
   "id": "d5524276-c792-44e7-bb40-58485e50052e",
   "metadata": {},
   "outputs": [
    {
     "data": {
      "text/plain": [
       "{1, 2, 3}"
      ]
     },
     "execution_count": 42,
     "metadata": {},
     "output_type": "execute_result"
    }
   ],
   "source": [
    "# 삭제\n",
    "a.remove(4)\n",
    "a"
   ]
  },
  {
   "cell_type": "code",
   "execution_count": 43,
   "id": "de94b6a3-e07f-42fa-aa8c-6f94974cd928",
   "metadata": {},
   "outputs": [
    {
     "data": {
      "text/plain": [
       "{1, 2}"
      ]
     },
     "execution_count": 43,
     "metadata": {},
     "output_type": "execute_result"
    }
   ],
   "source": [
    "a.discard(3)\n",
    "a"
   ]
  },
  {
   "cell_type": "code",
   "execution_count": 55,
   "id": "1eb7b851-f752-4ac0-82d1-366cebe4e356",
   "metadata": {},
   "outputs": [
    {
     "data": {
      "text/plain": [
       "{'martini', 'screwdriver', 'white russian'}"
      ]
     },
     "execution_count": 55,
     "metadata": {},
     "output_type": "execute_result"
    }
   ],
   "source": [
    "{k for k,v in drinks.items() if 'vodka' in v and ('cream' not in v or 'vermouth' not in v)}"
   ]
  },
  {
   "cell_type": "markdown",
   "id": "3bc94569-83d5-4e1c-9011-037b01fafed9",
   "metadata": {},
   "source": [
    "<hr>"
   ]
  },
  {
   "cell_type": "markdown",
   "id": "89d8827d-fa94-4b83-804c-0ed74457804a",
   "metadata": {},
   "source": [
    "## TextBook (Page. 177 ~ 204)\n",
    "- Chapter 8 딕셔너리와 셋"
   ]
  },
  {
   "cell_type": "code",
   "execution_count": 4,
   "id": "d67de8da-c920-428b-846f-f7a097a5cd60",
   "metadata": {},
   "outputs": [
    {
     "data": {
      "text/plain": [
       "{}"
      ]
     },
     "execution_count": 4,
     "metadata": {},
     "output_type": "execute_result"
    }
   ],
   "source": [
    "# 8.1 딕셔너리\n",
    "# 8.1.1 생성하기 : {}\n",
    "empty_dict = {}\n",
    "empty_dict"
   ]
  },
  {
   "cell_type": "code",
   "execution_count": 6,
   "id": "bed13dde-6820-42e1-a9e8-2675db6f2af7",
   "metadata": {},
   "outputs": [
    {
     "data": {
      "text/plain": [
       "{'Adele': 'hello', 'Ed sheeran': 'shape of you', 'Charlie puth': 'Marvin gaye'}"
      ]
     },
     "execution_count": 6,
     "metadata": {},
     "output_type": "execute_result"
    }
   ],
   "source": [
    "singer_song = {\n",
    "    'Adele': 'hello',\n",
    "    'Ed sheeran': 'shape of you',\n",
    "    'Charlie puth': 'Marvin gaye'\n",
    "}\n",
    "\n",
    "singer_song"
   ]
  },
  {
   "cell_type": "code",
   "execution_count": 8,
   "id": "a49dbc7e-4c9b-4aae-8779-3c135998ab6f",
   "metadata": {},
   "outputs": [
    {
     "name": "stdout",
     "output_type": "stream",
     "text": [
      "{'first': '유', 'middle': '재', 'last': '석'}\n",
      "{'first': '유', 'middle': '재', 'last': '석'}\n"
     ]
    }
   ],
   "source": [
    "# 8.1.2 생성하기 : dict()\n",
    "# 1. 일반적인 방법\n",
    "name = {'first': '유', 'middle': '재', 'last': '석'}\n",
    "print(name)\n",
    "# 2. dict() 함수 사용 방법\n",
    "name2 = dict(first=\"유\", middle=\"재\", last=\"석\")\n",
    "print(name2)"
   ]
  },
  {
   "cell_type": "code",
   "execution_count": 13,
   "id": "7801345e-e434-49b8-acb6-8bab97ad1464",
   "metadata": {},
   "outputs": [
    {
     "name": "stdout",
     "output_type": "stream",
     "text": [
      "aa :  {'a': 'b', 'c': 'd', 'e': 'f'}\n",
      "bb :  {'a': 'b', 'c': 'd', 'e': 'f'}\n",
      "cc :  {'a': 'b', 'c': 'd', 'e': 'f'}\n",
      "dd :  {'a': 'b', 'c': 'd', 'e': 'f'}\n",
      "ee :  {'a': 'b', 'c': 'd', 'e': 'f'}\n"
     ]
    }
   ],
   "source": [
    "# 8.1.3 변환하기 : dict()\n",
    "# dict() 함수를 사용해서 두 값으로 이루어진 시퀀스를 딕셔너리로 변환할 수 있다.\n",
    "\n",
    "aa = [['a', 'b'], ['c', 'd'], ['e', 'f']]\n",
    "print(\"aa : \", dict(aa))\n",
    "\n",
    "bb = [('a', 'b'), ('c', 'd'), ('e', 'f')]\n",
    "print(\"bb : \", dict(bb))\n",
    "\n",
    "cc = (['a', 'b'], ['c', 'd'], ['e', 'f'])\n",
    "print(\"cc : \", dict(cc))\n",
    "\n",
    "dd = ['ab', 'cd', 'ef']\n",
    "print(\"dd : \", dict(dd))\n",
    "\n",
    "ee = ('ab', 'cd', 'ef')\n",
    "print(\"ee : \", dict(ee))"
   ]
  },
  {
   "cell_type": "code",
   "execution_count": 57,
   "id": "9c1ed3b2-7f9e-45d8-928a-6fba1cfc590c",
   "metadata": {},
   "outputs": [
    {
     "name": "stdout",
     "output_type": "stream",
     "text": [
      "{'b': 'blue', 'r': 'red', 'y': 'yellow', 'g': 'green'}\n",
      "{'b': 'blue', 'r': 'red', 'y': 'yellow', 'g': 'green', 'w': 'black'}\n",
      "{'b': 'blue', 'r': 'red', 'y': 'yellow', 'g': 'green', 'w': 'white'}\n"
     ]
    }
   ],
   "source": [
    "# 8.1.4 항목 추가/변경: [key]\n",
    "color = {\n",
    "    'b':'blue',\n",
    "    'r':'red',\n",
    "    'y':'yellow',\n",
    "    'g':'green'\n",
    "}\n",
    "\n",
    "print(color)\n",
    "\n",
    "color['w'] = 'black'\n",
    "print(color)\n",
    "\n",
    "color['w'] = 'white'\n",
    "print(color)"
   ]
  },
  {
   "cell_type": "code",
   "execution_count": 58,
   "id": "20814363-dadb-4948-9403-ff0f658c3ff1",
   "metadata": {},
   "outputs": [
    {
     "name": "stdout",
     "output_type": "stream",
     "text": [
      "False\n",
      "None\n",
      "white\n",
      "Not in color\n"
     ]
    }
   ],
   "source": [
    "# 8.1.5 항목 얻기 : [key]와 get()\n",
    "print('black' in color)\n",
    "print(color.get('white')) # 'white'라는 키가 없으므로 None을 반환한다. (print 안 쓰면 아무것도 반환 x)\n",
    "print(color.get('w'))\n",
    "\n",
    "print(color.get('p', 'Not in color')) # 'p'라는 키가 없으면 지정된 값을 반환한다."
   ]
  },
  {
   "cell_type": "code",
   "execution_count": 23,
   "id": "43926157-f87e-41f4-b48a-6ee90f305918",
   "metadata": {},
   "outputs": [
    {
     "data": {
      "text/plain": [
       "dict_keys(['green', 'yellow', 'red'])"
      ]
     },
     "execution_count": 23,
     "metadata": {},
     "output_type": "execute_result"
    }
   ],
   "source": [
    "# 8.1.6 모든 키 얻기: keys()\n",
    "signals = {'green': 'go', 'yellow': 'go faster', 'red': 'smile for the camera'}\n",
    "signals.keys()"
   ]
  },
  {
   "cell_type": "code",
   "execution_count": 24,
   "id": "cb7a9841-632b-462d-8c4e-53e2cd34e368",
   "metadata": {},
   "outputs": [
    {
     "data": {
      "text/plain": [
       "['green', 'yellow', 'red']"
      ]
     },
     "execution_count": 24,
     "metadata": {},
     "output_type": "execute_result"
    }
   ],
   "source": [
    "list(signals.keys())"
   ]
  },
  {
   "cell_type": "code",
   "execution_count": 25,
   "id": "33ed83bb-be30-42b1-af1e-f7357c289bad",
   "metadata": {},
   "outputs": [
    {
     "data": {
      "text/plain": [
       "['go', 'go faster', 'smile for the camera']"
      ]
     },
     "execution_count": 25,
     "metadata": {},
     "output_type": "execute_result"
    }
   ],
   "source": [
    "# 8.1.7 모든 값 얻기 : values()\n",
    "list(signals.values())"
   ]
  },
  {
   "cell_type": "code",
   "execution_count": 26,
   "id": "a2dc8b2c-8e37-41b5-88f5-9ee6e54a3840",
   "metadata": {},
   "outputs": [
    {
     "data": {
      "text/plain": [
       "[('green', 'go'), ('yellow', 'go faster'), ('red', 'smile for the camera')]"
      ]
     },
     "execution_count": 26,
     "metadata": {},
     "output_type": "execute_result"
    }
   ],
   "source": [
    "# 8.1.8 모든 키-값 얻기: items()\n",
    "list(signals.items())"
   ]
  },
  {
   "cell_type": "code",
   "execution_count": 27,
   "id": "27b044ee-4a1b-4007-a94b-6cbb670bf5d6",
   "metadata": {},
   "outputs": [
    {
     "data": {
      "text/plain": [
       "3"
      ]
     },
     "execution_count": 27,
     "metadata": {},
     "output_type": "execute_result"
    }
   ],
   "source": [
    "# 8.1.9 길이 얻기: len()\n",
    "len(signals)"
   ]
  },
  {
   "cell_type": "code",
   "execution_count": 29,
   "id": "79c965f1-212e-4da5-be2f-027c461af80c",
   "metadata": {},
   "outputs": [
    {
     "data": {
      "text/plain": [
       "{'a': 'agony', 'b': 'bagles', 'c': 'candy'}"
      ]
     },
     "execution_count": 29,
     "metadata": {},
     "output_type": "execute_result"
    }
   ],
   "source": [
    "# 8.1.10 결합하기 : {**a, **b}\n",
    "# 얕은 복사를 수행한다.\n",
    "first = {'a':'agony', 'b':'bliss'}\n",
    "second = {'b':'bagles', 'c':'candy'}\n",
    "{**first, **second}"
   ]
  },
  {
   "cell_type": "code",
   "execution_count": 30,
   "id": "d7408afc-d9d0-4a6b-ac54-a22c6ac1ecf5",
   "metadata": {},
   "outputs": [
    {
     "data": {
      "text/plain": [
       "{'a': 'agony', 'b': 'bagles', 'd': 'donuts', 'c': 'candy'}"
      ]
     },
     "execution_count": 30,
     "metadata": {},
     "output_type": "execute_result"
    }
   ],
   "source": [
    "third = {'d':'donuts'}\n",
    "{**first, **third, **second}"
   ]
  },
  {
   "cell_type": "code",
   "execution_count": 31,
   "id": "c31309e2-dd8e-4fff-ba0c-07daf8b29ac9",
   "metadata": {},
   "outputs": [],
   "source": [
    "# 8.1.11 결합하기: update()\n",
    "days = {\n",
    "    '1':'monday',\n",
    "    '2':'tuesday',\n",
    "    '3':'wednesday',\n",
    "    '4':'thursday',\n",
    "    '5':'friday'\n",
    "}"
   ]
  },
  {
   "cell_type": "code",
   "execution_count": 32,
   "id": "0de2b035-62da-411a-9750-27feb36c93ec",
   "metadata": {},
   "outputs": [],
   "source": [
    "others = {'6':'saturday', '7':'sunday'}"
   ]
  },
  {
   "cell_type": "code",
   "execution_count": 34,
   "id": "260b41f4-dd78-4cf1-9805-4e60539361ee",
   "metadata": {},
   "outputs": [
    {
     "data": {
      "text/plain": [
       "{'1': 'monday',\n",
       " '2': 'tuesday',\n",
       " '3': 'wednesday',\n",
       " '4': 'thursday',\n",
       " '5': 'friday',\n",
       " '6': 'saturday',\n",
       " '7': 'sunday'}"
      ]
     },
     "execution_count": 34,
     "metadata": {},
     "output_type": "execute_result"
    }
   ],
   "source": [
    "days.update(others)\n",
    "days"
   ]
  },
  {
   "cell_type": "code",
   "execution_count": 35,
   "id": "bb605f25-6c2c-484c-81f6-b4c5386e5294",
   "metadata": {},
   "outputs": [
    {
     "data": {
      "text/plain": [
       "{'2': 'tuesday',\n",
       " '3': 'wednesday',\n",
       " '4': 'thursday',\n",
       " '5': 'friday',\n",
       " '6': 'saturday',\n",
       " '7': 'sunday'}"
      ]
     },
     "execution_count": 35,
     "metadata": {},
     "output_type": "execute_result"
    }
   ],
   "source": [
    "# 8.1.12 키와 del로 항목 삭제하기\n",
    "del days['1']\n",
    "days"
   ]
  },
  {
   "cell_type": "code",
   "execution_count": 37,
   "id": "d2809e53-294d-44cd-81d2-3a7e71a6b077",
   "metadata": {},
   "outputs": [
    {
     "data": {
      "text/plain": [
       "6"
      ]
     },
     "execution_count": 37,
     "metadata": {},
     "output_type": "execute_result"
    }
   ],
   "source": [
    "# 8.1.13 키로 항목 가져온 뒤 삭제하기: pop()\n",
    "len(days)"
   ]
  },
  {
   "cell_type": "code",
   "execution_count": 38,
   "id": "2f599518-a90b-49b0-b497-e95e0d3f48a3",
   "metadata": {},
   "outputs": [
    {
     "data": {
      "text/plain": [
       "'tuesday'"
      ]
     },
     "execution_count": 38,
     "metadata": {},
     "output_type": "execute_result"
    }
   ],
   "source": [
    "days.pop('2')"
   ]
  },
  {
   "cell_type": "code",
   "execution_count": 39,
   "id": "24ff3e2e-e765-45b5-b0b2-b4673d095ac9",
   "metadata": {},
   "outputs": [
    {
     "data": {
      "text/plain": [
       "5"
      ]
     },
     "execution_count": 39,
     "metadata": {},
     "output_type": "execute_result"
    }
   ],
   "source": [
    "len(days)"
   ]
  },
  {
   "cell_type": "code",
   "execution_count": 41,
   "id": "02a5f709-65ec-4d0a-854b-49d8ca4587d0",
   "metadata": {},
   "outputs": [
    {
     "data": {
      "text/plain": [
       "'3'"
      ]
     },
     "execution_count": 41,
     "metadata": {},
     "output_type": "execute_result"
    }
   ],
   "source": [
    "days.pop('1', '3') # '1'이라는 키가 삭제되어 없으므로 그 다음 값인 '3'의 키-값을 삭제한다."
   ]
  },
  {
   "cell_type": "code",
   "execution_count": 42,
   "id": "8cfcabb6-a2ef-4599-b100-c874a81d8313",
   "metadata": {},
   "outputs": [
    {
     "data": {
      "text/plain": [
       "5"
      ]
     },
     "execution_count": 42,
     "metadata": {},
     "output_type": "execute_result"
    }
   ],
   "source": [
    "len(days)"
   ]
  },
  {
   "cell_type": "code",
   "execution_count": 45,
   "id": "f8a3cf99-81ca-42c2-aa50-ffbe75359f52",
   "metadata": {},
   "outputs": [
    {
     "name": "stdout",
     "output_type": "stream",
     "text": [
      "{}\n",
      "{}\n"
     ]
    }
   ],
   "source": [
    "# 8.1.14 모든 항목 삭제하기: clear()\n",
    "days.clear()\n",
    "print(days)\n",
    "\n",
    "days = {}\n",
    "print(days)"
   ]
  },
  {
   "cell_type": "code",
   "execution_count": 59,
   "id": "65b10259-2f69-45fb-b227-20c68fa0ad40",
   "metadata": {},
   "outputs": [
    {
     "name": "stdout",
     "output_type": "stream",
     "text": [
      "{'b': 'blue', 'r': 'red', 'y': 'yellow', 'g': 'green', 'w': 'white'}\n",
      "True\n",
      "False\n"
     ]
    }
   ],
   "source": [
    "# 8.1.15 키 멤버십 테스트: in\n",
    "print(color)\n",
    "print('b' in color)\n",
    "print('c' in color)"
   ]
  },
  {
   "cell_type": "code",
   "execution_count": 62,
   "id": "e1370540-1208-4f02-8956-06a710052ed4",
   "metadata": {},
   "outputs": [
    {
     "data": {
      "text/plain": [
       "{'b': 'blue',\n",
       " 'r': 'red',\n",
       " 'y': 'yellow',\n",
       " 'g': 'green',\n",
       " 'w': 'white',\n",
       " 'o': 'orange'}"
      ]
     },
     "execution_count": 62,
     "metadata": {},
     "output_type": "execute_result"
    }
   ],
   "source": [
    "# 8.1.16 할당하기: =\n",
    "save_color = color\n",
    "save_color['o'] = 'orange'\n",
    "save_color"
   ]
  },
  {
   "cell_type": "code",
   "execution_count": 65,
   "id": "955d8c7d-02c2-47af-bb08-a8dd6332287a",
   "metadata": {},
   "outputs": [
    {
     "data": {
      "text/plain": [
       "{'b': 'blue',\n",
       " 'r': 'red',\n",
       " 'y': 'yellow',\n",
       " 'g': 'green',\n",
       " 'w': 'white',\n",
       " 'o': 'orange'}"
      ]
     },
     "execution_count": 65,
     "metadata": {},
     "output_type": "execute_result"
    }
   ],
   "source": [
    "# 8.1.17 얕은 복사: copy()\n",
    "color = {\n",
    "    'b': 'blue',\n",
    "     'r': 'red',\n",
    "     'y': 'yellow',\n",
    "     'g': 'green',\n",
    "     'w': 'white'\n",
    "}\n",
    "original_color = color.copy()\n",
    "original_color['o'] = 'orange'\n",
    "original_color"
   ]
  },
  {
   "cell_type": "code",
   "execution_count": 72,
   "id": "ba1480b7-5ff0-4429-ba58-5791e223bb85",
   "metadata": {},
   "outputs": [
    {
     "name": "stdout",
     "output_type": "stream",
     "text": [
      "{'b': 'blue', 'r': ['red', 'red2'], 'y': 'yellow', 'g': 'green', 'w': 'white'}\n",
      "{'b': 'blue', 'r': ['red', 'red2'], 'y': 'yellow', 'g': 'green', 'w': 'white'}\n",
      "\n",
      "\n",
      "{'b': 'blue', 'r': ['red', 'real red'], 'y': 'yellow', 'g': 'green', 'w': 'white'}\n",
      "{'b': 'blue', 'r': ['red', 'red2'], 'y': 'yellow', 'g': 'green', 'w': 'white'}\n"
     ]
    }
   ],
   "source": [
    "# 8.1.18 깊은 복사 : deepcopy()\n",
    "import copy\n",
    "color = {\n",
    "    'b': 'blue',\n",
    "     'r': ['red', 'red2'],\n",
    "     'y': 'yellow',\n",
    "     'g': 'green',\n",
    "     'w': 'white'\n",
    "}\n",
    "color_copy = copy.deepcopy(color)\n",
    "print(color)\n",
    "print(color_copy)\n",
    "color['r'][1] = 'real red'\n",
    "print(\"\\n\")\n",
    "print(color)\n",
    "print(color_copy)"
   ]
  },
  {
   "cell_type": "code",
   "execution_count": 73,
   "id": "f55bf5a6-022c-4b6e-8164-925bee2d9531",
   "metadata": {},
   "outputs": [
    {
     "data": {
      "text/plain": [
       "True"
      ]
     },
     "execution_count": 73,
     "metadata": {},
     "output_type": "execute_result"
    }
   ],
   "source": [
    "# 8.1.19 딕셔너리 비교\n",
    "# ==, !=를 사용해서 딕셔너리를 비교할 수 있다.\n",
    "a = {1:1, 2:2, 3:3}\n",
    "b = {3:3, 2:2, 1:1}\n",
    "a == b"
   ]
  },
  {
   "cell_type": "code",
   "execution_count": 81,
   "id": "8975b17c-8b4f-455a-be4c-5738753f4c2c",
   "metadata": {},
   "outputs": [
    {
     "name": "stdout",
     "output_type": "stream",
     "text": [
      "room\n",
      "weapon\n",
      "person\n"
     ]
    }
   ],
   "source": [
    "# 8.1.20 순회하기: for와 in\n",
    "accusation = {'room':'ballroom', 'weapon': 'lead pipe', 'person': 'Col.Mustard'}\n",
    "for card in accusation:\n",
    "    print(card)"
   ]
  },
  {
   "cell_type": "code",
   "execution_count": 82,
   "id": "246e9711-73ea-46d0-8032-86f1101dad3d",
   "metadata": {},
   "outputs": [
    {
     "name": "stdout",
     "output_type": "stream",
     "text": [
      "ballroom\n",
      "lead pipe\n",
      "Col.Mustard\n"
     ]
    }
   ],
   "source": [
    "for value in accusation.values():\n",
    "    print(value)"
   ]
  },
  {
   "cell_type": "code",
   "execution_count": 83,
   "id": "a0ff28df-8cf5-482d-8237-30520b6b1d7a",
   "metadata": {},
   "outputs": [
    {
     "name": "stdout",
     "output_type": "stream",
     "text": [
      "('room', 'ballroom')\n",
      "('weapon', 'lead pipe')\n",
      "('person', 'Col.Mustard')\n"
     ]
    }
   ],
   "source": [
    "for item in accusation.items():\n",
    "    print(item)"
   ]
  },
  {
   "cell_type": "code",
   "execution_count": 84,
   "id": "6a827520-9b91-44d8-9ea4-57b3c07c6845",
   "metadata": {},
   "outputs": [
    {
     "name": "stdout",
     "output_type": "stream",
     "text": [
      "Card room has the contents ballroom\n",
      "Card weapon has the contents lead pipe\n",
      "Card person has the contents Col.Mustard\n"
     ]
    }
   ],
   "source": [
    "for card, contents in accusation.items():\n",
    "    print('Card', card, 'has the contents', contents)"
   ]
  },
  {
   "cell_type": "code",
   "execution_count": 85,
   "id": "93e36ab6-50c4-41e6-922d-160a48580a71",
   "metadata": {},
   "outputs": [
    {
     "data": {
      "text/plain": [
       "{'l': 1, 'e': 2, 't': 2, 'r': 1, 's': 1}"
      ]
     },
     "execution_count": 85,
     "metadata": {},
     "output_type": "execute_result"
    }
   ],
   "source": [
    "# 8.1.21 딕셔너리 컴프리헨션\n",
    "word = 'letters'\n",
    "letter_counts = {letter: word.count(letter) for letter in word}\n",
    "letter_counts"
   ]
  },
  {
   "cell_type": "code",
   "execution_count": 87,
   "id": "5a7afcf6-397e-435a-b1d7-9b3bfe5aaebd",
   "metadata": {},
   "outputs": [
    {
     "data": {
      "text/plain": [
       "{'s': 1, 'r': 1, 't': 2, 'e': 2, 'l': 1}"
      ]
     },
     "execution_count": 87,
     "metadata": {},
     "output_type": "execute_result"
    }
   ],
   "source": [
    "word = 'letters'\n",
    "letter_counts = {letter: word.count(letter) for letter in set(word)}\n",
    "letter_counts"
   ]
  },
  {
   "cell_type": "code",
   "execution_count": 89,
   "id": "7d1b6a34-68f4-484d-89dd-3e2688fb0c3f",
   "metadata": {},
   "outputs": [
    {
     "data": {
      "text/plain": [
       "{'e': 1, 'o': 4, 'i': 1, 'a': 2}"
      ]
     },
     "execution_count": 89,
     "metadata": {},
     "output_type": "execute_result"
    }
   ],
   "source": [
    "vowels = 'aeiou'\n",
    "word = 'onomatopoeia'\n",
    "vowel_counts = {letter:word.count(letter) for letter in set(word) if letter in vowels}\n",
    "vowel_counts"
   ]
  },
  {
   "cell_type": "code",
   "execution_count": null,
   "id": "3a740e0a-e2cc-4cbd-8dea-1b015338e5f7",
   "metadata": {},
   "outputs": [],
   "source": [
    "# 8.2 셋"
   ]
  },
  {
   "cell_type": "code",
   "execution_count": 92,
   "id": "c4815b8f-502c-4d7c-bb01-2547aab331a8",
   "metadata": {},
   "outputs": [
    {
     "name": "stdout",
     "output_type": "stream",
     "text": [
      "set()\n",
      "{0, 2, 4, 6, 8}\n",
      "{1, 3, 5, 7, 9}\n"
     ]
    }
   ],
   "source": [
    "# 8.2.1 생성하기: set()\n",
    "empty_set = set()\n",
    "print(empty_set)\n",
    "even_numbers = {0, 2, 4, 6, 8}\n",
    "print(even_numbers)\n",
    "odd_numbers = {1, 3, 5, 7, 9}\n",
    "print(odd_numbers)"
   ]
  },
  {
   "cell_type": "code",
   "execution_count": 99,
   "id": "646b185b-f39d-4e9e-810a-568bde6a1581",
   "metadata": {},
   "outputs": [
    {
     "name": "stdout",
     "output_type": "stream",
     "text": [
      "{'s', 'r', 't', 'e', 'l'}\n",
      "{'Mason-Dixon', 'Dancer', 'Dasher', 'Prancer'}\n",
      "{'Echoes', 'Atom Heart Mother', 'Ummagumma'}\n",
      "{'apple', 'cherry', 'orange'}\n"
     ]
    }
   ],
   "source": [
    "# 8.2.2 변환하기: set()\n",
    "print(set('letters'))\n",
    "\n",
    "print(set(['Dasher', 'Dancer', 'Prancer', 'Mason-Dixon']))\n",
    "\n",
    "print(set(('Ummagumma', 'Echoes', 'Atom Heart Mother')))\n",
    "\n",
    "print(set({'apple':'red', 'orange':'orange', 'cherry':'red'}))"
   ]
  },
  {
   "cell_type": "code",
   "execution_count": 101,
   "id": "d6e9d9a2-c0ac-480e-a296-7ae853bf86ff",
   "metadata": {},
   "outputs": [
    {
     "data": {
      "text/plain": [
       "4"
      ]
     },
     "execution_count": 101,
     "metadata": {},
     "output_type": "execute_result"
    }
   ],
   "source": [
    "# 8.2.3 길이 얻기: len()\n",
    "reindeer = set(['Dasher', 'Dancer', 'Prance', 'Mason-Dixon'])\n",
    "len(reindeer)"
   ]
  },
  {
   "cell_type": "code",
   "execution_count": 1,
   "id": "5ef8455d-ba36-4d7d-a45f-8cd52a4e9f98",
   "metadata": {},
   "outputs": [
    {
     "name": "stdout",
     "output_type": "stream",
     "text": [
      "{1, 2, 3}\n",
      "{1, 2, 3, 4}\n"
     ]
    }
   ],
   "source": [
    "# 8.2.4 항목 추가하기: add()\n",
    "s = set((1, 2, 3))\n",
    "print(s)\n",
    "s.add(4)\n",
    "print(s)"
   ]
  },
  {
   "cell_type": "code",
   "execution_count": 3,
   "id": "589e4571-4b9b-464b-bf47-d04307c4a11a",
   "metadata": {},
   "outputs": [
    {
     "data": {
      "text/plain": [
       "{1, 2}"
      ]
     },
     "execution_count": 3,
     "metadata": {},
     "output_type": "execute_result"
    }
   ],
   "source": [
    "# 8.2.5 항목 삭제하기: remove()\n",
    "s = set((1, 2, 3))\n",
    "s.remove(3)\n",
    "s"
   ]
  },
  {
   "cell_type": "code",
   "execution_count": 4,
   "id": "5bdc96d8-2e49-4361-a528-91ddfa5a060f",
   "metadata": {},
   "outputs": [
    {
     "name": "stdout",
     "output_type": "stream",
     "text": [
      "ottoman\n",
      "sofa\n",
      "table\n"
     ]
    }
   ],
   "source": [
    "# 8.2.6 순회하기: for와 in\n",
    "furniture = set(('sofa', 'ottoman', 'table'))\n",
    "for piece in furniture:\n",
    "    print(piece)"
   ]
  },
  {
   "cell_type": "code",
   "execution_count": 11,
   "id": "411ba46f-a1ab-47ca-bc58-c9af9fbe0600",
   "metadata": {},
   "outputs": [
    {
     "name": "stdout",
     "output_type": "stream",
     "text": [
      "marini\n",
      "black russian\n",
      "white russian\n",
      "screwdriver\n",
      "\n",
      "\n",
      "black russian\n",
      "screwdriver\n"
     ]
    }
   ],
   "source": [
    "# 8.2.7 멤버십 테스트: in\n",
    "drinks = {\n",
    "    'marini':{'vodka', 'vermouth'},\n",
    "    'black russian':{'vodka', 'kahlua'},\n",
    "    'white russian': {'cream', 'kahlua', 'vodka'},\n",
    "    'manhattan': {'rye', 'vermouth', 'bitters'},\n",
    "    'screwdriver': {'orange juice', 'vodka'}\n",
    "}\n",
    " \n",
    "# vodka가 포함된 음료\n",
    "for name, contents in drinks.items():\n",
    "    if 'vodka' in contents:\n",
    "        print(name)\n",
    "        \n",
    "print(\"\\n\")\n",
    "# vodka가 섞인 음료, cream과 vermouth 제외\n",
    "for name, contents in drinks.items():\n",
    "    if 'vodka' in contents and not ('vermouth' in contents or 'cream' in contents):\n",
    "        print(name)"
   ]
  },
  {
   "cell_type": "code",
   "execution_count": 12,
   "id": "cda2e97f-de24-423a-96ba-3361c118f6e4",
   "metadata": {},
   "outputs": [
    {
     "name": "stdout",
     "output_type": "stream",
     "text": [
      "marini\n",
      "manhattan\n",
      "screwdriver\n"
     ]
    }
   ],
   "source": [
    "# 8.2.8 콤비네이션과 연산자\n",
    "# orange juice나 vermouth가 들어있는 음료\n",
    "for name, contents in drinks.items():\n",
    "    if contents & {'vermouth', 'orange juice'}:\n",
    "        print(name)"
   ]
  },
  {
   "cell_type": "code",
   "execution_count": 13,
   "id": "c3e4e1d9-9a34-406f-9e95-72d47ae9c8dc",
   "metadata": {},
   "outputs": [
    {
     "name": "stdout",
     "output_type": "stream",
     "text": [
      "black russian\n",
      "screwdriver\n"
     ]
    }
   ],
   "source": [
    "# vodka는 들어 있지만 cream이나 vermouth가 없는 음료\n",
    "for name, contents in drinks.items():\n",
    "    if 'vodka' in contents and not contents & {'vermouth', 'cream'}:\n",
    "        print(name)"
   ]
  },
  {
   "cell_type": "code",
   "execution_count": 14,
   "id": "0d997f2a-03a7-4096-8905-28cecb671b89",
   "metadata": {},
   "outputs": [],
   "source": [
    "bruss = drinks['black russian']\n",
    "wruss = drinks['white russian']"
   ]
  },
  {
   "cell_type": "code",
   "execution_count": 28,
   "id": "bb9d7361-19f0-44a0-a8b6-78cc3474fcf8",
   "metadata": {},
   "outputs": [
    {
     "name": "stdout",
     "output_type": "stream",
     "text": [
      "{2}\n",
      "{2}\n",
      "{'vodka', 'kahlua'}\n",
      "\n",
      "\n",
      "{1, 2, 3}\n",
      "{1, 2, 3}\n",
      "{'cream', 'vodka', 'kahlua'}\n",
      "\n",
      "\n",
      "{1}\n",
      "{1}\n",
      "set()\n",
      "{'cream'}\n",
      "\n",
      "\n",
      "{1, 3}\n",
      "{1, 3}\n",
      "{'cream'}\n",
      "\n",
      "\n",
      "False\n",
      "False\n",
      "True\n",
      "True\n",
      "True\n",
      "\n",
      "\n",
      "False\n",
      "False\n",
      "True\n",
      "\n",
      "\n",
      "False\n",
      "False\n",
      "True\n",
      "True\n",
      "True\n",
      "\n",
      "\n",
      "False\n",
      "True\n",
      "False\n"
     ]
    }
   ],
   "source": [
    "a = {1, 2}\n",
    "b = {2, 3}\n",
    "\n",
    "# 합집합\n",
    "print(a & b)\n",
    "print(a.intersection(b))\n",
    "print(bruss & wruss)\n",
    "print(\"\\n\")\n",
    "\n",
    "# 교집합\n",
    "print(a | b)\n",
    "print(a.union(b))\n",
    "print(bruss | wruss)\n",
    "print(\"\\n\")\n",
    "\n",
    "# 차집합\n",
    "print(a-b)\n",
    "print(a.difference(b))\n",
    "print(bruss-wruss)\n",
    "print(wruss-bruss)\n",
    "print(\"\\n\")\n",
    "\n",
    "# 대칭차집합\n",
    "print(a ^ b)\n",
    "print(a.symmetric_difference(b))\n",
    "print(bruss ^ wruss)\n",
    "print(\"\\n\")\n",
    "\n",
    "# 부분집합\n",
    "print(a <= b)\n",
    "print(a.issubset(b))\n",
    "print(bruss <= wruss)\n",
    "print(a <= a) \n",
    "print(a.issubset(a)) # 모든 셋은 자신의 부분집합이다.\n",
    "print(\"\\n\")\n",
    "\n",
    "# 진부분집합\n",
    "print(a < b)\n",
    "print(a < a)\n",
    "print(bruss < wruss)\n",
    "print(\"\\n\")\n",
    "\n",
    "# 상위집합\n",
    "print(a >= b)\n",
    "print(a.issuperset(b))\n",
    "print(wruss >= bruss)\n",
    "print(a >= a)\n",
    "print(a.issuperset(a)) # 모든 셋은 자신의 상위집합이다.\n",
    "print(\"\\n\")\n",
    "\n",
    "# 진상위집합\n",
    "print(a > b)\n",
    "print(wruss > bruss)\n",
    "print(a > a) # 모든 셋은 자신의 진상위집합이 될 수 없다."
   ]
  },
  {
   "cell_type": "code",
   "execution_count": 29,
   "id": "c4854e44-8799-40ed-980e-e438343e9d87",
   "metadata": {},
   "outputs": [
    {
     "data": {
      "text/plain": [
       "{1, 4}"
      ]
     },
     "execution_count": 29,
     "metadata": {},
     "output_type": "execute_result"
    }
   ],
   "source": [
    "# 8.2.9 셋 컴프리헨션\n",
    "a_set = {number for number in range(1, 6) if number % 3 == 1}\n",
    "a_set"
   ]
  },
  {
   "cell_type": "code",
   "execution_count": 31,
   "id": "0a7ea09d-b6f4-4d47-9ad7-0515404362ff",
   "metadata": {},
   "outputs": [
    {
     "name": "stdout",
     "output_type": "stream",
     "text": [
      "frozenset({1, 2, 3})\n",
      "frozenset({1, 2, 3})\n",
      "frozenset({1, 2, 3})\n",
      "frozenset({1, 2, 3})\n"
     ]
    }
   ],
   "source": [
    "# 8.2.10 불변 셋 생성하기: frozenset()\n",
    "print(frozenset([3, 2, 1]))\n",
    "print(frozenset(set([2, 1, 3])))\n",
    "print(frozenset({3, 1, 2}))\n",
    "print(frozenset( (2, 3, 1) ))"
   ]
  },
  {
   "cell_type": "code",
   "execution_count": 32,
   "id": "bbd93ff6-7b86-417f-a2dc-ed952fc679c8",
   "metadata": {},
   "outputs": [
    {
     "data": {
      "text/plain": [
       "frozenset({1, 2, 3})"
      ]
     },
     "execution_count": 32,
     "metadata": {},
     "output_type": "execute_result"
    }
   ],
   "source": [
    "fs = frozenset([3, 2, 1])\n",
    "fs"
   ]
  },
  {
   "cell_type": "code",
   "execution_count": 33,
   "id": "bf6d1002-0291-48fc-a18e-cc814849f908",
   "metadata": {},
   "outputs": [
    {
     "ename": "AttributeError",
     "evalue": "'frozenset' object has no attribute 'add'",
     "output_type": "error",
     "traceback": [
      "\u001b[1;31m---------------------------------------------------------------------------\u001b[0m",
      "\u001b[1;31mAttributeError\u001b[0m                            Traceback (most recent call last)",
      "\u001b[1;32m~\\AppData\\Local\\Temp/ipykernel_29412/2554674305.py\u001b[0m in \u001b[0;36m<module>\u001b[1;34m\u001b[0m\n\u001b[1;32m----> 1\u001b[1;33m \u001b[0mfs\u001b[0m\u001b[1;33m.\u001b[0m\u001b[0madd\u001b[0m\u001b[1;33m(\u001b[0m\u001b[1;36m4\u001b[0m\u001b[1;33m)\u001b[0m\u001b[1;33m\u001b[0m\u001b[1;33m\u001b[0m\u001b[0m\n\u001b[0m",
      "\u001b[1;31mAttributeError\u001b[0m: 'frozenset' object has no attribute 'add'"
     ]
    }
   ],
   "source": [
    "fs.add(4) # 정말 불변이다."
   ]
  },
  {
   "cell_type": "markdown",
   "id": "bd2a8ee3-f72e-49fe-8fc7-0f18ec1a104b",
   "metadata": {},
   "source": [
    "#### 8.3 지금까지 배운 자료구조\n",
    "- 대괄호 []를 사용한 리스트\n",
    "- 콤마와 괄호 ()를 사용한 튜플(괄호는 옵션이다)\n",
    "- 중괄호 {}를 사용한 딕셔너리 또는 셋"
   ]
  },
  {
   "cell_type": "code",
   "execution_count": 34,
   "id": "a12dd406-7a07-4fa1-84f8-e4c8865e98e7",
   "metadata": {},
   "outputs": [],
   "source": [
    "# 8.4 자료구조 결합하기\n",
    "marxes = ['Grucho', 'Chico', 'Harpo']\n",
    "pythons = ['Chapman', 'Cleese', 'Gilliam', 'Jones', 'Palin']\n",
    "stooges = ['Moe', 'Curly', 'Larry']"
   ]
  },
  {
   "cell_type": "code",
   "execution_count": 35,
   "id": "1e2f40fc-d122-4eb0-adf5-7abb4134d36d",
   "metadata": {},
   "outputs": [
    {
     "data": {
      "text/plain": [
       "(['Grucho', 'Chico', 'Harpo'],\n",
       " ['Chapman', 'Cleese', 'Gilliam', 'Jones', 'Palin'],\n",
       " ['Moe', 'Curly', 'Larry'])"
      ]
     },
     "execution_count": 35,
     "metadata": {},
     "output_type": "execute_result"
    }
   ],
   "source": [
    "tuple_of_lists = marxes, pythons, stooges\n",
    "tuple_of_lists"
   ]
  },
  {
   "cell_type": "code",
   "execution_count": 37,
   "id": "cfa32fd6-b69d-408b-86c7-189fbf7c1947",
   "metadata": {},
   "outputs": [
    {
     "data": {
      "text/plain": [
       "[['Grucho', 'Chico', 'Harpo'],\n",
       " ['Chapman', 'Cleese', 'Gilliam', 'Jones', 'Palin'],\n",
       " ['Moe', 'Curly', 'Larry']]"
      ]
     },
     "execution_count": 37,
     "metadata": {},
     "output_type": "execute_result"
    }
   ],
   "source": [
    "list_of_lists = [marxes, pythons, stooges]\n",
    "list_of_lists"
   ]
  },
  {
   "cell_type": "code",
   "execution_count": 39,
   "id": "f931602b-f0c9-4dea-b14d-6ede72955782",
   "metadata": {},
   "outputs": [
    {
     "data": {
      "text/plain": [
       "{'Marxes': ['Grucho', 'Chico', 'Harpo'],\n",
       " 'Pythons': ['Chapman', 'Cleese', 'Gilliam', 'Jones', 'Palin'],\n",
       " 'Stooges': ['Moe', 'Curly', 'Larry']}"
      ]
     },
     "execution_count": 39,
     "metadata": {},
     "output_type": "execute_result"
    }
   ],
   "source": [
    "dict_of_lists = {'Marxes': marxes, 'Pythons' : pythons, 'Stooges': stooges}\n",
    "dict_of_lists"
   ]
  },
  {
   "cell_type": "markdown",
   "id": "128340c2-51f0-4e90-a8d5-77a31391cfd6",
   "metadata": {},
   "source": [
    "<hr>"
   ]
  },
  {
   "cell_type": "markdown",
   "id": "7e522217-17f0-48f2-9783-8e8564f65dbb",
   "metadata": {},
   "source": [
    "## Outro.\n",
    "- 다음주에 리마인드 실습 하나 할 예정.\n",
    "- About Team Project :\n",
    "    - 팀 단위로 두 개의 task를 완성하는 프로젝트.\n",
    "    - 1) 조교와의 상의 2) pylint 라이브러리 3) pydocstyle이 채점 기준.\n",
    "    - 점수 : 100-70-50-30 각각 두 팀씩.\n",
    "    - 9:00 ~ 9:30에는 랜덤으로 팀의 멤버 중 한 명에게 코드 관련 발표를 시킬 예정.\n",
    "    - 인터넷으로 찾아보지 말기.\n",
    "    - 매주 수요일 자정까지."
   ]
  },
  {
   "cell_type": "code",
   "execution_count": 2,
   "id": "2184a86c-62c1-4d29-bf69-2f21622c4d78",
   "metadata": {},
   "outputs": [],
   "source": [
    "# pylint\n",
    "# !pip install pylint\n",
    "# !pylint example.py\n",
    "\n",
    "# pydocstyle\n",
    "# !pip install pydocstyle\n",
    "# !pydocstyle example.py"
   ]
  }
 ],
 "metadata": {
  "kernelspec": {
   "display_name": "Python 3 (ipykernel)",
   "language": "python",
   "name": "python3"
  },
  "language_info": {
   "codemirror_mode": {
    "name": "ipython",
    "version": 3
   },
   "file_extension": ".py",
   "mimetype": "text/x-python",
   "name": "python",
   "nbconvert_exporter": "python",
   "pygments_lexer": "ipython3",
   "version": "3.8.12"
  }
 },
 "nbformat": 4,
 "nbformat_minor": 5
}
