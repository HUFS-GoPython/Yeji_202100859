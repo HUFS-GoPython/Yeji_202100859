{
 "cells": [
  {
   "cell_type": "markdown",
   "id": "c91995da-e43f-407b-8743-5ca80dcc7746",
   "metadata": {},
   "source": [
    "# 2022.05.20(금) | 고급파이썬 프로그래밍"
   ]
  },
  {
   "cell_type": "markdown",
   "id": "a9097d76-d400-4c7a-87bb-7812b03a9747",
   "metadata": {},
   "source": [
    "## Intro.\n",
    "- teamproject 3 리뷰 두 시간 동안 진행함.\n",
    "- 함수 심화 할 수 있는 내용까지 할 예정."
   ]
  },
  {
   "cell_type": "markdown",
   "id": "a198672b-3848-4975-89c8-9e78ba61fcc3",
   "metadata": {},
   "source": [
    "<hr>"
   ]
  },
  {
   "cell_type": "markdown",
   "id": "1ad01a9c-ec3f-4964-bbd1-f9d6d3cf7b1c",
   "metadata": {},
   "source": [
    "## Class"
   ]
  },
  {
   "cell_type": "markdown",
   "id": "720ffa06-cb2d-42d5-b3d4-269d12886190",
   "metadata": {},
   "source": [
    "### 함수 II"
   ]
  },
  {
   "cell_type": "markdown",
   "id": "17011b02-3adf-4c36-9076-ac44aee7e73c",
   "metadata": {},
   "source": [
    "#### asterisk (stars) *, **"
   ]
  },
  {
   "cell_type": "code",
   "execution_count": 2,
   "id": "cf6158b3-dee7-4601-9fd6-aa07552038cb",
   "metadata": {},
   "outputs": [
    {
     "name": "stdout",
     "output_type": "stream",
     "text": [
      "hey\n"
     ]
    }
   ],
   "source": [
    "def print_arg(args):\n",
    "    print(args)\n",
    "    \n",
    "print_arg('hey')\n",
    "# 원래는 인자로 넘기는 값 하나만 출력되는 함수."
   ]
  },
  {
   "cell_type": "code",
   "execution_count": 5,
   "id": "78ce1801-d2ba-4754-8696-c17a60d92453",
   "metadata": {},
   "outputs": [
    {
     "name": "stdout",
     "output_type": "stream",
     "text": [
      "('hey', 'hello', 'hi')\n"
     ]
    }
   ],
   "source": [
    "def print_arg(*args):\n",
    "    # 인자를 튜플로 묶어서 활용하는 역할\n",
    "    print(args)\n",
    "    \n",
    "print_arg('hey', 'hello', 'hi')\n",
    "# asterisk를 사용하면 여러 개를 넣어도 다 출력 가능하다."
   ]
  },
  {
   "cell_type": "code",
   "execution_count": 7,
   "id": "27af6144-5574-4c0a-8a84-4bd4bcb23934",
   "metadata": {},
   "outputs": [
    {
     "name": "stdout",
     "output_type": "stream",
     "text": [
      "hey hello hi\n"
     ]
    }
   ],
   "source": [
    "def print_arg(*args): #1. 패킹 : 인자를 튜플로 묶어서 활용하는 역할\n",
    "    print(*args) # 2. 여기에서도 *을 쓰면 언패킹이 됨. (튜플 -> 인자로)\n",
    "    \n",
    "print_arg('hey', 'hello', 'hi')\n",
    "# asterisk를 사용하면 여러 개를 넣어도 다 출력 가능하다."
   ]
  },
  {
   "cell_type": "code",
   "execution_count": 21,
   "id": "21cbaf12-a05d-423b-81cf-2d5bf9a7e18d",
   "metadata": {},
   "outputs": [
    {
     "name": "stdout",
     "output_type": "stream",
     "text": [
      "obligatory book\n",
      "1 2 3 4\n",
      "1)  None\n",
      "obligatory book\n",
      "(1, 2, 3, 4)\n",
      "obligatory book\n",
      "1 2 3 4\n",
      "obligatory book2\n",
      "\n"
     ]
    }
   ],
   "source": [
    "def print_arg2(name, *args):\n",
    "    print('obligatory', name)\n",
    "    print(*args)\n",
    "    \n",
    "print_arg2('book', 1, 2, 3, 4)\n",
    "\n",
    "x = print_arg2('book', nums)\n",
    "y = print_arg2('book', *nums)\n",
    "\n",
    "print_arg2('book2')\n",
    "nums = (1, 2, 3, 4)\n",
    "# args에 들어가는 값이 없어도 name 출력 가능."
   ]
  },
  {
   "cell_type": "markdown",
   "id": "8bd1ed26-dcd2-4d76-a48c-8608202f258d",
   "metadata": {},
   "source": [
    "#### 외부에서 활용하기\n",
    "- 컬렉션 자료형 언패킹 출력 시\n",
    "- zip()과도 같이 많이 쓰임\n",
    "- 키워드 전용 인수 선언\n",
    "    - 별 뒤에 오는 매개변수들은 반드시 키워드 인수로 들어오도록 설정하는 역할\n",
    "    - kargs(keyword arguments)와 혼선을 빚지 않기 위해"
   ]
  },
  {
   "cell_type": "code",
   "execution_count": 12,
   "id": "1cd69391-f348-4eaf-b357-a4b5c7be88eb",
   "metadata": {},
   "outputs": [
    {
     "name": "stdout",
     "output_type": "stream",
     "text": [
      "0 1 2 3 4\n"
     ]
    }
   ],
   "source": [
    "nums = list(range(5))\n",
    "print(*nums)"
   ]
  },
  {
   "cell_type": "code",
   "execution_count": 18,
   "id": "1117ff5d-d6bf-4917-8b07-c6b890f2f732",
   "metadata": {},
   "outputs": [
    {
     "name": "stdout",
     "output_type": "stream",
     "text": [
      "(1, 3, 5)\n",
      "(2, 4, 6)\n"
     ]
    }
   ],
   "source": [
    "a = [\n",
    "    [1, 2],\n",
    "    [3, 4],\n",
    "    [5, 6]\n",
    "]\n",
    "\n",
    "# 1, 3, 5 | 2, 4, 6\n",
    "for row in zip(*a):\n",
    "    print(row)"
   ]
  },
  {
   "cell_type": "code",
   "execution_count": 22,
   "id": "29adaee6-ad49-4008-b5ff-f9241bfa6d30",
   "metadata": {},
   "outputs": [
    {
     "name": "stdout",
     "output_type": "stream",
     "text": [
      "2\n",
      "3\n"
     ]
    }
   ],
   "source": [
    "def print_data(data, *, start, end):\n",
    "# start = 0, end = 0 이런 식으로 적어줬어야 함.\n",
    "    for value in data[start:end]:\n",
    "        print(value)\n",
    "        \n",
    "print_data(nums, start = 1, end = 3)"
   ]
  },
  {
   "cell_type": "markdown",
   "id": "8a8aa4e2-65f9-40c5-9ead-ff28e0c736fe",
   "metadata": {},
   "source": [
    "#### **"
   ]
  },
  {
   "cell_type": "code",
   "execution_count": 26,
   "id": "f5b1b925-fd8f-469c-a9f3-6e52154701e8",
   "metadata": {},
   "outputs": [
    {
     "name": "stdout",
     "output_type": "stream",
     "text": [
      "{'wine': 'merlot', 'dessert': 'cake'}\n"
     ]
    }
   ],
   "source": [
    "def print_kargs(**kargs): # 딕셔너리로 묶는 기능\n",
    "    print(kargs) # 여기서는 **으로 언패킹 불가능\n",
    "    # print(kargs['wine'], 'is semi-sweet') # get(key, default)\n",
    "    \n",
    "print_kargs(wine = 'merlot', dessert = 'cake')"
   ]
  },
  {
   "cell_type": "code",
   "execution_count": 25,
   "id": "1245d044-a9f3-4ba0-8164-30bd2122a90f",
   "metadata": {},
   "outputs": [
    {
     "name": "stdout",
     "output_type": "stream",
     "text": [
      "{'wine': 'merlot', 'dessert': 'scone'}\n",
      "merlot is semi-sweet\n",
      "{'wine': 'cabernet', 'dessert': 'scone'}\n",
      "cabernet is semi-sweet\n",
      "{'wine': 'crianza', 'dessert': 'scone'}\n",
      "crianza is semi-sweet\n"
     ]
    }
   ],
   "source": [
    "wine_list = 'merlot cabernet crianza'.split()\n",
    "for wine in wine_list:\n",
    "    print_kargs(wine=wine, dessert='scone')"
   ]
  },
  {
   "cell_type": "code",
   "execution_count": 30,
   "id": "cb65d0c6-f45f-46cd-b681-2b8c3e8aa75f",
   "metadata": {},
   "outputs": [
    {
     "name": "stdout",
     "output_type": "stream",
     "text": [
      "15\n",
      "{'first': 1, 'second': 2}\n"
     ]
    }
   ],
   "source": [
    "def print_both(one, two, *args, **kargs): # 위치인수 > args > kargs\n",
    "    print(one + two + sum(args))\n",
    "    print(kargs)\n",
    "    \n",
    "print_both(1, 2, 3, 4, 5, first=1, second=2)"
   ]
  },
  {
   "cell_type": "markdown",
   "id": "4fd43735-520e-4d13-bb00-93a12c99e8f8",
   "metadata": {},
   "source": [
    "#### 딕셔너리 결합할 때 사용할 수 있다. (3.5 이상)"
   ]
  },
  {
   "cell_type": "code",
   "execution_count": 33,
   "id": "ff222517-630b-47cc-a4be-943cc9117808",
   "metadata": {},
   "outputs": [
    {
     "data": {
      "text/plain": [
       "{1: 'a', 2: 'c', 3: 'd'}"
      ]
     },
     "execution_count": 33,
     "metadata": {},
     "output_type": "execute_result"
    }
   ],
   "source": [
    "x = {1: 'a', 2: 'b'}\n",
    "y = {2: 'c', 3: 'd'}\n",
    "z = {**x, **y}\n",
    "z"
   ]
  },
  {
   "cell_type": "markdown",
   "id": "9fed0169-9291-44cd-95eb-42facc263818",
   "metadata": {},
   "source": [
    "### 일급객체\n",
    "- first class object / first class citizen\n",
    "- 함수도 객체다.\n",
    "- 인자로 전달 가능\n",
    "- 반환값이 될 수 있다\n",
    "- 수정, 할당될 수 있다"
   ]
  },
  {
   "cell_type": "code",
   "execution_count": 38,
   "id": "fe8385b6-6075-436d-8de8-8637fe3e68cb",
   "metadata": {},
   "outputs": [
    {
     "name": "stdout",
     "output_type": "stream",
     "text": [
      "43\n",
      "43\n"
     ]
    }
   ],
   "source": [
    "def answer():\n",
    "    print(43)\n",
    "    \n",
    "def run_something(func): ## 함수가 객체인 파이썬에서만 가능\n",
    "    func()\n",
    "    \n",
    "run_something(answer)\n",
    "\n",
    "def run_anything(func):\n",
    "    return func\n",
    "\n",
    "run_anything(answer)() # 괄호를 붙이면 함수가 실행됨"
   ]
  },
  {
   "cell_type": "code",
   "execution_count": 41,
   "id": "2a9f5ddb-be74-4eb5-8e52-cbc142bcd5ef",
   "metadata": {},
   "outputs": [
    {
     "data": {
      "text/plain": [
       "13"
      ]
     },
     "execution_count": 41,
     "metadata": {},
     "output_type": "execute_result"
    }
   ],
   "source": [
    "def sum_args(*args):\n",
    "    return sum(args)\n",
    "\n",
    "def run_with_positional_args(func, *args):\n",
    "    return func(*args)\n",
    "\n",
    "run_with_positional_args(sum_args, 1, 3, 4, 5)"
   ]
  },
  {
   "cell_type": "code",
   "execution_count": 44,
   "id": "0b18eea5-7f7b-4a4d-9c59-8b18740d4d8f",
   "metadata": {},
   "outputs": [],
   "source": [
    "# 가변 인자일 때 => 초기화하지 않으면 변수 내용이 변할 수 있음\n",
    "\n",
    "def func(num_list):\n",
    "    # 변할 수 있음을 문서화하거나 다른 방법(copy, 새로운 걸 만들기 등)을 찾을 것.\n",
    "    sum_num = sum(num_list)\n",
    "    num_list.append(sum_num)\n",
    "    \n",
    "a = [1, 3, 5]\n",
    "func(a)"
   ]
  },
  {
   "cell_type": "code",
   "execution_count": 45,
   "id": "5631d396-b046-4419-a568-b792b6f1b569",
   "metadata": {},
   "outputs": [
    {
     "data": {
      "text/plain": [
       "[1, 3, 5, 9]"
      ]
     },
     "execution_count": 45,
     "metadata": {},
     "output_type": "execute_result"
    }
   ],
   "source": [
    "a"
   ]
  },
  {
   "cell_type": "code",
   "execution_count": 46,
   "id": "93239cea-b1a8-44aa-930c-8ce1dcb49eb2",
   "metadata": {},
   "outputs": [
    {
     "data": {
      "text/plain": [
       "[1, 3, 5, 9, 18]"
      ]
     },
     "execution_count": 46,
     "metadata": {},
     "output_type": "execute_result"
    }
   ],
   "source": [
    "func(a)\n",
    "a"
   ]
  },
  {
   "cell_type": "markdown",
   "id": "738f2a31-e904-4cae-b25d-18546150056b",
   "metadata": {},
   "source": [
    "### 내부함수 => 다음주"
   ]
  },
  {
   "cell_type": "markdown",
   "id": "474f9163-7608-4804-b76c-6992787fb37e",
   "metadata": {},
   "source": [
    "### 익명함수 (람다)\n",
    "- lambda\n",
    "- 함수인데 이름이 없음 (def, return)\n",
    "- 사용 상황 : 단순한 함수를 사용할 때\n",
    "- 단, 잦은 사용은 권장하지 않는다. => 직관적이지 않고 재활용 낮다.\n",
    "- lambda x: <x를 요리할 코드>"
   ]
  },
  {
   "cell_type": "code",
   "execution_count": 50,
   "id": "3edc473e-d0ae-4417-a6ea-2f8d67dd0c8e",
   "metadata": {},
   "outputs": [
    {
     "data": {
      "text/plain": [
       "'ok'"
      ]
     },
     "execution_count": 50,
     "metadata": {},
     "output_type": "execute_result"
    }
   ],
   "source": [
    "# lambda x: x.lower()\n",
    "\n",
    "def f(x, y):\n",
    "    return x.lower()\n",
    "\n",
    "f2 = lambda x: x.lower()\n",
    "f2('OK')"
   ]
  },
  {
   "cell_type": "code",
   "execution_count": 51,
   "id": "f11749f5-a487-4df3-833f-a0ff262132be",
   "metadata": {},
   "outputs": [
    {
     "data": {
      "text/plain": [
       "'ok'"
      ]
     },
     "execution_count": 51,
     "metadata": {},
     "output_type": "execute_result"
    }
   ],
   "source": [
    "(lambda x: x.lower())('OK') # 그냥 바로 이렇게 해도 됨."
   ]
  },
  {
   "cell_type": "code",
   "execution_count": 52,
   "id": "5e5eff81-9afe-4594-ae60-47a131894efd",
   "metadata": {},
   "outputs": [
    {
     "data": {
      "text/plain": [
       "10"
      ]
     },
     "execution_count": 52,
     "metadata": {},
     "output_type": "execute_result"
    }
   ],
   "source": [
    "f3 = lambda x, y: x + y\n",
    "f3(5, 5)"
   ]
  },
  {
   "cell_type": "code",
   "execution_count": 55,
   "id": "3e35fdf7-abc7-4da4-9fd7-4307c0a475d6",
   "metadata": {},
   "outputs": [
    {
     "data": {
      "text/plain": [
       "'Abc!'"
      ]
     },
     "execution_count": 55,
     "metadata": {},
     "output_type": "execute_result"
    }
   ],
   "source": [
    "# abc -> 첫 글자 대문자로 만들고 !붙여서 lambda함수 만들기\n",
    "(lambda x: x.capitalize()+\"!\")('abc')"
   ]
  },
  {
   "cell_type": "markdown",
   "id": "09c606e8-1ac7-4b40-b787-7acaabedece9",
   "metadata": {},
   "source": [
    "<hr>"
   ]
  },
  {
   "cell_type": "markdown",
   "id": "142e48ee-0786-418c-9cf2-21000a7ba19d",
   "metadata": {},
   "source": [
    "# Outro.\n",
    "- 다음주는 수업이 없기 때문에 복습 파일도 2주 뒤까지 올리면 되고, 프로젝트 한 주 쉬어감."
   ]
  }
 ],
 "metadata": {
  "kernelspec": {
   "display_name": "Python 3 (ipykernel)",
   "language": "python",
   "name": "python3"
  },
  "language_info": {
   "codemirror_mode": {
    "name": "ipython",
    "version": 3
   },
   "file_extension": ".py",
   "mimetype": "text/x-python",
   "name": "python",
   "nbconvert_exporter": "python",
   "pygments_lexer": "ipython3",
   "version": "3.8.12"
  }
 },
 "nbformat": 4,
 "nbformat_minor": 5
}
