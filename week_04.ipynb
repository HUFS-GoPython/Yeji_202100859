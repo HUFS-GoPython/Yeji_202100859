{
 "cells": [
  {
   "cell_type": "code",
   "execution_count": 6,
   "id": "46f5c08a-96a8-4310-9acb-fc4faf84b71d",
   "metadata": {},
   "outputs": [
    {
     "name": "stdout",
     "output_type": "stream",
     "text": [
      "*** Introductory Examples for the NLTK Book ***\n",
      "Loading text1, ..., text9 and sent1, ..., sent9\n",
      "Type the name of the text or sentence to view it.\n",
      "Type: 'texts()' or 'sents()' to list the materials.\n",
      "text1: Moby Dick by Herman Melville 1851\n",
      "text2: Sense and Sensibility by Jane Austen 1811\n",
      "text3: The Book of Genesis\n",
      "text4: Inaugural Address Corpus\n",
      "text5: Chat Corpus\n",
      "text6: Monty Python and the Holy Grail\n",
      "text7: Wall Street Journal\n",
      "text8: Personals Corpus\n",
      "text9: The Man Who Was Thursday by G . K . Chesterton 1908\n"
     ]
    }
   ],
   "source": [
    "from nltk import book"
   ]
  },
  {
   "cell_type": "code",
   "execution_count": 7,
   "id": "43f3994e-40dc-49af-8c3c-02a2e0f738b7",
   "metadata": {},
   "outputs": [
    {
     "data": {
      "text/plain": [
       "0.0983485761345412"
      ]
     },
     "execution_count": 7,
     "metadata": {},
     "output_type": "execute_result"
    }
   ],
   "source": [
    "text9_lex = book.text9\n",
    "\n",
    "# text9의 어휘 다양성을 알기 위해 중복 처리된 어휘 개수를 중복 처리 안 된 어휘 개수로 나눠준다.\n",
    "len(set(text9_lex.tokens)) / len(text9_lex.tokens)"
   ]
  },
  {
   "cell_type": "code",
   "execution_count": 8,
   "id": "2bb72d4a-3d4a-4ab2-9134-954bf5eb79df",
   "metadata": {},
   "outputs": [
    {
     "name": "stdout",
     "output_type": "stream",
     "text": [
      "Zoosh\n",
      "Zoop\n",
      "Zoo\n",
      "Zone\n",
      "Zhiv\n",
      "yourselF\n",
      "yourS\n",
      "youR\n",
      "younG\n",
      "you\n"
     ]
    }
   ],
   "source": [
    "text6 = book.text6\n",
    "\n",
    "lst = sorted(set(text6.tokens), reverse = True)[:10]\n",
    "\n",
    "for i in range(0, 10):\n",
    "    if 'z' in lst[i]:\n",
    "        print(lst[i][0].upper()+lst[i][1:])\n",
    "    elif 'z' not in lst[i] and len(lst[i]) >= 4:\n",
    "        print(lst[i][:-1]+lst[i][-1].upper())\n",
    "    else:\n",
    "        print(lst[i])"
   ]
  },
  {
   "cell_type": "code",
   "execution_count": 9,
   "id": "ae3b905d-4a5b-4b6b-a25a-80d43e965d44",
   "metadata": {},
   "outputs": [
    {
     "name": "stdin",
     "output_type": "stream",
     "text": [
      "주민번호 앞 7자리를 입력해주세요 :  0209304\n",
      "휴대폰 번호를 입력해주세요 :  01000000000\n",
      "이메일 아이디를 입력해주세요 :  ex)g\n"
     ]
    },
    {
     "name": "stdout",
     "output_type": "stream",
     "text": [
      "\n",
      "\n",
      "당신은 2002년 09월 30일 출생의 여성입니다.\n",
      "휴대폰번호 : 010-0000-0000\n",
      "이메일주소 : ex)g@gmail.com\n"
     ]
    }
   ],
   "source": [
    "# 주민번호는 앞에서 7자만 받는 것으로 함.\n",
    "\n",
    "personal_num = input(\"주민번호 앞 7자리를 입력해주세요 : \")\n",
    "phone = input(\"휴대폰 번호를 입력해주세요 : \")\n",
    "email_id = input(\"이메일 아이디를 입력해주세요 : \")\n",
    "print(\"\\n\")\n",
    "\n",
    "if int(personal_num[:2]) >= 22:\n",
    "    year = '19' + personal_num[:2]\n",
    "else:\n",
    "    year = '20' + personal_num[:2]\n",
    "    \n",
    "month = personal_num[2:4]\n",
    "day = personal_num[4:6]\n",
    "\n",
    "if int(personal_num[-1]) == 1 or int(personal_num[-1]) == 3:\n",
    "    gender = \"남성\"\n",
    "else:\n",
    "    gender = \"여성\"\n",
    "    \n",
    "print(f\"당신은 {year}년 {month}월 {day}일 출생의 {gender}입니다.\")\n",
    "print(\"휴대폰번호 : \" + phone[:3]+\"-\"+phone[3:7]+\"-\"+phone[7:])\n",
    "print(\"이메일주소 : \" + email_id + \"@gmail.com\")"
   ]
  },
  {
   "cell_type": "code",
   "execution_count": null,
   "id": "ea77ac12-34c9-43c2-9326-6743886de501",
   "metadata": {},
   "outputs": [],
   "source": []
  }
 ],
 "metadata": {
  "kernelspec": {
   "display_name": "Python 3 (ipykernel)",
   "language": "python",
   "name": "python3"
  },
  "language_info": {
   "codemirror_mode": {
    "name": "ipython",
    "version": 3
   },
   "file_extension": ".py",
   "mimetype": "text/x-python",
   "name": "python",
   "nbconvert_exporter": "python",
   "pygments_lexer": "ipython3",
   "version": "3.8.12"
  }
 },
 "nbformat": 4,
 "nbformat_minor": 5
}
