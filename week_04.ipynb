{
 "cells": [
  {
   "cell_type": "markdown",
   "id": "b09c1c1c-824c-4653-9262-cc28df0c1690",
   "metadata": {},
   "source": [
    "# 4주차 | 고급파이썬프로그래밍 | 2022.03.25(금)"
   ]
  },
  {
   "cell_type": "markdown",
   "id": "e42d951c-f18b-419d-84e7-37f6fe527807",
   "metadata": {},
   "source": [
    "## Intro.\n",
    "\n",
    "### notice\n",
    "- 퀴즈 저번주에 체크를 해보니 불합리한 부분이 있어서 pass or fail 방식이 아니라 상중하로 구분할 예정. \n",
    "- 실력은 이후에 있을 중간고사와 기말고사로 더 체크하겠음."
   ]
  },
  {
   "cell_type": "markdown",
   "id": "cbb5097a-fe3e-446e-9397-b970e3567388",
   "metadata": {},
   "source": [
    "#### Quiz 1. (지난 주에 내주셨던)\n",
    "- text9에서 lexical diversity 계산하기.\n",
    "- text6에서 중복없는 셋 내림차순 정렬하기\n",
    "    - a. 앞에서 단어 10개 추출하기\n",
    "    - b. 조건문 연습: 'z'가 있으면 대문자로 바꾸기, 'z'가 없는데 4자 이상이면 끝 글자 대문자로 바꾸기"
   ]
  },
  {
   "cell_type": "code",
   "execution_count": 277,
   "id": "5903eaf5-c549-4a2c-9143-58d86ecba727",
   "metadata": {},
   "outputs": [
    {
     "name": "stdout",
     "output_type": "stream",
     "text": [
      "0.0983485761345412\n",
      "\n",
      "\n",
      "Zoosh\n",
      "Zoop\n",
      "Zoo\n",
      "Zone\n",
      "Zhiv\n",
      "yourselF\n",
      "yourS\n",
      "youR\n",
      "younG\n",
      "you\n"
     ]
    }
   ],
   "source": [
    "from nltk import book # 눈 감고 칠 수 있어야 한다고 하심.\n",
    "\n",
    "text9 = book.text9\n",
    "print(len(set(text9.tokens)) / len(text9.tokens))\n",
    "\n",
    "print(\"\\n\")\n",
    "\n",
    "text6 = book.text6 \n",
    "lst = sorted(set(text6.tokens), reverse = True)[:10] \n",
    "\n",
    "for i in range(0, 10): \n",
    "    if 'z' in lst[i]:\n",
    "        print(lst[i][0].upper()+lst[i][1:])\n",
    "    elif 'z' not in lst[i] and len(lst[i]) >= 4:\n",
    "        print(lst[i][:-1]+lst[i][-1].upper())\n",
    "    else:\n",
    "        print(lst[i])\n",
    "        \n",
    "# 참고 : lexical diversity는 어휘 다양성을 계산하는 것이므로, 그 값이 클수록 다양성이 크다고 해석한다."
   ]
  },
  {
   "cell_type": "markdown",
   "id": "0c2ac02d-23f0-4edd-b337-f152a55be549",
   "metadata": {},
   "source": [
    "#### Quiz 2.\n",
    "- 주민등록번호, 휴대폰 번호, 이메일 입력받는다.\n",
    "    - 주민번호, 휴대폰은 숫자만 입력 (-없다)\n",
    "    - 이메일은 아이디만 입력 (@뒷부분 없음)\n",
    "    \n",
    "- 출력:\n",
    "    - \"당신은 {}년 {}월 {}일 출생의 {남성/여성}입니다.\"\n",
    "    - 휴대폰번호 : {} # 하이픈으로 연결하기\n",
    "    - 이메일주소 : {아이디}@gmail.com\n",
    "    \n",
    "<i>(주민번호는 앞의 7자리만 입력하도록 임의로 문제를 수정함.)</i>"
   ]
  },
  {
   "cell_type": "code",
   "execution_count": 278,
   "id": "12248e85-63ba-4991-aa05-08e2d9dfa11a",
   "metadata": {},
   "outputs": [
    {
     "name": "stdin",
     "output_type": "stream",
     "text": [
      "주민번호 앞 7자리를 입력해주세요 :  020202\n",
      "휴대폰 번호를 입력해주세요 :  01000000000\n",
      "이메일 아이디를 입력해주세요 :  idid\n"
     ]
    },
    {
     "name": "stdout",
     "output_type": "stream",
     "text": [
      "\n",
      "\n",
      "당신은 2002년 02월 02일 출생의 여성입니다.\n",
      "휴대폰번호 : 010-0000-0000\n",
      "이메일주소 : idid@gmail.com\n"
     ]
    }
   ],
   "source": [
    "personal_num = input(\"주민번호 앞 7자리를 입력해주세요 : \")\n",
    "phone = input(\"휴대폰 번호를 입력해주세요 : \")\n",
    "email_id = input(\"이메일 아이디를 입력해주세요 : \")\n",
    "print(\"\\n\")\n",
    "\n",
    "if int(personal_num[:2]) > 22: # 현재 년도를 기준으로 23년생부터는 1900년 생으로, 그 이하는 2000년 생으로 코딩함.\n",
    "    year = '19' + personal_num[:2]\n",
    "else:\n",
    "    year = '20' + personal_num[:2]\n",
    "    \n",
    "month = personal_num[2:4]\n",
    "day = personal_num[4:6]\n",
    "\n",
    "if int(personal_num[-1]) == 1 or int(personal_num[-1]) == 3:\n",
    "    gender = \"남성\"\n",
    "else:\n",
    "    gender = \"여성\"\n",
    "    \n",
    "print(f\"당신은 {year}년 {month}월 {day}일 출생의 {gender}입니다.\")\n",
    "print(\"휴대폰번호 : \" + phone[:3]+\"-\"+phone[3:7]+\"-\"+phone[7:])\n",
    "print(\"이메일주소 : \" + email_id + \"@gmail.com\")"
   ]
  },
  {
   "cell_type": "markdown",
   "id": "f870df44-cc6f-4ac1-9b69-d8ab4fc09c4e",
   "metadata": {},
   "source": [
    "<hr>"
   ]
  },
  {
   "cell_type": "markdown",
   "id": "ec2c9a3a-b6e3-473d-bc2b-1f58c2158317",
   "metadata": {},
   "source": [
    "## Class"
   ]
  },
  {
   "cell_type": "markdown",
   "id": "631693f0-3f0e-425f-8ea6-1bebd173056f",
   "metadata": {},
   "source": [
    "### 1. 함수 I \n",
    "##### def 이용 함수가 아닌 문자열 함수를 의미한다.\n",
    "- y = 3x + 1\n",
    "- `'<str>'.fx(<요소>)`\n",
    "- count(): 텍스트에서 어떤 요소의 개수를 세어줌.\n",
    "- replace(): A를 B로 교체해줌.\n",
    "- strip(): 불필요한 공백 등 원하는 요소를 제거하는 역할\n",
    "- find(): 원하는 문자열을 찾아줌. 찾는 게 없을 시 → '-1'을 반환함.\n",
    "- index(): 원하는 문자열의 인덱스 반환해줌.  찾는 게 없을 시 → error가 발생함.\n",
    "\n",
    "<i>외워서 원할 때 쓸 수 있도록 하기!</i>"
   ]
  },
  {
   "cell_type": "code",
   "execution_count": 64,
   "id": "02675132-f4ea-44d4-8708-21253fe27636",
   "metadata": {},
   "outputs": [
    {
     "name": "stdout",
     "output_type": "stream",
     "text": [
      "13721\n",
      "612\n",
      "98\n"
     ]
    }
   ],
   "source": [
    "# count() : 대소문자를 구분한다.\n",
    "text1 = book.text1\n",
    "\n",
    "print(text1.count(\"the\")) # 13721개\n",
    "print(text1.count(\"The\")) # 612개\n",
    "print(text1.count(\"THE\")) # 98개"
   ]
  },
  {
   "cell_type": "code",
   "execution_count": 40,
   "id": "08a5f921-e648-4b06-9800-1c9fff030849",
   "metadata": {},
   "outputs": [
    {
     "name": "stdout",
     "output_type": "stream",
     "text": [
      "나의 가장 친한 친구는 철수이다.\n",
      "나의 가장 친한 친구는 영희이다.\n"
     ]
    }
   ],
   "source": [
    "# replace()\n",
    "\n",
    "print(str:='나의 가장 친한 친구는 철수이다.')\n",
    "print(str:= str.replace('철수', '영희'))"
   ]
  },
  {
   "cell_type": "code",
   "execution_count": 62,
   "id": "f6a9882e-89e1-4d55-985e-544007ee42c5",
   "metadata": {},
   "outputs": [
    {
     "name": "stdout",
     "output_type": "stream",
     "text": [
      "start end\n",
      "start end  \n",
      "  start end\n",
      "\n",
      " Where is \n",
      " Where is ?\n",
      "? Where is \n"
     ]
    }
   ],
   "source": [
    "# strip()\n",
    "message = '  start end  '\n",
    "print(message.strip()) # 앞, 뒤 공백이 모두 사라짐.\n",
    "print(message.lstrip()) # 왼쪽 공백이 사라짐\n",
    "print(message.rstrip()) #오른쪽 공백이 사라짐.\n",
    "\n",
    "message2 = '? Where is ?'\n",
    "print(\"\\n\" + message2.strip('?')) # 앞, 뒤 물음표(?)가 모두 사라짐.\n",
    "print(message2.lstrip('?')) # 왼쪽 물음표(?)가 사라짐.\n",
    "print(message2.rstrip('?')) #오른쪽 물음표(?)가 사라짐."
   ]
  },
  {
   "cell_type": "code",
   "execution_count": 88,
   "id": "46ea8fac-cd65-4d7d-a845-5846d88649ea",
   "metadata": {},
   "outputs": [
    {
     "name": "stdout",
     "output_type": "stream",
     "text": [
      "20\n",
      "\n",
      " 5\n",
      "25\n"
     ]
    }
   ],
   "source": [
    "# find()\n",
    "print(find_str:=\"I wanna find where 'k' is!\".find('k'))\n",
    "\n",
    "print(\"\\n\", lfind_str:=\"Wow, h, h, There is also h\".find('h')) # 특정 문자를 왼쪽에서부터 찾을 때 : find()\n",
    "print(rfind_str:=\"Wow, h, h, There is also h\".rfind('h')) # 특정 문자를 오른쪽에서부터 찾을 때 : rfind()"
   ]
  },
  {
   "cell_type": "code",
   "execution_count": 93,
   "id": "3aaa09a2-9604-4ef7-ae5c-47a7ac911c17",
   "metadata": {},
   "outputs": [
    {
     "name": "stdout",
     "output_type": "stream",
     "text": [
      "21\n",
      "\n",
      " 5\n",
      "25\n"
     ]
    }
   ],
   "source": [
    "# index()\n",
    "print(index_str := \"I wanna index where 'k' is!\".index('k'))\n",
    "\n",
    "print(\"\\n\", lindex_str:=\"Wow, h, h, There is also h\".index('h')) # 특정 문자를 왼쪽에서부터 찾을 때 : lindex()\n",
    "print(rindex_str:=\"Wow, h, h, There is also h\".rindex('h')) # 특정 문자를 오른쪽에서부터 찾을 때 : rindex()"
   ]
  },
  {
   "cell_type": "code",
   "execution_count": 94,
   "id": "d7c1acbb-aea4-42e7-bcc4-621a6253f208",
   "metadata": {},
   "outputs": [
    {
     "name": "stdout",
     "output_type": "stream",
     "text": [
      "-1\n"
     ]
    },
    {
     "ename": "ValueError",
     "evalue": "substring not found",
     "output_type": "error",
     "traceback": [
      "\u001b[1;31m---------------------------------------------------------------------------\u001b[0m",
      "\u001b[1;31mValueError\u001b[0m                                Traceback (most recent call last)",
      "\u001b[1;32m~\\AppData\\Local\\Temp/ipykernel_22576/749295733.py\u001b[0m in \u001b[0;36m<module>\u001b[1;34m\u001b[0m\n\u001b[0;32m      1\u001b[0m \u001b[1;31m# find()와 index() 비교하기\u001b[0m\u001b[1;33m\u001b[0m\u001b[1;33m\u001b[0m\u001b[1;33m\u001b[0m\u001b[0m\n\u001b[0;32m      2\u001b[0m \u001b[0mprint\u001b[0m\u001b[1;33m(\u001b[0m\u001b[0mcompare_stc\u001b[0m \u001b[1;33m:=\u001b[0m \u001b[1;34m\"I wanna know where 'k' is!\"\u001b[0m\u001b[1;33m.\u001b[0m\u001b[0mfind\u001b[0m\u001b[1;33m(\u001b[0m\u001b[1;34m'z'\u001b[0m\u001b[1;33m)\u001b[0m\u001b[1;33m)\u001b[0m\u001b[1;33m\u001b[0m\u001b[1;33m\u001b[0m\u001b[0m\n\u001b[1;32m----> 3\u001b[1;33m \u001b[0mprint\u001b[0m\u001b[1;33m(\u001b[0m\u001b[0mcompare_stc\u001b[0m \u001b[1;33m:=\u001b[0m \u001b[1;34m\"I wanna know where 'k' is!\"\u001b[0m\u001b[1;33m.\u001b[0m\u001b[0mindex\u001b[0m\u001b[1;33m(\u001b[0m\u001b[1;34m'z'\u001b[0m\u001b[1;33m)\u001b[0m\u001b[1;33m)\u001b[0m\u001b[1;33m\u001b[0m\u001b[1;33m\u001b[0m\u001b[0m\n\u001b[0m",
      "\u001b[1;31mValueError\u001b[0m: substring not found"
     ]
    }
   ],
   "source": [
    "# find()와 index() 비교하기\n",
    "print(compare_stc := \"I wanna know where 'k' is!\".find('z')) # -1을 반환한다.\n",
    "print(compare_stc := \"I wanna know where 'k' is!\".index('z')) # error가 난다."
   ]
  },
  {
   "cell_type": "markdown",
   "id": "a1dd8826-4221-41fb-bdc9-6279cd1eb070",
   "metadata": {},
   "source": [
    "### 2. 함수 II\n",
    "##### NLTK 전용 함수를 의미한다.\n",
    "- concordance(): 특정 스트링이 어떤 문맥에서 쓰이는지 \n",
    "- similar(): 주어진 스트링과 비슷한 문맥에서 쓰이는 단어들을 보여줌\n",
    "- common_context(리스트): 주어진 스트링들이 공유하는 문맥\n",
    "- dispersion_plot(리스트): 주어진 스트링들이 텍스트의 어느 위치에 나오는지 이미지로 보여줌."
   ]
  },
  {
   "cell_type": "code",
   "execution_count": 95,
   "id": "38eb997e-e70a-46e2-8ac3-4d7c8fcb0ade",
   "metadata": {},
   "outputs": [
    {
     "name": "stdout",
     "output_type": "stream",
     "text": [
      "Displaying 25 of 1226 matches:\n",
      "s , and to teach them by what name a whale - fish is to be called in our tongue\n",
      "t which is not true .\" -- HACKLUYT \" WHALE . ... Sw . and Dan . HVAL . This ani\n",
      "ulted .\" -- WEBSTER ' S DICTIONARY \" WHALE . ... It is more immediately from th\n",
      "ISH . WAL , DUTCH . HWAL , SWEDISH . WHALE , ICELANDIC . WHALE , ENGLISH . BALE\n",
      "HWAL , SWEDISH . WHALE , ICELANDIC . WHALE , ENGLISH . BALEINE , FRENCH . BALLE\n",
      "least , take the higgledy - piggledy whale statements , however authentic , in \n",
      " dreadful gulf of this monster ' s ( whale ' s ) mouth , are immediately lost a\n",
      " patient Job .\" -- RABELAIS . \" This whale ' s liver was two cartloads .\" -- ST\n",
      " Touching that monstrous bulk of the whale or ork we have received nothing cert\n",
      " of oil will be extracted out of one whale .\" -- IBID . \" HISTORY OF LIFE AND D\n",
      "ise .\" -- KING HENRY . \" Very like a whale .\" -- HAMLET . \" Which to secure , n\n",
      "restless paine , Like as the wounded whale to shore flies thro ' the maine .\" -\n",
      ". OF SPERMA CETI AND THE SPERMA CETI WHALE . VIDE HIS V . E . \" Like Spencer ' \n",
      "t had been a sprat in the mouth of a whale .\" -- PILGRIM ' S PROGRESS . \" That \n",
      "EN ' S ANNUS MIRABILIS . \" While the whale is floating at the stern of the ship\n",
      "e ship called The Jonas - in - the - Whale . ... Some say the whale can ' t ope\n",
      " in - the - Whale . ... Some say the whale can ' t open his mouth , but that is\n",
      " masts to see whether they can see a whale , for the first discoverer has a duc\n",
      " for his pains . ... I was told of a whale taken near Shetland , that had above\n",
      "oneers told me that he caught once a whale in Spitzbergen that was white all ov\n",
      "2 , one eighty feet in length of the whale - bone kind came in , which ( as I w\n",
      "n master and kill this Sperma - ceti whale , for I could never hear of any of t\n",
      " . 1729 . \"... and the breath of the whale is frequendy attended with such an i\n",
      "ed with hoops and armed with ribs of whale .\" -- RAPE OF THE LOCK . \" If we com\n",
      "contemptible in the comparison . The whale is doubtless the largest animal in c\n"
     ]
    }
   ],
   "source": [
    "# concordance()\n",
    "text1.concordance('whale') # 'whale'을 중심으로 문맥을 유추하게끔 문장이 나온다."
   ]
  },
  {
   "cell_type": "code",
   "execution_count": 96,
   "id": "38dfde9c-7a40-44ba-819d-f234df3b0824",
   "metadata": {},
   "outputs": [
    {
     "name": "stdout",
     "output_type": "stream",
     "text": [
      "ship boat sea time captain world man deck pequod other whales air\n",
      "water head crew line thing side way body\n"
     ]
    }
   ],
   "source": [
    "# similar()\n",
    "text1.similar('whale') # 'whale'이 나오는 문맥과 비슷한 문맥에서 나오는 단어들을 보여준다."
   ]
  },
  {
   "cell_type": "code",
   "execution_count": 97,
   "id": "31c9cbf7-e5f6-45ee-81f7-ed543dcd9ea6",
   "metadata": {},
   "outputs": [
    {
     "name": "stdout",
     "output_type": "stream",
     "text": [
      "am_glad a_pretty a_lucky is_pretty be_glad\n"
     ]
    }
   ],
   "source": [
    "# common_contexts(리스트)\n",
    "text2.common_contexts(['monstrous', 'very']) # 주어진 문자열 'monstrous'와 'very'가 공유하는 문맥을 보여준다."
   ]
  },
  {
   "cell_type": "code",
   "execution_count": 98,
   "id": "f89378ef-cc17-4c34-bbb6-cf0a589593cd",
   "metadata": {},
   "outputs": [
    {
     "data": {
      "image/png": "[encoded data removed]",
      "text/plain": [
       "<Figure size 432x288 with 1 Axes>"
      ]
     },
     "metadata": {
      "needs_background": "light"
     },
     "output_type": "display_data"
    }
   ],
   "source": [
    "# dipersion_plot(리스트)\n",
    "text4 = book.text4\n",
    "text4. dispersion_plot(['citizens', 'democracy', 'America']) # 각 단어들이 text4에서 어떤 위치에 있는지 그림으로 알기 쉽게 표현해준다."
   ]
  },
  {
   "cell_type": "markdown",
   "id": "27a369ff-4fee-4c5b-bd9f-21e093d7d505",
   "metadata": {},
   "source": [
    "### 3. List\n",
    "- 프로그래밍에서 '배열'에 해당, 파이썬에서는 리스트라고 부른다.\n",
    "- 하나의 변수에 여러 값을 할당하는 자료형\n",
    "    - `example = [1, 2, 3, 4]`\n",
    "- 대괄호를 사용한다\n",
    "- 내부 요소들의 자료형은 같을 필요 없다.\n",
    "    - example = [1, 'yes', True]\n",
    "- 순서가 있는 자료형 => 슬라이싱, 인덱싱이 용이하다.\n",
    "- 빈 리스트 선언: `set(), []`"
   ]
  },
  {
   "cell_type": "code",
   "execution_count": 100,
   "id": "f625a585-518f-427d-9e53-fc40f2c2346c",
   "metadata": {},
   "outputs": [],
   "source": [
    "# 빈 리스트 선언하기\n",
    "empty = []"
   ]
  },
  {
   "cell_type": "markdown",
   "id": "1bf6289b-873f-4c2d-b9a3-38db38bd2bf8",
   "metadata": {},
   "source": [
    "### 4. List comprehension\n",
    "- 포함형 리스트\n",
    "- 하나의 리스트에서 그걸 포함하여 다른 리스트를 만든다.\n",
    "- list + for loop\n",
    "- [A' for A in B]\n",
    "    - B에 있는 A에서 A'를 가져와라 => 리스트에 담아서 변환\n",
    "    - A' : 내가 원하는 출력 형태\n",
    "    - A : B의 형태\n",
    "    - B : 반복 가능한 자료형(리스트)\n",
    "    \n",
    "- 조건 추가 : [A' for A in B if ...]"
   ]
  },
  {
   "cell_type": "code",
   "execution_count": 103,
   "id": "aed157df-0d4e-4011-bc39-b29a3d92cdc2",
   "metadata": {
    "tags": []
   },
   "outputs": [
    {
     "data": {
      "text/plain": [
       "['[', 'y', 'k', 'y', 'n', 'e', '1', ']', 'Y', '.']"
      ]
     },
     "execution_count": 103,
     "metadata": {},
     "output_type": "execute_result"
    }
   ],
   "source": [
    "# text1의 단어 중 처음 10개의 마지막 문자 반환\n",
    "[word[-1] for word in text1.tokens[:10]]"
   ]
  },
  {
   "cell_type": "markdown",
   "id": "3d53a522-b0f8-4df7-95d2-7f0d13a1e506",
   "metadata": {},
   "source": [
    "#### Quiz 1. text5에서 길이가 15이상인 단어 추출하기. (10개만)"
   ]
  },
  {
   "cell_type": "code",
   "execution_count": 109,
   "id": "b3c17cde-6e77-423c-8b22-42d68e9756e1",
   "metadata": {},
   "outputs": [
    {
     "data": {
      "text/plain": [
       "['iamahotniplickme',\n",
       " '!!!!!!!!!!!!!!!!',\n",
       " 'iamahotnipwithpics',\n",
       " 'iamahotnipwithhotnippics',\n",
       " '--------------------',\n",
       " '..............................',\n",
       " '!!!!!!!!!!!!!!!!',\n",
       " 'mikeeeeeeeeeeeeeeeeeeeeeeeeee',\n",
       " 'oooooooooooooonnnnnnnnnnnneeeeeeeeeeeeeeesssssssss',\n",
       " 'WEEEEEEEEEEEEEEEEEE']"
      ]
     },
     "execution_count": 109,
     "metadata": {},
     "output_type": "execute_result"
    }
   ],
   "source": [
    "text5 = book.text5\n",
    "[w for w in text5.tokens if len(w)>=15][:10]"
   ]
  },
  {
   "cell_type": "markdown",
   "id": "9a7d42d7-451e-4230-9646-f6b5c6920a8a",
   "metadata": {},
   "source": [
    "#### Quiz 2. text3에서 대문자인 단어를 소문자로 변환 : isupper(), lower()\n",
    "- isupper() : dot으로 사용할 수 있으며 문자열이 대문자이면 True를, 소문자거나 대소문자가 섞여 있으면 False를 반환한다.\n",
    "- islower() : dot으로 사용할 수 있으며 문자열이 소문자이면 True를, 대문자거나 대소문자가 섞여 있으면 False를 반환한다.\n",
    "- upper() : dot으로 사용할 수 있으며, 문자열의 소문자를 대문자로 반환한다.\n",
    "- lower() : dot으로 사용할 수 있으며, 문자열의 대문자를 소문자로 반환한다."
   ]
  },
  {
   "cell_type": "code",
   "execution_count": 6,
   "id": "f83f78b0-04f7-4f2e-b3ea-5b84c0d7a55d",
   "metadata": {},
   "outputs": [
    {
     "name": "stdout",
     "output_type": "stream",
     "text": [
      "['a', 'g', 'i', 'lo', 'lord', 'o']\n",
      "['a', 'g', 'i', 'lo', 'lord', 'o']\n"
     ]
    }
   ],
   "source": [
    "text3 = book.text3\n",
    "print(sorted(set([w.lower() for w in text3.tokens if w.isupper()])))\n",
    "print(sorted([w.lower() for w in set(text3.tokens) if w.isupper()]))"
   ]
  },
  {
   "cell_type": "markdown",
   "id": "78d1d919-9d50-4743-8113-a79167d8bf21",
   "metadata": {
    "tags": []
   },
   "source": [
    "### 5. cased, uncased\n",
    "- 변환: `upper(), lower(), title(), swapcase()`\n",
    "- 형태 체크: `isupper(), islower(), istitle(), isalpha()`\n",
    "    - `endswith(<string>), stratswith(<string>)`\n",
    "    \n",
    "- 모두 dot으로 사용 가능하다."
   ]
  },
  {
   "cell_type": "markdown",
   "id": "7abd80d2-15ce-4951-aee9-566c89746933",
   "metadata": {},
   "source": [
    "#### Quiz 1. text1에서 'ableness'로 끝나는 단어를 중복없이, 오름차순 정렬해서 새로운 리스트로 반환하라."
   ]
  },
  {
   "cell_type": "code",
   "execution_count": 13,
   "id": "e522780a-7d7d-44b0-a869-4b2653ff1bd2",
   "metadata": {},
   "outputs": [
    {
     "data": {
      "text/plain": [
       "['comfortableness',\n",
       " 'honourableness',\n",
       " 'immutableness',\n",
       " 'indispensableness',\n",
       " 'indomitableness',\n",
       " 'intolerableness',\n",
       " 'palpableness',\n",
       " 'reasonableness',\n",
       " 'uncomfortableness']"
      ]
     },
     "execution_count": 13,
     "metadata": {},
     "output_type": "execute_result"
    }
   ],
   "source": [
    "text1 = book.text1\n",
    "\n",
    "sorted(set([w for w in text1 if w.endswith(\"ableness\")]))"
   ]
  },
  {
   "cell_type": "markdown",
   "id": "56722533-521f-4b22-a03c-756dd926b817",
   "metadata": {},
   "source": [
    "#### Quiz 2. text4에서 단어에 'gnt'가 포함된 단어들을 중복 없는 소문자 리스트 변환"
   ]
  },
  {
   "cell_type": "code",
   "execution_count": 16,
   "id": "eb71008d-3a91-43d6-9c0b-cfa34374208f",
   "metadata": {},
   "outputs": [
    {
     "data": {
      "text/plain": [
       "{'sovereignties', 'sovereignty'}"
      ]
     },
     "execution_count": 16,
     "metadata": {},
     "output_type": "execute_result"
    }
   ],
   "source": [
    "text4 = book.text4\n",
    "\n",
    "set([w.lower() for w in text4 if 'gnt' in w])"
   ]
  },
  {
   "cell_type": "markdown",
   "id": "a2165e41-fd4e-4843-a06d-7078d0da1ae4",
   "metadata": {
    "tags": []
   },
   "source": [
    "### 6. NLTK FreqDist()\n",
    "- Frequency Distribution: 단어가 몇 번 출현했는지 (빈도수)\n",
    "- 텍스트의 성질을 알기 위해 파악해야할 것.\n",
    "    - 단어 개수\n",
    "    - 단어 빈도수\n",
    "- `FreqDist(text)`"
   ]
  },
  {
   "cell_type": "code",
   "execution_count": 48,
   "id": "1b1b3bb3-31b9-410c-9997-ab31665a964f",
   "metadata": {},
   "outputs": [
    {
     "data": {
      "text/plain": [
       "[(',', 18713),\n",
       " ('the', 13721),\n",
       " ('.', 6862),\n",
       " ('of', 6536),\n",
       " ('and', 6024),\n",
       " ('a', 4569),\n",
       " ('to', 4542),\n",
       " (';', 4072),\n",
       " ('in', 3916),\n",
       " ('that', 2982),\n",
       " (\"'\", 2684),\n",
       " ('-', 2552)]"
      ]
     },
     "execution_count": 48,
     "metadata": {},
     "output_type": "execute_result"
    }
   ],
   "source": [
    "from nltk import FreqDist\n",
    "fdist = FreqDist(text1) # cased\n",
    "fdist.most_common(12) # most_common은 가장 빈도수가 많은 단어를 차례대로 보여준다."
   ]
  },
  {
   "cell_type": "code",
   "execution_count": 20,
   "id": "dcaaae81-a453-4c81-b441-0f31d23c45bb",
   "metadata": {},
   "outputs": [
    {
     "name": "stdout",
     "output_type": "stream",
     "text": [
      "2982\n",
      "2982\n"
     ]
    }
   ],
   "source": [
    "# 특정 단어의 빈도수를 알고 싶을 때 : fdist['']\n",
    "\n",
    "print(fdist['that']) # 1번째 방법\n",
    "print(text1.count('that')) # 2번째 방법"
   ]
  },
  {
   "cell_type": "code",
   "execution_count": 21,
   "id": "55d69a30-a1e9-441b-9dcb-132e9e6e19d4",
   "metadata": {},
   "outputs": [
    {
     "data": {
      "text/plain": [
       "0.011433216138394826"
      ]
     },
     "execution_count": 21,
     "metadata": {},
     "output_type": "execute_result"
    }
   ],
   "source": [
    "# 특정 단어의 출현율을 알고 싶을 때 : freq()\n",
    "fdist.freq('that')"
   ]
  },
  {
   "cell_type": "code",
   "execution_count": 24,
   "id": "35c5ac44-9c5c-44a0-9e28-7398911ab651",
   "metadata": {},
   "outputs": [
    {
     "data": {
      "image/png": "[encoded data removed]",
      "text/plain": [
       "<Figure size 432x288 with 1 Axes>"
      ]
     },
     "metadata": {
      "needs_background": "light"
     },
     "output_type": "display_data"
    },
    {
     "data": {
      "text/plain": [
       "<AxesSubplot:xlabel='Samples', ylabel='Cumulative Counts'>"
      ]
     },
     "execution_count": 24,
     "metadata": {},
     "output_type": "execute_result"
    }
   ],
   "source": [
    "# 단어의 빈도수를 그림으로 알고 싶을 때. : fdist.plot(알고 싶은 단어의 개수, cumulative = True)\n",
    "fdist.plot(10, cumulative = True)\n",
    "#곡선이 완만할수록 덜 나타는 단어임."
   ]
  },
  {
   "cell_type": "code",
   "execution_count": 26,
   "id": "d4d2e4e0-b8de-41f4-bb26-48e0f733e8f0",
   "metadata": {},
   "outputs": [
    {
     "data": {
      "image/png": "[encoded data removed]",
      "text/plain": [
       "<Figure size 432x288 with 1 Axes>"
      ]
     },
     "metadata": {
      "needs_background": "light"
     },
     "output_type": "display_data"
    },
    {
     "data": {
      "text/plain": [
       "<AxesSubplot:xlabel='Samples', ylabel='Counts'>"
      ]
     },
     "execution_count": 26,
     "metadata": {},
     "output_type": "execute_result"
    }
   ],
   "source": [
    "# 참고로 cumulative를 쓰지 않으면 그래프가 아래와 같이 나온다.\n",
    "fdist.plot(10)"
   ]
  },
  {
   "cell_type": "code",
   "execution_count": 32,
   "id": "b74660a6-93eb-494b-83f9-d41d27669a92",
   "metadata": {},
   "outputs": [
    {
     "data": {
      "text/plain": [
       "{'Consumptive',\n",
       " 'ETYMOLOGY',\n",
       " 'Herman',\n",
       " 'Late',\n",
       " 'Melville',\n",
       " 'School',\n",
       " ']',\n",
       " 'lexicons',\n",
       " 'mockingly',\n",
       " 'threadbare'}"
      ]
     },
     "execution_count": 32,
     "metadata": {},
     "output_type": "execute_result"
    }
   ],
   "source": [
    "# 그렇다면 가장 희귀한 단어를 찾는 방법은? : fdist.hapaxes()\n",
    "# 희귀한 단어 10개만 뽑아보자.\n",
    "set(fdist.hapaxes()[:10])"
   ]
  },
  {
   "cell_type": "markdown",
   "id": "93ca1391-d45a-4131-aa22-045f633b2b84",
   "metadata": {},
   "source": [
    "#### Quiz 1. text1의 희귀한 단어들 중 알파벳으로 이루어진 단어들만 담아서 소문자 리스트로 출력하기. (10개만)"
   ]
  },
  {
   "cell_type": "code",
   "execution_count": 37,
   "id": "0f78d53f-1770-4ff9-a97b-818a4378308a",
   "metadata": {},
   "outputs": [
    {
     "data": {
      "text/plain": [
       "['herman',\n",
       " 'melville',\n",
       " 'etymology',\n",
       " 'late',\n",
       " 'consumptive',\n",
       " 'school',\n",
       " 'threadbare',\n",
       " 'lexicons',\n",
       " 'mockingly',\n",
       " 'flags']"
      ]
     },
     "execution_count": 37,
     "metadata": {},
     "output_type": "execute_result"
    }
   ],
   "source": [
    "[w.lower() for w in fdist.hapaxes() if w.isalpha()][:10]"
   ]
  },
  {
   "cell_type": "markdown",
   "id": "9cafe078-2a9b-449e-80e2-fe1d0039dca1",
   "metadata": {},
   "source": [
    "#### Quiz 2. text1에서 대소문자 구분 없는 fdist를 만들려면? (the 15,000 The 600 => the 21,000)"
   ]
  },
  {
   "cell_type": "code",
   "execution_count": 43,
   "id": "0e060dea-0760-4c31-84fc-488074519446",
   "metadata": {},
   "outputs": [
    {
     "name": "stdout",
     "output_type": "stream",
     "text": [
      "14431\n",
      "0\n"
     ]
    }
   ],
   "source": [
    "fdist2 = FreqDist(w.lower() for w in text1)\n",
    "print(fdist2['the'])\n",
    "print(fdist2['The'])"
   ]
  },
  {
   "cell_type": "markdown",
   "id": "f584c99f-9120-4978-a8f9-36bc3dc18b90",
   "metadata": {},
   "source": [
    "#### Quiz 3. text2에서 길이가 3자 이하이고, 빈도수가 5이상인 단어들의 리스트를 반환 (10개만)"
   ]
  },
  {
   "cell_type": "code",
   "execution_count": 61,
   "id": "bbd5131c-432d-4150-bb95-1bc497421c9c",
   "metadata": {},
   "outputs": [
    {
     "data": {
      "text/plain": [
       "['and', 'by', 'The', 'of', 'had', 'in', '.', 'was', ',', 'at']"
      ]
     },
     "execution_count": 61,
     "metadata": {},
     "output_type": "execute_result"
    }
   ],
   "source": [
    "text2 = book.text2\n",
    "[word for (word, count) in FreqDist(text2).items()\\\n",
    " if (len(word) <= 3) & (count >= 5)][:10]\n",
    "\n",
    "# FreqDist의 type은 dictionary이기 때문에 items()를 써줘야 값이 정상적으로 출력된다.\n",
    "# 질문 : 조건을 만족시키기 위해 만드는 count와 같은 임의의 변수는 출력에 영향을 미치지 않는 것인가?"
   ]
  },
  {
   "cell_type": "markdown",
   "id": "96334a7f-2029-4c7a-a448-5f6d452db822",
   "metadata": {},
   "source": [
    "### 7. List <-> String\n",
    "- split(): string.split(separator)\n",
    "    - default = ' '\n",
    "- join() : seperator.join(string)"
   ]
  },
  {
   "cell_type": "code",
   "execution_count": 65,
   "id": "0befbe54-8034-4e63-8e54-99647acd31d5",
   "metadata": {},
   "outputs": [
    {
     "name": "stdout",
     "output_type": "stream",
     "text": [
      "['유재석', ' 박명수', ' 하동훈', ' 정준하']\n"
     ]
    }
   ],
   "source": [
    "# split()은 특정 구분자를 중심으로 원소들을 나눠준다.\n",
    "print(std_lst := \"유재석, 박명수, 하동훈, 정준하\".split(\",\"))"
   ]
  },
  {
   "cell_type": "code",
   "execution_count": 75,
   "id": "35e0bd24-ea51-4724-878a-a35331d9d8ce",
   "metadata": {},
   "outputs": [
    {
     "name": "stdout",
     "output_type": "stream",
     "text": [
      "['유재석', '박명수', '하동훈', '정준하']\n"
     ]
    }
   ],
   "source": [
    "# 띄어쓰기가 마음에 안 든다면?\n",
    "std_lst2 = \"유재석, 박명수, 하동훈, 정준하\"\n",
    "print(std_tokens := [w.strip() for w in std_lst2.split(',')])"
   ]
  },
  {
   "cell_type": "code",
   "execution_count": 77,
   "id": "71d809c5-4a43-4281-a118-0b715e15419e",
   "metadata": {},
   "outputs": [
    {
     "data": {
      "text/plain": [
       "'칙-칙-폭-폭-땡'"
      ]
     },
     "execution_count": 77,
     "metadata": {},
     "output_type": "execute_result"
    }
   ],
   "source": [
    "# join()은 다시 원소들을 특정 구분자로 연결한다.\n",
    "\n",
    "train = ['칙', '칙', '폭', '폭', '땡']\n",
    "'-'.join(train)"
   ]
  },
  {
   "cell_type": "markdown",
   "id": "b1c63095-781d-45fb-b2be-da4d9d6fff88",
   "metadata": {},
   "source": [
    "### 8. 반복문 맛보기\n",
    "- 자료구조를 순회할 때 사용\n",
    "- 시작조건, 종료조건, 수행명령\n",
    "\n",
    "- for 변수 in <반복 범위>:  \n",
    "    <들여쓰기> <수행명령>\n",
    "- [<수행명령> for 변수 in <반복 범위>]\n",
    "- range(start, end, step) : 숫자 순회할 때\n",
    "    - 0부터 시작\n",
    "    - 인덱스랑 다른 점은 콜론이 쉼표로 바뀐 것.\n",
    "    - 질문 : 인덱스가 갑자기 왜 나와요..?"
   ]
  },
  {
   "cell_type": "code",
   "execution_count": 78,
   "id": "d9bc727b-3543-4299-8f78-a740f131c4ef",
   "metadata": {},
   "outputs": [
    {
     "name": "stdout",
     "output_type": "stream",
     "text": [
      "유재석\n",
      " 박명수\n",
      " 하동훈\n",
      " 정준하\n"
     ]
    }
   ],
   "source": [
    "for name in std_lst:\n",
    "    print(name)"
   ]
  },
  {
   "cell_type": "markdown",
   "id": "7fa383e3-8d18-4464-aa0c-ff25abf135be",
   "metadata": {
    "tags": []
   },
   "source": [
    "#### Quiz 1. text6에서 길이가 4자 이하인 알파벳 중 ie를 포함하는 단어를 알파벳 개수로 출력하시오.\n",
    "    - 예: [1, 3, 4, 3] : I have a car  "
   ]
  },
  {
   "cell_type": "code",
   "execution_count": 80,
   "id": "667cf963-9dec-4c38-ac93-419a7a633c66",
   "metadata": {},
   "outputs": [
    {
     "data": {
      "text/plain": [
       "[3, 3, 3, 3, 3, 3, 4, 3, 3, 3, 3, 3, 4, 4, 4, 4, 3, 3, 3, 3, 3, 4, 4]"
      ]
     },
     "execution_count": 80,
     "metadata": {},
     "output_type": "execute_result"
    }
   ],
   "source": [
    "text6 = book.text6\n",
    "[len(w) for w in text6.tokens if (len(w)<=4) & ('ie' in w)]"
   ]
  },
  {
   "cell_type": "markdown",
   "id": "c77cb8db-f8d8-4551-9c13-56ac310805af",
   "metadata": {},
   "source": [
    "#### Quiz 2. text2에서 ch로 끝나는 단어를 조건에 맞춰 출력하기.\n",
    "    - 중복 없애기\n",
    "    - 첫 글자와 ch남기고 가운데는 모두 -로 가려라.\n",
    "        예: much -> m-ch\n",
    "        - ch로 시작하면 바꾸면 안됨\n",
    "    - 정렬:\n",
    "        - 문자 길이로 정렬하기\n"
   ]
  },
  {
   "cell_type": "code",
   "execution_count": 198,
   "id": "e61c3423-c22d-469b-aba2-ee7bdcbf4d57",
   "metadata": {},
   "outputs": [
    {
     "data": {
      "text/plain": [
       "'\\ne-ch\\ns-ch\\nE-ch\\nS-ch\\nr-ch\\nm-ch\\nM-ch\\ni-ch\\nt--ch\\nm--ch\\np--ch\\nw--ch\\nc--ch\\nM--ch\\nt--ch\\nw--ch\\nf--ch\\nr--ch\\nW--ch\\nc--ch\\nb--ch\\ns---ch\\nb---ch\\nch--ch\\nb---ch\\ns---ch\\ns---ch\\na---ch\\ne---ch\\ns----ch\\ns----ch\\ns----ch\\nd-----ch\\na-----ch\\nr-----ch\\nd-----ch\\n'"
      ]
     },
     "execution_count": 198,
     "metadata": {},
     "output_type": "execute_result"
    }
   ],
   "source": [
    " # ▼ 답 (풀이는 다음주 복습 페이지에 추가해 두었음.) \n",
    "\"\"\"\n",
    " e-ch\n",
    " s-ch\n",
    " E-ch\n",
    " S-ch\n",
    " r-ch\n",
    " m-ch\n",
    " M-ch\n",
    " i-ch\n",
    " t--ch\n",
    " m--ch\n",
    " p--ch\n",
    " w--ch\n",
    " c--ch\n",
    " M--ch\n",
    " t--ch\n",
    " w--ch\n",
    " f--ch\n",
    " r--ch\n",
    " W--ch\n",
    " c--ch\n",
    " b--ch\n",
    " s---ch\n",
    " b---ch\n",
    " ch--ch\n",
    " b---ch\n",
    " s---ch\n",
    " s---ch\n",
    " a---ch\n",
    " e---ch\n",
    " s----ch\n",
    " s----ch\n",
    " s----ch\n",
    " d-----ch\n",
    " a-----ch\n",
    " r-----ch\n",
    " d-----ch\n",
    "\"\"\""
   ]
  },
  {
   "cell_type": "markdown",
   "id": "adf7a07f-6899-4443-813e-8cd17bee0617",
   "metadata": {},
   "source": [
    "<hr>"
   ]
  },
  {
   "cell_type": "markdown",
   "id": "dc2d604e-b37e-4d31-8433-fce0658f2075",
   "metadata": {},
   "source": [
    "## TextBook\n",
    "\n",
    "## Chapter 05 | 텍스트 문자열 (p.119~p.136 / 5.9 문자열 나누기: split() ~ 5.19 연습문제)"
   ]
  },
  {
   "cell_type": "markdown",
   "id": "2379cf5e-df3a-44ed-afd3-47c948b33c0e",
   "metadata": {},
   "source": [
    "### 5.9 문자열 나누기: split()"
   ]
  },
  {
   "cell_type": "code",
   "execution_count": 199,
   "id": "13d26783-2c5a-486e-bdaa-3459cb1c2446",
   "metadata": {},
   "outputs": [
    {
     "data": {
      "text/plain": [
       "['C', 'C+', 'C++', 'Java', 'Python', 'Ruby', '...']"
      ]
     },
     "execution_count": 199,
     "metadata": {},
     "output_type": "execute_result"
    }
   ],
   "source": [
    "C_lang = \"C,C+,C++,Java,Python,Ruby,...\"\n",
    "C_lang.split(',')"
   ]
  },
  {
   "cell_type": "markdown",
   "id": "5688e350-88f3-4eea-bc96-dae83b68660c",
   "metadata": {},
   "source": [
    "### 5.10 문자열 결합하기: join()"
   ]
  },
  {
   "cell_type": "code",
   "execution_count": 280,
   "id": "7cdd6b55-a7f9-4000-a43d-e7070e65c5cd",
   "metadata": {},
   "outputs": [
    {
     "name": "stdout",
     "output_type": "stream",
     "text": [
      "오늘 나가게 되면 과일 좀 사다 줘 ~ ^0^ :  사과, 바나나, 딸기, 포도, 오렌지\n"
     ]
    }
   ],
   "source": [
    "Buy_list = ['사과', '바나나', '딸기', '포도', '오렌지']\n",
    "Buy_String = ', '.join(Buy_list)\n",
    "print(\"오늘 나가게 되면 과일 좀 사다 줘 ~ ^0^ : \", Buy_String)"
   ]
  },
  {
   "cell_type": "markdown",
   "id": "c42a0ec2-112b-4394-9239-ad51f17ff7b5",
   "metadata": {},
   "source": [
    "### 5.11 문자열 대체하기: replace()"
   ]
  },
  {
   "cell_type": "code",
   "execution_count": 211,
   "id": "4830be53-1fe5-4ee9-b493-9409bf1490d0",
   "metadata": {},
   "outputs": [
    {
     "name": "stdout",
     "output_type": "stream",
     "text": [
      "(영희) 선생님, 제 점수가 왜 50점인가요?\n",
      "이름 : 김영희 \t점수 : 50점\n",
      "\n",
      "(선생님) 미안~ 헷갈렸구나.\n",
      "이름 : 김영희 \t점수 : 100점\n",
      "\n"
     ]
    }
   ],
   "source": [
    "print(\"(영희) 선생님, 제 점수가 왜 50점인가요?\")\n",
    "print(std_scr := \"이름 : 김영희 \\t점수 : 50점\\n\")\n",
    "print(\"(선생님) 미안~ 헷갈렸구나.\")\n",
    "print(std_scr := std_scr.replace(\"50\", \"100\"))"
   ]
  },
  {
   "cell_type": "markdown",
   "id": "0c1c02ac-c097-4187-ba0f-d1361ceba7c4",
   "metadata": {},
   "source": [
    "### 5.12 문자열 스트립: strip()"
   ]
  },
  {
   "cell_type": "code",
   "execution_count": 220,
   "id": "5006b770-7417-4471-a74d-050cfbc04423",
   "metadata": {},
   "outputs": [
    {
     "name": "stdout",
     "output_type": "stream",
     "text": [
      "3월 24일: earth \t\t\t\t\t\t---moon\n",
      "\n",
      "(기자) : 오늘은 달과 지구의 거리가 가까워지는 날입니다. 오후에 슈퍼문이 관측될 것으로 보입니다.\n",
      "3월 25일: earth ---moon\n"
     ]
    }
   ],
   "source": [
    "print(\"3월 24일: earth\", dist := \"\\t\\t\\t\\t\\t\\t---moon\\n\")\n",
    "\n",
    "print(\"(기자) 오늘은 달과 지구의 거리가 가까워지는 날입니다. 오후에 슈퍼문이 관측될 것으로 보입니다.\")\n",
    "print(\"3월 25일: earth\", dist:=dist.strip())"
   ]
  },
  {
   "cell_type": "markdown",
   "id": "dc764a8c-e829-4b61-aadc-244332e31731",
   "metadata": {},
   "source": [
    "### 5.13 검색과 선택"
   ]
  },
  {
   "cell_type": "code",
   "execution_count": 241,
   "id": "f21bebad-50dd-429f-a296-5148aa74e0ec",
   "metadata": {},
   "outputs": [
    {
     "name": "stdout",
     "output_type": "stream",
     "text": [
      "(조교) 교수님, 여기 명단입니다.\n",
      "['2021001 유재석', '2020002 정준하', '2021003 박명수', '2017004 하동훈', '2022005 김태호']\n",
      "\n",
      "(교수님) 21학번만 뽑아주세요.\n"
     ]
    },
    {
     "data": {
      "text/plain": [
       "['2021001 유재석', '2021003 박명수']"
      ]
     },
     "execution_count": 241,
     "metadata": {},
     "output_type": "execute_result"
    }
   ],
   "source": [
    "print(\"(조교) 교수님, 여기 명단입니다.\")\n",
    "print(col_lst := [\"2021001 유재석\", \"2020002 정준하\", \"2021003 박명수\", \"2017004 하동훈\", \"2022005 김태호\"])\n",
    "\n",
    "print(\"\\n(교수님) 21학번만 뽑아주세요.\")\n",
    "[w for w in col_lst if w.startswith(\"2021\")]\n",
    "\n",
    "# 이 장에서는 offset, len, startswith, endswith, find, index, count, isalnum(알파벳 또는 숫자로 되어 있는가?) 등을 다룬다."
   ]
  },
  {
   "cell_type": "markdown",
   "id": "391a223f-2a4a-453c-8f03-550e1d6e088c",
   "metadata": {},
   "source": [
    "### 5.14 대소 문자"
   ]
  },
  {
   "cell_type": "code",
   "execution_count": 281,
   "id": "d50518bc-1ed9-469a-924a-70ce647b93f7",
   "metadata": {},
   "outputs": [
    {
     "name": "stdout",
     "output_type": "stream",
     "text": [
      "(Susan) hey, where are you going now?\n",
      "(James) I can't hear you well!\n",
      "\n",
      "(Susan) Hey, where are you going now?\n",
      "(James) I can't hear you well!\n",
      "\n",
      "(Susan) Hey, Where Are You Going Now?\n",
      "(James) I can't hear you well!\n",
      "\n",
      "(Susan) hEy, wHerE aRe YoU gOiNg NOw?\n",
      "(James) I can't hear you well!\n",
      "\n",
      "(Susan) HEY, WHERE ARE YOU GOING NOW?\n",
      "(James) Oh, I just arrived at home now! :)\n"
     ]
    }
   ],
   "source": [
    "call = \"HeY, WhERe ArE yOu GoInG noW?\"\n",
    "print(\"(Susan)\", call.lower()) # 모든 문자를 소문자로 만든다.\n",
    "print(\"(James)\", asw := \"I can't hear you well!\\n\")\n",
    "\n",
    "print(\"(Susan)\", call.capitalize()) # 가장 첫 번째 문자를 대문자로 만든다.\n",
    "print(\"(James)\", asw)\n",
    "\n",
    "print(\"(Susan)\", call.title()) # 모든 단어의 첫 번째 문자를 대문자로 만든다.\n",
    "print(\"(James)\", asw)\n",
    "\n",
    "print(\"(Susan)\", call.swapcase()) # 대문자는 소문자로, 소문자는 대문자로 만든다.\n",
    "print(\"(James)\", asw)\n",
    "\n",
    "print(\"(Susan)\", call.upper()) # a모든 문자를 대문자로 만든다.\n",
    "print(\"(James)\", asw2 := \"Oh, I just arrived at home now! :)\")"
   ]
  },
  {
   "cell_type": "markdown",
   "id": "f5f29a3e-8715-4c81-83cf-ffe6c6d1ca02",
   "metadata": {},
   "source": [
    "### 5.15 정렬"
   ]
  },
  {
   "cell_type": "code",
   "execution_count": 264,
   "id": "95d43f04-0658-43c8-af84-4e929a0602f9",
   "metadata": {},
   "outputs": [
    {
     "name": "stdout",
     "output_type": "stream",
     "text": [
      "(Master) Ladies and Gentleman, Welcome to an Amazing Show today!\n",
      "\n",
      "            Ladies and Gentleman, Welcome to an Amazing Show today!\n",
      "            \n",
      "Ladies and Gentleman, Welcome to an Amazing Show today!\n",
      "                        \n",
      "                        Ladies and Gentleman, Welcome to an Amazing Show today!\n",
      "\n"
     ]
    }
   ],
   "source": [
    "print(\"(Master)\", line := \"Ladies and Gentleman, Welcome to an Amazing Show today!\\n\")\n",
    "\n",
    "# print(len(line)) # 문자열의 길이가 55이기 때문에 55보다 큰 수인 80을 기준으로 하겠다.\"\n",
    "print(line.center(80))\n",
    "print(line.ljust(80))\n",
    "print(line.rjust(80))"
   ]
  },
  {
   "cell_type": "markdown",
   "id": "e13ff367-ced3-4360-805b-6f4ece249454",
   "metadata": {},
   "source": [
    "- 5.16 포매팅\n",
    "- 5.17 더 많은 문자열 메서드\n",
    "- 5.18 다음 장에서는  \n",
    "- 5.19 연습문제 \n",
    "(생략)"
   ]
  },
  {
   "cell_type": "markdown",
   "id": "788a2185-706e-47f0-b979-47ba6964f138",
   "metadata": {},
   "source": [
    "<hr>"
   ]
  },
  {
   "cell_type": "markdown",
   "id": "ade9303a-45d6-46b6-9d85-4ddc355e2a3b",
   "metadata": {},
   "source": [
    "## Outro.\n",
    "### notice\n",
    "- 퀴즈 풀이 진행할 때 개인적으로 알고 있는 외부 모듈이나 패키지 가져와서 쓰는 건 상관 없다. (문제의 의도를 벗어나지 않는 한.)\n",
    "- 안 배운 문제가 퀴즈에 나오면, 그냥 전체 학생 다 맞게 해줄 것이다.\n",
    "- 조장 로그는 e-class에서 그냥 글로 옮기면 된다. (한글이나 워드 파일을 올리지 않아도 된다.)\n",
    "- 퀴즈 난이도는 어려운 게 맞다. 모두가 어려워한다. 복습과 조별 의견 공유를 통해 공부하자.\n",
    "- 퀴즈 검사 받고 싶다면 → 복습 파일 올릴 때 따로 폴더 만들어서 올리면 코드 리뷰를 해드릴 예정이다.\n",
    "- 조장은 조별 로그 올릴 때 답변도 같이 올릴 것."
   ]
  }
 ],
 "metadata": {
  "kernelspec": {
   "display_name": "Python 3 (ipykernel)",
   "language": "python",
   "name": "python3"
  },
  "language_info": {
   "codemirror_mode": {
    "name": "ipython",
    "version": 3
   },
   "file_extension": ".py",
   "mimetype": "text/x-python",
   "name": "python",
   "nbconvert_exporter": "python",
   "pygments_lexer": "ipython3",
   "version": "3.8.12"
  }
 },
 "nbformat": 4,
 "nbformat_minor": 5
}
