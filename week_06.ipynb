{
 "cells": [
  {
   "cell_type": "markdown",
   "id": "8b0055d2-2367-4120-bc50-c3c87046964c",
   "metadata": {},
   "source": [
    "# 6주차 | 고급파이썬프로그래밍 | 2022.04.08(금)"
   ]
  },
  {
   "cell_type": "markdown",
   "id": "ba482fab-51ac-4b15-962e-251dc8fffcd9",
   "metadata": {},
   "source": [
    "## Intro."
   ]
  },
  {
   "cell_type": "markdown",
   "id": "8ef7ac7d-e318-4470-a3dc-15034209d499",
   "metadata": {},
   "source": [
    "### notice\n",
    "- 구구단 문제와 관련해서 잘 정리된 repository를 추천해줄 예정.\n",
    "- 0422 중간고사 : 대면 진행, 다음주 월요일에 공개될 문제의 코드를 외워서 30분 내에 종이에 코드 수기 작성"
   ]
  },
  {
   "cell_type": "markdown",
   "id": "5851e2ab-7eeb-41d7-b418-e13db7fbcb38",
   "metadata": {},
   "source": [
    "<hr>"
   ]
  },
  {
   "cell_type": "markdown",
   "id": "51693f5e-045a-40c8-9764-b5a0e31473a8",
   "metadata": {},
   "source": [
    "## Class"
   ]
  },
  {
   "cell_type": "markdown",
   "id": "ce196f4a-aae3-4a03-b305-cb53051b9a06",
   "metadata": {},
   "source": [
    "### 1. NLTK Corpus"
   ]
  },
  {
   "cell_type": "code",
   "execution_count": 3,
   "id": "9372c6e8-4e5f-47ae-9ff4-db80afc78d00",
   "metadata": {},
   "outputs": [
    {
     "name": "stderr",
     "output_type": "stream",
     "text": [
      "[nltk_data] Downloading package brown to\n",
      "[nltk_data]     C:\\Users\\82109\\AppData\\Roaming\\nltk_data...\n",
      "[nltk_data]   Package brown is already up-to-date!\n",
      "[nltk_data] Downloading package inaugural to\n",
      "[nltk_data]     C:\\Users\\82109\\AppData\\Roaming\\nltk_data...\n",
      "[nltk_data]   Package inaugural is already up-to-date!\n"
     ]
    },
    {
     "data": {
      "text/plain": [
       "True"
      ]
     },
     "execution_count": 3,
     "metadata": {},
     "output_type": "execute_result"
    }
   ],
   "source": [
    "# nltk에서 brown과 inagural 다운받기\n",
    "import nltk\n",
    "nltk.download(['brown', 'inaugural'])"
   ]
  },
  {
   "cell_type": "markdown",
   "id": "64cc39f4-370f-4a71-a33b-a70c82e71329",
   "metadata": {},
   "source": [
    "#### 1.1. brown 다루기"
   ]
  },
  {
   "cell_type": "code",
   "execution_count": 4,
   "id": "4f02d736-85f1-4837-9ed2-8e3ecad8eab5",
   "metadata": {},
   "outputs": [],
   "source": [
    "brown = nltk.corpus.brown"
   ]
  },
  {
   "cell_type": "code",
   "execution_count": 11,
   "id": "a190c6c6-73ab-4327-ba39-b1c7114bc275",
   "metadata": {},
   "outputs": [
    {
     "name": "stdout",
     "output_type": "stream",
     "text": [
      "                 can could  will would   may might \n",
      "     adventure    46   151    50   191     5    58 \n",
      "belles_lettres   246   213   236   392   207   113 \n",
      "     editorial   121    56   233   180    74    39 \n",
      "       fiction    37   166    52   287     8    44 \n",
      "    government   117    38   244   120   153    13 \n"
     ]
    }
   ],
   "source": [
    "# genre별로 modals의 빈도수를 나타내는 tabulate 만들기 1 - modal이 아래에 있는 경우\n",
    "cfd1 = nltk.ConditionalFreqDist(\n",
    "    (genre, word)\n",
    "    for genre in brown.categories()\n",
    "    for word in brown.words(categories = genre)\n",
    ")\n",
    "\n",
    "genres = brown.categories()[:5]\n",
    "modals = ['can', 'could', 'will', 'would', 'may', 'might']\n",
    "cfd1.tabulate(conditions = genres, samples = modals)"
   ]
  },
  {
   "cell_type": "code",
   "execution_count": 18,
   "id": "9b2ccce7-51f2-4edb-839b-5d04c6586875",
   "metadata": {},
   "outputs": [
    {
     "name": "stdout",
     "output_type": "stream",
     "text": [
      "                  can could   may might  will would \n",
      "      adventure    48   154     7    59    51   194 \n",
      " belles_lettres   249   216   221   113   246   397 \n",
      "      editorial   124    57    79    39   235   185 \n",
      "        fiction    39   168    10    44    56   291 \n",
      "     government   119    38   179    13   244   120 \n",
      "        hobbies   276    59   143    22   269    83 \n",
      "          humor    17    33     8     8    13    56 \n",
      "        learned   367   159   336   128   340   321 \n",
      "           lore   170   142   170    50   178   188 \n",
      "        mystery    45   145    15    57    25   189 \n",
      "           news    94    87    93    38   389   246 \n",
      "       religion    84    59    79    12    72    69 \n",
      "        reviews    45    40    47    26    61    48 \n",
      "        romance    79   195    11    51    49   247 \n",
      "science_fiction    16    49     4    12    17    80 \n"
     ]
    }
   ],
   "source": [
    "# genre별로 modals의 빈도수를 나타내는 tabulate 만들기 2 - modal이 위에 있는 경우\n",
    "cfd2 = nltk.ConditionalFreqDist(\n",
    "    (genre, modals) # 첫 번째 요소가 세로축, 두 번째 요소가 가로축을 이룸.\n",
    "    for genre in brown.categories()\n",
    "    for modals in ['can', 'could', 'will', 'would', 'may', 'might']\n",
    "    \n",
    "    for word in brown.words(categories = genre) # 콜론(:) 없음\n",
    "        if word.lower() == modals # candidate \n",
    ")\n",
    "\n",
    "cfd2.tabulate()\n",
    "# 개념 이해해야 함."
   ]
  },
  {
   "cell_type": "code",
   "execution_count": null,
   "id": "056610da-758e-4eab-9b84-4abc413f68f4",
   "metadata": {},
   "outputs": [],
   "source": [
    "# pip install matplotlib\n",
    "# matplotlib이 설치되어 있지 않은 상태라면 위의 코드로 설치해준다."
   ]
  },
  {
   "cell_type": "code",
   "execution_count": 21,
   "id": "11d44a69-a6be-4625-9ac4-0b0ab320034e",
   "metadata": {
    "tags": []
   },
   "outputs": [
    {
     "data": {
      "image/png": "[encoded data removed]",
      "text/plain": [
       "<Figure size 864x360 with 1 Axes>"
      ]
     },
     "metadata": {
      "needs_background": "light"
     },
     "output_type": "display_data"
    },
    {
     "data": {
      "text/plain": [
       "<AxesSubplot:xlabel='Samples', ylabel='Counts'>"
      ]
     },
     "execution_count": 21,
     "metadata": {},
     "output_type": "execute_result"
    }
   ],
   "source": [
    "import matplotlib.pyplot as plt\n",
    "plt.figure(figsize = (12, 5))\n",
    "cfd2.plot()"
   ]
  },
  {
   "cell_type": "markdown",
   "id": "b13afae3-df09-46e4-b977-007cbd321168",
   "metadata": {},
   "source": [
    "#### 1.2. inaugural 다루기"
   ]
  },
  {
   "cell_type": "code",
   "execution_count": 22,
   "id": "d10684eb-b18a-4671-ae38-57622ada6d9f",
   "metadata": {},
   "outputs": [],
   "source": [
    "inaugural = nltk.corpus.inaugural"
   ]
  },
  {
   "cell_type": "code",
   "execution_count": 24,
   "id": "bcb0b3c6-831c-4366-9167-95a77d467394",
   "metadata": {},
   "outputs": [
    {
     "data": {
      "text/plain": [
       "['1789-Washington.txt',\n",
       " '1793-Washington.txt',\n",
       " '1797-Adams.txt',\n",
       " '1801-Jefferson.txt',\n",
       " '1805-Jefferson.txt',\n",
       " '1809-Madison.txt',\n",
       " '1813-Madison.txt',\n",
       " '1817-Monroe.txt',\n",
       " '1821-Monroe.txt',\n",
       " '1825-Adams.txt']"
      ]
     },
     "execution_count": 24,
     "metadata": {},
     "output_type": "execute_result"
    }
   ],
   "source": [
    "inaugural.fileids()[:10] # 연도-이름.txt"
   ]
  },
  {
   "cell_type": "code",
   "execution_count": 37,
   "id": "14e466be-c199-4bdb-acc7-a6ca8fbbf3b2",
   "metadata": {},
   "outputs": [
    {
     "name": "stdout",
     "output_type": "stream",
     "text": [
      "                america citizen \n",
      "1789-Washington       2       5 \n",
      "1793-Washington       1       1 \n",
      "     1797-Adams       8       6 \n",
      " 1801-Jefferson       0       7 \n",
      " 1805-Jefferson       1      10 \n",
      "   1809-Madison       0       1 \n",
      "   1813-Madison       1       4 \n",
      "    1817-Monroe       1      14 \n",
      "    1821-Monroe       2      15 \n",
      "     1825-Adams       0       3 \n"
     ]
    }
   ],
   "source": [
    "# inaugural에서 america, citizen이 포함되어 있는 단어의 빈도수의 연도별 tabulate 만들기\n",
    "# .txt는 제거하고, 처음 10개의 fileid에서만 추출함.\n",
    "\n",
    "cfd3 = nltk.ConditionalFreqDist(\n",
    "    (fileid[:-4], target_word)\n",
    "    for fileid in inaugural.fileids()[:10]\n",
    "    for target_word in ['america', 'citizen']\n",
    "    \n",
    "    for word in inaugural.words(fileids = fileid)\n",
    "        if word.lower().startswith(target_word)\n",
    ")\n",
    "\n",
    "cfd3.tabulate()"
   ]
  },
  {
   "cell_type": "code",
   "execution_count": 38,
   "id": "f8a3d334-f50d-46c0-bdb7-e4851347e9b7",
   "metadata": {},
   "outputs": [
    {
     "data": {
      "image/png": "[encoded data removed]",
      "text/plain": [
       "<Figure size 432x288 with 1 Axes>"
      ]
     },
     "metadata": {
      "needs_background": "light"
     },
     "output_type": "display_data"
    },
    {
     "data": {
      "text/plain": [
       "<AxesSubplot:xlabel='Samples', ylabel='Counts'>"
      ]
     },
     "execution_count": 38,
     "metadata": {},
     "output_type": "execute_result"
    }
   ],
   "source": [
    "cfd3.plot()"
   ]
  },
  {
   "cell_type": "markdown",
   "id": "dc3ee301-7f3f-4911-b059-b6674d364d19",
   "metadata": {},
   "source": [
    "### 2. List & Tuple"
   ]
  },
  {
   "cell_type": "markdown",
   "id": "2191eea1-ea4d-4414-82d9-7137d33ee3ec",
   "metadata": {},
   "source": [
    "#### 2.1. 생성하기"
   ]
  },
  {
   "cell_type": "code",
   "execution_count": 45,
   "id": "a9cf66b9-fae8-45f4-baec-a5a7a82cbc90",
   "metadata": {},
   "outputs": [
    {
     "data": {
      "text/plain": [
       "([], ())"
      ]
     },
     "execution_count": 45,
     "metadata": {},
     "output_type": "execute_result"
    }
   ],
   "source": [
    "# 비어있는 리스트와 튜플 생성하기.\n",
    "\n",
    "emptyT = ()\n",
    "emptyT = tuple()\n",
    "\n",
    "emptyL = []\n",
    "emptyL = list()\n",
    "\n",
    "emptyL, emptyT"
   ]
  },
  {
   "cell_type": "code",
   "execution_count": 46,
   "id": "d89ede6f-a486-4b42-9717-5c389f329b81",
   "metadata": {},
   "outputs": [
    {
     "data": {
      "text/plain": [
       "(['a', 'b'], ('a', 'b'))"
      ]
     },
     "execution_count": 46,
     "metadata": {},
     "output_type": "execute_result"
    }
   ],
   "source": [
    "# 요소가 2개 이상인 리스트와 튜플 생성하기.\n",
    "\n",
    "list2 = ['a', 'b']\n",
    "\n",
    "tuple2 = 'a', 'b' # 코드는 덜어내는 게 더 효율적이므로 이 방법을 더 많이 씀.\n",
    "tuple2 = ('a', 'b')\n",
    "\n",
    "list2, tuple2"
   ]
  },
  {
   "cell_type": "code",
   "execution_count": 47,
   "id": "4ccbdb70-ac1d-43da-8184-b0c09af26aaa",
   "metadata": {},
   "outputs": [
    {
     "data": {
      "text/plain": [
       "(['a'], ('a',))"
      ]
     },
     "execution_count": 47,
     "metadata": {},
     "output_type": "execute_result"
    }
   ],
   "source": [
    "# 요소가 1개인 리스트와 튜플 생성하기.\n",
    "\n",
    "list1 = ['a']\n",
    "\n",
    "tuple1 = 'a', # comma가 필요함.\n",
    "tuple1 = ('a',)\n",
    "\n",
    "list1, tuple1"
   ]
  },
  {
   "cell_type": "code",
   "execution_count": 51,
   "id": "0933875a-f0b2-44a0-9000-d84b72cd376b",
   "metadata": {},
   "outputs": [
    {
     "data": {
      "text/plain": [
       "str"
      ]
     },
     "execution_count": 51,
     "metadata": {},
     "output_type": "execute_result"
    }
   ],
   "source": [
    "# 요소가 1개인 튜플을 생성할 때 comma를 쓰지 않으면?\n",
    "\n",
    "tuple1_without_comma = ('a')\n",
    "type(tuple1_without_comma) # type 출력 시 tuple이 아닌 str로 나옴."
   ]
  },
  {
   "cell_type": "markdown",
   "id": "9dab59c7-91aa-4243-9da9-72f0753b4fe4",
   "metadata": {},
   "source": [
    "#### 2.2. 여러 변수 할당하기.\n",
    "- packing : 한 변수에 여러 개의 데이터를 할당하는 것.\n",
    "    - list, tuple 자체가 packing이다. \n",
    "    - ex) list = [1, 2, 3, 4] / tuple = (1, 2, 3, 4)\n",
    "- unpacking : 여러 변수에 각각 하나씩의 데이터를 할당는 것.\n",
    "    - a, b, c = [1, 2, 3]"
   ]
  },
  {
   "cell_type": "code",
   "execution_count": 53,
   "id": "0088a257-5a9e-454d-a9c5-73c844251ebb",
   "metadata": {},
   "outputs": [
    {
     "data": {
      "text/plain": [
       "('l', 'e', 'e')"
      ]
     },
     "execution_count": 53,
     "metadata": {},
     "output_type": "execute_result"
    }
   ],
   "source": [
    "# unpacking\n",
    "\n",
    "name = 'lee'\n",
    "a, b, c = name\n",
    "a, b, c # name에 들어 있던 'lee' 값이 나눠져서 각각 a, b, c에 할당됨."
   ]
  },
  {
   "cell_type": "code",
   "execution_count": 56,
   "id": "6b028662-29ee-4b8f-94d5-5589888b0d4c",
   "metadata": {},
   "outputs": [
    {
     "name": "stdout",
     "output_type": "stream",
     "text": [
      "pwd :  userid \n",
      "userid : password\n"
     ]
    }
   ],
   "source": [
    "# unpacking을 통해 값을 교환하는 방법.\n",
    "# pwd와 userid의 값을 서로 바꾸고 싶을 땐?\n",
    "\n",
    "pwd = 'password'\n",
    "userid = 'userid'\n",
    "\n",
    "pwd, userid = userid, pwd\n",
    "print(\"pwd : \", pwd, \"\\nuserid :\", userid)"
   ]
  },
  {
   "cell_type": "markdown",
   "id": "80eb25c5-5f0a-4e41-b3b6-56bfe0290373",
   "metadata": {},
   "source": [
    "#### 2.3. Tuple로 연산하기"
   ]
  },
  {
   "cell_type": "code",
   "execution_count": 57,
   "id": "6e7484fd-80ef-4362-a9b3-9e6dda8bbe98",
   "metadata": {},
   "outputs": [
    {
     "data": {
      "text/plain": [
       "('a', 'b', 'c')"
      ]
     },
     "execution_count": 57,
     "metadata": {},
     "output_type": "execute_result"
    }
   ],
   "source": [
    "# 더하기\n",
    "('a',) + ('b', 'c')"
   ]
  },
  {
   "cell_type": "code",
   "execution_count": 58,
   "id": "36925534-b436-4fb4-b79b-0657eeb9db10",
   "metadata": {},
   "outputs": [
    {
     "data": {
      "text/plain": [
       "('a', 'b', 'a', 'b', 'a', 'b')"
      ]
     },
     "execution_count": 58,
     "metadata": {},
     "output_type": "execute_result"
    }
   ],
   "source": [
    "# 곱하기\n",
    "('a', 'b') * 3"
   ]
  },
  {
   "cell_type": "code",
   "execution_count": 63,
   "id": "0789dd47-3a60-4d86-b177-1c170cdb304e",
   "metadata": {},
   "outputs": [
    {
     "name": "stdout",
     "output_type": "stream",
     "text": [
      "(1, 2) (1, 3)\n"
     ]
    }
   ],
   "source": [
    "# 할당 후 각각의 튜플 출력하기\n",
    "a = 1, 2\n",
    "b = 1, 3\n",
    "print(a, b)"
   ]
  },
  {
   "cell_type": "markdown",
   "id": "06373257-22e4-4bc5-a00f-4a633bd4c0c9",
   "metadata": {},
   "source": [
    "#### 2.4. Tuple 순회하기"
   ]
  },
  {
   "cell_type": "code",
   "execution_count": 62,
   "id": "77ae5a7a-9b54-47ee-9718-2141071dc0d7",
   "metadata": {},
   "outputs": [
    {
     "name": "stdout",
     "output_type": "stream",
     "text": [
      "1 번째 돌고 있습니다. :  (1, 2, 3, 4, 5)\n",
      "2 번째 돌고 있습니다. :  (1, 2, 3, 4, 5)\n",
      "3 번째 돌고 있습니다. :  (1, 2, 3, 4, 5)\n",
      "4 번째 돌고 있습니다. :  (1, 2, 3, 4, 5)\n",
      "5 번째 돌고 있습니다. :  (1, 2, 3, 4, 5)\n"
     ]
    }
   ],
   "source": [
    "a = 1, 2, 3, 4, 5\n",
    "\n",
    "for i in a:\n",
    "    print(i, \"번째 돌고 있습니다. : \", a)"
   ]
  },
  {
   "cell_type": "markdown",
   "id": "e23e199e-98ae-4f6f-8aa0-8f1b006315d4",
   "metadata": {},
   "source": [
    "#### 2.5. list comprehension\n",
    "- tuple은 따로 tuple comprehension 같은 것은 없다."
   ]
  },
  {
   "cell_type": "code",
   "execution_count": 71,
   "id": "d9fc08d6-1717-430b-bd6a-503b315147b8",
   "metadata": {},
   "outputs": [
    {
     "name": "stdout",
     "output_type": "stream",
     "text": [
      "(1, 2, 3, 4, 5)\n"
     ]
    },
    {
     "data": {
      "text/plain": [
       "(1, 2, 3, 4, 5)"
      ]
     },
     "execution_count": 71,
     "metadata": {},
     "output_type": "execute_result"
    }
   ],
   "source": [
    "a = 1, 2, 3, 4, 5\n",
    "\n",
    "# 1번째 방법\n",
    "print(tuple([word for word in a]))\n",
    "\n",
    "# 2번째 방법 : 상대적으로 느림.\n",
    "*[word for word in a],"
   ]
  },
  {
   "cell_type": "markdown",
   "id": "dbd95c14-affc-42be-a7ba-a83cf8799449",
   "metadata": {},
   "source": [
    "#### 2.6. tuple은 불변 객체\n",
    "- 이 특성을 이용해, 코드 작성 시 수정하면 안 되는 값을 튜플에 넣어 사용함.\n",
    "- key 값을 저장\n",
    "- tuple은 메모리 사용이 적음."
   ]
  },
  {
   "cell_type": "code",
   "execution_count": 76,
   "id": "d42dcf63-d3cd-44d6-a41d-86f536571f5b",
   "metadata": {},
   "outputs": [
    {
     "name": "stdout",
     "output_type": "stream",
     "text": [
      "(1,) (1, 1, 2, 3)\n"
     ]
    },
    {
     "data": {
      "text/plain": [
       "(2750168243504, 2750168394304)"
      ]
     },
     "execution_count": 76,
     "metadata": {},
     "output_type": "execute_result"
    }
   ],
   "source": [
    "a = 1,\n",
    "b = 1, 2, 3\n",
    "print(a, a+b)\n",
    "id(a), id(a + b) # id값이 다름."
   ]
  },
  {
   "cell_type": "markdown",
   "id": "8cb5a592-9954-485a-affb-6fa1aa48bfb6",
   "metadata": {},
   "source": [
    "#### 2.7. 형 반환"
   ]
  },
  {
   "cell_type": "code",
   "execution_count": 86,
   "id": "07b5ffbf-3e09-46f0-9750-d3648dd9f36a",
   "metadata": {},
   "outputs": [
    {
     "name": "stdout",
     "output_type": "stream",
     "text": [
      "('c', 'a', 't') ('cat',)\n"
     ]
    }
   ],
   "source": [
    "print(tuple('cat'), tuple(['cat']))"
   ]
  },
  {
   "cell_type": "code",
   "execution_count": 89,
   "id": "24a370ce-8c9b-4306-b708-e4c6c52a82b3",
   "metadata": {},
   "outputs": [
    {
     "name": "stdout",
     "output_type": "stream",
     "text": [
      "['c', 'a', 't'] ['cat']\n"
     ]
    }
   ],
   "source": [
    "print(list('cat'), list(['cat']))"
   ]
  },
  {
   "cell_type": "markdown",
   "id": "bce40ada-4480-4938-af6c-c90c5dab19c0",
   "metadata": {},
   "source": [
    "#### 2.8. list와 tuple 장점 정리\n",
    "- 튜플 장점\n",
    "    - 타인이 변경하는 것을 막을 수 있다. **\n",
    "    - 메모리 사용이 적다.\n",
    "- 리스트 장점\n",
    "    - 데이터를 순차적으로 파악하기 좋다.\n",
    "    - 중복되는 데이터를 포함할 수 있다."
   ]
  },
  {
   "cell_type": "markdown",
   "id": "effbe956-e53a-46db-8af7-33f9bb2af72f",
   "metadata": {},
   "source": [
    "### list 관련 함수는 textbook에서 다룬다. "
   ]
  },
  {
   "cell_type": "markdown",
   "id": "d006bb02-a647-4c58-9194-0f0915528c23",
   "metadata": {},
   "source": [
    "<hr>"
   ]
  },
  {
   "cell_type": "markdown",
   "id": "0dd813de-57dd-4ed0-a230-585f8a4c25ce",
   "metadata": {},
   "source": [
    "## TextBook"
   ]
  },
  {
   "cell_type": "markdown",
   "id": "55fddcd2-c457-4983-8871-ed7de99b7f66",
   "metadata": {},
   "source": [
    "## Chapter 07 | 튜플과 리스트 (p.152 ~ p.173)"
   ]
  },
  {
   "cell_type": "markdown",
   "id": "c93cdc82-7de7-4bfd-9a33-dcb4632225a2",
   "metadata": {},
   "source": [
    "리스트의 내용을 주로 다룰 것임. 7.2.29 리스트의 리스트 및 그 이후 내용은 생략."
   ]
  },
  {
   "cell_type": "code",
   "execution_count": 7,
   "id": "17ed7674-da1c-445d-9ec5-05773e47f6cc",
   "metadata": {},
   "outputs": [
    {
     "data": {
      "text/plain": [
       "['2022', '04', '08']"
      ]
     },
     "execution_count": 7,
     "metadata": {},
     "output_type": "execute_result"
    }
   ],
   "source": [
    "# 7.2.3 문자열 분할로 생성하기 : split()\n",
    "\n",
    "today = \"2022/04/08\"\n",
    "today.split(\"/\")"
   ]
  },
  {
   "cell_type": "code",
   "execution_count": 11,
   "id": "8b5821b6-c5fe-42d3-aa44-b0c0df6a4ad1",
   "metadata": {},
   "outputs": [
    {
     "name": "stdout",
     "output_type": "stream",
     "text": [
      "Jisung Park\n",
      "Yuna Kim\n",
      "Hyunjin Ryu\n",
      "\n",
      "Hyunjin Ryu\n",
      "Yuna Kim\n",
      "Jisung Park\n"
     ]
    }
   ],
   "source": [
    "# 7.2.4 [offset]으로 항목 얻기\n",
    "# offset 범위를 벗어나면 error가 난다. \n",
    "\n",
    "player = ['Jisung Park', 'Yuna Kim', 'Hyunjin Ryu']\n",
    "print(player[0])\n",
    "print(player[1])\n",
    "print(player[2] + \"\\n\")\n",
    "\n",
    "# 음수 인덱스\n",
    "print(player[-1])\n",
    "print(player[-2])\n",
    "print(player[-3])"
   ]
  },
  {
   "cell_type": "code",
   "execution_count": 22,
   "id": "d6c4a62c-a8e7-4aed-b8f9-7ab9a632e98f",
   "metadata": {},
   "outputs": [
    {
     "name": "stdout",
     "output_type": "stream",
     "text": [
      "원래의 리스트 :  ['Jisung Park', 'Yuna Kim', 'Hyunjin Ryu']\n",
      "['Jisung Park', 'Yuna Kim']\n",
      "['Yuna Kim']\n",
      "['Hyunjin Ryu', 'Yuna Kim', 'Jisung Park'] \n",
      "\n",
      "뒤집힌 리스트 :  ['Hyunjin Ryu', 'Yuna Kim', 'Jisung Park']\n"
     ]
    }
   ],
   "source": [
    "# 7.2.5 슬라이스로 항목 얻기\n",
    "\n",
    "player = ['Jisung Park', 'Yuna Kim', 'Hyunjin Ryu']\n",
    "print(\"원래의 리스트 : \", player)\n",
    "print(player[0:2])\n",
    "print(player[1:2])\n",
    "print(player[::-1], \"\\n\")\n",
    "\n",
    "# 리스트를 뒤집고 싶다면 : list.reverse()\n",
    "player.reverse()\n",
    "print(\"뒤집힌 리스트 : \", player)"
   ]
  },
  {
   "cell_type": "code",
   "execution_count": 37,
   "id": "48547887-134e-4b02-8dbc-dc74370de325",
   "metadata": {},
   "outputs": [
    {
     "name": "stdout",
     "output_type": "stream",
     "text": [
      "['tue', 'wed']\n",
      "['tue', 'wed', 'thu']\n"
     ]
    }
   ],
   "source": [
    "# 7.2.6 리스트 끝에 항목 추가하기 : append()\n",
    "\n",
    "week = ['tue', 'wed']\n",
    "print(week)\n",
    "\n",
    "week.append('thu')\n",
    "print(week)"
   ]
  },
  {
   "cell_type": "code",
   "execution_count": 38,
   "id": "ae3b6847-6f2a-437d-b28a-194acf101594",
   "metadata": {},
   "outputs": [
    {
     "name": "stdout",
     "output_type": "stream",
     "text": [
      "['tue', 'wed', 'thu']\n",
      "['mon', 'tue', 'wed', 'thu']\n",
      "['mon', 'tue', 'wed', 'thu', 'fri']\n"
     ]
    }
   ],
   "source": [
    "# 7.2.7 오프셋과 insert()로 항목 추가하기\n",
    "# 오프셋 0은 시작점에 항목을 삽입, 리스트의 끝을 넘는 오프셋은 끝에 항목이 삽입된다.\n",
    "print(week)\n",
    "week.insert(0, 'mon')\n",
    "print(week)\n",
    "week.insert(10, 'fri')\n",
    "print(week)"
   ]
  },
  {
   "cell_type": "code",
   "execution_count": 33,
   "id": "1432c40f-9ca9-40c3-9b33-961fca15ddee",
   "metadata": {},
   "outputs": [
    {
     "name": "stdout",
     "output_type": "stream",
     "text": [
      "['blah', 'blah']\n",
      "['blah', 'blah', 'blah', 'blah', 'blah']\n"
     ]
    }
   ],
   "source": [
    "# 7.2.8 모든 항목 복제하기:*\n",
    "\n",
    "print(['blah'] * 2)\n",
    "print(['blah'] * 5)"
   ]
  },
  {
   "cell_type": "code",
   "execution_count": 39,
   "id": "1255e851-11a4-4e85-8423-8fb2835cb523",
   "metadata": {},
   "outputs": [
    {
     "name": "stdout",
     "output_type": "stream",
     "text": [
      "['mon', 'tue', 'wed', 'thu', 'fri']\n",
      "['mon', 'tue', 'wed', 'thu', 'fri', 'sat', 'sun'] \n",
      "\n",
      "['mon', 'tue', 'wed', 'thu', 'fri', 'sat', 'sun', 'mon', 'tue']\n"
     ]
    }
   ],
   "source": [
    "# 7.2.9 리스트 병합하기: extend()와 +\n",
    "\n",
    "print(week)\n",
    "others = ['sat', 'sun']\n",
    "week.extend(others)\n",
    "print(week, \"\\n\")\n",
    "\n",
    "others2 = ['mon', 'tue']\n",
    "week += others2\n",
    "print(week)\n",
    "\n",
    "# 참고 : append()를 사용하면 항목을 병합하지 않고 others가 하나의 리스트로 추가된다. "
   ]
  },
  {
   "cell_type": "code",
   "execution_count": 40,
   "id": "d1f93ba7-d490-4c2d-a398-8f83144b1630",
   "metadata": {},
   "outputs": [
    {
     "name": "stdout",
     "output_type": "stream",
     "text": [
      "['mon', 'tue', 'wed', 'thu', 'fri', 'sat', 'sun', 'mon', 'tue']\n",
      "['mon', 'tue', 'wed', 'thu', 'fri', 'sat', 'sun', '', 'tue']\n"
     ]
    }
   ],
   "source": [
    "# 7.2.10 [offset]으로 항목 바꾸기\n",
    "print(week)\n",
    "week[-2] = \"\"\n",
    "print(week)"
   ]
  },
  {
   "cell_type": "code",
   "execution_count": 41,
   "id": "deb08530-ad40-4974-a16f-96e59e056fe2",
   "metadata": {},
   "outputs": [
    {
     "name": "stdout",
     "output_type": "stream",
     "text": [
      "['mon', 'tue', 'wed', 'thu', 'fri', 'sat', 'sun', '', 'tue']\n",
      "['mon', 'tue', 'wed', 'thu', 'fri', 'sat', 'sun', '']\n"
     ]
    }
   ],
   "source": [
    "# 7.2.11 슬라이스로 항목 바꾸기\n",
    "print(week)\n",
    "week[8:9] = \"\"\n",
    "print(week)"
   ]
  },
  {
   "cell_type": "code",
   "execution_count": 42,
   "id": "5e1397ff-84ed-4696-b786-2addfac9f41a",
   "metadata": {},
   "outputs": [
    {
     "name": "stdout",
     "output_type": "stream",
     "text": [
      "['mon', 'tue', 'wed', 'thu', 'fri', 'sat', 'sun', '']\n",
      "['mon', 'tue', 'wed', 'thu', 'fri', 'sat', 'sun']\n"
     ]
    }
   ],
   "source": [
    "# 7.2.12 오프셋으로 항목 삭제하기 : del\n",
    "print(week)\n",
    "del week[-1]\n",
    "print(week)"
   ]
  },
  {
   "cell_type": "code",
   "execution_count": 43,
   "id": "f0cda378-122e-4ff4-8655-3875b087159e",
   "metadata": {},
   "outputs": [
    {
     "name": "stdout",
     "output_type": "stream",
     "text": [
      "['mon', 'tue', 'wed', 'thu', 'fri', 'sat', 'sun']\n",
      "['tue', 'wed', 'thu', 'fri', 'sat', 'sun']\n"
     ]
    }
   ],
   "source": [
    "# 7.2.13 값으로 항목 삭제하기 : remove()\n",
    "print(week)\n",
    "week.remove('mon')\n",
    "print(week)"
   ]
  },
  {
   "cell_type": "code",
   "execution_count": 44,
   "id": "4c7ffc74-9145-4283-9b66-76336a5b094a",
   "metadata": {},
   "outputs": [
    {
     "name": "stdout",
     "output_type": "stream",
     "text": [
      "['tue', 'wed', 'thu', 'fri', 'sat', 'sun']\n",
      "['tue', 'wed', 'thu', 'fri', 'sat']\n",
      "['tue', 'thu', 'fri', 'sat']\n"
     ]
    }
   ],
   "source": [
    "# 7.2.14 오프셋으로 항목을 얻은 후 삭제하기 : pop()\n",
    "print(week)\n",
    "week.pop() # 맨 마지막 값을 삭제한다.\n",
    "print(week)\n",
    "\n",
    "week.pop(1)\n",
    "print(week) # 오프셋 1의 값을 삭제한다."
   ]
  },
  {
   "cell_type": "code",
   "execution_count": 45,
   "id": "82cea864-a1e4-49e8-92ce-08b9b3d805a4",
   "metadata": {},
   "outputs": [
    {
     "name": "stdout",
     "output_type": "stream",
     "text": [
      "['tue', 'thu', 'fri', 'sat']\n",
      "[]\n"
     ]
    }
   ],
   "source": [
    "# 7.2.15 모든 항목 삭제하기 : clear()\n",
    "print(week)\n",
    "week.clear()\n",
    "print(week)"
   ]
  },
  {
   "cell_type": "code",
   "execution_count": 48,
   "id": "bed12ae7-880c-4701-8644-311f94d8280d",
   "metadata": {},
   "outputs": [
    {
     "name": "stdout",
     "output_type": "stream",
     "text": [
      "['W', 'e', 'l', 'c', 'o', 'm', 'e', ' ', 't', 'o', ' ', 't', 'h', 'e', ' ', 's', 't', 'r', 'a', 'n', 'g', 'e', ' ', 'w', 'o', 'r', 'l', 'd']\n"
     ]
    },
    {
     "data": {
      "text/plain": [
       "1"
      ]
     },
     "execution_count": 48,
     "metadata": {},
     "output_type": "execute_result"
    }
   ],
   "source": [
    "# 7.2.16 값으로 오프셋 찾기 : index()\n",
    "Gingamingayo = list(\"Welcome to the strange world\")\n",
    "print(Gingamingayo)\n",
    "Gingamingayo.index('e') # 리스트에 같은 값이 2개 이상이면 첫 번째 오프셋만 반환한다. "
   ]
  },
  {
   "cell_type": "code",
   "execution_count": 51,
   "id": "344bffae-ec30-48ed-8736-499f115bf9c9",
   "metadata": {},
   "outputs": [
    {
     "name": "stdout",
     "output_type": "stream",
     "text": [
      "True\n",
      "False\n"
     ]
    }
   ],
   "source": [
    "# 7.2.17 존재여부 확인하기: in\n",
    "blackpink = ['제니', '리사', '지수', '로제']\n",
    "print('제니' in blackpink) # 리스트에는 같은 값이 여러 개 존재할 수 있는데, 값이 하나 이상 존재하면 in은 True를 반환한다. \n",
    "print('사나' in blackpink)"
   ]
  },
  {
   "cell_type": "code",
   "execution_count": 60,
   "id": "870ed241-8ae8-4916-98f9-71f3a54fdda8",
   "metadata": {},
   "outputs": [
    {
     "name": "stdout",
     "output_type": "stream",
     "text": [
      "어질어질해 feel good 아찔아찔해 feel good\n",
      "지금 내 기분은 rainbow in the sky 사뿐히 밟고 올라가\n",
      "(And let me tell ya) by my side (Givin' me that) 다가와\n",
      "조금 다른 나를 만나게 해줄게\n",
      "'Cause I feel so good\n",
      "(Nanananana nanananana)\n",
      "Feel good\n",
      "(Nanananana nanananana)\n",
      "(And let me tell ya) by my side (Givin' me that) 다가와\n",
      "조금 다른 나를 만나게 해줄게\n",
      "'Cause I feel so good\n",
      "\n",
      "위 가사에 등장한 \n",
      "'na'의 갯수 :  20\n",
      "'rainbow'의 갯수 :  1\n",
      "'fromis_9'의 갯수 :  0\n"
     ]
    }
   ],
   "source": [
    "# 7.2.18 값 세기 : count()\n",
    "print(feel_good := \"어질어질해 feel good 아찔아찔해 feel good\\n\\\n",
    "지금 내 기분은 rainbow in the sky 사뿐히 밟고 올라가\\n\\\n",
    "(And let me tell ya) by my side (Givin' me that) 다가와\\n\\\n",
    "조금 다른 나를 만나게 해줄게\\n\\\n",
    "'Cause I feel so good\\n\\\n",
    "(Nanananana nanananana)\\n\\\n",
    "Feel good\\n\\\n",
    "(Nanananana nanananana)\\n\\\n",
    "(And let me tell ya) by my side (Givin' me that) 다가와\\n\\\n",
    "조금 다른 나를 만나게 해줄게\\n\\\n",
    "'Cause I feel so good\\n\")\n",
    "\n",
    "print(\"위 가사에 등장한 \\n'na'의 갯수 : \", feel_good.lower().count('na'))\n",
    "print(\"'rainbow'의 갯수 : \",feel_good.lower().count('rainbow'))\n",
    "print(\"'fromis_9'의 갯수 : \",feel_good.lower().count('fromis_9'))"
   ]
  },
  {
   "cell_type": "code",
   "execution_count": 141,
   "id": "3fbeb8cd-ee12-4fed-8af9-91c32d795392",
   "metadata": {},
   "outputs": [
    {
     "name": "stdout",
     "output_type": "stream",
     "text": [
      "Harry & Hermione & Ron\n"
     ]
    }
   ],
   "source": [
    "# 7.2.19 문자열로 변환하기 : join() \n",
    "# join()리스트 메서드가 아니다. split()의 반대라고 생각하면 기억하기 쉬울 것.\n",
    "friends = ['Harry', 'Hermione', 'Ron']\n",
    "seperate = \" & \"\n",
    "print(friends_join := seperate.join(friends))"
   ]
  },
  {
   "cell_type": "code",
   "execution_count": 92,
   "id": "35bfed8b-8faa-4831-8b56-738e9d82f1d8",
   "metadata": {},
   "outputs": [
    {
     "name": "stdout",
     "output_type": "stream",
     "text": [
      "[5, 3, 8, 6, 1, 4, 3, 2, 9]\n",
      "[1, 2, 3, 3, 4, 5, 6, 8, 9]\n",
      "\n",
      "\n",
      "['b', 's', 'y', 'a', 'z', 'u']\n",
      "['a', 'b', 's', 'u', 'y', 'z']\n",
      "\n",
      "\n",
      "[1, 4, 3, 2]\n",
      "[9, 8, 6, 5, 4, 3, 3, 2, 1]\n"
     ]
    }
   ],
   "source": [
    "# 7.2.20 정렬하기 : sort()와 sorted()\n",
    "# sort()는 리스트 자체를 내부적으로 정렬한다.\n",
    "# sorted()는 리스트의 정렬된 복사본을 반환한다. \n",
    "# 리스트의 항목이 숫자라면 오름차순(기본값)으로 정렬한다. 문자열이면 알파벳순으로 정렬한다. \n",
    "\n",
    "print(num_lst := [5, 3, 8, 6, 1, 4, 3, 2, 9])\n",
    "num_lst.sort()\n",
    "print(num_lst) # 같은 값(3)이 여러 개라면, 같은 값들을 모두 배열한 뒤 다음 값을 배열한다.\n",
    "\n",
    "print(\"\\n\")\n",
    "\n",
    "print(alpha_lst := ['b', 's', 'y', 'a', 'z', 'u'])\n",
    "print(alpha_lst_sorted := sorted(alpha_lst))\n",
    "\n",
    "print(\"\\n\")\n",
    "\n",
    "print(num_lst2 := [1, 4, 3, 2])\n",
    "num_lst.sort(reverse = True) # reverse = True를 인수에 넣어주면 내림차순으로 정렬된다.\n",
    "print(num_lst)"
   ]
  },
  {
   "cell_type": "code",
   "execution_count": 93,
   "id": "6c785219-086a-4ebf-99f8-b7999d600e16",
   "metadata": {},
   "outputs": [
    {
     "data": {
      "text/plain": [
       "5"
      ]
     },
     "execution_count": 93,
     "metadata": {},
     "output_type": "execute_result"
    }
   ],
   "source": [
    "# 7.2.21 항목 개수 얻기 : len()\n",
    "hello = ['h', 'e', 'l', 'l', 'o']\n",
    "len(hello)"
   ]
  },
  {
   "cell_type": "code",
   "execution_count": 95,
   "id": "95694fbe-b4a7-4304-b60e-e9f2ce639fe4",
   "metadata": {},
   "outputs": [
    {
     "name": "stdout",
     "output_type": "stream",
     "text": [
      "['black', 2, 3]\n"
     ]
    }
   ],
   "source": [
    "# 7.2.22 할당하기: =\n",
    "\n",
    "a = [1, 2, 3]\n",
    "b = a\n",
    "a[0] = 'black'\n",
    "print(b) # b도 마찬가지로 바뀐 것을 알 수 있다."
   ]
  },
  {
   "cell_type": "code",
   "execution_count": 107,
   "id": "866d8a3c-726b-46e9-a728-bcc080e79a8c",
   "metadata": {},
   "outputs": [
    {
     "name": "stdout",
     "output_type": "stream",
     "text": [
      "a :  ['복', '사', '본'] \n",
      " b :  ['복', '사', '본'] \n",
      " c :  ['복', '사', '본'] \n",
      " d :  ['복', '사', '본'] \n",
      "\n",
      "a :  ['복', '사', '본'] \n",
      " c :  ['값 바꾸기']\n"
     ]
    }
   ],
   "source": [
    "# 7.2.23 복사하기: copy(), list(), 슬라이스\n",
    "a = ['복', '사', '본']\n",
    "b = a.copy()\n",
    "c = list(a)\n",
    "d = a[:]\n",
    "\n",
    "print(\"a : \", a, \"\\n\", \"b : \", b, \"\\n\", \"c : \", c, \"\\n\", \"d : \", d, \"\\n\")\n",
    "\n",
    "del c[0:3]\n",
    "c.insert(0, '값 바꾸기')\n",
    "print(\"a : \", a, \"\\n\", \"c : \", c) # b, c, d는 자신만의 값을 가진 새로운 객체이므로, 값을 바꾸더라도 원본인 a에 영향이 가지 않는다."
   ]
  },
  {
   "cell_type": "code",
   "execution_count": 117,
   "id": "6f164ce7-3216-45dd-97e6-3db272206049",
   "metadata": {},
   "outputs": [
    {
     "name": "stdout",
     "output_type": "stream",
     "text": [
      "[1, 2, [8, 9]] [1, 2, [8, 9]] [1, 2, [8, 9]] [1, 2, [8, 9]]\n",
      "[1, 2, [8, 10]] [1, 2, [8, 10]] [1, 2, [8, 10]] [1, 2, [8, 10]]\n"
     ]
    }
   ],
   "source": [
    "# 7.2.24 깊은 복사 : deepcopy() \n",
    "# 먼저 얕은 복사(shallow copy)의 예시이다. 얕은 복사에서는 원본의 값이 바뀌면 나머지 값들도 바뀐다. \n",
    "aa = [1, 2, [8, 9]]\n",
    "bb = aa.copy()\n",
    "cc = list(aa)\n",
    "dd = aa[:]\n",
    "\n",
    "print(aa, bb, cc, dd)\n",
    "\n",
    "aa[2][1] = 10\n",
    "print(aa, bb, cc, dd)"
   ]
  },
  {
   "cell_type": "code",
   "execution_count": 118,
   "id": "a2a23acf-b12a-4978-9c3f-395e8ee6c412",
   "metadata": {},
   "outputs": [
    {
     "name": "stdout",
     "output_type": "stream",
     "text": [
      "[1, 2, [8, 9]] [1, 2, [8, 9]]\n",
      "[1, 2, [8, 10]] [1, 2, [8, 9]]\n"
     ]
    }
   ],
   "source": [
    "import copy\n",
    "aa = [1, 2, [8, 9]]\n",
    "bb = copy.deepcopy(aa)\n",
    "print(aa, bb)\n",
    "\n",
    "aa[2][1] = 10\n",
    "print(aa, bb) # deepcopy를 사용하면 a의 값이 바뀌어도 b의 값은 변하지 않는다. "
   ]
  },
  {
   "cell_type": "code",
   "execution_count": 112,
   "id": "3eb6489c-3f6f-4616-a3c0-8791f7c75d02",
   "metadata": {},
   "outputs": [
    {
     "name": "stdout",
     "output_type": "stream",
     "text": [
      "False\n",
      "True\n",
      "False\n"
     ]
    }
   ],
   "source": [
    "# 7.2.25 리스트 비교\n",
    "# 비교연산자는 두리스트의 같은 위치의 오프셋 항목을 비교한다. \n",
    "\n",
    "a = [1, 2, 3]\n",
    "b = [1, 2]\n",
    "\n",
    "print(a == b)\n",
    "print(a >= b)\n",
    "print(a <= b)"
   ]
  },
  {
   "cell_type": "code",
   "execution_count": 119,
   "id": "8b89d7df-6e77-493b-a8ae-02f6f53d6736",
   "metadata": {},
   "outputs": [
    {
     "name": "stdout",
     "output_type": "stream",
     "text": [
      "장미\n",
      "유채꽃\n",
      "나팔꽃\n",
      "무궁화\n"
     ]
    }
   ],
   "source": [
    "# 7.2.26 순회하기: for와 in\n",
    "\n",
    "flowers = ['장미', '유채꽃', '나팔꽃', '무궁화']\n",
    "for flower in flowers:\n",
    "    print(flower)"
   ]
  },
  {
   "cell_type": "code",
   "execution_count": 120,
   "id": "63297797-e260-4272-886f-7a8d1fdbaf4a",
   "metadata": {},
   "outputs": [
    {
     "name": "stdout",
     "output_type": "stream",
     "text": [
      "장미\n",
      "아직 안 핀 꽃입니다.\n"
     ]
    }
   ],
   "source": [
    "# break문 이용하기.\n",
    "for flower in flowers:\n",
    "    if flower.startswith('유'):\n",
    "        print(\"아직 안 핀 꽃입니다.\")\n",
    "        break\n",
    "    else:\n",
    "        print(flower)"
   ]
  },
  {
   "cell_type": "code",
   "execution_count": 121,
   "id": "655edfe7-29eb-4532-83ca-e8dd9b3728da",
   "metadata": {},
   "outputs": [
    {
     "name": "stdout",
     "output_type": "stream",
     "text": [
      "장미\n",
      "유채꽃\n",
      "나팔꽃\n",
      "무궁화\n",
      "모든 꽃이 피었습니다.\n"
     ]
    }
   ],
   "source": [
    "# break문이 걸리지 않았다면 다음과 같이 else문을 사용할 수 있다. \n",
    "\n",
    "for flower in flowers:\n",
    "    if flower.startswith('뀨'):\n",
    "        print(\"아직 안 핀 꽃입니다.\")\n",
    "        break\n",
    "    else:\n",
    "        print(flower)\n",
    "else:\n",
    "    print(\"모든 꽃이 피었습니다.\")"
   ]
  },
  {
   "cell_type": "code",
   "execution_count": 123,
   "id": "92ad1285-7a6f-44bb-bd1e-9847ea644a02",
   "metadata": {},
   "outputs": [
    {
     "name": "stdout",
     "output_type": "stream",
     "text": [
      "피어있는 꽃이 아무것도 없습니다.\n"
     ]
    }
   ],
   "source": [
    "# in문의 리스트에 항목이 없어서 for문이 실행되지 않을 때도 else문이 실행된다.\n",
    "\n",
    "flowers = []\n",
    "\n",
    "for flower in flowers:\n",
    "        print(flower,\"이 피었습니다.\")\n",
    "        break\n",
    "else:\n",
    "    print(\"피어있는 꽃이 아무것도 없습니다.\")\n",
    "    \n",
    "# flower 리스트가 비어 있어 for문과 break문이 수행되지 않음."
   ]
  },
  {
   "cell_type": "code",
   "execution_count": 125,
   "id": "297be734-736a-4bdf-aeba-b235af209da0",
   "metadata": {},
   "outputs": [
    {
     "name": "stdout",
     "output_type": "stream",
     "text": [
      "철수 의 응시 과목은  영어 이며, 총  100 점을 얻었습니다.\n",
      "영희 의 응시 과목은  수학 이며, 총  80 점을 얻었습니다.\n",
      "나현 의 응시 과목은  국어 이며, 총  90 점을 얻었습니다.\n",
      "지우 의 응시 과목은  사회 이며, 총  70 점을 얻었습니다.\n"
     ]
    }
   ],
   "source": [
    "# 7.2.27 여러 시퀀스 순회하기 : zip()\n",
    "# 여러 시퀀스 중 가장 짧은 시퀀스가 완료되면 zip()은 멈춘다.\n",
    "\n",
    "friends = ['철수', '영희', '나현', '지우']\n",
    "subjects = ['영어', '수학', '국어', '사회']\n",
    "scores = [100, 80, 90, 70, 50]\n",
    "\n",
    "for friend, subject, score in zip(friends, subjects, scores):\n",
    "    print(friend, \"의 응시 과목은 \", subject, \"이며, 총 \", score, \"점을 얻었습니다.\") \n",
    "    \n",
    "# scores의 마지막 원소인 50은 반환되지 않는다. "
   ]
  },
  {
   "cell_type": "code",
   "execution_count": 130,
   "id": "d60a640e-0a28-4949-8e3c-7aeb7ec57855",
   "metadata": {},
   "outputs": [
    {
     "name": "stdout",
     "output_type": "stream",
     "text": [
      "[('name', 'adı'), ('house', 'ev'), ('mom', 'anne'), ('happy', 'mutlu')]\n",
      "{'name': 'adı', 'house': 'ev', 'mom': 'anne', 'happy': 'mutlu'}\n"
     ]
    }
   ],
   "source": [
    "english = 'name', 'house', 'mom', 'happy'\n",
    "turkish = 'adı', 'ev', 'anne', 'mutlu'\n",
    "\n",
    "print(list(zip(english, turkish)))\n",
    "print(dict(zip(english, turkish))) # 8장에서 다룰 dict()에 적용하면 작은 사전을 만들 수 있다."
   ]
  },
  {
   "cell_type": "code",
   "execution_count": 131,
   "id": "21d54131-0530-4f78-b8e8-bdbfaf1e4006",
   "metadata": {},
   "outputs": [
    {
     "data": {
      "text/plain": [
       "[1, 2, 3, 4, 5]"
      ]
     },
     "execution_count": 131,
     "metadata": {},
     "output_type": "execute_result"
    }
   ],
   "source": [
    "# 7.2.28 리스트 컴프리헨션\n",
    "# 파이써닉한 방법(리스트 컴프리헨션)으로 정수 리스트 만들기\n",
    "num_lst = [n for n in range(1, 6)]\n",
    "num_lst"
   ]
  },
  {
   "cell_type": "code",
   "execution_count": 133,
   "id": "7c4f341b-20da-4707-bea2-9044066295d9",
   "metadata": {},
   "outputs": [
    {
     "data": {
      "text/plain": [
       "[2, 4, 6, 8, 10]"
      ]
     },
     "execution_count": 133,
     "metadata": {},
     "output_type": "execute_result"
    }
   ],
   "source": [
    "# 1과 10 사이에서 짝수 리스트 만들기\n",
    "even_lst = [n for n in range(1, 11) if n%2 == 0]\n",
    "even_lst"
   ]
  },
  {
   "cell_type": "code",
   "execution_count": 140,
   "id": "52189b34-0273-45b9-bb6d-d9c1a2644990",
   "metadata": {},
   "outputs": [
    {
     "name": "stdout",
     "output_type": "stream",
     "text": [
      "(1, 1)\n",
      "(1, 2)\n",
      "(2, 1)\n",
      "(2, 2)\n",
      "(3, 1)\n",
      "(3, 2)\n",
      "\n",
      "\n",
      "1 1\n",
      "1 2\n",
      "2 1\n",
      "2 2\n",
      "3 1\n",
      "3 2\n"
     ]
    }
   ],
   "source": [
    "rows = range(1, 4)\n",
    "cols = range(1, 3)\n",
    "cells = [(row, col) for row in rows for col in cols]\n",
    "for cell in cells:\n",
    "    print(cell)\n",
    "    \n",
    "print(\"\\n\")\n",
    "\n",
    "for row, col in cells:\n",
    "    print(row, col) # tuple unpacking 과정"
   ]
  },
  {
   "cell_type": "markdown",
   "id": "88cfa4df-38ec-408c-b98f-bbba588456e1",
   "metadata": {},
   "source": [
    "<hr>"
   ]
  },
  {
   "cell_type": "markdown",
   "id": "47c2c735-f5c1-4fab-8eb9-b674f5e4f613",
   "metadata": {},
   "source": [
    "## Outro."
   ]
  },
  {
   "cell_type": "markdown",
   "id": "643650ef-c410-4de3-afed-7b80487512c0",
   "metadata": {},
   "source": [
    "### Quiz 1. 다음 문장을 [(대문자, 타이틀, 글자수), ...]로 저장된 리스트로 만들어라."
   ]
  },
  {
   "cell_type": "code",
   "execution_count": 145,
   "id": "11dc519a-e40f-4e74-b5ce-af763d486b2f",
   "metadata": {},
   "outputs": [
    {
     "data": {
      "text/plain": [
       "[(\"DON'T\", \"Don'T\", 5),\n",
       " ('JUDGE', 'Judge', 5),\n",
       " ('A', 'A', 1),\n",
       " ('BOOK', 'Book', 4),\n",
       " ('BY', 'By', 2),\n",
       " ('ITS', 'Its', 3),\n",
       " ('COVER.', 'Cover.', 6)]"
      ]
     },
     "execution_count": 145,
     "metadata": {},
     "output_type": "execute_result"
    }
   ],
   "source": [
    "sentence = \"don't judge a book by its cover.\"\n",
    "\n",
    "[(w.upper(), w.title(), len(w)) for w in sentence.split()]"
   ]
  },
  {
   "cell_type": "markdown",
   "id": "6a6edb64-6914-4ade-ad91-de1a3ba4e556",
   "metadata": {},
   "source": [
    "### Quiz 2. 리스트 컴프리헨션을 사용하여 주어진 text와 함께 다음을 수행하라.\n",
    "- 2.1. 문장으로 구성된 리스트로 만들기\n",
    "- 2.2. 전체 단어를 하나의 리스트로 가져오기.\n",
    "- 2.3. 전체를 스트링으로 가져오기."
   ]
  },
  {
   "cell_type": "code",
   "execution_count": 146,
   "id": "f1932f08-005a-4836-b347-5d1cebebea5a",
   "metadata": {},
   "outputs": [],
   "source": [
    "text = [\n",
    "    ['hello', 'guys'],\n",
    "    ['how', 'are', 'you']\n",
    "]"
   ]
  },
  {
   "cell_type": "code",
   "execution_count": 151,
   "id": "6d306559-2cf0-4e99-9c9f-ef512c85553d",
   "metadata": {},
   "outputs": [
    {
     "data": {
      "text/plain": [
       "['hello guys', 'how are you']"
      ]
     },
     "execution_count": 151,
     "metadata": {},
     "output_type": "execute_result"
    }
   ],
   "source": [
    "# 2.1\n",
    "[\" \".join(w) for w in text]"
   ]
  },
  {
   "cell_type": "code",
   "execution_count": 152,
   "id": "3553bf1c-ec9c-4c89-ab0b-4b7179448d45",
   "metadata": {},
   "outputs": [
    {
     "data": {
      "text/plain": [
       "['hello', 'guys', 'how', 'are', 'you']"
      ]
     },
     "execution_count": 152,
     "metadata": {},
     "output_type": "execute_result"
    }
   ],
   "source": [
    "# 2.2\n",
    "[w for sent in text for w in sent]"
   ]
  },
  {
   "cell_type": "code",
   "execution_count": 154,
   "id": "86ab36cb-981d-42d3-a29f-41f338ba5868",
   "metadata": {},
   "outputs": [
    {
     "data": {
      "text/plain": [
       "'hello guys how are you'"
      ]
     },
     "execution_count": 154,
     "metadata": {},
     "output_type": "execute_result"
    }
   ],
   "source": [
    "# 2.3\n",
    "\" \".join([w for sent in text for w in sent])"
   ]
  },
  {
   "cell_type": "markdown",
   "id": "0ac801c5-daed-4ac1-999c-38f9e719ec3f",
   "metadata": {},
   "source": [
    "- 다음주 목요일 자정까지 <과제 : 브라운 코퍼스 정제하기>를 수행하기 바람."
   ]
  }
 ],
 "metadata": {
  "kernelspec": {
   "display_name": "Python 3 (ipykernel)",
   "language": "python",
   "name": "python3"
  },
  "language_info": {
   "codemirror_mode": {
    "name": "ipython",
    "version": 3
   },
   "file_extension": ".py",
   "mimetype": "text/x-python",
   "name": "python",
   "nbconvert_exporter": "python",
   "pygments_lexer": "ipython3",
   "version": "3.8.12"
  }
 },
 "nbformat": 4,
 "nbformat_minor": 5
}
