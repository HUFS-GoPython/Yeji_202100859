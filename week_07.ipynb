{
 "cells": [
  {
   "cell_type": "markdown",
   "id": "8dc50e8a-341b-47e9-86ef-1adef4e730c6",
   "metadata": {},
   "source": [
    "# 7주차 | 고급파이썬프로그래밍 | 2022.04.15(금)"
   ]
  },
  {
   "cell_type": "markdown",
   "id": "270f70d9-98b1-4f8f-8246-5ecca2742a67",
   "metadata": {},
   "source": [
    "<hr>"
   ]
  },
  {
   "cell_type": "markdown",
   "id": "6f987874-1250-4d46-ba91-17e26c8c2171",
   "metadata": {},
   "source": [
    "## Intro."
   ]
  },
  {
   "cell_type": "markdown",
   "id": "a67593df-d727-4937-8585-6dad9bfc5572",
   "metadata": {},
   "source": [
    "### notice\n",
    "- 중간 고사 시험 시간은 1시간으로 늘어남."
   ]
  },
  {
   "cell_type": "markdown",
   "id": "6b4c360e-f985-4d3b-bd06-071be01d5384",
   "metadata": {},
   "source": [
    "<hr>"
   ]
  },
  {
   "cell_type": "markdown",
   "id": "4ffb0033-5d01-4b72-8f0f-568f9dd50d27",
   "metadata": {},
   "source": [
    "## Class"
   ]
  },
  {
   "cell_type": "markdown",
   "id": "7d09ae53-84b3-4317-91af-650369235034",
   "metadata": {},
   "source": [
    "### 함수"
   ]
  },
  {
   "cell_type": "markdown",
   "id": "936a92e8-39f3-4d86-b381-5a33161da8f3",
   "metadata": {},
   "source": [
    "#### 1. 정의\n",
    "    - 코드의 덩어리, 묶음\n",
    "    - 코드의 (편리한) 재사용이 주된 목적.\n",
    "    - 정의하기(define) -> 호출하기(call)\n",
    "    - 구조  \n",
    "        *정의하기*  \n",
    "        def 함수이름(매개변수1, 2, 3, ...):\n",
    "            수행문1\n",
    "            수행문2\n",
    "            ....\n",
    "            return 출력값\n",
    "           \n",
    "        *호출하기*  \n",
    "        함수이름(인수1, 2, 3, ...)\n",
    "    - \"인터페이스\" 잘 설정하면 내부를 몰라도 함수를 쉽게 쓸 수 있다. \n",
    "    \n",
    "#### 2. 이름 짓기\n",
    "    - 소문자 사용한다.\n",
    "    - 카멜표기법 가능 < 언더바\n",
    "    - 동사 + 명사: print_output, save_mode, split_text\n",
    "    - 줄임말 쓰지 말기 pr_output (x), 명료하게"
   ]
  },
  {
   "cell_type": "code",
   "execution_count": 4,
   "id": "ba11dfc9-8a4e-4020-ad6a-e58040d22cd7",
   "metadata": {},
   "outputs": [
    {
     "name": "stdout",
     "output_type": "stream",
     "text": [
      "quack\n"
     ]
    }
   ],
   "source": [
    "def make_a_sound():\n",
    "    # 1. 입력 없고, 반환 없음\n",
    "    print('quack')\n",
    "    # return None\n",
    "    \n",
    "make_a_sound()"
   ]
  },
  {
   "cell_type": "code",
   "execution_count": 5,
   "id": "6e2c91e4-5a0c-47aa-a456-23421e9b7d66",
   "metadata": {},
   "outputs": [
    {
     "data": {
      "text/plain": [
       "True"
      ]
     },
     "execution_count": 5,
     "metadata": {},
     "output_type": "execute_result"
    }
   ],
   "source": [
    "def agree():\n",
    "    # 2. 입력 없고, 반환 있고\n",
    "    return True\n",
    "agree()"
   ]
  },
  {
   "cell_type": "code",
   "execution_count": 8,
   "id": "42f17ff1-ccd0-472b-b3d1-339d62b88aac",
   "metadata": {},
   "outputs": [
    {
     "name": "stdout",
     "output_type": "stream",
     "text": [
      "hello hello\n"
     ]
    }
   ],
   "source": [
    "def echo(anything):\n",
    "    #3. 입력 있고, 반환 없고\n",
    "    print('{0} {0}'.format(anything))\n",
    "    \n",
    "echo('hello')"
   ]
  },
  {
   "cell_type": "code",
   "execution_count": 3,
   "id": "d7faf245-9b41-4b85-aebc-59c462293147",
   "metadata": {},
   "outputs": [
    {
     "data": {
      "text/plain": [
       "'hello hello'"
      ]
     },
     "execution_count": 3,
     "metadata": {},
     "output_type": "execute_result"
    }
   ],
   "source": [
    "def echo(anything):\n",
    "    # 4. 입력 있고, 반환 있고\n",
    "    return '{0} {0}'.format(anything)\n",
    "\n",
    "echo = echo('hello')\n",
    "echo"
   ]
  },
  {
   "cell_type": "markdown",
   "id": "8078d285-0fb5-484c-9ee3-70455d721794",
   "metadata": {},
   "source": [
    "#### 3. 인수와 매개변수 \n",
    "    - 매개변수: 정의할 때 쓰임. 인터페이스 내에서만 유효함\n",
    "    - 인수: 호출할 때 쓰임.\n",
    "    - 함수 호출 시 인수에 할당된 값이 매개변수에 복제됨\n",
    "        - line = 'hello'\n",
    "        - anything = line ##### copy\n",
    "        - anything 사라짐\n",
    "- 위치 인수: \n",
    "    - positional argument \n",
    "    - 값을 순서대로 상응하는 매개변수에 복사하는 것\n",
    "- 키워드 인수\n",
    "    - keyword argument\n",
    "    - 매개변수에 상응하는 이름을 인수에 지정한다.\n",
    "- 디폴트 인수\n",
    "    - default argument:\n",
    "    - 정의할 때 매개변수의 기본값 설정\n",
    "    - 호출 시 인수가 없으면 기본값으로 적용됨\n",
    "    - default 값은 non-default 값 뒤에 와야 함,"
   ]
  },
  {
   "cell_type": "code",
   "execution_count": 18,
   "id": "72d2d751-e973-42d0-9c70-29bcc90a2861",
   "metadata": {},
   "outputs": [
    {
     "data": {
      "text/plain": [
       "'black'"
      ]
     },
     "execution_count": 18,
     "metadata": {},
     "output_type": "execute_result"
    }
   ],
   "source": [
    "def commentary(color):\n",
    "    if color == 'g':\n",
    "        return 'green'\n",
    "    else:\n",
    "        return 'black'\n",
    "    \n",
    "color = 'white'\n",
    "commentary(color)"
   ]
  },
  {
   "cell_type": "code",
   "execution_count": 5,
   "id": "46d2197e-d035-4ae5-9a02-f9f0fd1fe1c7",
   "metadata": {},
   "outputs": [
    {
     "name": "stdout",
     "output_type": "stream",
     "text": [
      "green\n",
      "black\n",
      "black\n"
     ]
    }
   ],
   "source": [
    "colors = ['g','r','b']\n",
    "for c in colors:\n",
    "    print(commentary(c))"
   ]
  },
  {
   "cell_type": "code",
   "execution_count": 17,
   "id": "fd6d4e0e-45c2-4713-a916-d344bd927ad9",
   "metadata": {},
   "outputs": [
    {
     "data": {
      "text/plain": [
       "{'wine': 'rioja', 'entree': 'cake', 'dessert': 'egg'}"
      ]
     },
     "execution_count": 17,
     "metadata": {},
     "output_type": "execute_result"
    }
   ],
   "source": [
    "# 딕셔너리와 함수 함께 사용하기\n",
    "\n",
    "def menu(wine, entree, dessert):\n",
    "    return {'wine':wine, 'entree':entree, 'dessert':dessert}\n",
    "\n",
    "menu('rioja','cake','egg')"
   ]
  },
  {
   "cell_type": "code",
   "execution_count": 20,
   "id": "2179151f-7893-4318-b817-b265841c63c7",
   "metadata": {},
   "outputs": [
    {
     "data": {
      "text/plain": [
       "{'wine': 'rioja', 'entree': 'egg', 'dessert': 'pancake'}"
      ]
     },
     "execution_count": 20,
     "metadata": {},
     "output_type": "execute_result"
    }
   ],
   "source": [
    "# keyword\n",
    "menu(entree='egg', wine = 'rioja', dessert = 'pancake')"
   ]
  },
  {
   "cell_type": "code",
   "execution_count": 30,
   "id": "cbbea52c-b313-40c2-b096-c884aecd98b9",
   "metadata": {},
   "outputs": [
    {
     "data": {
      "text/plain": [
       "{'wine': 'egg', 'entree': 'rioja', 'dessert': 'pancake'}"
      ]
     },
     "execution_count": 30,
     "metadata": {},
     "output_type": "execute_result"
    }
   ],
   "source": [
    "# menu(entree='egg', 'rioja', 'pancake')\n",
    "menu('egg', 'rioja', dessert = 'pancake') # 위치인수, 키워드인수 혼용할 때 주의. 위치 고려함."
   ]
  },
  {
   "cell_type": "code",
   "execution_count": 26,
   "id": "1d82b1f5-d2da-4474-84b3-8a1d1f513b24",
   "metadata": {},
   "outputs": [
    {
     "data": {
      "text/plain": [
       "{'wine': 'rioja', 'entree': 'cake', 'dessert': 'egg'}"
      ]
     },
     "execution_count": 26,
     "metadata": {},
     "output_type": "execute_result"
    }
   ],
   "source": [
    "#default\n",
    "def menu2(wine, entree, dessert='scone'):\n",
    "    return{'wine':wine, 'entree':entree, 'dessert':dessert}\n",
    "menu2('rioja', 'cake', 'egg')"
   ]
  },
  {
   "cell_type": "code",
   "execution_count": 27,
   "id": "51cbe040-c283-4efc-9a89-d31527fa55a6",
   "metadata": {},
   "outputs": [
    {
     "data": {
      "text/plain": [
       "{'wine': 'merlot', 'entree': 'egg', 'dessert': 'scone'}"
      ]
     },
     "execution_count": 27,
     "metadata": {},
     "output_type": "execute_result"
    }
   ],
   "source": [
    "menu2('merlot', 'egg')"
   ]
  },
  {
   "cell_type": "markdown",
   "id": "c59b21c9-7219-4d79-8f96-8ef0af6cfaa4",
   "metadata": {},
   "source": [
    "### Quiz 1\n",
    "\n",
    "### 나이 -> 연도\n",
    "def fx():\n",
    "    # 입력값 = 나이\n",
    "    # 반환값 = 출생년도\n",
    "    \n",
    "- input 입력 받아서 함수 사용해서 출력하기"
   ]
  },
  {
   "cell_type": "code",
   "execution_count": 7,
   "id": "70711dcb-b914-4f46-8bf9-c6a1c9b2356d",
   "metadata": {},
   "outputs": [
    {
     "name": "stdin",
     "output_type": "stream",
     "text": [
      " 21\n"
     ]
    },
    {
     "data": {
      "text/plain": [
       "2002"
      ]
     },
     "execution_count": 7,
     "metadata": {},
     "output_type": "execute_result"
    }
   ],
   "source": [
    "def calc_birth_year(age):\n",
    "    this_year = 2022\n",
    "    return (this_year - age + 1)\n",
    "\n",
    "age = int(input())\n",
    "calc_birth_year(age)"
   ]
  },
  {
   "cell_type": "markdown",
   "id": "9121668d-81b7-4b45-a3f7-f0e5f73d576f",
   "metadata": {},
   "source": [
    "### Quiz 2\n",
    "- 사각형 너비 구하기\n",
    "    - 입력: 두 변 길이\n",
    "    - 출력: string '' cm\n",
    "def #####"
   ]
  },
  {
   "cell_type": "code",
   "execution_count": 46,
   "id": "28c0658f-af56-45ec-9f19-5009b91fbeb1",
   "metadata": {},
   "outputs": [
    {
     "name": "stdin",
     "output_type": "stream",
     "text": [
      " 3\n",
      " 4\n"
     ]
    },
    {
     "name": "stdout",
     "output_type": "stream",
     "text": [
      "12.0cm\n"
     ]
    }
   ],
   "source": [
    "def calc_square_width(side1, side2):\n",
    "    return (f'{side1*side2}')\n",
    "\n",
    "answer = calc_square_width(side1 := float(input()), side2 := float(input()))\n",
    "print(f'{answer}cm')"
   ]
  },
  {
   "cell_type": "markdown",
   "id": "f7dcc08b-fb0f-4a5b-9dbe-8606c6872566",
   "metadata": {},
   "source": [
    "### 호출방식:\n",
    "    - 정의된 부분이 메모리에 업로드 되지만 실행은 안 된다.\n",
    "    - 실행은 호출 시\n",
    "    - 값을 넘기는 방식: 참조에 의한 호출(call by reference) 메모리 주소\n",
    "    - 메모리 주소가 복사되기 때문에 가변객체가 매개변수로 들어갈 때 주의할 것"
   ]
  },
  {
   "cell_type": "code",
   "execution_count": 8,
   "id": "bcb083bc-69f8-42bc-8224-74d7278f1f2c",
   "metadata": {},
   "outputs": [
    {
     "name": "stdout",
     "output_type": "stream",
     "text": [
      "2\n",
      "3\n",
      "1\n",
      "4\n"
     ]
    }
   ],
   "source": [
    "# 함수 호출 순서 알아보기\n",
    "def calc_area(length, width): # define\n",
    "    print('1')\n",
    "    return length * width\n",
    "\n",
    "print('2')\n",
    "garo = 2\n",
    "sero = 43\n",
    "print('3')\n",
    "calc_area(garo, sero) #call\n",
    "print('4')"
   ]
  },
  {
   "cell_type": "code",
   "execution_count": 50,
   "id": "4915d7aa-0b70-4066-bf44-6acb237c795a",
   "metadata": {},
   "outputs": [
    {
     "name": "stdout",
     "output_type": "stream",
     "text": [
      "['a']\n",
      "['a', 'b']\n"
     ]
    }
   ],
   "source": [
    "def buggy(arg, result=[]):\n",
    "    result.append(arg)\n",
    "    print(result)\n",
    "    \n",
    "buggy('a') # [a]\n",
    "buggy('b') # [b]\n",
    "# 얕은 복사를 하면 계속해서 그 메모리가 참조되므로 값이 쌓인다."
   ]
  },
  {
   "cell_type": "code",
   "execution_count": 51,
   "id": "734f664f-ff60-4cf1-99e4-7918b5330616",
   "metadata": {},
   "outputs": [
    {
     "name": "stdout",
     "output_type": "stream",
     "text": [
      "['a']\n",
      "['b']\n"
     ]
    }
   ],
   "source": [
    "def buggy(arg, result=[]):\n",
    "    result = [] # 비운 뒤 실행하면 잘 실행된다.\n",
    "    result.append(arg)\n",
    "    print(result)\n",
    "    \n",
    "buggy('a') # [a]\n",
    "buggy('b') # [b]"
   ]
  },
  {
   "cell_type": "code",
   "execution_count": 10,
   "id": "058cc2e7-e751-436e-8f2f-9d6c50489f1a",
   "metadata": {},
   "outputs": [
    {
     "name": "stdout",
     "output_type": "stream",
     "text": [
      "[2, 3] eggs\n",
      "[0, 1] ham\n"
     ]
    }
   ],
   "source": [
    "# list copy\n",
    "def spam(eggs):\n",
    "    eggs.append(1)\n",
    "    eggs = [2, 3]\n",
    "    print(eggs, 'eggs')\n",
    "    \n",
    "ham = [0]\n",
    "spam(ham)\n",
    "print(ham, 'ham')"
   ]
  },
  {
   "cell_type": "code",
   "execution_count": 11,
   "id": "395935af-25fb-40d3-be5e-79c1a0f9df92",
   "metadata": {},
   "outputs": [
    {
     "name": "stdout",
     "output_type": "stream",
     "text": [
      "a\n"
     ]
    }
   ],
   "source": [
    "# None <- is None\n",
    "thing = None\n",
    "if thing is None:\n",
    "    print('a') # True\n",
    "elif thing:\n",
    "    print('b')\n",
    "else:\n",
    "    print('c')"
   ]
  },
  {
   "cell_type": "markdown",
   "id": "23153c2f-6f4f-4917-a10e-43396ac843c6",
   "metadata": {},
   "source": [
    "def nonbuggy(arg, result):  \n",
    "    # 목표: 리스트 쌓이거나 비우는 옵션 모두 설정하도록 None 사용해서 함수 재정의하기  \n",
    "    # result is None, 빈 리스트  \n",
    "    # 아니면 코드 그대로"
   ]
  },
  {
   "cell_type": "code",
   "execution_count": 12,
   "id": "121f279f-bb1e-4f2f-8b26-2f09e9439917",
   "metadata": {},
   "outputs": [
    {
     "name": "stdout",
     "output_type": "stream",
     "text": [
      "['a']\n",
      "['a', 'b']\n"
     ]
    }
   ],
   "source": [
    "def nonbuggy(arg, result = None): #이거 이해 안 가면 그냥 지금 가변객체 쓰지 마라. 중간고사 때 안 나옴.\n",
    "    if result is None:\n",
    "        result = [] # 비운 뒤 실행하면 잘 실행된다.\n",
    "    result.append(arg)\n",
    "    print(result)\n",
    "    \n",
    "list_a = []\n",
    "nonbuggy('a', list_a)\n",
    "nonbuggy('b', list_a)"
   ]
  },
  {
   "cell_type": "markdown",
   "id": "257e04dd-e6a0-45fb-abec-ebcb9f0a0650",
   "metadata": {},
   "source": [
    "### 전역변수 vs. 지역변수\n",
    "- 지역변수: 함수 내에서만 사용 가능\n",
    "- 전역변수: 프로그램 전체에서 사용 가능"
   ]
  },
  {
   "cell_type": "code",
   "execution_count": 13,
   "id": "d3287e9d-5be5-4e9b-b39f-3b83f4e414b0",
   "metadata": {},
   "outputs": [
    {
     "name": "stdout",
     "output_type": "stream",
     "text": [
      "london\n",
      "london\n"
     ]
    }
   ],
   "source": [
    "# 지금은 쓸 일 없음.\n",
    "def fx():\n",
    "    \"\"\"\n",
    "    doc string: 함수에 대한 설명\n",
    "    매개변수에 대한 설명, 타입, 함수의 의도\n",
    "    \"\"\"\n",
    "    global city\n",
    "    city = 'london'\n",
    "    print(city)\n",
    "    \n",
    "city = 'paris'\n",
    "fx() # city = london이라고 생각하고 반환하면 결과가 잘 안 나옴.\n",
    "print(city)"
   ]
  },
  {
   "cell_type": "code",
   "execution_count": 14,
   "id": "77547eeb-4d11-4a11-a863-9805fa30ac79",
   "metadata": {},
   "outputs": [
    {
     "name": "stdout",
     "output_type": "stream",
     "text": [
      "Help on function fx in module __main__:\n",
      "\n",
      "fx()\n",
      "    doc string: 함수에 대한 설명\n",
      "    매개변수에 대한 설명, 타입, 함수의 의도\n",
      "\n"
     ]
    }
   ],
   "source": [
    "# 독스트링\n",
    "help(fx)"
   ]
  },
  {
   "cell_type": "code",
   "execution_count": 16,
   "id": "abf72f94-69f1-4831-9fec-d7626330cda5",
   "metadata": {},
   "outputs": [
    {
     "data": {
      "text/plain": [
       "<function __main__.fx()>"
      ]
     },
     "execution_count": 16,
     "metadata": {},
     "output_type": "execute_result"
    }
   ],
   "source": [
    "fx"
   ]
  },
  {
   "cell_type": "code",
   "execution_count": 15,
   "id": "562d8c35-84b8-4810-bfbf-2fa50a861f3e",
   "metadata": {},
   "outputs": [
    {
     "data": {
      "text/plain": [
       "'\\n    doc string: 함수에 대한 설명\\n    매개변수에 대한 설명, 타입, 함수의 의도\\n    '"
      ]
     },
     "execution_count": 15,
     "metadata": {},
     "output_type": "execute_result"
    }
   ],
   "source": [
    "fx.__doc__"
   ]
  },
  {
   "cell_type": "markdown",
   "id": "fe6e5d1e-e5d1-4103-b7d7-a06545c7fa74",
   "metadata": {},
   "source": [
    "<hr>"
   ]
  },
  {
   "cell_type": "markdown",
   "id": "003658e0-2f17-4de0-83aa-01f72350726a",
   "metadata": {},
   "source": [
    "## Outro."
   ]
  },
  {
   "cell_type": "markdown",
   "id": "0e5d074f-9c9b-4f3a-a025-3d28e7720a74",
   "metadata": {},
   "source": [
    "- 교수님 깃허브에 브라운 정제하기 예시코드를 참고하여 중간 문제를 풀어볼 것."
   ]
  }
 ],
 "metadata": {
  "kernelspec": {
   "display_name": "Python 3 (ipykernel)",
   "language": "python",
   "name": "python3"
  },
  "language_info": {
   "codemirror_mode": {
    "name": "ipython",
    "version": 3
   },
   "file_extension": ".py",
   "mimetype": "text/x-python",
   "name": "python",
   "nbconvert_exporter": "python",
   "pygments_lexer": "ipython3",
   "version": "3.8.12"
  }
 },
 "nbformat": 4,
 "nbformat_minor": 5
}
