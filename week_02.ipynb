{
 "cells": [
  {
   "cell_type": "markdown",
   "id": "ea9575ba-cc06-49fb-b6ba-41c36f59bd0a",
   "metadata": {},
   "source": [
    "# 2주차 | 고급파이썬프로그래밍 | 2022.03.11(금)"
   ]
  },
  {
   "cell_type": "markdown",
   "id": "ad7b1694-846b-46d1-bd1c-02cc4343f969",
   "metadata": {},
   "source": [
    "## Intro."
   ]
  },
  {
   "cell_type": "markdown",
   "id": "2823b4ee-79cb-4d72-abf1-d1f6ac9b5f9d",
   "metadata": {},
   "source": [
    "### notice\n",
    "- 1. 이 수업에서의 Github = 복습 코드 올리는 공간 / 다른 사람들 코드 참고할 수 있는 공간\n",
    "- 2. 복습 파일은 내용 알차게, 개인적으로 내용 더 채우기.\n",
    "- 3. 다음주부터 6명씩 팀 구성"
   ]
  },
  {
   "cell_type": "markdown",
   "id": "01d75a49-cbb6-4251-bfa5-6ba1c9c2a27a",
   "metadata": {},
   "source": [
    "<hr>"
   ]
  },
  {
   "cell_type": "markdown",
   "id": "54f66d90-57eb-4b2c-8e03-f4bcd0a4a7c1",
   "metadata": {
    "tags": []
   },
   "source": [
    "## Class\n",
    "### Chapter 02 - Variables()"
   ]
  },
  {
   "cell_type": "code",
   "execution_count": 9,
   "id": "99642020-1e0d-4ca0-acab-ddd2f8881c6d",
   "metadata": {},
   "outputs": [
    {
     "name": "stdout",
     "output_type": "stream",
     "text": [
      "10 <class 'int'>\n",
      "\n",
      "\n",
      "10.0 <class 'float'>\n",
      "\n",
      "\n",
      "10 <class 'str'>\n",
      "\n",
      "\n",
      "True <class 'bool'>\n",
      "\n",
      "\n",
      "10.0 <class 'float'>\n",
      "\n",
      "\n",
      "101.1 <class 'float'>\n",
      "101\n"
     ]
    }
   ],
   "source": [
    "a = 10\n",
    "print(a, type(a))\n",
    "print(\"\\n\")\n",
    "\n",
    "# 정수 > 소수 변환\n",
    "print(float(a), type(float(a)))\n",
    "print(\"\\n\")\n",
    "\n",
    "# 정수 > 문자열 변환\n",
    "print(str(a), type(str(a)))\n",
    "print(\"\\n\")\n",
    "\n",
    "# 정수 > bool형 변환\n",
    "print(bool(a), type(bool(a)))\n",
    "print(\"\\n\")\n",
    "\n",
    "# 소수 > 정수 변환 : 소수점을 버림\n",
    "print(float(int(10.6)), type(float(int(10.6))))\n",
    "print(\"\\n\")\n",
    "\n",
    "# 문자열 > 정수 변환\n",
    "str2 = \"101.1\"\n",
    "#int(str2) #형태에 맞게 변환하지 않았으므로 에러가 난다.\n",
    "print(float(str2), type(float(str2)))\n",
    "print(round(float(str2))) # 소수점을 없애고 싶으면 round()함수로 반올림 해준다."
   ]
  },
  {
   "cell_type": "code",
   "execution_count": 101,
   "id": "2356142c-ba78-472b-8d77-70581a6de513",
   "metadata": {
    "tags": []
   },
   "outputs": [
    {
     "name": "stdout",
     "output_type": "stream",
     "text": [
      "orange apple tomato\n",
      "the next line\n"
     ]
    }
   ],
   "source": [
    "# 교수님께서 말씀해주신 입력 꿀팁\n",
    "print('orange', 'apple', 'tomato') # default: 띄어쓰기, 줄바꾸기\n",
    "print(\"the next line\")"
   ]
  },
  {
   "cell_type": "code",
   "execution_count": 103,
   "id": "c6c94a51-09fa-42ca-8f03-ede24ab684e6",
   "metadata": {},
   "outputs": [
    {
     "name": "stdout",
     "output_type": "stream",
     "text": [
      "orangeappletomato\n",
      "orange apple tomato\n",
      "orange_apple_tomato\n",
      "\n",
      "EOL\n"
     ]
    }
   ],
   "source": [
    "orange = \"orange\"\n",
    "apple = \"apple\"\n",
    "tomato = \"tomato\"\n",
    "\n",
    "#1.\n",
    "print(orange + apple + tomato) # + 연결의 경우 사용이 가능은 하지만, 원소들간의 공백이 사라진다\n",
    "print(orange, apple, tomato, sep=' ', end='\\n') #default\n",
    "print(orange, apple, tomato, sep='_', end='\\n\\n') \n",
    "print('EOL') # End Of Line"
   ]
  },
  {
   "cell_type": "code",
   "execution_count": 15,
   "id": "85f6aaf3-50d1-4b47-bb36-406623a198b8",
   "metadata": {},
   "outputs": [
    {
     "name": "stdout",
     "output_type": "stream",
     "text": [
      "5\n"
     ]
    }
   ],
   "source": [
    "# 라인이 짧을 때 => ;\n",
    "num = 5; print(num)"
   ]
  },
  {
   "cell_type": "markdown",
   "id": "ba762423-d761-4b81-b7ce-4f217df7ef40",
   "metadata": {},
   "source": [
    "### Chapter 02 - input()"
   ]
  },
  {
   "cell_type": "markdown",
   "id": "7c87be07-b5b2-4d25-b085-fd75915f6b30",
   "metadata": {},
   "source": [
    ": consle에서 사용자에게 값을 입력받는 함수"
   ]
  },
  {
   "cell_type": "code",
   "execution_count": 7,
   "id": "6c74312b-511e-45dd-9ef6-4c0be122e3ea",
   "metadata": {},
   "outputs": [
    {
     "name": "stdin",
     "output_type": "stream",
     "text": [
      "what's your name? 김예지\n"
     ]
    },
    {
     "name": "stdout",
     "output_type": "stream",
     "text": [
      "김예지\n"
     ]
    }
   ],
   "source": [
    "name = input(\"what's your name?\")\n",
    "print(name) "
   ]
  },
  {
   "cell_type": "code",
   "execution_count": 13,
   "id": "7dbc65c0-f546-4ae8-b184-55efc4d1511d",
   "metadata": {},
   "outputs": [
    {
     "name": "stdin",
     "output_type": "stream",
     "text": [
      "How old are you? 21\n"
     ]
    },
    {
     "name": "stdout",
     "output_type": "stream",
     "text": [
      "21\n",
      "<class 'str'>\n"
     ]
    },
    {
     "name": "stdin",
     "output_type": "stream",
     "text": [
      "Write it again 21\n"
     ]
    },
    {
     "name": "stdout",
     "output_type": "stream",
     "text": [
      "21\n",
      "<class 'int'>\n",
      "나이는 21살입니다.\n"
     ]
    }
   ],
   "source": [
    "# 문장 외의 다른 타입으로 사용하고 싶을 땐? 형 변환\n",
    "\n",
    "age = input(\"How old are you?\")\n",
    "print(age)\n",
    "print(type(age)) # 형 변환을 하지 않음\n",
    "\n",
    "age2 = int(input(\"Write it again\"))\n",
    "print(age2)\n",
    "print(type(age2)) # 형 변환을 함\n",
    "\n",
    "print(f'나이는 {age2}살입니다.')"
   ]
  },
  {
   "cell_type": "markdown",
   "id": "8514457a-8a4a-4e92-bd01-51bcac3384a6",
   "metadata": {},
   "source": [
    "#### Quiz 1\n",
    "- 택배 정보를 입력 받고 무게에 따른 값 산정하기\n",
    "  - 수취인 성명:\n",
    "  - 수취인 주소:\n",
    "  - 배송비: 3000원\n",
    "  - 물건 비용: <계산된 값>원\n",
    "  - 총 합계: <계산된 값>원\n",
    "- 물건 비용은 무게(g) * 5\n",
    "- 입력 값 = 이름, 주소, 무게"
   ]
  },
  {
   "cell_type": "code",
   "execution_count": 16,
   "id": "d2d313c7-c9ca-4e81-be6b-c80775b471ef",
   "metadata": {},
   "outputs": [
    {
     "name": "stdin",
     "output_type": "stream",
     "text": [
      "수취인의 성명을 입력해주세요 :  김예지\n",
      "주소를 입력해 주세요 :  고양시\n",
      "물건의 무게는 얼마입니까? :  7000\n"
     ]
    },
    {
     "name": "stdout",
     "output_type": "stream",
     "text": [
      "\n",
      "\n",
      "물건의 비용은 35000원 입니다.\n",
      "배송비 포함 총 합계는 38000원 입니다. 감사합니다.\n"
     ]
    }
   ],
   "source": [
    "name = input(\"수취인의 성명을 입력해주세요 : \")\n",
    "ad = input(\"주소를 입력해 주세요 : \")\n",
    "g = int(input(\"물건의 무게는 얼마입니까? : \"))\n",
    "print(\"\\n\")\n",
    "print(f'물건의 비용은 {g*5}원 입니다.')\n",
    "print(f'배송비 포함 총 합계는 {g*5+3000}원 입니다. 감사합니다.')"
   ]
  },
  {
   "cell_type": "markdown",
   "id": "f289de81-776b-492b-ada4-2b02674e4928",
   "metadata": {},
   "source": [
    "### Chapter 03"
   ]
  },
  {
   "cell_type": "code",
   "execution_count": 100,
   "id": "924c4e79-3dbb-4208-bb90-bbeda22abd9b",
   "metadata": {
    "tags": []
   },
   "outputs": [
    {
     "name": "stdout",
     "output_type": "stream",
     "text": [
      "False\n",
      "True\n",
      "True\n",
      "\n",
      "\n",
      "False\n",
      "True\n",
      "False\n"
     ]
    }
   ],
   "source": [
    "# Boolean\n",
    "\n",
    "print(bool(0))\n",
    "print(bool(1)) \n",
    "print(bool(-1)) # bool에서 0이외의 숫자는 True다.\n",
    "\n",
    "print(\"\\n\")\n",
    "\n",
    "print(bool(None))\n",
    "print(bool(\"apple\")) # 문장은 True이다.\n",
    "print(bool()) # 공백은 False이다. 뒤에서 더 다룰 예정"
   ]
  },
  {
   "cell_type": "code",
   "execution_count": 26,
   "id": "76f7cdf8-ec85-4f72-8416-cfaaedc54dc4",
   "metadata": {
    "tags": []
   },
   "outputs": [
    {
     "name": "stdout",
     "output_type": "stream",
     "text": [
      "100 0\n",
      "100000\n"
     ]
    }
   ],
   "source": [
    "# Integer\n",
    "\n",
    "print(100,000) # 쉼표를 쓰면 의도한 값이 나오지 않는다.\n",
    "print(100_000) # 0 사이를 구분하고 싶을 땐 언더바(_)사용."
   ]
  },
  {
   "cell_type": "code",
   "execution_count": 30,
   "id": "1dc2a0e7-f097-48fe-a062-52edb1b55d7c",
   "metadata": {},
   "outputs": [
    {
     "name": "stdin",
     "output_type": "stream",
     "text": [
      "첫 번째 정수를 입력하세요 :  9\n",
      "두 번째 정수를 입력하세요 :  4\n"
     ]
    },
    {
     "name": "stdout",
     "output_type": "stream",
     "text": [
      "13\n",
      "5\n",
      "36\n",
      "2.25\n",
      "2\n",
      "1\n",
      "6561\n"
     ]
    }
   ],
   "source": [
    "# 연산자 | Operator\n",
    "\n",
    "x = int(input(\"첫 번째 정수를 입력하세요 : \"))\n",
    "y = int(input(\"두 번째 정수를 입력하세요 : \"))\n",
    "\n",
    "print(x + y)\n",
    "print(x - y)\n",
    "print(x * y)\n",
    "print(x / y) # 부동 소수점 나누기\n",
    "print(x // y) # 정수 나누기(소수점 이하 버림)\n",
    "print(x % y) # 나머지\n",
    "print(x ** y) # 제곱"
   ]
  },
  {
   "cell_type": "code",
   "execution_count": 31,
   "id": "1e64bb8d-b281-4af0-948a-7f78245f987d",
   "metadata": {},
   "outputs": [
    {
     "data": {
      "text/plain": [
       "(2, 1)"
      ]
     },
     "execution_count": 31,
     "metadata": {},
     "output_type": "execute_result"
    }
   ],
   "source": [
    "divmod(x, y) # (몫, 나머지)"
   ]
  },
  {
   "cell_type": "code",
   "execution_count": 32,
   "id": "d79149c7-d7bc-4470-b9f6-3b40ce53d477",
   "metadata": {},
   "outputs": [],
   "source": [
    "# division by zero : 0으로 나눠지지 않도록 항시 유의할 것."
   ]
  },
  {
   "cell_type": "code",
   "execution_count": 33,
   "id": "0bb35884-7e7c-46c5-a951-8e30654d353e",
   "metadata": {},
   "outputs": [
    {
     "data": {
      "text/plain": [
       "3"
      ]
     },
     "execution_count": 33,
     "metadata": {},
     "output_type": "execute_result"
    }
   ],
   "source": [
    "# 띄어쓰기 해도 답은 잘 도출된다.\n",
    "1 + 10    -8"
   ]
  },
  {
   "cell_type": "code",
   "execution_count": 39,
   "id": "be874ccc-2988-4cdd-887d-5c27bbc3d7ee",
   "metadata": {},
   "outputs": [
    {
     "name": "stdout",
     "output_type": "stream",
     "text": [
      "9\n",
      "14\n",
      "11\n",
      "88\n",
      "14\n",
      "196\n"
     ]
    }
   ],
   "source": [
    "# 복합 대입 연산자 | compound assignment operator\n",
    "a = 9\n",
    "print(a)\n",
    "\n",
    "a += 5\n",
    "print(a)\n",
    "\n",
    "a -= 3\n",
    "print(a)\n",
    "\n",
    "a *= 8\n",
    "print(a)\n",
    "\n",
    "a //= 6\n",
    "print(a)\n",
    "\n",
    "a **= 2\n",
    "print(a)"
   ]
  },
  {
   "cell_type": "markdown",
   "id": "ecae6000-8397-4b6a-a683-253a5ab1554c",
   "metadata": {},
   "source": [
    "#### Quiz 1.\n",
    "- 반지름을 입력 받아서 원의 면적 구하기\n",
    "- 면접 = pi * r제곱\n",
    "\n",
    "#### Quiz 2.\n",
    "- 숫자를 입력 받고 3의 배수인지 확인하기\n",
    "- 숫자를 입력받고 홀수인지 확인하기"
   ]
  },
  {
   "cell_type": "code",
   "execution_count": 104,
   "id": "7dad1e92-9297-4253-b67e-01a43712eee4",
   "metadata": {},
   "outputs": [
    {
     "name": "stdin",
     "output_type": "stream",
     "text": [
      "반지름을 입력해주세요 :  3\n"
     ]
    },
    {
     "name": "stdout",
     "output_type": "stream",
     "text": [
      "원의 면적은 28.26입니다.\n",
      "원의 면적은 28입니다.\n"
     ]
    }
   ],
   "source": [
    "import math\n",
    "\n",
    "r = int(input(\"반지름을 입력해주세요 : \"))\n",
    "# pi = 3.14 # math 모듈이 없는 경우 pi를 따로 설정함.\n",
    "area = pi * (r**2)\n",
    "\n",
    "print(f'원의 면적은 {area}입니다.')\n",
    "print(f'원의 면적은 {round(area)}입니다.') # round() 함수는 반올림 해줌."
   ]
  },
  {
   "cell_type": "code",
   "execution_count": 48,
   "id": "22d53377-10fa-4031-834d-e8ab361ee5c3",
   "metadata": {},
   "outputs": [
    {
     "name": "stdin",
     "output_type": "stream",
     "text": [
      "숫자를 입력해주세요. :  339\n"
     ]
    },
    {
     "name": "stdout",
     "output_type": "stream",
     "text": [
      "\n",
      "\n",
      "339은 3의 배수가 맞습니다.\n",
      "339은 홀수입니다.\n"
     ]
    }
   ],
   "source": [
    "num = int(input(\"숫자를 입력해주세요. : \"))\n",
    "print(\"\\n\")\n",
    "if num % 3 == 0:\n",
    "  print(f'{num}은 3의 배수가 맞습니다.')\n",
    "else :\n",
    "  print(f'{num}은 3의 배수가 아닙니다.')\n",
    "\n",
    "if num % 2 != 0:\n",
    "  print(f'{num}은 홀수입니다.')\n",
    "else : \n",
    "  print(f'{num}은 짝수입니다.')"
   ]
  },
  {
   "cell_type": "markdown",
   "id": "46a84873-6629-473c-9be2-94741b316dc8",
   "metadata": {
    "tags": []
   },
   "source": [
    "### 지수표현\n",
    "- 예 : `1.0e-4`\n",
    "- e의 앞부분은 소수, 정수 둘 다 됨.\n",
    "- 뒷부부은 정수여야 함.\n",
    "- 뒷부분은 소숫점 자릿수와 연관됨.\n",
    "- 대문자 E, 소문자 e 모두 가능"
   ]
  },
  {
   "cell_type": "code",
   "execution_count": 59,
   "id": "bc4adde3-5669-44d7-99f5-cdea31039d52",
   "metadata": {
    "tags": []
   },
   "outputs": [
    {
     "name": "stdout",
     "output_type": "stream",
     "text": [
      "10000.0\n",
      "0.0004005\n",
      "0.0004005\n"
     ]
    }
   ],
   "source": [
    "print(1.0e4)\n",
    "\n",
    "# 0.0004005 > 지수로 표현하기\n",
    "print(4005.e-7)\n",
    "print(4.005e-4)"
   ]
  },
  {
   "cell_type": "markdown",
   "id": "1563078f-7193-4ee1-b6d5-d2caf23cc1f2",
   "metadata": {},
   "source": [
    "### 3장 연습문제"
   ]
  },
  {
   "cell_type": "code",
   "execution_count": 60,
   "id": "08938d1e-3478-4ca4-99b4-d53a217722ec",
   "metadata": {},
   "outputs": [
    {
     "name": "stdout",
     "output_type": "stream",
     "text": [
      "3600\n",
      "86400\n",
      "24.0\n",
      "<class 'float'>\n",
      "24\n",
      "<class 'int'>\n"
     ]
    }
   ],
   "source": [
    "# 3.1 1시간은 몇 초인가? \n",
    "# 3.2 계산한 결과를 seconds_per_hour 변수에 저장해보자\n",
    "seconds_per_hour = 60 * 60\n",
    "print(seconds_per_hour)\n",
    "\n",
    "# 3.3 1일은 몇 초인가? seconds_per_hour 변수를 사용해보자 \n",
    "# 3.4 계산한 결과를 seconds_per_day 변수에 저장해보자\n",
    "seconds_per_day = seconds_per_hour * 24\n",
    "print(seconds_per_day)\n",
    "\n",
    "# 3.5 부동 소수점 (/) 나눗셈을 사용해서 seconds_per_day를 seconds_per_hour로 나누어보자\n",
    "print(seconds_per_day / seconds_per_hour)\n",
    "print(type(seconds_per_day / seconds_per_hour))\n",
    "\n",
    "# 3.6 이번에는 정수 (//) 나눗셈을 사용해보자. 위의 결과와 같은가?\n",
    "print(seconds_per_day // seconds_per_hour)\n",
    "print(type(seconds_per_day // seconds_per_hour))"
   ]
  },
  {
   "cell_type": "markdown",
   "id": "ee520a2b-45c0-456f-b735-2fcc9d8d880f",
   "metadata": {},
   "source": [
    "<hr>"
   ]
  },
  {
   "cell_type": "markdown",
   "id": "c4d9f3b6-283f-43cc-bd46-27b899a4600e",
   "metadata": {},
   "source": [
    "## TextBook"
   ]
  },
  {
   "cell_type": "markdown",
   "id": "980742e4-86c2-43d0-8437-12a446642fd1",
   "metadata": {
    "tags": []
   },
   "source": [
    "## Chapter 04 | 선택하기 : if"
   ]
  },
  {
   "cell_type": "markdown",
   "id": "f623b4a0-6ecf-43fc-823a-3197b060b524",
   "metadata": {
    "tags": []
   },
   "source": [
    "### 4.1주석 달기 : #"
   ]
  },
  {
   "cell_type": "code",
   "execution_count": 67,
   "id": "4873b551-4318-45aa-9f63-20be9a30f25b",
   "metadata": {},
   "outputs": [
    {
     "name": "stdout",
     "output_type": "stream",
     "text": [
      "3\n"
     ]
    }
   ],
   "source": [
    "a = 3 # 주석입니다\n",
    "\"\"\"\n",
    "주석1\n",
    "주석2\n",
    "주석3\n",
    "\"\"\"\n",
    "print(a)"
   ]
  },
  {
   "cell_type": "code",
   "execution_count": 68,
   "id": "2e39fa06-da9f-4766-b97a-e908f70ce1d8",
   "metadata": {},
   "outputs": [
    {
     "name": "stdout",
     "output_type": "stream",
     "text": [
      "hey, there #\n"
     ]
    }
   ],
   "source": [
    "# 하지만 해시가 문자열 안에 있다면 동작하지 않는다.\n",
    "print(\"hey, there #\")"
   ]
  },
  {
   "cell_type": "markdown",
   "id": "2109d8f2-07cc-4130-8483-29128505beeb",
   "metadata": {},
   "source": [
    "### 4.2 라인 유지하기 : \\"
   ]
  },
  {
   "cell_type": "markdown",
   "id": "83e9de44-6c33-42ae-9e5a-0dbd3c819f5d",
   "metadata": {},
   "source": [
    "보통 80자가 넘어가면 `\\`를 써서 다음 줄에 계속 입력하는 것을 권고함."
   ]
  },
  {
   "cell_type": "code",
   "execution_count": 63,
   "id": "3504faf2-ead4-4ac7-ac1c-91acbc19c89e",
   "metadata": {},
   "outputs": [
    {
     "name": "stdout",
     "output_type": "stream",
     "text": [
      "10\n"
     ]
    }
   ],
   "source": [
    "sum = 1 + \\\n",
    "2 + \\\n",
    "3 + \\\n",
    "4\n",
    "print(sum)"
   ]
  },
  {
   "cell_type": "code",
   "execution_count": 66,
   "id": "b3c951b3-20b0-4a0c-a818-d7117f1b7521",
   "metadata": {},
   "outputs": [
    {
     "name": "stdout",
     "output_type": "stream",
     "text": [
      "10\n"
     ]
    }
   ],
   "source": [
    "# 표현식이 쌍을 이루는 괄호(중괄호{}, 대괄호[]도 가능)의 중간에 있으면 잘 동작함.\n",
    "sum = ( 1 +\n",
    "       2 +\n",
    "       3 +\n",
    "       4)\n",
    "print(sum)"
   ]
  },
  {
   "cell_type": "markdown",
   "id": "a7bf20c0-f6df-4f39-a90b-65607b1e222d",
   "metadata": {},
   "source": [
    "### 4.3 비교하기 : if, elif, else"
   ]
  },
  {
   "cell_type": "code",
   "execution_count": 70,
   "id": "49428e08-52ce-4396-9b52-72ceaa215c40",
   "metadata": {},
   "outputs": [
    {
     "name": "stdout",
     "output_type": "stream",
     "text": [
      "두 수는 같지 않다.\n"
     ]
    }
   ],
   "source": [
    "if 3 != 1:\n",
    "  print(\"두 수는 같지 않다.\")"
   ]
  },
  {
   "cell_type": "code",
   "execution_count": 71,
   "id": "0157853b-018b-4781-97ec-ca5503e08193",
   "metadata": {},
   "outputs": [
    {
     "name": "stdout",
     "output_type": "stream",
     "text": [
      "두 수는 같지 않다.\n"
     ]
    }
   ],
   "source": [
    "if 3 != 1:\n",
    "  print(\"두 수는 같지 않다.\")\n",
    "else:\n",
    "  print(\"두 수가 같다.\")"
   ]
  },
  {
   "cell_type": "code",
   "execution_count": 72,
   "id": "9cbcd568-560d-4672-a6d4-9c50e5bced04",
   "metadata": {},
   "outputs": [
    {
     "name": "stdout",
     "output_type": "stream",
     "text": [
      "3보다 크다\n"
     ]
    }
   ],
   "source": [
    "a = 4\n",
    "if a < 3:\n",
    "  print(\"3보다 작다\")\n",
    "elif a == 3:\n",
    "  print(\"3이다\")\n",
    "else:\n",
    "  print(\"3보다 크다\")"
   ]
  },
  {
   "cell_type": "code",
   "execution_count": 74,
   "id": "f80a0fee-78cf-49ed-a9e2-9512571637da",
   "metadata": {},
   "outputs": [],
   "source": [
    "a = 4\n",
    "if a < 3:\n",
    "  print(\"3보다 작다\")\n",
    "if a == 3:\n",
    "  print(\"3이다\")\n",
    "if a > 4:\n",
    "  print(\"3보다 크다\")\n",
    "\n",
    "# print를 하기에 적합한 if문이 없으므로 출력되지 않음."
   ]
  },
  {
   "cell_type": "markdown",
   "id": "8fa2a712-4c67-4542-8b26-0cedc1515095",
   "metadata": {},
   "source": [
    "#### 비교 연산자\n",
    "- x < y\n",
    "- x > y\n",
    "- x >= y\n",
    "- x <= y\n",
    "- x == y (값이)\n",
    "- x != y\n",
    "- x is y (값, 메모리주소)\n",
    "- x is not y"
   ]
  },
  {
   "cell_type": "markdown",
   "id": "3bcb7a48-1606-4396-a2ee-349a83937489",
   "metadata": {},
   "source": [
    "### 4.4 True와 False"
   ]
  },
  {
   "cell_type": "markdown",
   "id": "2ac89871-62bf-47a5-bc61-828b8831b8fb",
   "metadata": {},
   "source": [
    "#### 명시적으로 boolean을 사용하지 않아도 다음은 모두 False이다.\n",
    "- null | none\n",
    "- 정수 0 | 0\n",
    "- 부동소수점 0 | 0.0 \n",
    "- 빈 문자열 | ' '\n",
    "- 빈 리스트 | []\n",
    "- 빈 튜플 | ()\n",
    "- 빈 딕셔너리 | {}\n",
    "- 빈 셋 | Set()"
   ]
  },
  {
   "cell_type": "markdown",
   "id": "4c9e95eb-e094-4293-b029-97c71ed63da7",
   "metadata": {},
   "source": [
    "### 4.5 여러 개 비교하기 : in"
   ]
  },
  {
   "cell_type": "code",
   "execution_count": 79,
   "id": "13830e40-ebe2-4319-a69c-ef90075aeacb",
   "metadata": {},
   "outputs": [
    {
     "data": {
      "text/plain": [
       "True"
      ]
     },
     "execution_count": 79,
     "metadata": {},
     "output_type": "execute_result"
    }
   ],
   "source": [
    "vowels = 'aeiou'\n",
    "letter = 'o'\n",
    "letter in vowels"
   ]
  },
  {
   "cell_type": "code",
   "execution_count": 80,
   "id": "e3440e6c-4d15-4229-a9c7-d03405100733",
   "metadata": {},
   "outputs": [
    {
     "name": "stdout",
     "output_type": "stream",
     "text": [
      "o is a vowel\n"
     ]
    }
   ],
   "source": [
    "if letter in vowels:\n",
    "    print(letter, 'is a vowel')"
   ]
  },
  {
   "cell_type": "markdown",
   "id": "5475c944-15bd-4b63-aacf-5e83647325b1",
   "metadata": {},
   "source": [
    "### 4.6 새로운 기능 : 바다코끼리 연산자"
   ]
  },
  {
   "cell_type": "markdown",
   "id": "1069f6e4-f0a9-4f55-964c-04e597d925cc",
   "metadata": {},
   "source": [
    "바다코끼리 연산자 `:=`는 할당과 텍스트를 한 단계로 줄일 수 있다."
   ]
  },
  {
   "cell_type": "code",
   "execution_count": 91,
   "id": "b527cf60-546d-4a6a-8517-92f094aeb9ac",
   "metadata": {},
   "outputs": [
    {
     "name": "stdout",
     "output_type": "stream",
     "text": [
      "A fitting tweet\n"
     ]
    }
   ],
   "source": [
    "#page.105\n",
    "\n",
    "tweet_limit = 200\n",
    "tweet_string = \"Blah\" * 50\n",
    "# tweet_string = \"Blaah\" * 50\n",
    "\n",
    "if diff := tweet_limit - len(tweet_string) >= 0:\n",
    "    print(\"A fitting tweet\")\n",
    "    # len()함수는 문자열의 길이를 세어 준다.\n",
    "else:\n",
    "    print(\"Went over by\", abs(diff)) # abs()는 절댓값 함수이다.\n",
    "    \n",
    "# 길이 4로 이루어진 \"Blah\" * 50은 200을 넘지 않으므로 if문이 실행된다.\n",
    "# 밑에 있는 \"Blaah\"를 실행시키면 200을 넘기므로 else문이 실행된다."
   ]
  },
  {
   "cell_type": "markdown",
   "id": "aae324a0-6354-4b32-926e-417abd29e2f9",
   "metadata": {},
   "source": [
    "### 4장 연습문제\n",
    "4.1 : 1~10의 숫자 중 하나로 이루어진 secret, guess 변수를 비교하여 guess 변수가 secret 변수보다 작으면 'too low', 크면 'too high', 같으면 'just right' 출력하기.<br><br>\n",
    "4.2 : True나 False를 samll과 green 변수에 할당하여, 변수를 기준으로 체리, 완두콩, 수박, 호박 출력하기."
   ]
  },
  {
   "cell_type": "code",
   "execution_count": 94,
   "id": "dac9fd46-d905-49e1-91c6-2400cfd5bfb0",
   "metadata": {},
   "outputs": [
    {
     "name": "stdin",
     "output_type": "stream",
     "text": [
      "secret 변수를 입력해주세요 :  7\n",
      "secret 변수는 무엇일까요? :  7\n"
     ]
    },
    {
     "name": "stdout",
     "output_type": "stream",
     "text": [
      "just right\n"
     ]
    }
   ],
   "source": [
    "# 4.1\n",
    "secret = int(input(\"secret 변수를 입력해주세요 : \"))\n",
    "guess = int(input(\"secret 변수는 무엇일까요? : \"))\n",
    "\n",
    "if secret > guess:\n",
    "    print(\"too low\")\n",
    "elif secret < guess:\n",
    "    print(\"too high\")\n",
    "else:\n",
    "    print(\"just right\")"
   ]
  },
  {
   "cell_type": "code",
   "execution_count": 97,
   "id": "fd7f2073-140a-4ebf-83ed-e13cec3f69a1",
   "metadata": {},
   "outputs": [
    {
     "name": "stdout",
     "output_type": "stream",
     "text": [
      "cherry\n"
     ]
    }
   ],
   "source": [
    "# 4.2\n",
    "small = True\n",
    "green = False\n",
    "\n",
    "if small:\n",
    "    if green:\n",
    "        print(\"pea\")\n",
    "    else:\n",
    "        print(\"cherry\")\n",
    "else:\n",
    "    if green:\n",
    "        print(\"watermelon\")\n",
    "    else:\n",
    "        print(\"pumpkin\")\n",
    "\n",
    "# True인 것을 찾아 출력하기 때문에, True값을 할당받은 small에 해당하면서 False값을 할당받은 green에 해당하지 않는(즉, 작고 초록색이 아닌) cherry가 출력된다."
   ]
  },
  {
   "cell_type": "markdown",
   "id": "ee200fb1-e397-480f-bfaa-b91ed7919c19",
   "metadata": {},
   "source": [
    "<hr>"
   ]
  },
  {
   "cell_type": "markdown",
   "id": "97eee4e3-37f5-4b03-98e5-09aa0727371a",
   "metadata": {},
   "source": [
    "## Outro."
   ]
  },
  {
   "cell_type": "markdown",
   "id": "f8e80054-1988-460e-a350-d1986b164f72",
   "metadata": {},
   "source": [
    "#### notice\n",
    "\n",
    "- 복습 파일은 한 주에 하나씩 만들어서 올리기. (형식 : week_00.ipynb)\n",
    "- 수업 관련 질문은 e-class에\n",
    "- 개인 질문은 조교님께 이메일, cc에 교수님 추가하기"
   ]
  }
 ],
 "metadata": {
  "kernelspec": {
   "display_name": "Python 3 (ipykernel)",
   "language": "python",
   "name": "python3"
  },
  "language_info": {
   "codemirror_mode": {
    "name": "ipython",
    "version": 3
   },
   "file_extension": ".py",
   "mimetype": "text/x-python",
   "name": "python",
   "nbconvert_exporter": "python",
   "pygments_lexer": "ipython3",
   "version": "3.8.12"
  }
 },
 "nbformat": 4,
 "nbformat_minor": 5
}
