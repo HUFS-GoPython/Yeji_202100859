{
 "cells": [
  {
   "cell_type": "markdown",
   "id": "8af0939d-baef-47c9-b205-59f7ff3b5146",
   "metadata": {},
   "source": [
    "# 1주차(OT) | 고급파이썬프로그래밍 | 2022.03.04(금)"
   ]
  },
  {
   "cell_type": "markdown",
   "id": "a4cf6352-1117-4dbb-948f-235b724452f1",
   "metadata": {
    "tags": []
   },
   "source": [
    "## Intro."
   ]
  },
  {
   "cell_type": "markdown",
   "id": "06cf4706-2ef7-4716-b90b-6e66c5f8d2c4",
   "metadata": {},
   "source": [
    "Q. <b>'마크다운(Markdown)'</b>이란?  \n",
    "A. 실행 코드의 영향 없이 제목 및 설명을 정리할 수 있는 기능. HTML(Hyper Text Markup Language)와도 관련된다.  \n",
    "\n",
    "- `#`으로 글자 크기 조정 가능 : #을 많이 쓸수록 글자 크기가 작아진다. (HTML의 <h1~h6>)  \n",
    "- 스페이스바 두 번으로 띄어쓰기 가능 (HTML의 `<br>`도 사용 가능)"
   ]
  },
  {
   "cell_type": "markdown",
   "id": "4e383514-1136-4291-8af4-f5f6fd4274c9",
   "metadata": {},
   "source": [
    "Q. <b>'프로그래밍(Programming)'</b>이란?  \n",
    "A. 프로그래밍 언어 (Python, Java, C, C+, C++,..)를 사용하여 프로그램을 개발하는 것.\n",
    "\n",
    "- 프로그램(program) : 일련의 작업을 자동화하는 것.\n",
    "- 파이썬(Python) : 프로그래밍 언어 중 하나로, 인간이 컴퓨터에게 작업을 명령하기 위해 사용하는 컴퓨터가 이해할 수 있는 언어"
   ]
  },
  {
   "cell_type": "markdown",
   "id": "ef687a07-ce84-4530-b692-237317c26386",
   "metadata": {},
   "source": [
    "<hr>"
   ]
  },
  {
   "cell_type": "markdown",
   "id": "b6f75d4b-ab5d-432a-966e-84b971a1cfb9",
   "metadata": {},
   "source": [
    "## Chapter 01 | 파이(Py) 맛보기"
   ]
  },
  {
   "cell_type": "markdown",
   "id": "59071fc4-f3e4-423d-b4db-2c0efef47023",
   "metadata": {},
   "source": [
    "#### 1.2 작은 프로그램  \n",
    "프로그래밍은 단지 <b>올바른 단어</b>와 <b>규칙</b>을 학습하는 것이다."
   ]
  },
  {
   "cell_type": "markdown",
   "id": "96d4dbd2-4203-4c52-bfb4-60d31b90841b",
   "metadata": {},
   "source": [
    "#### 1.6 왜 파이썬인가?\n",
    "여러 분야에서 높은 평가를 받고 있으며 읽기와 작성이 쉽다."
   ]
  },
  {
   "cell_type": "markdown",
   "id": "7f71b84e-02d7-440b-a7f5-66d55526d4a6",
   "metadata": {},
   "source": [
    "<hr>"
   ]
  },
  {
   "cell_type": "markdown",
   "id": "57f12f86-45c7-4b5e-b075-5318aa013d60",
   "metadata": {},
   "source": [
    "## Chapter 02 | 데이터 : 타입, 값, 변수, 이름"
   ]
  },
  {
   "cell_type": "markdown",
   "id": "a9272b99-dea0-448a-ac4a-712c6999f9f9",
   "metadata": {},
   "source": [
    "- 변수 (variable) : 특정 값을 저장하는 공간\n",
    "- 값 (value) : i.e. 2, 3.4, \"hello world\",..\n",
    "- 자료형 (type) : 데이터의 형태"
   ]
  },
  {
   "cell_type": "markdown",
   "id": "1da8f9a8-a900-4344-b3ba-f5799d543a7e",
   "metadata": {},
   "source": [
    "#### 2.5 변수\n",
    "##### 변수 이름 정하기\n",
    "- 소문자, 대문자, 숫자, 언더바(_) 사용\n",
    "- 대소문자 구분\n",
    "- 문자나 언더바로 시작할 것 (단, 언더바로 시작하는 변수는 특별 취급한다.)\n",
    "- 예약어 사용 불가능 "
   ]
  },
  {
   "cell_type": "code",
   "execution_count": 7,
   "id": "7934cb9a-6fdd-4f3d-bf78-7e3ef591635a",
   "metadata": {},
   "outputs": [
    {
     "name": "stdout",
     "output_type": "stream",
     "text": [
      "\n",
      "Here is a list of the Python keywords.  Enter any keyword to get more help.\n",
      "\n",
      "False               class               from                or\n",
      "None                continue            global              pass\n",
      "True                def                 if                  raise\n",
      "and                 del                 import              return\n",
      "as                  elif                in                  try\n",
      "assert              else                is                  while\n",
      "async               except              lambda              with\n",
      "await               finally             nonlocal            yield\n",
      "break               for                 not                 \n",
      "\n"
     ]
    }
   ],
   "source": [
    "# 파이썬의 예약어에는 무엇이 있을까?\n",
    "help(\"keywords\")"
   ]
  },
  {
   "cell_type": "markdown",
   "id": "ececf4fb-a8f7-4409-9855-4b5b7651a4e5",
   "metadata": {},
   "source": [
    "##### 변수의 타입\n",
    "- boolean : True, False(`bool`)\n",
    "- integer : 1, 2, 3, 4,...(`int`)\n",
    "- floating : 1.0, 2.0, 0.45,...(`float`)\n",
    "- string : \"apple\", 'banana'(`str`)\n",
    "\n",
    "★ 파이썬은 변수 작성 시 타입을 따로 지정하지 않는다."
   ]
  },
  {
   "cell_type": "markdown",
   "id": "d8f40049-df9a-4b8b-8fbf-7546968b32f5",
   "metadata": {},
   "source": [
    "#### 2.6 할당\n",
    "- 파이썬은 `=`를 사용하여 변수에 값을 할당함\n",
    "- 프로그램에서 오른쪽에 있는 모든 것은 값을 가져야 함 (초기화)"
   ]
  },
  {
   "cell_type": "markdown",
   "id": "c3cabc58-2cf2-4eb0-b080-48d022464f46",
   "metadata": {},
   "source": [
    "#### 2.7 변수는 장소가 아니라 이름이다\n",
    "- type() : 어떤 타입의 변수 또는 리터럴 값을 알고 싶을 때 사용\n",
    "- isinstance() : 변수가 특정 타입의 객체를 가리키는지 확인할 때 사용"
   ]
  },
  {
   "cell_type": "code",
   "execution_count": 20,
   "id": "88542a97-a2e7-4781-b7af-06f4b6ab9446",
   "metadata": {},
   "outputs": [
    {
     "name": "stdout",
     "output_type": "stream",
     "text": [
      "True\n",
      "<class 'bool'>\n",
      "21\n",
      "<class 'int'>\n",
      "2.1\n",
      "<class 'float'>\n",
      "apple\n",
      "<class 'str'>\n"
     ]
    }
   ],
   "source": [
    "# 다양한 변수\n",
    "\n",
    "ex_bool = True\n",
    "print(ex_bool)\n",
    "print(type(ex_bool))\n",
    "\n",
    "ex_int = 21\n",
    "print(ex_int)\n",
    "print(type(ex_int))\n",
    "\n",
    "ex_float = 2.1\n",
    "print(ex_float)\n",
    "print(type(ex_float))\n",
    "\n",
    "ex_str = \"apple\"\n",
    "print(ex_str)\n",
    "print(type(ex_str))"
   ]
  },
  {
   "cell_type": "code",
   "execution_count": 21,
   "id": "3ce189e9-c13b-4a80-afed-fcd3039e92ac",
   "metadata": {},
   "outputs": [
    {
     "name": "stdout",
     "output_type": "stream",
     "text": [
      "I'm Sam.\n",
      "I'm Sam.\n"
     ]
    }
   ],
   "source": [
    "# single quote 안에 single quote를 문자로 인식하는 방법\n",
    "#'I'm Sam.'\n",
    "\n",
    "#1. \\ 사용\n",
    "print('I\\'m Sam.')\n",
    "\n",
    "#2. \"\" 사용\n",
    "print(\"I'm Sam.\")"
   ]
  },
  {
   "cell_type": "code",
   "execution_count": 23,
   "id": "5f3dce7c-2fc9-4453-b124-c80d3201e8d7",
   "metadata": {},
   "outputs": [
    {
     "name": "stdout",
     "output_type": "stream",
     "text": [
      "kia\n",
      "<class 'str'>\n"
     ]
    }
   ],
   "source": [
    "# 할당 연습\n",
    "\n",
    "car = 'kia'\n",
    "print(car)\n",
    "print(type(car))"
   ]
  },
  {
   "cell_type": "markdown",
   "id": "20dc136d-6bdf-4456-bc55-9add5a61cb6f",
   "metadata": {},
   "source": [
    "<hr>"
   ]
  },
  {
   "cell_type": "markdown",
   "id": "9fb2da80-9a18-41d2-ba10-413676e4e9a5",
   "metadata": {},
   "source": [
    "## Chapter03 | 숫자"
   ]
  },
  {
   "cell_type": "markdown",
   "id": "6b13e6ce-d2f8-4770-b25e-1200af9bad6f",
   "metadata": {},
   "source": [
    "#### 3.2.5 진수\n",
    "- Binary : 2진수\n",
    "- Octal : 8진수\n",
    "- Decimal : 10진수\n",
    "- Hexadecimal : 16진수"
   ]
  },
  {
   "cell_type": "code",
   "execution_count": 9,
   "id": "a49f5d15-bd9c-4533-9981-55e2df2a2d08",
   "metadata": {},
   "outputs": [
    {
     "data": {
      "text/plain": [
       "'0b1000001'"
      ]
     },
     "execution_count": 9,
     "metadata": {},
     "output_type": "execute_result"
    }
   ],
   "source": [
    "# 10진수에서 다른 진수로 계산하기\n",
    "value = 65\n",
    "bin(value)"
   ]
  },
  {
   "cell_type": "code",
   "execution_count": 10,
   "id": "db8dd4d4-8bda-4665-9a11-5eba30693bdf",
   "metadata": {},
   "outputs": [
    {
     "data": {
      "text/plain": [
       "'0o101'"
      ]
     },
     "execution_count": 10,
     "metadata": {},
     "output_type": "execute_result"
    }
   ],
   "source": [
    "oct(value)"
   ]
  },
  {
   "cell_type": "code",
   "execution_count": 11,
   "id": "3f3a2435-377a-4033-8f84-178bef2d83fc",
   "metadata": {},
   "outputs": [
    {
     "data": {
      "text/plain": [
       "'0x41'"
      ]
     },
     "execution_count": 11,
     "metadata": {},
     "output_type": "execute_result"
    }
   ],
   "source": [
    "hex(value)"
   ]
  },
  {
   "cell_type": "code",
   "execution_count": 15,
   "id": "7d23d9d3-1c06-458b-89c8-560b47e53ae7",
   "metadata": {},
   "outputs": [
    {
     "data": {
      "text/plain": [
       "'A'"
      ]
     },
     "execution_count": 15,
     "metadata": {},
     "output_type": "execute_result"
    }
   ],
   "source": [
    "# chr() 함수는 정수를 단일 문자열로 변환함\n",
    "chr(65)"
   ]
  },
  {
   "cell_type": "code",
   "execution_count": 16,
   "id": "4afa09b4-b072-46ea-abe1-ff4a005717de",
   "metadata": {},
   "outputs": [
    {
     "data": {
      "text/plain": [
       "65"
      ]
     },
     "execution_count": 16,
     "metadata": {},
     "output_type": "execute_result"
    }
   ],
   "source": [
    "# ord() 함수는 반대로 단일 문자열을 정수로 변환함\n",
    "ord('A')"
   ]
  },
  {
   "cell_type": "markdown",
   "id": "b9c10f50-12b0-4647-ae56-0c391a784234",
   "metadata": {},
   "source": [
    "<hr>"
   ]
  },
  {
   "cell_type": "markdown",
   "id": "fc3f4298-4df6-491e-bfe2-b7fdc7c7e1ab",
   "metadata": {},
   "source": [
    "## Outro."
   ]
  },
  {
   "cell_type": "markdown",
   "id": "8ca6b622-8c19-4615-9444-fd5c8172e54b",
   "metadata": {},
   "source": [
    "### homework\n",
    "깃허브 공부, 개인 저장소에 오늘 복습 내용 올리기 (다음 수업 전날 자정까지)\n",
    "\n",
    "Q. <b>'깃(Git)'</b>이란?  \n",
    "A. 컴퓨터 파일의 변경사항을 추적하고 여러 명의 사용자들 간에 해당 파일들의 작업을 조율하기 위한 <b>분산 버전 관리 시스템</b>.  \n",
    "(깃헙 | Github은 이러한 깃을 다루는 대표 사이트 중 하나이다.)\n",
    "\n",
    "\n",
    "Q. <b>commit, push, pull</b>  \n",
    "A.   \n",
    "<b>commit</b> : 깃이 코드 변화를 기록하는 것  \n",
    "<b>push</b> : 원격 저장소(remote repository)에 코드 변경분을 업로드하기 위해 사용하는 명령어  \n",
    "<b>pull</b> : 업데이트된 다른 사람의 코드를 클라이언트로 내려 받는 명령어"
   ]
  }
 ],
 "metadata": {
  "kernelspec": {
   "display_name": "Python 3 (ipykernel)",
   "language": "python",
   "name": "python3"
  },
  "language_info": {
   "codemirror_mode": {
    "name": "ipython",
    "version": 3
   },
   "file_extension": ".py",
   "mimetype": "text/x-python",
   "name": "python",
   "nbconvert_exporter": "python",
   "pygments_lexer": "ipython3",
   "version": "3.8.12"
  }
 },
 "nbformat": 4,
 "nbformat_minor": 5
}
