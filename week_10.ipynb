{
 "cells": [
  {
   "cell_type": "markdown",
   "id": "053ac26d-f6a5-4554-9df6-9fd11cef5a66",
   "metadata": {},
   "source": [
    "# 10주차 | 고급파이썬프로그래밍 | 2022.05.13(금)"
   ]
  },
  {
   "cell_type": "markdown",
   "id": "fb8ebc1e-4cab-4820-8970-424ac7b9cfba",
   "metadata": {},
   "source": [
    "## Intro.\n",
    "- 오늘 수업에서는 객체와 클래스를 더 보충할 예정."
   ]
  },
  {
   "cell_type": "markdown",
   "id": "7906ad73-1563-41f8-8b7b-43a91292b664",
   "metadata": {},
   "source": [
    "<hr>"
   ]
  },
  {
   "cell_type": "markdown",
   "id": "b1eb8e24-5ae7-40c2-93ed-8c120d544f54",
   "metadata": {},
   "source": [
    "## Class"
   ]
  },
  {
   "cell_type": "markdown",
   "id": "9d6f257b-a001-49c8-92ae-bbf805e5e2e7",
   "metadata": {},
   "source": [
    "### 상속 | inheritance\n",
    "- 이전 클래스의 내용을 추가, 변경해야 할 경우\n",
    "- 코드 재사용에 유용함!\n",
    "- 기준: vehicle, parent, super, base, 부모클래스\n",
    "- 상속 받는 클래스: child, sub, derived. 자식클래스\n",
    "- Vehicle <- Car\n",
    "    - 부모클래스를 자식클래스가 구체화시킨다.\n",
    "    - Car is-a-Vehicle\n",
    "    - has-a: Notebook has-a-Note"
   ]
  },
  {
   "cell_type": "code",
   "execution_count": 2,
   "id": "0a0e8597-2b44-4e3c-97a9-a82c205f17ca",
   "metadata": {},
   "outputs": [],
   "source": [
    "class Vehicle:\n",
    "    def __init__(self, speed):\n",
    "        self.speed = speed\n",
    "        \n",
    "    def go(self):\n",
    "        print(f'{self.speed}의 속력으로 달린다.')\n",
    "        \n",
    "# 자식 클래스\n",
    "class Car(Vehicle):\n",
    "    pass"
   ]
  },
  {
   "cell_type": "code",
   "execution_count": 3,
   "id": "68efb2e5-8610-41c1-993b-5e4f33b73ed7",
   "metadata": {},
   "outputs": [
    {
     "name": "stdout",
     "output_type": "stream",
     "text": [
      "15km/h의 속력으로 달린다.\n"
     ]
    }
   ],
   "source": [
    "car = Car('15km/h')\n",
    "car.go()"
   ]
  },
  {
   "cell_type": "markdown",
   "id": "5dbc59ce-50e6-4dcb-a0c7-d969f2b18ba1",
   "metadata": {},
   "source": [
    "### 추가, 변경\n",
    "- 속성(변수)"
   ]
  },
  {
   "cell_type": "code",
   "execution_count": 4,
   "id": "4ae710db-3d6d-4cc2-a5ee-b404fb6ab271",
   "metadata": {},
   "outputs": [],
   "source": [
    "class Car(Vehicle):\n",
    "    def __init__(self, speed, brand):\n",
    "        # self.speed = speed\n",
    "        super().__init__(speed) # 부모로부터 speed 변수 가져오기. 괄호 안에 가져오고 싶은 변수를 적으면 된다.\n",
    "        self.brand = brand # 추가한 변수\n",
    "        # self == 나 자신, super() == 부모"
   ]
  },
  {
   "cell_type": "code",
   "execution_count": 6,
   "id": "e6d851c7-1eec-4ce2-b5f6-42c24c2014ee",
   "metadata": {},
   "outputs": [
    {
     "name": "stdout",
     "output_type": "stream",
     "text": [
      "14km/h\n",
      "kia\n"
     ]
    }
   ],
   "source": [
    "car2 = Car('14km/h', 'kia')\n",
    "print(car2.speed)\n",
    "print(car2.brand)"
   ]
  },
  {
   "cell_type": "code",
   "execution_count": 7,
   "id": "b6316183-24e0-4359-8ffa-e6b9976fe05d",
   "metadata": {},
   "outputs": [
    {
     "name": "stdout",
     "output_type": "stream",
     "text": [
      "14km/h의 속력으로 달린다.\n"
     ]
    }
   ],
   "source": [
    "car2.go()"
   ]
  },
  {
   "cell_type": "markdown",
   "id": "8ac54521-69b0-4439-95e0-bc593326b3b4",
   "metadata": {},
   "source": [
    "- 당연한 말이지만 Vehicle이라는 부모 class는 자식 클래스인 Car의 속성이나 메서드를 사용하지는 못한다. "
   ]
  },
  {
   "cell_type": "markdown",
   "id": "2af1fe3e-a67b-4c49-a394-be7fe309987f",
   "metadata": {},
   "source": [
    "### 메소드 변경 => 오버라이드 (override), 재정의"
   ]
  },
  {
   "cell_type": "code",
   "execution_count": 38,
   "id": "c1a11c33-6bb5-4b6f-8565-2f22e047776c",
   "metadata": {},
   "outputs": [],
   "source": [
    "class Car(Vehicle):\n",
    "    def __init__(self, speed, brand):\n",
    "        # self.speed = speed\n",
    "        super().__init__(speed)\n",
    "        self.brand = brand\n",
    "        \n",
    "    def go(self): # override, 즉 메소드를 재정의한 셈.\n",
    "        print(f'차종은 {self.brand}')"
   ]
  },
  {
   "cell_type": "code",
   "execution_count": 39,
   "id": "e9d7e28f-8c92-45dc-a4c7-ce606f4c3776",
   "metadata": {},
   "outputs": [
    {
     "name": "stdout",
     "output_type": "stream",
     "text": [
      "차종은 nissan\n"
     ]
    }
   ],
   "source": [
    "car3 = Car('15km/h', 'nissan')\n",
    "car3.go() # 부모와 자식 class의 함수명이 go로 똑같은데, 이제는 자식 클래스의 메소드를 타게 된다."
   ]
  },
  {
   "cell_type": "markdown",
   "id": "756d16e2-9e31-4055-a223-ba23bb217e00",
   "metadata": {},
   "source": [
    "- Q. 부모 class의 함수 go도 같이 타고 싶으면 어떻게 해야할까?\n",
    "- A. super().go()를 사용한다."
   ]
  },
  {
   "cell_type": "code",
   "execution_count": 40,
   "id": "516aa9f4-34d8-471a-b968-c1f3837ae1ec",
   "metadata": {},
   "outputs": [],
   "source": [
    "class Car(Vehicle):\n",
    "    def __init__(self, speed, brand):\n",
    "        # self.speed = speed\n",
    "        super().__init__(speed)\n",
    "        self.brand = brand\n",
    "        \n",
    "    def go(self):\n",
    "        print(f'차종은 {self.brand}')\n",
    "        super().go()\n",
    "            \n",
    "    def stop(self): #부모 클래스에 없는 메소드\n",
    "        print('차가 멈춘다.')"
   ]
  },
  {
   "cell_type": "code",
   "execution_count": 42,
   "id": "2a01f4bd-1cee-44fb-90b3-4fe9323e0a50",
   "metadata": {},
   "outputs": [
    {
     "name": "stdout",
     "output_type": "stream",
     "text": [
      "차종은 hyundai\n",
      "16km/h의 속력으로 달린다.\n",
      "차가 멈춘다.\n"
     ]
    }
   ],
   "source": [
    "car4 = Car('16km/h', 'hyundai')\n",
    "car4.go()\n",
    "car4.stop()"
   ]
  },
  {
   "cell_type": "markdown",
   "id": "70abfdc8-8df1-4b97-ba63-11021d5d4108",
   "metadata": {},
   "source": [
    "### 실습 1:"
   ]
  },
  {
   "cell_type": "code",
   "execution_count": 91,
   "id": "3d12aa93-159c-4e5a-8d01-e9caff9d3028",
   "metadata": {},
   "outputs": [
    {
     "data": {
      "text/plain": [
       "'Person <- Doctor (상속)\\n            <- Female\\n            <- Male\\n'"
      ]
     },
     "execution_count": 91,
     "metadata": {},
     "output_type": "execute_result"
    }
   ],
   "source": [
    "class Person:\n",
    "    def __init__(self, name):\n",
    "        self.name = name\n",
    "\n",
    "class Doctor(Person):\n",
    "    def __init__(self, name):\n",
    "        super().__init__(f'Dr.{name}')\n",
    "    \n",
    "class Male(Person):\n",
    "    def __init__(self, name):\n",
    "        super().__init__(f'Mr.{name}')\n",
    "\n",
    "class Female(Person):\n",
    "    def __init__(self, name):\n",
    "        super().__init__(f'Mrs.{name}')\n",
    "\n",
    "# 부모 class가 Person, 자식 class가 Doctor        \n",
    "\"\"\"Person <- Doctor (상속)\n",
    "            <- Female\n",
    "            <- Male\n",
    "\"\"\""
   ]
  },
  {
   "cell_type": "code",
   "execution_count": 93,
   "id": "a71231a5-b5ea-47db-a2c8-7b2c3f5ee931",
   "metadata": {},
   "outputs": [
    {
     "name": "stdout",
     "output_type": "stream",
     "text": [
      "Dr.Son\n",
      "Mr.Tom\n",
      "Mrs.Julia\n"
     ]
    }
   ],
   "source": [
    "print(Doctor('Son').name)\n",
    "print(Male('Tom').name)\n",
    "print(Female('Julia').name)"
   ]
  },
  {
   "cell_type": "markdown",
   "id": "7aa56813-9a7e-4bee-8b74-bf40829756a2",
   "metadata": {},
   "source": [
    "### 다중 상속\n",
    "- method resolution order (MRO)\n",
    "\n",
    "- Animal <- Horse  \n",
    "        <- Donkey  \n",
    "            <- Mule(donkey > horse)  \n",
    "            <- Hinny (horse > donkey)"
   ]
  },
  {
   "cell_type": "code",
   "execution_count": 169,
   "id": "91628b6b-4669-4cc2-94ab-9f52348742ff",
   "metadata": {},
   "outputs": [],
   "source": [
    "class Animal:\n",
    "    def says(self):\n",
    "        return \"동물이 운다\"\n",
    "\n",
    "#----------------------child\n",
    "class Horse(Animal):\n",
    "    def says(self):\n",
    "        return '히히힝'\n",
    "    \n",
    "class Donkey(Animal):\n",
    "    def says(self):\n",
    "        return '히이호'\n",
    "    \n",
    "# 여기서는 결과적으로 Animal이 Horse와 Donkey에 미칠 수 있는 영향이 없다.\n",
    "# 만약 영향을 주고 싶으면 super()를 쓰는 방법 등을 고려해볼 수 있다. \n",
    "#----------------------grandchild    \n",
    "class Mule(Donkey, Horse):\n",
    "    pass\n",
    "\n",
    "class Hinny(Horse, Donkey):\n",
    "    pass"
   ]
  },
  {
   "cell_type": "code",
   "execution_count": 171,
   "id": "a2d1ac0f-6a2c-401b-913f-74896dcc5bfb",
   "metadata": {},
   "outputs": [
    {
     "name": "stdout",
     "output_type": "stream",
     "text": [
      "히이호\n",
      "히히힝\n"
     ]
    }
   ],
   "source": [
    "print(Mule().says()) # 히이호\n",
    "print(Hinny().says()) # 히히힝"
   ]
  },
  {
   "cell_type": "code",
   "execution_count": 172,
   "id": "0b18a232-9194-4ff1-adae-fef8698852ef",
   "metadata": {},
   "outputs": [
    {
     "data": {
      "text/plain": [
       "[__main__.Mule, __main__.Donkey, __main__.Horse, __main__.Animal, object]"
      ]
     },
     "execution_count": 172,
     "metadata": {},
     "output_type": "execute_result"
    }
   ],
   "source": [
    "Mule.mro() # 가까운 순서대로 나온다."
   ]
  },
  {
   "cell_type": "markdown",
   "id": "0a3f15b9-5dc3-4e4f-83d5-73a4173c3905",
   "metadata": {},
   "source": [
    "### 다형성, duck typing"
   ]
  },
  {
   "cell_type": "code",
   "execution_count": 107,
   "id": "b0194ba4-ca70-4ade-8b8f-f6fc37e7ca23",
   "metadata": {},
   "outputs": [
    {
     "name": "stdout",
     "output_type": "stream",
     "text": [
      "동물이 운다\n",
      "히히힝\n",
      "히이호\n"
     ]
    }
   ],
   "source": [
    "for animal in [Animal(), Horse(), Mule()]:\n",
    "    print(animal.says())"
   ]
  },
  {
   "cell_type": "markdown",
   "id": "7e36c262-b793-4f0d-8ba6-117600d1e451",
   "metadata": {},
   "source": [
    "### 메서드\n",
    "- 인스턴스 메서드:\n",
    "    - 첫 번째 인수가 self인 메서드\n",
    "    - 우리가 지금까지 배운 메서드\n",
    "    - 객체 생성 -> 사용 가능\n",
    "- 클래스 메서드:\n",
    "    - 객체마다 달라지지 않음\n",
    "    - 모든 객체가 공유하는 (클래스) 변수, 메소드\n",
    "    - cls\n",
    "    - 데코레이터 @classmethod 사용한다.\n",
    "    - 객체 생성하지 않고 메서드에 접근 가능!\n",
    "- 정적 메서드\n",
    "    - 1번째 인수가 self 아님\n",
    "    - 클래스나 인스턴스에 접근하지 않는 메서드\n",
    "    - 비슷한 유틸리티라서 클래스 내에 묶어둘 때 사용한다.\n",
    "    - 객체 생성하지 않고 메서드 접근 가능!\n",
    "    - @staticmethod\n",
    "- 추상 메서드\n",
    "    - abstract\n",
    "    - @abstractmethod"
   ]
  },
  {
   "cell_type": "code",
   "execution_count": 117,
   "id": "07ebb6b6-1d57-475f-a20a-6b51460de68e",
   "metadata": {},
   "outputs": [
    {
     "name": "stdout",
     "output_type": "stream",
     "text": [
      "0\n"
     ]
    }
   ],
   "source": [
    "# 클래스 메서드 예시\n",
    "\n",
    "# 1) A class 자체를 가져오기\n",
    "class A:\n",
    "    cnt = 0\n",
    "    \n",
    "    def move(self):\n",
    "        print(A.cnt)\n",
    "A().move()"
   ]
  },
  {
   "cell_type": "code",
   "execution_count": 173,
   "id": "7c8ecddf-a780-433b-bf6e-ddb2085eb972",
   "metadata": {},
   "outputs": [
    {
     "name": "stdout",
     "output_type": "stream",
     "text": [
      "1\n"
     ]
    }
   ],
   "source": [
    "# 2) 1)보다 파이써닉한 방법\n",
    "class A2:\n",
    "    cnt = 1\n",
    "    \n",
    "    @classmethod\n",
    "    def move(cls):\n",
    "        print(cls.cnt)\n",
    "A2().move()"
   ]
  },
  {
   "cell_type": "code",
   "execution_count": 174,
   "id": "0ae19910-6a9c-4f7c-9833-ec037688ddf6",
   "metadata": {},
   "outputs": [
    {
     "name": "stdout",
     "output_type": "stream",
     "text": [
      "4\n"
     ]
    }
   ],
   "source": [
    "# (함수 호출 없이도) 객체가 생성될 때마다 cnt를 올려주는 클래스.\n",
    "\n",
    "class B:\n",
    "    cnt = 0\n",
    "    def __init__(self):\n",
    "        B.cnt += 1 # 클래스 이름을 써서 객체가 생성될 때마다 cnt를 올려줌.\n",
    "    \n",
    "    # class_method\n",
    "    @classmethod\n",
    "    def count(cls):\n",
    "        # 객체가 생성될 때마다 횟수 증가해서 프린트하기\n",
    "        # cls.cnt += 1 # 여기서 cls.cnt를 하면 객체 생성이 아니라 count 함수를 호출해야만 cnt가 올라감.\n",
    "        print(cls.cnt)\n",
    "        \n",
    "B()\n",
    "B()\n",
    "B()\n",
    "B().count()"
   ]
  },
  {
   "cell_type": "code",
   "execution_count": 177,
   "id": "744e0672-8fa0-407f-b71f-eb8b80bfdd8a",
   "metadata": {},
   "outputs": [],
   "source": [
    "class Person:\n",
    "    def __init__(self, name, age):\n",
    "        self.name = name\n",
    "        self.age = age\n",
    "        \n",
    "    @classmethod\n",
    "    def tuple_object(cls, args):\n",
    "        # 튜플로 인자를 받아서 객체 생성하는 메서드 만들기\n",
    "        return cls(args[0], args[1])\n",
    "\n",
    "name = 'hong'\n",
    "age = 24\n",
    "info = name, age\n",
    "# p = Person(name, age)\n",
    "p = Person.tuple_object(info) # 객체 생성하지 않고 메서드에 접근했다."
   ]
  },
  {
   "cell_type": "code",
   "execution_count": 178,
   "id": "3cdc4e38-8821-4ba4-b94a-ee6da049efa3",
   "metadata": {},
   "outputs": [
    {
     "name": "stdout",
     "output_type": "stream",
     "text": [
      "hong\n",
      "24\n"
     ]
    }
   ],
   "source": [
    "print(p.name)\n",
    "print(p.age)"
   ]
  },
  {
   "cell_type": "code",
   "execution_count": 181,
   "id": "8ce30556-0174-4e23-8b03-e10e53cffd83",
   "metadata": {},
   "outputs": [
    {
     "data": {
      "text/plain": [
       "'hi hello'"
      ]
     },
     "execution_count": 181,
     "metadata": {},
     "output_type": "execute_result"
    }
   ],
   "source": [
    "# @staticmethod | 정적 메서드\n",
    "class Coyote:\n",
    "    \n",
    "    @staticmethod\n",
    "    def says(cry): # self 없음\n",
    "        return 'hi' + cry # cry라는 변수가 필요하다면 이렇게 쓰면 됨.\n",
    "    \n",
    "Coyote.says(' hello')"
   ]
  },
  {
   "cell_type": "code",
   "execution_count": 145,
   "id": "a7e7c44f-84e7-4e9f-802f-3c596101e6ec",
   "metadata": {},
   "outputs": [],
   "source": [
    "# @abstractmethod | 추상 메서드\n",
    "from abc import *\n",
    "\n",
    "class Vehicle(metaclass = ABCMeta): # 추상 메서드\n",
    "    # 변수에 뭘 넣을지 정의하기\n",
    "    speed = '속도'\n",
    "    \n",
    "    # 자식 클래스가 오버라이드해야 하는 메서드를 정의해주지만, 구체화하지 않는다.\n",
    "    @abstractmethod\n",
    "    def drive(self):\n",
    "        print('교통수단에 관하여')\n",
    "        \n",
    "    def stop(self):\n",
    "        pass\n",
    "    \n",
    "    def park(self):\n",
    "        pass\n",
    "        \n",
    "class Car(Vehicle):\n",
    "    # pass # 원래 pass가 되면 안 됨\n",
    "    def drive(self): # 이렇게 재정의를 해야 한다.\n",
    "        return super().speed \n",
    "    \n",
    "# Q. 그럼 추상 메서드를 왜 쓰나요?\n",
    "# A. 가독성이 좋고, 협업할 때 좋음."
   ]
  },
  {
   "cell_type": "markdown",
   "id": "772b8312-1be4-45c5-b090-4121a177bca9",
   "metadata": {},
   "source": [
    "### 매직메소드\n",
    "- __init__ : special method\n",
    "- object 클래스 메서드 재정의하는 것\n",
    "    - __str__\n",
    "    -__repr__"
   ]
  },
  {
   "cell_type": "code",
   "execution_count": 183,
   "id": "691ba112-81d1-4cbc-9426-22dd87019cb1",
   "metadata": {},
   "outputs": [],
   "source": [
    "class Person:\n",
    "    def __init__(self, name):\n",
    "        self.name = name\n",
    "        \n",
    "    def __str__(self):\n",
    "        # 인스턴스를 스트링으로 출력: 이름, 메모리주소\n",
    "        # print(인스턴스)했을 때 출력되는 값\n",
    "        return self.name\n",
    "    \n",
    "    def __repr__(self):\n",
    "        # 사용자가 이해할 수 있게 객체를 출력하고 싶을 때 사용한다. \n",
    "        return f'Person({self.name})'"
   ]
  },
  {
   "cell_type": "code",
   "execution_count": 186,
   "id": "ebc32f44-089f-498b-8a9d-e8416b9ec1e9",
   "metadata": {},
   "outputs": [
    {
     "data": {
      "text/plain": [
       "Person(lee)"
      ]
     },
     "execution_count": 186,
     "metadata": {},
     "output_type": "execute_result"
    }
   ],
   "source": [
    "p = Person('lee')\n",
    "p"
   ]
  },
  {
   "cell_type": "code",
   "execution_count": 151,
   "id": "f27563e6-88de-4aa2-8483-c6355d0d6c44",
   "metadata": {},
   "outputs": [
    {
     "name": "stdout",
     "output_type": "stream",
     "text": [
      "lee\n"
     ]
    }
   ],
   "source": [
    "print(p) # __repr__를 지정하지 않으면 p와 print(p)가 같다."
   ]
  },
  {
   "cell_type": "code",
   "execution_count": 152,
   "id": "18db9468-b406-455a-a477-a71798665514",
   "metadata": {},
   "outputs": [
    {
     "data": {
      "text/plain": [
       "'lee'"
      ]
     },
     "execution_count": 152,
     "metadata": {},
     "output_type": "execute_result"
    }
   ],
   "source": [
    "str(p) # __str__에서 return한 값의 결과를 보고 싶으면 str()을 이용한다."
   ]
  },
  {
   "cell_type": "code",
   "execution_count": 187,
   "id": "5ae1b528-2f40-46d7-bfba-51031110d5f2",
   "metadata": {},
   "outputs": [
    {
     "data": {
      "text/plain": [
       "'Person(lee)'"
      ]
     },
     "execution_count": 187,
     "metadata": {},
     "output_type": "execute_result"
    }
   ],
   "source": [
    "repr(p) # __repr__에서 return한 값의 결과를 보고 싶으면 repr()를 이용한다."
   ]
  },
  {
   "cell_type": "markdown",
   "id": "80549424-054b-4c22-b0aa-6633a8e446d6",
   "metadata": {},
   "source": [
    "### namedtuple, dataclass\n",
    "- namedtuple은 유용하고, dataclass는 파이썬 3.7 이상에서만 적용 가능하니 이런 기능이 있다는 것만 알아둬도 충분함.\n",
    "- 변수만 있는 클래스 설정할 때 더 효율적으로 사용하는 수단\n",
    "- 딕셔너리 키와 같은 기능\n",
    "- 불변 객체"
   ]
  },
  {
   "cell_type": "code",
   "execution_count": 189,
   "id": "731d56be-5c0d-4c8f-a15c-ab7e313093b8",
   "metadata": {},
   "outputs": [],
   "source": [
    "from collections import namedtuple\n",
    "\n",
    "Person = namedtuple('Person', 'name age')\n",
    "a = Person('kim', 33)"
   ]
  },
  {
   "cell_type": "code",
   "execution_count": 190,
   "id": "c8f6afea-a001-491c-9dbb-548991d06d97",
   "metadata": {},
   "outputs": [
    {
     "data": {
      "text/plain": [
       "'kim'"
      ]
     },
     "execution_count": 190,
     "metadata": {},
     "output_type": "execute_result"
    }
   ],
   "source": [
    "a.name"
   ]
  },
  {
   "cell_type": "code",
   "execution_count": 191,
   "id": "007a1855-cfcf-44e5-a64f-808396dd227f",
   "metadata": {},
   "outputs": [
    {
     "data": {
      "text/plain": [
       "33"
      ]
     },
     "execution_count": 191,
     "metadata": {},
     "output_type": "execute_result"
    }
   ],
   "source": [
    "a.age"
   ]
  },
  {
   "cell_type": "code",
   "execution_count": 192,
   "id": "1033762a-6dd3-48ad-832b-1b51e7006d48",
   "metadata": {},
   "outputs": [
    {
     "name": "stdout",
     "output_type": "stream",
     "text": [
      "Person(name='lee', age=33)\n"
     ]
    }
   ],
   "source": [
    "print(b := a._replace(name = 'lee'))\n",
    "# 이렇게는 출력 가능하지만, 기본적으로 불변객체임."
   ]
  },
  {
   "cell_type": "code",
   "execution_count": 193,
   "id": "5958ca7a-e697-40d1-b03d-831f750a6301",
   "metadata": {},
   "outputs": [],
   "source": [
    "from dataclasses import dataclass\n",
    "\n",
    "@dataclass\n",
    "class Person:\n",
    "    name:str\n",
    "    age:int"
   ]
  },
  {
   "cell_type": "code",
   "execution_count": 194,
   "id": "886ee1e9-c6fb-4f06-8746-1667d282aa8b",
   "metadata": {},
   "outputs": [],
   "source": [
    "a = Person('kim', 33)"
   ]
  },
  {
   "cell_type": "code",
   "execution_count": 195,
   "id": "6f5a770e-894a-44c7-866b-339af5c53bd0",
   "metadata": {},
   "outputs": [
    {
     "data": {
      "text/plain": [
       "33"
      ]
     },
     "execution_count": 195,
     "metadata": {},
     "output_type": "execute_result"
    }
   ],
   "source": [
    "a.age"
   ]
  },
  {
   "cell_type": "markdown",
   "id": "25f08fbf-054c-4871-a488-ded07a066e3f",
   "metadata": {},
   "source": [
    "<hr>"
   ]
  },
  {
   "cell_type": "markdown",
   "id": "99a8f3d7-f7f9-4614-9b53-373249da3342",
   "metadata": {},
   "source": [
    "## Outro. \n",
    "- 오늘 실습하려고 했던 건 project로 낼 예정.\n",
    "- 이번주 프로젝트는 객체를 만드는 것으로 할 것임."
   ]
  }
 ],
 "metadata": {
  "kernelspec": {
   "display_name": "Python 3 (ipykernel)",
   "language": "python",
   "name": "python3"
  },
  "language_info": {
   "codemirror_mode": {
    "name": "ipython",
    "version": 3
   },
   "file_extension": ".py",
   "mimetype": "text/x-python",
   "name": "python",
   "nbconvert_exporter": "python",
   "pygments_lexer": "ipython3",
   "version": "3.8.12"
  }
 },
 "nbformat": 4,
 "nbformat_minor": 5
}
